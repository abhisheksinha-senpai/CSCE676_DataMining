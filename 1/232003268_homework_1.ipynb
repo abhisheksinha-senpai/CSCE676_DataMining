{
  "cells": [
    {
      "cell_type": "markdown",
      "metadata": {
        "id": "Ak3SqhmRDYKW"
      },
      "source": [
        "## CSCE 676 :: Data Mining and Analysis :: Texas A&M University :: Spring 2022\n",
        "\n",
        "\n",
        "# Homework 1: Let's GOOOOO!\n",
        "\n",
        "- **100 points [7% of your final grade]**\n",
        "- **Due Tuesday, February 13 by 11:59pm**\n",
        "\n",
        "***Goals of this homework:***\n",
        "1. Collect data from the web, clean it, and then make some observations based on exploratory data analysis\n",
        "2. Understand and implement the classic apriori algorithm and extensions to find the association rules in a movie rating dataset\n",
        "\n",
        "***Submission instructions:***\n",
        "\n",
        "You should post your notebook to Canvas (look for the homework 1 assignment there). Please name your submission **your-uin_hw1.ipynb**, so for example, my submission would be something like **555001234_hw1.ipynb**. Your notebook should be fully executed when you submit ... so run all the cells for us so we can see the output, then submit that. \n",
        "\n",
        "***Late Days:***\n",
        "\n",
        "As a reminder, you may use up to three of your late days on this homework, meaning the latest we will accept it is February 16 by 11:59pm.\n",
        "\n",
        "***Collaboration declaration:***\n",
        "\n",
        "If you worked with someone on this homework, please be sure to mention that. Remember to include citations to any sources you use in the homework."
      ]
    },
    {
      "cell_type": "markdown",
      "metadata": {
        "id": "iiUzZn-6Ecs8"
      },
      "source": [
        "## (50 points) Part 1: UFOs"
      ]
    },
    {
      "cell_type": "markdown",
      "metadata": {
        "id": "oHXUGi-gm88u"
      },
      "source": [
        "### (10pts) Part 1a: UFOs are Out There, But First I Need to Store them Locally\n",
        "\n",
        "For this first part, we're going to collect evidence of UFO sightings from the **National UFO Reporting Center**. Specifically, we're going \n",
        "to focus only on UFO sightings in Texas, as reported at this webpage:\n",
        "\n",
        "* http://www.nuforc.org/webreports/ndxlTX.html\n",
        "\n",
        "Recall that you can view the source of a webpage in Chrome under View &rarr; Developer &rarr; View Source. \n",
        "You'll notice, however, that this raw HTML is not in our friendly csv format and so will require some initial pre-processing. \n",
        "In particular, we're going to use the Python libraries **[requests](http://docs.python-requests.org/en/master/)** \n",
        "and **[beautiful soup](https://www.crummy.com/software/BeautifulSoup/)** to convert this UFO data from its original HTML format into csv. \n",
        "\n",
        "Hints:\n",
        "* You'll notice that the column headers are in the `<TH>` tags.\n",
        "* The values are in the `<TD>` tags.\n",
        "* In beautiful soup, something like `.find_all('td')` may help you.\n",
        "* To write the csv, you might want to `import csv` and take a look at the functions provided.\n",
        "* If you google for \"beautifulsoup table to csv\" you should find some nice starting points.  Note, however, that you may not use an existing method that auto-magically converts the HTML into csv; we expect you to write your own code. If you borrow some elements from online resources, you should cite them in the comments. "
      ]
    },
    {
      "cell_type": "code",
      "execution_count": null,
      "metadata": {
        "id": "R7e6aYoQEYTT"
      },
      "outputs": [],
      "source": [
        "# your code here\n",
        "# you should use requests to get the webpage, then extract \n",
        "# the appropriate column headings and rows\n",
        "# then write this out to csv to a local file called 'ufos_in_texas.csv'\n",
        "from bs4 import BeautifulSoup\n",
        "import requests\n",
        "import matplotlib.pyplot as plt\n",
        "r = requests.get('http://www.nuforc.org/webreports/ndxlTX.html')"
      ]
    },
    {
      "cell_type": "code",
      "execution_count": null,
      "metadata": {
        "id": "JjMSyCKwKEFV"
      },
      "outputs": [],
      "source": [
        "soup = BeautifulSoup(r.text, 'html.parser')"
      ]
    },
    {
      "cell_type": "code",
      "execution_count": null,
      "metadata": {
        "id": "XLf-bPgnK29r"
      },
      "outputs": [],
      "source": [
        "x = soup.find_all('td')\n",
        "data = []\n",
        "for i in range(0,len(x),7):\n",
        "  Date = x[i+0].text\n",
        "  City = x[i+1].text\n",
        "  State = x[i+2].text\n",
        "  Shape = x[i+3].text\n",
        "  Duration = x[i+4].text\n",
        "  Summary = x[i+5].text\n",
        "  Posted = x[i+6].text\n",
        "  data.append([Date,City,State,Shape,Duration,Summary,Posted])"
      ]
    },
    {
      "cell_type": "markdown",
      "metadata": {
        "id": "BfQTWXRfnEZN"
      },
      "source": [
        "Once you have your local csv file, you should read it in and then issue the .head() command."
      ]
    },
    {
      "cell_type": "code",
      "execution_count": null,
      "metadata": {
        "id": "7XTMsMuFQAdB"
      },
      "outputs": [],
      "source": [
        "y = soup.find_all('th')\n",
        "cols = []\n",
        "for i in range(len(y)):\n",
        "  cols.append(y[i].text)"
      ]
    },
    {
      "cell_type": "code",
      "execution_count": null,
      "metadata": {
        "id": "MkXh8CRdNsMs",
        "colab": {
          "base_uri": "https://localhost:8080/",
          "height": 206
        },
        "outputId": "3177b3ea-4dd8-4cb5-e090-7f1d0fcb1ffe"
      },
      "outputs": [
        {
          "output_type": "execute_result",
          "data": {
            "text/html": [
              "\n",
              "  <div id=\"df-bc7e3f46-baaa-437c-9b12-c0862d468e28\">\n",
              "    <div class=\"colab-df-container\">\n",
              "      <div>\n",
              "<style scoped>\n",
              "    .dataframe tbody tr th:only-of-type {\n",
              "        vertical-align: middle;\n",
              "    }\n",
              "\n",
              "    .dataframe tbody tr th {\n",
              "        vertical-align: top;\n",
              "    }\n",
              "\n",
              "    .dataframe thead th {\n",
              "        text-align: right;\n",
              "    }\n",
              "</style>\n",
              "<table border=\"1\" class=\"dataframe\">\n",
              "  <thead>\n",
              "    <tr style=\"text-align: right;\">\n",
              "      <th></th>\n",
              "      <th>Date / Time</th>\n",
              "      <th>City</th>\n",
              "      <th>State</th>\n",
              "      <th>Shape</th>\n",
              "      <th>Duration</th>\n",
              "      <th>Summary</th>\n",
              "      <th>Posted</th>\n",
              "    </tr>\n",
              "  </thead>\n",
              "  <tbody>\n",
              "    <tr>\n",
              "      <th>0</th>\n",
              "      <td>12/14/21 22:30</td>\n",
              "      <td>Dallas</td>\n",
              "      <td>TX</td>\n",
              "      <td>Formation</td>\n",
              "      <td>8 minutes</td>\n",
              "      <td>It was loud like rocket in a V shape.</td>\n",
              "      <td>12/19/21</td>\n",
              "    </tr>\n",
              "    <tr>\n",
              "      <th>1</th>\n",
              "      <td>12/12/21 17:30</td>\n",
              "      <td>Dallas</td>\n",
              "      <td>TX</td>\n",
              "      <td>Light</td>\n",
              "      <td>10 minutes</td>\n",
              "      <td>A light that was fading in and out.</td>\n",
              "      <td>12/19/21</td>\n",
              "    </tr>\n",
              "    <tr>\n",
              "      <th>2</th>\n",
              "      <td>12/9/21 16:30</td>\n",
              "      <td>Lazerbet</td>\n",
              "      <td>TX</td>\n",
              "      <td>Other</td>\n",
              "      <td>Google maping</td>\n",
              "      <td>It's big</td>\n",
              "      <td>12/19/21</td>\n",
              "    </tr>\n",
              "    <tr>\n",
              "      <th>3</th>\n",
              "      <td>12/9/21 16:00</td>\n",
              "      <td>Lazerbet</td>\n",
              "      <td>TX</td>\n",
              "      <td>Triangle</td>\n",
              "      <td></td>\n",
              "      <td>Unhuman</td>\n",
              "      <td>12/19/21</td>\n",
              "    </tr>\n",
              "    <tr>\n",
              "      <th>4</th>\n",
              "      <td>12/7/21 17:30</td>\n",
              "      <td>Oak Cliff</td>\n",
              "      <td>TX</td>\n",
              "      <td>Unknown</td>\n",
              "      <td></td>\n",
              "      <td>I was randomly taking pictures of the clouds a...</td>\n",
              "      <td>12/19/21</td>\n",
              "    </tr>\n",
              "  </tbody>\n",
              "</table>\n",
              "</div>\n",
              "      <button class=\"colab-df-convert\" onclick=\"convertToInteractive('df-bc7e3f46-baaa-437c-9b12-c0862d468e28')\"\n",
              "              title=\"Convert this dataframe to an interactive table.\"\n",
              "              style=\"display:none;\">\n",
              "        \n",
              "  <svg xmlns=\"http://www.w3.org/2000/svg\" height=\"24px\"viewBox=\"0 0 24 24\"\n",
              "       width=\"24px\">\n",
              "    <path d=\"M0 0h24v24H0V0z\" fill=\"none\"/>\n",
              "    <path d=\"M18.56 5.44l.94 2.06.94-2.06 2.06-.94-2.06-.94-.94-2.06-.94 2.06-2.06.94zm-11 1L8.5 8.5l.94-2.06 2.06-.94-2.06-.94L8.5 2.5l-.94 2.06-2.06.94zm10 10l.94 2.06.94-2.06 2.06-.94-2.06-.94-.94-2.06-.94 2.06-2.06.94z\"/><path d=\"M17.41 7.96l-1.37-1.37c-.4-.4-.92-.59-1.43-.59-.52 0-1.04.2-1.43.59L10.3 9.45l-7.72 7.72c-.78.78-.78 2.05 0 2.83L4 21.41c.39.39.9.59 1.41.59.51 0 1.02-.2 1.41-.59l7.78-7.78 2.81-2.81c.8-.78.8-2.07 0-2.86zM5.41 20L4 18.59l7.72-7.72 1.47 1.35L5.41 20z\"/>\n",
              "  </svg>\n",
              "      </button>\n",
              "      \n",
              "  <style>\n",
              "    .colab-df-container {\n",
              "      display:flex;\n",
              "      flex-wrap:wrap;\n",
              "      gap: 12px;\n",
              "    }\n",
              "\n",
              "    .colab-df-convert {\n",
              "      background-color: #E8F0FE;\n",
              "      border: none;\n",
              "      border-radius: 50%;\n",
              "      cursor: pointer;\n",
              "      display: none;\n",
              "      fill: #1967D2;\n",
              "      height: 32px;\n",
              "      padding: 0 0 0 0;\n",
              "      width: 32px;\n",
              "    }\n",
              "\n",
              "    .colab-df-convert:hover {\n",
              "      background-color: #E2EBFA;\n",
              "      box-shadow: 0px 1px 2px rgba(60, 64, 67, 0.3), 0px 1px 3px 1px rgba(60, 64, 67, 0.15);\n",
              "      fill: #174EA6;\n",
              "    }\n",
              "\n",
              "    [theme=dark] .colab-df-convert {\n",
              "      background-color: #3B4455;\n",
              "      fill: #D2E3FC;\n",
              "    }\n",
              "\n",
              "    [theme=dark] .colab-df-convert:hover {\n",
              "      background-color: #434B5C;\n",
              "      box-shadow: 0px 1px 3px 1px rgba(0, 0, 0, 0.15);\n",
              "      filter: drop-shadow(0px 1px 2px rgba(0, 0, 0, 0.3));\n",
              "      fill: #FFFFFF;\n",
              "    }\n",
              "  </style>\n",
              "\n",
              "      <script>\n",
              "        const buttonEl =\n",
              "          document.querySelector('#df-bc7e3f46-baaa-437c-9b12-c0862d468e28 button.colab-df-convert');\n",
              "        buttonEl.style.display =\n",
              "          google.colab.kernel.accessAllowed ? 'block' : 'none';\n",
              "\n",
              "        async function convertToInteractive(key) {\n",
              "          const element = document.querySelector('#df-bc7e3f46-baaa-437c-9b12-c0862d468e28');\n",
              "          const dataTable =\n",
              "            await google.colab.kernel.invokeFunction('convertToInteractive',\n",
              "                                                     [key], {});\n",
              "          if (!dataTable) return;\n",
              "\n",
              "          const docLinkHtml = 'Like what you see? Visit the ' +\n",
              "            '<a target=\"_blank\" href=https://colab.research.google.com/notebooks/data_table.ipynb>data table notebook</a>'\n",
              "            + ' to learn more about interactive tables.';\n",
              "          element.innerHTML = '';\n",
              "          dataTable['output_type'] = 'display_data';\n",
              "          await google.colab.output.renderOutput(dataTable, element);\n",
              "          const docLink = document.createElement('div');\n",
              "          docLink.innerHTML = docLinkHtml;\n",
              "          element.appendChild(docLink);\n",
              "        }\n",
              "      </script>\n",
              "    </div>\n",
              "  </div>\n",
              "  "
            ],
            "text/plain": [
              "      Date / Time  ...    Posted\n",
              "0  12/14/21 22:30  ...  12/19/21\n",
              "1  12/12/21 17:30  ...  12/19/21\n",
              "2   12/9/21 16:30  ...  12/19/21\n",
              "3   12/9/21 16:00  ...  12/19/21\n",
              "4   12/7/21 17:30  ...  12/19/21\n",
              "\n",
              "[5 rows x 7 columns]"
            ]
          },
          "metadata": {},
          "execution_count": 46
        }
      ],
      "source": [
        "import pandas as pd\n",
        "df = pd.DataFrame(data, columns = cols)\n",
        "df.head()"
      ]
    },
    {
      "cell_type": "code",
      "execution_count": null,
      "metadata": {
        "id": "lGjL27fsnEIu"
      },
      "outputs": [],
      "source": [
        "# your code here\n",
        "df.to_csv('ufos_in_texas.csv')"
      ]
    },
    {
      "cell_type": "markdown",
      "metadata": {
        "id": "kCSVPkNOnYfI"
      },
      "source": [
        "### (15pts) Part 1b: UFOs are a Mess! Time to Clean Up!\n",
        "\n",
        "Okay, now we move to the fun part -- making sense of this messy data. These UFO reports are user-generated with little input validation. As a result, you will notice lots of oddities. \n",
        "\n",
        "Let's begin by focusing on the **Duration** column. As a first pass, let's make a grossly simplifying assumption -- that the only valid data is any duration that is of the form:  \n",
        "\n",
        "* 1 second\n",
        "* 2 seconds\n",
        "* ...\n",
        "* 1 minute\n",
        "* 2 minutes\n",
        "* ...\n",
        "* 1 hour\n",
        "* 2 hours \n",
        "* ...\n",
        "* 1 day\n",
        "* 2 days \n",
        "* ...\n",
        "\n",
        "That is, we will only accept positive integers followed by a space, followed by a properly spelled unit. Every other entry is invalid. For example, that means these are all invalid durations:\n",
        "\n",
        "* 1s\n",
        "* 2 min.\n",
        "* 2-3 seconds\n",
        "* 10-15min\n",
        "* 1 minute+\n",
        "* 30 minutes and longer\n",
        "* about 1.5 minutes\n",
        "\n",
        "You may find the **pandas** library to be very helpful for this part. Create a new pandas dataframe that only includes sightings with these values, **where you convert all durations into seconds**. How many total rows are there in the original dataset? How many rows in your new 'validated' dataset? Report the basic statistics of the duration in your new 'validated' dataset (report maximum, minimum, mean, and standard deviation values of duration). At last, plot a boxplot of the duration (in seconds) in your 'validated' dataset."
      ]
    },
    {
      "cell_type": "code",
      "execution_count": null,
      "metadata": {
        "id": "p0JmYTAcTs8z"
      },
      "outputs": [],
      "source": [
        "import re"
      ]
    },
    {
      "cell_type": "code",
      "execution_count": null,
      "metadata": {
        "id": "wMC-mq6wEnnY",
        "colab": {
          "base_uri": "https://localhost:8080/",
          "height": 345
        },
        "outputId": "db53276c-7316-4e69-924b-8e38f24b510f"
      },
      "outputs": [
        {
          "output_type": "stream",
          "name": "stderr",
          "text": [
            "/usr/local/lib/python3.7/dist-packages/ipykernel_launcher.py:15: UserWarning: This pattern has match groups. To actually get the groups, use str.extract.\n",
            "  from ipykernel import kernelapp as app\n",
            "/usr/local/lib/python3.7/dist-packages/ipykernel_launcher.py:16: SettingWithCopyWarning: \n",
            "A value is trying to be set on a copy of a slice from a DataFrame.\n",
            "Try using .loc[row_indexer,col_indexer] = value instead\n",
            "\n",
            "See the caveats in the documentation: https://pandas.pydata.org/pandas-docs/stable/user_guide/indexing.html#returning-a-view-versus-a-copy\n",
            "  app.launch_new_instance()\n"
          ]
        },
        {
          "output_type": "execute_result",
          "data": {
            "text/html": [
              "\n",
              "  <div id=\"df-de15767e-f724-4212-a925-96fd4e7979e4\">\n",
              "    <div class=\"colab-df-container\">\n",
              "      <div>\n",
              "<style scoped>\n",
              "    .dataframe tbody tr th:only-of-type {\n",
              "        vertical-align: middle;\n",
              "    }\n",
              "\n",
              "    .dataframe tbody tr th {\n",
              "        vertical-align: top;\n",
              "    }\n",
              "\n",
              "    .dataframe thead th {\n",
              "        text-align: right;\n",
              "    }\n",
              "</style>\n",
              "<table border=\"1\" class=\"dataframe\">\n",
              "  <thead>\n",
              "    <tr style=\"text-align: right;\">\n",
              "      <th></th>\n",
              "      <th>Date / Time</th>\n",
              "      <th>City</th>\n",
              "      <th>State</th>\n",
              "      <th>Shape</th>\n",
              "      <th>Duration</th>\n",
              "      <th>Summary</th>\n",
              "      <th>Posted</th>\n",
              "    </tr>\n",
              "  </thead>\n",
              "  <tbody>\n",
              "    <tr>\n",
              "      <th>0</th>\n",
              "      <td>12/14/21 22:30</td>\n",
              "      <td>Dallas</td>\n",
              "      <td>TX</td>\n",
              "      <td>Formation</td>\n",
              "      <td>480</td>\n",
              "      <td>It was loud like rocket in a V shape.</td>\n",
              "      <td>12/19/21</td>\n",
              "    </tr>\n",
              "    <tr>\n",
              "      <th>1</th>\n",
              "      <td>12/12/21 17:30</td>\n",
              "      <td>Dallas</td>\n",
              "      <td>TX</td>\n",
              "      <td>Light</td>\n",
              "      <td>600</td>\n",
              "      <td>A light that was fading in and out.</td>\n",
              "      <td>12/19/21</td>\n",
              "    </tr>\n",
              "    <tr>\n",
              "      <th>14</th>\n",
              "      <td>11/6/21 14:00</td>\n",
              "      <td>Abilene</td>\n",
              "      <td>TX</td>\n",
              "      <td>Changing</td>\n",
              "      <td>1800</td>\n",
              "      <td>I was outside waiting on my ride, when a white...</td>\n",
              "      <td>11/15/21</td>\n",
              "    </tr>\n",
              "    <tr>\n",
              "      <th>16</th>\n",
              "      <td>10/25/21 17:18</td>\n",
              "      <td>Corpus Christi</td>\n",
              "      <td>TX</td>\n",
              "      <td>Other</td>\n",
              "      <td>2400</td>\n",
              "      <td>Seven United States Postal workers in Corpus C...</td>\n",
              "      <td>10/26/21</td>\n",
              "    </tr>\n",
              "    <tr>\n",
              "      <th>18</th>\n",
              "      <td>10/23/21 03:30</td>\n",
              "      <td>Garland</td>\n",
              "      <td>TX</td>\n",
              "      <td>Light</td>\n",
              "      <td>25200</td>\n",
              "      <td>Early morning site &amp; short encounter</td>\n",
              "      <td>11/15/21</td>\n",
              "    </tr>\n",
              "  </tbody>\n",
              "</table>\n",
              "</div>\n",
              "      <button class=\"colab-df-convert\" onclick=\"convertToInteractive('df-de15767e-f724-4212-a925-96fd4e7979e4')\"\n",
              "              title=\"Convert this dataframe to an interactive table.\"\n",
              "              style=\"display:none;\">\n",
              "        \n",
              "  <svg xmlns=\"http://www.w3.org/2000/svg\" height=\"24px\"viewBox=\"0 0 24 24\"\n",
              "       width=\"24px\">\n",
              "    <path d=\"M0 0h24v24H0V0z\" fill=\"none\"/>\n",
              "    <path d=\"M18.56 5.44l.94 2.06.94-2.06 2.06-.94-2.06-.94-.94-2.06-.94 2.06-2.06.94zm-11 1L8.5 8.5l.94-2.06 2.06-.94-2.06-.94L8.5 2.5l-.94 2.06-2.06.94zm10 10l.94 2.06.94-2.06 2.06-.94-2.06-.94-.94-2.06-.94 2.06-2.06.94z\"/><path d=\"M17.41 7.96l-1.37-1.37c-.4-.4-.92-.59-1.43-.59-.52 0-1.04.2-1.43.59L10.3 9.45l-7.72 7.72c-.78.78-.78 2.05 0 2.83L4 21.41c.39.39.9.59 1.41.59.51 0 1.02-.2 1.41-.59l7.78-7.78 2.81-2.81c.8-.78.8-2.07 0-2.86zM5.41 20L4 18.59l7.72-7.72 1.47 1.35L5.41 20z\"/>\n",
              "  </svg>\n",
              "      </button>\n",
              "      \n",
              "  <style>\n",
              "    .colab-df-container {\n",
              "      display:flex;\n",
              "      flex-wrap:wrap;\n",
              "      gap: 12px;\n",
              "    }\n",
              "\n",
              "    .colab-df-convert {\n",
              "      background-color: #E8F0FE;\n",
              "      border: none;\n",
              "      border-radius: 50%;\n",
              "      cursor: pointer;\n",
              "      display: none;\n",
              "      fill: #1967D2;\n",
              "      height: 32px;\n",
              "      padding: 0 0 0 0;\n",
              "      width: 32px;\n",
              "    }\n",
              "\n",
              "    .colab-df-convert:hover {\n",
              "      background-color: #E2EBFA;\n",
              "      box-shadow: 0px 1px 2px rgba(60, 64, 67, 0.3), 0px 1px 3px 1px rgba(60, 64, 67, 0.15);\n",
              "      fill: #174EA6;\n",
              "    }\n",
              "\n",
              "    [theme=dark] .colab-df-convert {\n",
              "      background-color: #3B4455;\n",
              "      fill: #D2E3FC;\n",
              "    }\n",
              "\n",
              "    [theme=dark] .colab-df-convert:hover {\n",
              "      background-color: #434B5C;\n",
              "      box-shadow: 0px 1px 3px 1px rgba(0, 0, 0, 0.15);\n",
              "      filter: drop-shadow(0px 1px 2px rgba(0, 0, 0, 0.3));\n",
              "      fill: #FFFFFF;\n",
              "    }\n",
              "  </style>\n",
              "\n",
              "      <script>\n",
              "        const buttonEl =\n",
              "          document.querySelector('#df-de15767e-f724-4212-a925-96fd4e7979e4 button.colab-df-convert');\n",
              "        buttonEl.style.display =\n",
              "          google.colab.kernel.accessAllowed ? 'block' : 'none';\n",
              "\n",
              "        async function convertToInteractive(key) {\n",
              "          const element = document.querySelector('#df-de15767e-f724-4212-a925-96fd4e7979e4');\n",
              "          const dataTable =\n",
              "            await google.colab.kernel.invokeFunction('convertToInteractive',\n",
              "                                                     [key], {});\n",
              "          if (!dataTable) return;\n",
              "\n",
              "          const docLinkHtml = 'Like what you see? Visit the ' +\n",
              "            '<a target=\"_blank\" href=https://colab.research.google.com/notebooks/data_table.ipynb>data table notebook</a>'\n",
              "            + ' to learn more about interactive tables.';\n",
              "          element.innerHTML = '';\n",
              "          dataTable['output_type'] = 'display_data';\n",
              "          await google.colab.output.renderOutput(dataTable, element);\n",
              "          const docLink = document.createElement('div');\n",
              "          docLink.innerHTML = docLinkHtml;\n",
              "          element.appendChild(docLink);\n",
              "        }\n",
              "      </script>\n",
              "    </div>\n",
              "  </div>\n",
              "  "
            ],
            "text/plain": [
              "       Date / Time  ...    Posted\n",
              "0   12/14/21 22:30  ...  12/19/21\n",
              "1   12/12/21 17:30  ...  12/19/21\n",
              "14   11/6/21 14:00  ...  11/15/21\n",
              "16  10/25/21 17:18  ...  10/26/21\n",
              "18  10/23/21 03:30  ...  11/15/21\n",
              "\n",
              "[5 rows x 7 columns]"
            ]
          },
          "metadata": {},
          "execution_count": 49
        }
      ],
      "source": [
        "# your code here \n",
        "# filter our invalid durations\n",
        "# convert all valid durations to seconds\n",
        "def explorer(txt):\n",
        "  a = txt.split(\" \")\n",
        "  if re.search(\"days|day$\",txt):\n",
        "    return int(a[0])*86400\n",
        "  elif re.search(\"minute|minutes$\",txt):\n",
        "    return int(a[0])*60\n",
        "  elif re.search(\"hour|hour$\",txt):\n",
        "    return int(a[0])*3600\n",
        "  elif re.search(\"second|seconds$\",txt):\n",
        "    return int(a[0])\n",
        "\n",
        "df = df[df['Duration'].str.contains(r'^\\d* (seconds|second|hour|hours|minute|minutes|days|day)')]\n",
        "df['Duration'] = df['Duration'].apply(explorer)\n",
        "df.head()"
      ]
    },
    {
      "cell_type": "code",
      "execution_count": null,
      "metadata": {
        "id": "6Yio0HTHncIz",
        "colab": {
          "base_uri": "https://localhost:8080/"
        },
        "outputId": "e1f59cd0-972c-47ca-fb16-3ff288a3cc72"
      },
      "outputs": [
        {
          "output_type": "execute_result",
          "data": {
            "text/plain": [
              "(2898, 7)"
            ]
          },
          "metadata": {},
          "execution_count": 50
        }
      ],
      "source": [
        "# your code here\n",
        "# total rows in original dataset\n",
        "# valid rows in your new 'validated' dataset\n",
        "df.shape"
      ]
    },
    {
      "cell_type": "code",
      "execution_count": null,
      "metadata": {
        "id": "5VSAJpk6nd6f",
        "colab": {
          "base_uri": "https://localhost:8080/",
          "height": 435
        },
        "outputId": "86ade7e7-4a8c-463b-850d-9de95523c7ad"
      },
      "outputs": [
        {
          "output_type": "stream",
          "name": "stdout",
          "text": [
            "count      2898.000000\n",
            "mean       1305.848861\n",
            "std       10707.377307\n",
            "min           1.000000\n",
            "25%          20.000000\n",
            "50%         180.000000\n",
            "75%         600.000000\n",
            "max      345600.000000\n",
            "Name: Duration, dtype: float64\n"
          ]
        },
        {
          "output_type": "display_data",
          "data": {
            "image/png": "[encoded data removed]",
            "text/plain": [
              "<Figure size 432x288 with 1 Axes>"
            ]
          },
          "metadata": {
            "needs_background": "light"
          }
        }
      ],
      "source": [
        "# your code here\n",
        "# report the basic statistics of duration in 'validated' dataset\n",
        "# boxplot code here\n",
        "print(df['Duration'].describe())\n",
        "import seaborn as sns\n",
        "import copy\n",
        "df3 = copy.copy(df)\n",
        "df3.sort_values(by=['Duration'], inplace=True)\n",
        "ax = sns.boxplot(x=df3['Duration'], showfliers = False)"
      ]
    },
    {
      "cell_type": "markdown",
      "metadata": {
        "id": "XRED23qlni_z"
      },
      "source": [
        "### (15pts) Part 1c: Can we do better?\n",
        "Interesting. But we threw away a **lot** of data. We can do better. For this part, you will do your best to clean up the durations from your original dataset. Keep in mind some initial guidelines:\n",
        "\n",
        "* If a duration has a range, use the average as its value. For example, if the duration is listed as “6-8 minutes”, you should consider the duration as “7 minutes”. (Again, you will need to eventually convert minutes into seconds).\n",
        "* If a duration has a “<” sign, you should simply ignore the “<” sign. For example if the duration is specified as “< 1 minute”, consider the duration to be “1 minute”. You should subsequently convert “1 minute” to \"60 seconds\".\n",
        "* If a duration has a “>” sign, you should simply ignore the “>” sign. \n",
        "* You should ignore any row with an empty duration.\n",
        "\n",
        "You will probably have to improvise as you go along, so **make detailed notes of what decisions you are making and why**."
      ]
    },
    {
      "cell_type": "code",
      "execution_count": null,
      "metadata": {
        "id": "q3zORgUTnmZg",
        "colab": {
          "base_uri": "https://localhost:8080/",
          "height": 206
        },
        "outputId": "684c0bac-e90a-4451-b24c-960594d3f682"
      },
      "outputs": [
        {
          "output_type": "execute_result",
          "data": {
            "text/html": [
              "\n",
              "  <div id=\"df-00965c0f-005d-4fff-adea-b80870b732cc\">\n",
              "    <div class=\"colab-df-container\">\n",
              "      <div>\n",
              "<style scoped>\n",
              "    .dataframe tbody tr th:only-of-type {\n",
              "        vertical-align: middle;\n",
              "    }\n",
              "\n",
              "    .dataframe tbody tr th {\n",
              "        vertical-align: top;\n",
              "    }\n",
              "\n",
              "    .dataframe thead th {\n",
              "        text-align: right;\n",
              "    }\n",
              "</style>\n",
              "<table border=\"1\" class=\"dataframe\">\n",
              "  <thead>\n",
              "    <tr style=\"text-align: right;\">\n",
              "      <th></th>\n",
              "      <th>Unnamed: 0</th>\n",
              "      <th>Date / Time</th>\n",
              "      <th>City</th>\n",
              "      <th>State</th>\n",
              "      <th>Shape</th>\n",
              "      <th>Duration</th>\n",
              "      <th>Summary</th>\n",
              "      <th>Posted</th>\n",
              "    </tr>\n",
              "  </thead>\n",
              "  <tbody>\n",
              "    <tr>\n",
              "      <th>0</th>\n",
              "      <td>0</td>\n",
              "      <td>12/14/21 22:30</td>\n",
              "      <td>Dallas</td>\n",
              "      <td>TX</td>\n",
              "      <td>Formation</td>\n",
              "      <td>8 minutes</td>\n",
              "      <td>It was loud like rocket in a V shape.</td>\n",
              "      <td>12/19/21</td>\n",
              "    </tr>\n",
              "    <tr>\n",
              "      <th>1</th>\n",
              "      <td>1</td>\n",
              "      <td>12/12/21 17:30</td>\n",
              "      <td>Dallas</td>\n",
              "      <td>TX</td>\n",
              "      <td>Light</td>\n",
              "      <td>10 minutes</td>\n",
              "      <td>A light that was fading in and out.</td>\n",
              "      <td>12/19/21</td>\n",
              "    </tr>\n",
              "    <tr>\n",
              "      <th>2</th>\n",
              "      <td>2</td>\n",
              "      <td>12/9/21 16:30</td>\n",
              "      <td>Lazerbet</td>\n",
              "      <td>TX</td>\n",
              "      <td>Other</td>\n",
              "      <td>Google maping</td>\n",
              "      <td>It's big</td>\n",
              "      <td>12/19/21</td>\n",
              "    </tr>\n",
              "    <tr>\n",
              "      <th>3</th>\n",
              "      <td>3</td>\n",
              "      <td>12/9/21 16:00</td>\n",
              "      <td>Lazerbet</td>\n",
              "      <td>TX</td>\n",
              "      <td>Triangle</td>\n",
              "      <td>NaN</td>\n",
              "      <td>Unhuman</td>\n",
              "      <td>12/19/21</td>\n",
              "    </tr>\n",
              "    <tr>\n",
              "      <th>4</th>\n",
              "      <td>4</td>\n",
              "      <td>12/7/21 17:30</td>\n",
              "      <td>Oak Cliff</td>\n",
              "      <td>TX</td>\n",
              "      <td>Unknown</td>\n",
              "      <td>NaN</td>\n",
              "      <td>I was randomly taking pictures of the clouds a...</td>\n",
              "      <td>12/19/21</td>\n",
              "    </tr>\n",
              "  </tbody>\n",
              "</table>\n",
              "</div>\n",
              "      <button class=\"colab-df-convert\" onclick=\"convertToInteractive('df-00965c0f-005d-4fff-adea-b80870b732cc')\"\n",
              "              title=\"Convert this dataframe to an interactive table.\"\n",
              "              style=\"display:none;\">\n",
              "        \n",
              "  <svg xmlns=\"http://www.w3.org/2000/svg\" height=\"24px\"viewBox=\"0 0 24 24\"\n",
              "       width=\"24px\">\n",
              "    <path d=\"M0 0h24v24H0V0z\" fill=\"none\"/>\n",
              "    <path d=\"M18.56 5.44l.94 2.06.94-2.06 2.06-.94-2.06-.94-.94-2.06-.94 2.06-2.06.94zm-11 1L8.5 8.5l.94-2.06 2.06-.94-2.06-.94L8.5 2.5l-.94 2.06-2.06.94zm10 10l.94 2.06.94-2.06 2.06-.94-2.06-.94-.94-2.06-.94 2.06-2.06.94z\"/><path d=\"M17.41 7.96l-1.37-1.37c-.4-.4-.92-.59-1.43-.59-.52 0-1.04.2-1.43.59L10.3 9.45l-7.72 7.72c-.78.78-.78 2.05 0 2.83L4 21.41c.39.39.9.59 1.41.59.51 0 1.02-.2 1.41-.59l7.78-7.78 2.81-2.81c.8-.78.8-2.07 0-2.86zM5.41 20L4 18.59l7.72-7.72 1.47 1.35L5.41 20z\"/>\n",
              "  </svg>\n",
              "      </button>\n",
              "      \n",
              "  <style>\n",
              "    .colab-df-container {\n",
              "      display:flex;\n",
              "      flex-wrap:wrap;\n",
              "      gap: 12px;\n",
              "    }\n",
              "\n",
              "    .colab-df-convert {\n",
              "      background-color: #E8F0FE;\n",
              "      border: none;\n",
              "      border-radius: 50%;\n",
              "      cursor: pointer;\n",
              "      display: none;\n",
              "      fill: #1967D2;\n",
              "      height: 32px;\n",
              "      padding: 0 0 0 0;\n",
              "      width: 32px;\n",
              "    }\n",
              "\n",
              "    .colab-df-convert:hover {\n",
              "      background-color: #E2EBFA;\n",
              "      box-shadow: 0px 1px 2px rgba(60, 64, 67, 0.3), 0px 1px 3px 1px rgba(60, 64, 67, 0.15);\n",
              "      fill: #174EA6;\n",
              "    }\n",
              "\n",
              "    [theme=dark] .colab-df-convert {\n",
              "      background-color: #3B4455;\n",
              "      fill: #D2E3FC;\n",
              "    }\n",
              "\n",
              "    [theme=dark] .colab-df-convert:hover {\n",
              "      background-color: #434B5C;\n",
              "      box-shadow: 0px 1px 3px 1px rgba(0, 0, 0, 0.15);\n",
              "      filter: drop-shadow(0px 1px 2px rgba(0, 0, 0, 0.3));\n",
              "      fill: #FFFFFF;\n",
              "    }\n",
              "  </style>\n",
              "\n",
              "      <script>\n",
              "        const buttonEl =\n",
              "          document.querySelector('#df-00965c0f-005d-4fff-adea-b80870b732cc button.colab-df-convert');\n",
              "        buttonEl.style.display =\n",
              "          google.colab.kernel.accessAllowed ? 'block' : 'none';\n",
              "\n",
              "        async function convertToInteractive(key) {\n",
              "          const element = document.querySelector('#df-00965c0f-005d-4fff-adea-b80870b732cc');\n",
              "          const dataTable =\n",
              "            await google.colab.kernel.invokeFunction('convertToInteractive',\n",
              "                                                     [key], {});\n",
              "          if (!dataTable) return;\n",
              "\n",
              "          const docLinkHtml = 'Like what you see? Visit the ' +\n",
              "            '<a target=\"_blank\" href=https://colab.research.google.com/notebooks/data_table.ipynb>data table notebook</a>'\n",
              "            + ' to learn more about interactive tables.';\n",
              "          element.innerHTML = '';\n",
              "          dataTable['output_type'] = 'display_data';\n",
              "          await google.colab.output.renderOutput(dataTable, element);\n",
              "          const docLink = document.createElement('div');\n",
              "          docLink.innerHTML = docLinkHtml;\n",
              "          element.appendChild(docLink);\n",
              "        }\n",
              "      </script>\n",
              "    </div>\n",
              "  </div>\n",
              "  "
            ],
            "text/plain": [
              "   Unnamed: 0  ...    Posted\n",
              "0           0  ...  12/19/21\n",
              "1           1  ...  12/19/21\n",
              "2           2  ...  12/19/21\n",
              "3           3  ...  12/19/21\n",
              "4           4  ...  12/19/21\n",
              "\n",
              "[5 rows x 8 columns]"
            ]
          },
          "metadata": {},
          "execution_count": 52
        }
      ],
      "source": [
        "# your code here \n",
        "# clean data \n",
        "# convert cleaned durations to seconds\n",
        "df1 = pd.read_csv('ufos_in_texas.csv')\n",
        "df1.head()\n"
      ]
    },
    {
      "cell_type": "code",
      "execution_count": null,
      "metadata": {
        "id": "c4gN3O1Dw-0z"
      },
      "outputs": [],
      "source": [
        "original = df1.shape"
      ]
    },
    {
      "cell_type": "code",
      "execution_count": null,
      "metadata": {
        "id": "eAQGdyETtAKX",
        "colab": {
          "base_uri": "https://localhost:8080/"
        },
        "outputId": "6b65e976-a3e8-407e-e5c7-8df23ccc5eb9"
      },
      "outputs": [
        {
          "output_type": "stream",
          "name": "stderr",
          "text": [
            "/usr/local/lib/python3.7/dist-packages/ipykernel_launcher.py:2: UserWarning: This pattern has match groups. To actually get the groups, use str.extract.\n",
            "  \n"
          ]
        }
      ],
      "source": [
        "df1 = df1.dropna()\n",
        "df1 = df1[df1['Duration'].str.contains(r'^(\\d|<|>)\\d*\\D*\\d{0,}')]"
      ]
    },
    {
      "cell_type": "code",
      "execution_count": null,
      "metadata": {
        "id": "75IFWJnbGeZN",
        "colab": {
          "base_uri": "https://localhost:8080/",
          "height": 206
        },
        "outputId": "4815d162-f0a7-4e41-a617-bea33ff3b27f"
      },
      "outputs": [
        {
          "output_type": "execute_result",
          "data": {
            "text/html": [
              "\n",
              "  <div id=\"df-64b300dd-f2c0-4507-8e9b-42da0eeac248\">\n",
              "    <div class=\"colab-df-container\">\n",
              "      <div>\n",
              "<style scoped>\n",
              "    .dataframe tbody tr th:only-of-type {\n",
              "        vertical-align: middle;\n",
              "    }\n",
              "\n",
              "    .dataframe tbody tr th {\n",
              "        vertical-align: top;\n",
              "    }\n",
              "\n",
              "    .dataframe thead th {\n",
              "        text-align: right;\n",
              "    }\n",
              "</style>\n",
              "<table border=\"1\" class=\"dataframe\">\n",
              "  <thead>\n",
              "    <tr style=\"text-align: right;\">\n",
              "      <th></th>\n",
              "      <th>Unnamed: 0</th>\n",
              "      <th>Date / Time</th>\n",
              "      <th>City</th>\n",
              "      <th>State</th>\n",
              "      <th>Shape</th>\n",
              "      <th>Duration</th>\n",
              "      <th>Summary</th>\n",
              "      <th>Posted</th>\n",
              "    </tr>\n",
              "  </thead>\n",
              "  <tbody>\n",
              "    <tr>\n",
              "      <th>0</th>\n",
              "      <td>0</td>\n",
              "      <td>12/14/21 22:30</td>\n",
              "      <td>Dallas</td>\n",
              "      <td>TX</td>\n",
              "      <td>Formation</td>\n",
              "      <td>8 minutes</td>\n",
              "      <td>It was loud like rocket in a V shape.</td>\n",
              "      <td>12/19/21</td>\n",
              "    </tr>\n",
              "    <tr>\n",
              "      <th>1</th>\n",
              "      <td>1</td>\n",
              "      <td>12/12/21 17:30</td>\n",
              "      <td>Dallas</td>\n",
              "      <td>TX</td>\n",
              "      <td>Light</td>\n",
              "      <td>10 minutes</td>\n",
              "      <td>A light that was fading in and out.</td>\n",
              "      <td>12/19/21</td>\n",
              "    </tr>\n",
              "    <tr>\n",
              "      <th>9</th>\n",
              "      <td>9</td>\n",
              "      <td>12/1/21 08:00</td>\n",
              "      <td>Austin</td>\n",
              "      <td>TX</td>\n",
              "      <td>Changing</td>\n",
              "      <td>5 years</td>\n",
              "      <td>((HOAX))  UFO on a star with men in red armore...</td>\n",
              "      <td>12/19/21</td>\n",
              "    </tr>\n",
              "    <tr>\n",
              "      <th>12</th>\n",
              "      <td>12</td>\n",
              "      <td>11/12/21 10:00</td>\n",
              "      <td>Hickory Creek</td>\n",
              "      <td>TX</td>\n",
              "      <td>Circle</td>\n",
              "      <td>2-3 minutes</td>\n",
              "      <td>2 identical circular orange spheres traveling ...</td>\n",
              "      <td>11/15/21</td>\n",
              "    </tr>\n",
              "    <tr>\n",
              "      <th>14</th>\n",
              "      <td>14</td>\n",
              "      <td>11/6/21 14:00</td>\n",
              "      <td>Abilene</td>\n",
              "      <td>TX</td>\n",
              "      <td>Changing</td>\n",
              "      <td>30 minutes</td>\n",
              "      <td>I was outside waiting on my ride, when a white...</td>\n",
              "      <td>11/15/21</td>\n",
              "    </tr>\n",
              "  </tbody>\n",
              "</table>\n",
              "</div>\n",
              "      <button class=\"colab-df-convert\" onclick=\"convertToInteractive('df-64b300dd-f2c0-4507-8e9b-42da0eeac248')\"\n",
              "              title=\"Convert this dataframe to an interactive table.\"\n",
              "              style=\"display:none;\">\n",
              "        \n",
              "  <svg xmlns=\"http://www.w3.org/2000/svg\" height=\"24px\"viewBox=\"0 0 24 24\"\n",
              "       width=\"24px\">\n",
              "    <path d=\"M0 0h24v24H0V0z\" fill=\"none\"/>\n",
              "    <path d=\"M18.56 5.44l.94 2.06.94-2.06 2.06-.94-2.06-.94-.94-2.06-.94 2.06-2.06.94zm-11 1L8.5 8.5l.94-2.06 2.06-.94-2.06-.94L8.5 2.5l-.94 2.06-2.06.94zm10 10l.94 2.06.94-2.06 2.06-.94-2.06-.94-.94-2.06-.94 2.06-2.06.94z\"/><path d=\"M17.41 7.96l-1.37-1.37c-.4-.4-.92-.59-1.43-.59-.52 0-1.04.2-1.43.59L10.3 9.45l-7.72 7.72c-.78.78-.78 2.05 0 2.83L4 21.41c.39.39.9.59 1.41.59.51 0 1.02-.2 1.41-.59l7.78-7.78 2.81-2.81c.8-.78.8-2.07 0-2.86zM5.41 20L4 18.59l7.72-7.72 1.47 1.35L5.41 20z\"/>\n",
              "  </svg>\n",
              "      </button>\n",
              "      \n",
              "  <style>\n",
              "    .colab-df-container {\n",
              "      display:flex;\n",
              "      flex-wrap:wrap;\n",
              "      gap: 12px;\n",
              "    }\n",
              "\n",
              "    .colab-df-convert {\n",
              "      background-color: #E8F0FE;\n",
              "      border: none;\n",
              "      border-radius: 50%;\n",
              "      cursor: pointer;\n",
              "      display: none;\n",
              "      fill: #1967D2;\n",
              "      height: 32px;\n",
              "      padding: 0 0 0 0;\n",
              "      width: 32px;\n",
              "    }\n",
              "\n",
              "    .colab-df-convert:hover {\n",
              "      background-color: #E2EBFA;\n",
              "      box-shadow: 0px 1px 2px rgba(60, 64, 67, 0.3), 0px 1px 3px 1px rgba(60, 64, 67, 0.15);\n",
              "      fill: #174EA6;\n",
              "    }\n",
              "\n",
              "    [theme=dark] .colab-df-convert {\n",
              "      background-color: #3B4455;\n",
              "      fill: #D2E3FC;\n",
              "    }\n",
              "\n",
              "    [theme=dark] .colab-df-convert:hover {\n",
              "      background-color: #434B5C;\n",
              "      box-shadow: 0px 1px 3px 1px rgba(0, 0, 0, 0.15);\n",
              "      filter: drop-shadow(0px 1px 2px rgba(0, 0, 0, 0.3));\n",
              "      fill: #FFFFFF;\n",
              "    }\n",
              "  </style>\n",
              "\n",
              "      <script>\n",
              "        const buttonEl =\n",
              "          document.querySelector('#df-64b300dd-f2c0-4507-8e9b-42da0eeac248 button.colab-df-convert');\n",
              "        buttonEl.style.display =\n",
              "          google.colab.kernel.accessAllowed ? 'block' : 'none';\n",
              "\n",
              "        async function convertToInteractive(key) {\n",
              "          const element = document.querySelector('#df-64b300dd-f2c0-4507-8e9b-42da0eeac248');\n",
              "          const dataTable =\n",
              "            await google.colab.kernel.invokeFunction('convertToInteractive',\n",
              "                                                     [key], {});\n",
              "          if (!dataTable) return;\n",
              "\n",
              "          const docLinkHtml = 'Like what you see? Visit the ' +\n",
              "            '<a target=\"_blank\" href=https://colab.research.google.com/notebooks/data_table.ipynb>data table notebook</a>'\n",
              "            + ' to learn more about interactive tables.';\n",
              "          element.innerHTML = '';\n",
              "          dataTable['output_type'] = 'display_data';\n",
              "          await google.colab.output.renderOutput(dataTable, element);\n",
              "          const docLink = document.createElement('div');\n",
              "          docLink.innerHTML = docLinkHtml;\n",
              "          element.appendChild(docLink);\n",
              "        }\n",
              "      </script>\n",
              "    </div>\n",
              "  </div>\n",
              "  "
            ],
            "text/plain": [
              "    Unnamed: 0  ...    Posted\n",
              "0            0  ...  12/19/21\n",
              "1            1  ...  12/19/21\n",
              "9            9  ...  12/19/21\n",
              "12          12  ...  11/15/21\n",
              "14          14  ...  11/15/21\n",
              "\n",
              "[5 rows x 8 columns]"
            ]
          },
          "metadata": {},
          "execution_count": 55
        }
      ],
      "source": [
        "df1.head()"
      ]
    },
    {
      "cell_type": "code",
      "execution_count": null,
      "metadata": {
        "id": "BCTvA0qYs7VH",
        "colab": {
          "base_uri": "https://localhost:8080/",
          "height": 206
        },
        "outputId": "684887b7-d8c5-44c0-abbd-343e45355891"
      },
      "outputs": [
        {
          "output_type": "execute_result",
          "data": {
            "text/html": [
              "\n",
              "  <div id=\"df-7bfbe895-5d33-4eee-904e-6cd4b78d83f6\">\n",
              "    <div class=\"colab-df-container\">\n",
              "      <div>\n",
              "<style scoped>\n",
              "    .dataframe tbody tr th:only-of-type {\n",
              "        vertical-align: middle;\n",
              "    }\n",
              "\n",
              "    .dataframe tbody tr th {\n",
              "        vertical-align: top;\n",
              "    }\n",
              "\n",
              "    .dataframe thead th {\n",
              "        text-align: right;\n",
              "    }\n",
              "</style>\n",
              "<table border=\"1\" class=\"dataframe\">\n",
              "  <thead>\n",
              "    <tr style=\"text-align: right;\">\n",
              "      <th></th>\n",
              "      <th>Unnamed: 0</th>\n",
              "      <th>Date / Time</th>\n",
              "      <th>City</th>\n",
              "      <th>State</th>\n",
              "      <th>Shape</th>\n",
              "      <th>Duration</th>\n",
              "      <th>Summary</th>\n",
              "      <th>Posted</th>\n",
              "    </tr>\n",
              "  </thead>\n",
              "  <tbody>\n",
              "    <tr>\n",
              "      <th>0</th>\n",
              "      <td>0</td>\n",
              "      <td>12/14/21 22:30</td>\n",
              "      <td>Dallas</td>\n",
              "      <td>TX</td>\n",
              "      <td>Formation</td>\n",
              "      <td>480.0</td>\n",
              "      <td>It was loud like rocket in a V shape.</td>\n",
              "      <td>12/19/21</td>\n",
              "    </tr>\n",
              "    <tr>\n",
              "      <th>1</th>\n",
              "      <td>1</td>\n",
              "      <td>12/12/21 17:30</td>\n",
              "      <td>Dallas</td>\n",
              "      <td>TX</td>\n",
              "      <td>Light</td>\n",
              "      <td>600.0</td>\n",
              "      <td>A light that was fading in and out.</td>\n",
              "      <td>12/19/21</td>\n",
              "    </tr>\n",
              "    <tr>\n",
              "      <th>9</th>\n",
              "      <td>9</td>\n",
              "      <td>12/1/21 08:00</td>\n",
              "      <td>Austin</td>\n",
              "      <td>TX</td>\n",
              "      <td>Changing</td>\n",
              "      <td>5.0</td>\n",
              "      <td>((HOAX))  UFO on a star with men in red armore...</td>\n",
              "      <td>12/19/21</td>\n",
              "    </tr>\n",
              "    <tr>\n",
              "      <th>12</th>\n",
              "      <td>12</td>\n",
              "      <td>11/12/21 10:00</td>\n",
              "      <td>Hickory Creek</td>\n",
              "      <td>TX</td>\n",
              "      <td>Circle</td>\n",
              "      <td>150.0</td>\n",
              "      <td>2 identical circular orange spheres traveling ...</td>\n",
              "      <td>11/15/21</td>\n",
              "    </tr>\n",
              "    <tr>\n",
              "      <th>14</th>\n",
              "      <td>14</td>\n",
              "      <td>11/6/21 14:00</td>\n",
              "      <td>Abilene</td>\n",
              "      <td>TX</td>\n",
              "      <td>Changing</td>\n",
              "      <td>1800.0</td>\n",
              "      <td>I was outside waiting on my ride, when a white...</td>\n",
              "      <td>11/15/21</td>\n",
              "    </tr>\n",
              "  </tbody>\n",
              "</table>\n",
              "</div>\n",
              "      <button class=\"colab-df-convert\" onclick=\"convertToInteractive('df-7bfbe895-5d33-4eee-904e-6cd4b78d83f6')\"\n",
              "              title=\"Convert this dataframe to an interactive table.\"\n",
              "              style=\"display:none;\">\n",
              "        \n",
              "  <svg xmlns=\"http://www.w3.org/2000/svg\" height=\"24px\"viewBox=\"0 0 24 24\"\n",
              "       width=\"24px\">\n",
              "    <path d=\"M0 0h24v24H0V0z\" fill=\"none\"/>\n",
              "    <path d=\"M18.56 5.44l.94 2.06.94-2.06 2.06-.94-2.06-.94-.94-2.06-.94 2.06-2.06.94zm-11 1L8.5 8.5l.94-2.06 2.06-.94-2.06-.94L8.5 2.5l-.94 2.06-2.06.94zm10 10l.94 2.06.94-2.06 2.06-.94-2.06-.94-.94-2.06-.94 2.06-2.06.94z\"/><path d=\"M17.41 7.96l-1.37-1.37c-.4-.4-.92-.59-1.43-.59-.52 0-1.04.2-1.43.59L10.3 9.45l-7.72 7.72c-.78.78-.78 2.05 0 2.83L4 21.41c.39.39.9.59 1.41.59.51 0 1.02-.2 1.41-.59l7.78-7.78 2.81-2.81c.8-.78.8-2.07 0-2.86zM5.41 20L4 18.59l7.72-7.72 1.47 1.35L5.41 20z\"/>\n",
              "  </svg>\n",
              "      </button>\n",
              "      \n",
              "  <style>\n",
              "    .colab-df-container {\n",
              "      display:flex;\n",
              "      flex-wrap:wrap;\n",
              "      gap: 12px;\n",
              "    }\n",
              "\n",
              "    .colab-df-convert {\n",
              "      background-color: #E8F0FE;\n",
              "      border: none;\n",
              "      border-radius: 50%;\n",
              "      cursor: pointer;\n",
              "      display: none;\n",
              "      fill: #1967D2;\n",
              "      height: 32px;\n",
              "      padding: 0 0 0 0;\n",
              "      width: 32px;\n",
              "    }\n",
              "\n",
              "    .colab-df-convert:hover {\n",
              "      background-color: #E2EBFA;\n",
              "      box-shadow: 0px 1px 2px rgba(60, 64, 67, 0.3), 0px 1px 3px 1px rgba(60, 64, 67, 0.15);\n",
              "      fill: #174EA6;\n",
              "    }\n",
              "\n",
              "    [theme=dark] .colab-df-convert {\n",
              "      background-color: #3B4455;\n",
              "      fill: #D2E3FC;\n",
              "    }\n",
              "\n",
              "    [theme=dark] .colab-df-convert:hover {\n",
              "      background-color: #434B5C;\n",
              "      box-shadow: 0px 1px 3px 1px rgba(0, 0, 0, 0.15);\n",
              "      filter: drop-shadow(0px 1px 2px rgba(0, 0, 0, 0.3));\n",
              "      fill: #FFFFFF;\n",
              "    }\n",
              "  </style>\n",
              "\n",
              "      <script>\n",
              "        const buttonEl =\n",
              "          document.querySelector('#df-7bfbe895-5d33-4eee-904e-6cd4b78d83f6 button.colab-df-convert');\n",
              "        buttonEl.style.display =\n",
              "          google.colab.kernel.accessAllowed ? 'block' : 'none';\n",
              "\n",
              "        async function convertToInteractive(key) {\n",
              "          const element = document.querySelector('#df-7bfbe895-5d33-4eee-904e-6cd4b78d83f6');\n",
              "          const dataTable =\n",
              "            await google.colab.kernel.invokeFunction('convertToInteractive',\n",
              "                                                     [key], {});\n",
              "          if (!dataTable) return;\n",
              "\n",
              "          const docLinkHtml = 'Like what you see? Visit the ' +\n",
              "            '<a target=\"_blank\" href=https://colab.research.google.com/notebooks/data_table.ipynb>data table notebook</a>'\n",
              "            + ' to learn more about interactive tables.';\n",
              "          element.innerHTML = '';\n",
              "          dataTable['output_type'] = 'display_data';\n",
              "          await google.colab.output.renderOutput(dataTable, element);\n",
              "          const docLink = document.createElement('div');\n",
              "          docLink.innerHTML = docLinkHtml;\n",
              "          element.appendChild(docLink);\n",
              "        }\n",
              "      </script>\n",
              "    </div>\n",
              "  </div>\n",
              "  "
            ],
            "text/plain": [
              "    Unnamed: 0  ...    Posted\n",
              "0            0  ...  12/19/21\n",
              "1            1  ...  12/19/21\n",
              "9            9  ...  12/19/21\n",
              "12          12  ...  11/15/21\n",
              "14          14  ...  11/15/21\n",
              "\n",
              "[5 rows x 8 columns]"
            ]
          },
          "metadata": {},
          "execution_count": 56
        }
      ],
      "source": [
        "def explorer_modified(txt):\n",
        "  # if not re.search(\"\\d{1,}\",txt):\n",
        "  #   return 0\n",
        "  a = txt.split(\" \")\n",
        "  mult = 1\n",
        "  num = 0\n",
        "  if re.search(\"day+\",txt.lower()):\n",
        "    mult = 86400\n",
        "  elif re.search(\"hour+\",txt.lower()) or re.search(\"hr+\",txt.lower()) :\n",
        "    mult = 3600\n",
        "  elif re.search(\"min+\",txt.lower()):\n",
        "    mult = 60\n",
        "  elif re.search(\"second+\",txt.lower()):\n",
        "    mult = 1\n",
        "  b = []\n",
        "  if '<' in a[0] or '>' in a[0]:\n",
        "    b1 = int(str((re.findall('\\d{1,}',a[0]))[0])) if len(str(re.findall('\\d{1,}',a[0]))) > 2 else 0\n",
        "    num = (b1+0) \n",
        "  elif ' - ' in a[0]:\n",
        "    b = a[0].split(' - ')\n",
        "    b1 = int(str((re.findall('\\d{1,}',b[0]))[0])) if len(str(re.findall('\\d{1,}',b[0]))) > 2 else 0\n",
        "    b2 = int(str((re.findall('\\d{1,}',b[1]))[0])) if len(str(re.findall('\\d{1,}',b[1]))) > 2 else 0\n",
        "    num = (b1+b2)/2\n",
        "  elif '-' in a[0]:\n",
        "    b = a[0].split('-')\n",
        "    # print(b[0], \" \", len(str(re.findall('\\d{1,}',b[1]))))\n",
        "    b1 = int(str((re.findall('\\d{1,}',b[0]))[0])) if len(str(re.findall('\\d{1,}',b[0]))) > 2 else 0\n",
        "    b2 = int(str((re.findall('\\d{1,}',b[1]))[0])) if len(str(re.findall('\\d{1,}',b[1]))) > 2 else 0\n",
        "    num = (b1+b2)/2\n",
        "  else:\n",
        "    b1 = int(str((re.findall('\\d{1,}',a[0]))[0])) if len(str(re.findall('\\d{1,}',a[0]))) > 2 else 0\n",
        "    num = (b1+0)\n",
        "  return (num)*mult\n",
        "\n",
        "df1['Duration'] = df1['Duration'].apply(explorer_modified)\n",
        "df1 = df1[df1['Duration']>0]\n",
        "df1.head()"
      ]
    },
    {
      "cell_type": "code",
      "execution_count": null,
      "metadata": {
        "id": "e2PDFUk1nqY4",
        "colab": {
          "base_uri": "https://localhost:8080/"
        },
        "outputId": "887b980d-49bf-4334-a4a1-6ea29d83978d"
      },
      "outputs": [
        {
          "output_type": "stream",
          "name": "stdout",
          "text": [
            "Original: (5631, 8)\n",
            "Cleaned: (4656, 8)\n"
          ]
        }
      ],
      "source": [
        " # your code here\n",
        "# total rows in original dataset\n",
        "# valid rows in your cleaned dataset\n",
        "print(\"Original:\", original)\n",
        "print(\"Cleaned:\", df1.shape)"
      ]
    },
    {
      "cell_type": "code",
      "execution_count": null,
      "metadata": {
        "id": "L_r7ogIHnquU",
        "colab": {
          "base_uri": "https://localhost:8080/"
        },
        "outputId": "ece7abed-bb16-4ccf-bbee-68bf2a4b704e"
      },
      "outputs": [
        {
          "output_type": "stream",
          "name": "stdout",
          "text": [
            "count      4656.000000\n",
            "mean       1288.201568\n",
            "std       10807.448365\n",
            "min           1.000000\n",
            "25%          20.000000\n",
            "50%         150.000000\n",
            "75%         600.000000\n",
            "max      345600.000000\n",
            "Name: Duration, dtype: float64\n"
          ]
        }
      ],
      "source": [
        "# your code here\n",
        "# report the basic statistics of duration in your cleaned dataset\n",
        "# draw a boxplot for your cleaned dataset\n",
        "print(df1.Duration.describe())"
      ]
    },
    {
      "cell_type": "code",
      "execution_count": null,
      "metadata": {
        "id": "ucmddjTixk8l",
        "colab": {
          "base_uri": "https://localhost:8080/",
          "height": 279
        },
        "outputId": "99a5642d-8d5b-46a7-99b7-66b9c4dc4680"
      },
      "outputs": [
        {
          "output_type": "display_data",
          "data": {
            "image/png": "[encoded data removed]",
            "text/plain": [
              "<Figure size 432x288 with 1 Axes>"
            ]
          },
          "metadata": {
            "needs_background": "light"
          }
        }
      ],
      "source": [
        "import seaborn as sns\n",
        "import copy\n",
        "df2 = copy.copy(df1)\n",
        "df2.sort_values(by=['Duration'], inplace=True)\n",
        "ax = sns.boxplot(x=df2['Duration'], showfliers = False)\n",
        "# boxplot = df1.boxplot(column=['Duration'])"
      ]
    },
    {
      "cell_type": "markdown",
      "metadata": {
        "id": "-5rKvm1k7HHk"
      },
      "source": [
        "### (5pts) Part 1d: Observations and Conclusions\n",
        "\n",
        "Based on your analysis on part 1b and 1c, what observations or conclusions can you make from the data?"
      ]
    },
    {
      "cell_type": "markdown",
      "metadata": {
        "id": "vrnseH_t7RzX"
      },
      "source": [
        "From the above observation, I think:\n",
        "\n",
        "\n",
        "1.   Nearly 50% of the durations that has been reported misses the standard way of mentioning time. Thus, in the first phase of cleaning, our final data set misses out a lot of observations. This can also be observed via the basic statistics and the box plot \n",
        "2.   In the second way of cleaning, we imrpove a lot more, but reducing the amout of data missed by from 50% o 20%. This allows to take into account a lot more obeservations. This too can be observed from the basic statistics and bo plot.\n",
        "3. If only the way reports are reported followed a stricter template from the source webpage, a lot less effort would have been required for cleaning. In addition, the basic statistics would be much closer to the real world data and thus would be more indicative of the pattern of the UFO data is report thourghout Texas.\n",
        "\n"
      ]
    },
    {
      "cell_type": "markdown",
      "metadata": {
        "id": "X-n9Zd2j7uFC"
      },
      "source": [
        "### (5pts) Part 1e: Next Steps\n",
        "\n",
        "Now is your chance to conduct an interesting analysis on the UFO data you have collected. This is open-ended, so you may choose whatever direction you like. For example, you might want to take a look at the shape of the UFOs or perhaps the temporal aspects of the reports. "
      ]
    },
    {
      "cell_type": "code",
      "execution_count": null,
      "metadata": {
        "id": "rbfQQrb-1gCs"
      },
      "outputs": [],
      "source": [
        "import matplotlib.pyplot as plt"
      ]
    },
    {
      "cell_type": "code",
      "execution_count": null,
      "metadata": {
        "id": "GngkwXtD8Kvy",
        "colab": {
          "base_uri": "https://localhost:8080/",
          "height": 279
        },
        "outputId": "bf041ff0-1eda-48c1-f462-8779188cb3c0"
      },
      "outputs": [
        {
          "output_type": "display_data",
          "data": {
            "image/png": "[encoded data removed]",
            "text/plain": [
              "<Figure size 432x288 with 1 Axes>"
            ]
          },
          "metadata": {
            "needs_background": "light"
          }
        }
      ],
      "source": [
        "# your code here\n",
        "df2 = df1.groupby(df1['Duration']).count()\n",
        "s = sns.histplot(df2.Posted, bins=20)\n"
      ]
    },
    {
      "cell_type": "code",
      "execution_count": null,
      "metadata": {
        "id": "l3KrIx9Y4utf",
        "colab": {
          "base_uri": "https://localhost:8080/",
          "height": 296
        },
        "outputId": "cf97562d-4ede-43aa-9dd7-75b0bc7a372d"
      },
      "outputs": [
        {
          "output_type": "execute_result",
          "data": {
            "text/plain": [
              "Text(0, 0.5, 'Frequency')"
            ]
          },
          "metadata": {},
          "execution_count": 62
        },
        {
          "output_type": "display_data",
          "data": {
            "image/png": "[encoded data removed]",
            "text/plain": [
              "<Figure size 432x288 with 1 Axes>"
            ]
          },
          "metadata": {
            "needs_background": "light"
          }
        }
      ],
      "source": [
        "df3 = pd.to_datetime(df1.Posted)\n",
        "df3 = df3.groupby(df3.dt.year).count()\n",
        "s = sns.lineplot(data=df3, markers=True)\n",
        "s.set_xlabel(\"Year\")\n",
        "s.set_ylabel(\"Frequency\")"
      ]
    },
    {
      "cell_type": "markdown",
      "metadata": {
        "id": "tb6tGIBG8M2q"
      },
      "source": [
        "*tell us what next steps you took, and what you discovered*"
      ]
    },
    {
      "cell_type": "code",
      "execution_count": null,
      "metadata": {
        "id": "1uwPziO35unZ",
        "colab": {
          "base_uri": "https://localhost:8080/",
          "height": 296
        },
        "outputId": "fefd535c-6db3-4c55-fca9-27f914c1efec"
      },
      "outputs": [
        {
          "output_type": "execute_result",
          "data": {
            "text/plain": [
              "Text(0.5, 0, 'Hour of the day')"
            ]
          },
          "metadata": {},
          "execution_count": 63
        },
        {
          "output_type": "display_data",
          "data": {
            "image/png": "[encoded data removed]",
            "text/plain": [
              "<Figure size 432x288 with 1 Axes>"
            ]
          },
          "metadata": {
            "needs_background": "light"
          }
        }
      ],
      "source": [
        "X = list(pd.to_datetime(df1['Date / Time'][:4000]))\n",
        "hr = []\n",
        "for i in range(len(X)):\n",
        "  hr.append(X[i].hour)\n",
        "s = sns.histplot(hr)\n",
        "s.set_xlabel(\"Hour of the day\")"
      ]
    },
    {
      "cell_type": "code",
      "execution_count": null,
      "metadata": {
        "id": "vbdbZbCP-eU2",
        "colab": {
          "base_uri": "https://localhost:8080/",
          "height": 351
        },
        "outputId": "44f8a317-46f5-4a56-fd00-64590720445c"
      },
      "outputs": [
        {
          "output_type": "execute_result",
          "data": {
            "text/plain": [
              "Text(0, 0.5, 'Count')"
            ]
          },
          "metadata": {},
          "execution_count": 64
        },
        {
          "output_type": "display_data",
          "data": {
            "image/png": "[encoded data removed]",
            "text/plain": [
              "<Figure size 1800x360 with 1 Axes>"
            ]
          },
          "metadata": {
            "needs_background": "light"
          }
        }
      ],
      "source": [
        "df5 = df1.Shape.groupby(df1['Shape']).count()\n",
        "plt.figure(figsize=(25,5))\n",
        "ylabel = \"Times\"\n",
        "s = sns.barplot(x=df5.index, y=df5[:])\n",
        "s.set_ylabel(\"Count\")"
      ]
    },
    {
      "cell_type": "markdown",
      "metadata": {
        "id": "yRztsE9aGD6j"
      },
      "source": [
        "From the above set of histograms, barplot and line plot, I would conclude the following:\n",
        "\n",
        "*   The duration of each of the reportings made are clustered nearl the left end of the time spectrum. Further more most of the reportings were made during the dusk or night when the visibility is low.\n",
        "* From the histogram of shapes, though they vary greatly, we can observe that mostly they were **light shape**. Some less minor shapes reported would be **circle**, **triangle**, **disk** or **fireball**.\n",
        "* From the trend of dates that they were posted, though the graph is haphazard and noisy, there is a general increasing trend till approx 2010, post which it sort of plateaus.\n",
        "\n",
        "From the above observations, we might comclude the following:\n",
        "* Most of the sighting might have been the neon side lights of various shops or stores. Fireballs may can be explained as a blurry image of the same(assuming the reporter had some issue with his vision for example - lossing his/her glasses).\n",
        "* Since most of reportings were at night, the above hypothesis is further reinforced. At night, visiblity is reduced and since there is no mention of the atmospheric condition, many of the findings can be explained. For example raindrops on eyes could make neon signs appear as fireballs.\n",
        "\n",
        "\n"
      ]
    },
    {
      "cell_type": "markdown",
      "metadata": {
        "id": "FQ6FjJ2NEoFS"
      },
      "source": [
        "## (50 points) Part 2: Association Rules in Movie Rating Behaviors"
      ]
    },
    {
      "cell_type": "markdown",
      "metadata": {
        "id": "CKVTACJGFGYw"
      },
      "source": [
        "For the second part of this homework, we're going to examine movies using our understanding of association rules, to find movies that \"go together\". For this part, you will implement the apriori algorithm, and apply it to a movie rating dataset. We'll use the [MovieLens](https://grouplens.org/datasets/movielens/) dataset.\n",
        "\n",
        "First, run the next cell to load the dataset we are going to use."
      ]
    },
    {
      "cell_type": "code",
      "execution_count": null,
      "metadata": {
        "id": "fcZSAoCAFDyA",
        "colab": {
          "base_uri": "https://localhost:8080/"
        },
        "outputId": "1842f501-14e4-4352-f09e-b7d788c34dc1"
      },
      "outputs": [
        {
          "output_type": "stream",
          "name": "stderr",
          "text": [
            "/usr/local/lib/python3.7/dist-packages/urllib3/connectionpool.py:847: InsecureRequestWarning: Unverified HTTPS request is being made. Adding certificate verification is strongly advised. See: https://urllib3.readthedocs.io/en/latest/advanced-usage.html#ssl-warnings\n",
            "  InsecureRequestWarning)\n"
          ]
        }
      ],
      "source": [
        "import urllib3\n",
        "import zipfile\n",
        "\n",
        "http = urllib3.PoolManager()\n",
        "req = http.request(\"GET\", \"https://files.grouplens.org/datasets/movielens/ml-latest-small.zip\", preload_content=False)\n",
        "\n",
        "with open(\"movie.zip\", 'wb') as out:\n",
        "  while True:\n",
        "    data = req.read(4096)\n",
        "    if not data:\n",
        "      break\n",
        "    out.write(data)\n",
        "req.release_conn()\n",
        "\n",
        "zFile = zipfile.ZipFile(\"movie.zip\", \"r\")\n",
        "for fileM in zFile.namelist():\n",
        "  zFile.extract(fileM)"
      ]
    },
    {
      "cell_type": "code",
      "execution_count": null,
      "metadata": {
        "id": "YgIIGQ3lIgRH",
        "colab": {
          "base_uri": "https://localhost:8080/"
        },
        "outputId": "3a172ffc-aeea-41d1-f44a-ba92de341349"
      },
      "outputs": [
        {
          "output_type": "stream",
          "name": "stdout",
          "text": [
            "links.csv  movies.csv  ratings.csv  README.txt\ttags.csv\n"
          ]
        }
      ],
      "source": [
        "!ls ml-latest-small/"
      ]
    },
    {
      "cell_type": "markdown",
      "metadata": {
        "id": "RiF1Gc0q7qzj"
      },
      "source": [
        "In this dataset, there are four columns: `userId` is the integer ids of users, `movieId` is the integer ids of movies, `rating` is the rate of the user gives to the movie, and `timestamp` which we do not use here. Each row denotes that the user of given `userId` rated the movie of the given `movieId`. We are going to treat each user as a \"basket\", so you will need to collect all the movies that have been rated by a single user as a basket. \n",
        "\n",
        "Now, you need to implement the apriori algorithm and apply it to this dataset to find association rules of user rating behaviors where:\n",
        "\n",
        "1. Define `rating` >= 3 is \"like\" (that is, only consider movie ratings of 3 or higher in your baskets; you may ignore all others)\n",
        "2. `minsup` == 40 (out of 600 users/baskets); we may adjust this based on the discussion on Campuswire\n",
        "3. `minconf` == to be determined by a discussion on Campuswire. You may try several different choices, but we will converge on a good choice for everyone for the final submission.\n",
        " \n",
        "We know there are many existing implementations of apriori online (check github for some good starting points). You are welcome to read existing codebases and let that inform your approach. Do not copy-paste any existing code. We want your code to have sufficient comments to explain your steps, to show us that you really know what you are doing. Furthermore, you should add print statements to print out the intermediate steps of your method -- e.g., the size of the candidate set at each step of the method, the size of the filtered set, and any other important information you think will highlight the method. \n",
        "\n",
        "To help get you started, we can load the ratings with the following code snippet:"
      ]
    },
    {
      "cell_type": "code",
      "execution_count": null,
      "metadata": {
        "id": "0y8yZnEVI3Oy",
        "colab": {
          "base_uri": "https://localhost:8080/",
          "height": 424
        },
        "outputId": "abe9251e-9b4f-44d5-90e7-ac0ff568de9e"
      },
      "outputs": [
        {
          "output_type": "execute_result",
          "data": {
            "text/html": [
              "\n",
              "  <div id=\"df-4036d13f-defa-4ebd-873b-46e5b7a44ebb\">\n",
              "    <div class=\"colab-df-container\">\n",
              "      <div>\n",
              "<style scoped>\n",
              "    .dataframe tbody tr th:only-of-type {\n",
              "        vertical-align: middle;\n",
              "    }\n",
              "\n",
              "    .dataframe tbody tr th {\n",
              "        vertical-align: top;\n",
              "    }\n",
              "\n",
              "    .dataframe thead th {\n",
              "        text-align: right;\n",
              "    }\n",
              "</style>\n",
              "<table border=\"1\" class=\"dataframe\">\n",
              "  <thead>\n",
              "    <tr style=\"text-align: right;\">\n",
              "      <th></th>\n",
              "      <th>userId</th>\n",
              "      <th>movieId</th>\n",
              "      <th>rating</th>\n",
              "      <th>timestamp</th>\n",
              "    </tr>\n",
              "  </thead>\n",
              "  <tbody>\n",
              "    <tr>\n",
              "      <th>0</th>\n",
              "      <td>1</td>\n",
              "      <td>1</td>\n",
              "      <td>4.0</td>\n",
              "      <td>964982703</td>\n",
              "    </tr>\n",
              "    <tr>\n",
              "      <th>1</th>\n",
              "      <td>1</td>\n",
              "      <td>3</td>\n",
              "      <td>4.0</td>\n",
              "      <td>964981247</td>\n",
              "    </tr>\n",
              "    <tr>\n",
              "      <th>2</th>\n",
              "      <td>1</td>\n",
              "      <td>6</td>\n",
              "      <td>4.0</td>\n",
              "      <td>964982224</td>\n",
              "    </tr>\n",
              "    <tr>\n",
              "      <th>3</th>\n",
              "      <td>1</td>\n",
              "      <td>47</td>\n",
              "      <td>5.0</td>\n",
              "      <td>964983815</td>\n",
              "    </tr>\n",
              "    <tr>\n",
              "      <th>4</th>\n",
              "      <td>1</td>\n",
              "      <td>50</td>\n",
              "      <td>5.0</td>\n",
              "      <td>964982931</td>\n",
              "    </tr>\n",
              "    <tr>\n",
              "      <th>...</th>\n",
              "      <td>...</td>\n",
              "      <td>...</td>\n",
              "      <td>...</td>\n",
              "      <td>...</td>\n",
              "    </tr>\n",
              "    <tr>\n",
              "      <th>100831</th>\n",
              "      <td>610</td>\n",
              "      <td>166534</td>\n",
              "      <td>4.0</td>\n",
              "      <td>1493848402</td>\n",
              "    </tr>\n",
              "    <tr>\n",
              "      <th>100832</th>\n",
              "      <td>610</td>\n",
              "      <td>168248</td>\n",
              "      <td>5.0</td>\n",
              "      <td>1493850091</td>\n",
              "    </tr>\n",
              "    <tr>\n",
              "      <th>100833</th>\n",
              "      <td>610</td>\n",
              "      <td>168250</td>\n",
              "      <td>5.0</td>\n",
              "      <td>1494273047</td>\n",
              "    </tr>\n",
              "    <tr>\n",
              "      <th>100834</th>\n",
              "      <td>610</td>\n",
              "      <td>168252</td>\n",
              "      <td>5.0</td>\n",
              "      <td>1493846352</td>\n",
              "    </tr>\n",
              "    <tr>\n",
              "      <th>100835</th>\n",
              "      <td>610</td>\n",
              "      <td>170875</td>\n",
              "      <td>3.0</td>\n",
              "      <td>1493846415</td>\n",
              "    </tr>\n",
              "  </tbody>\n",
              "</table>\n",
              "<p>100836 rows × 4 columns</p>\n",
              "</div>\n",
              "      <button class=\"colab-df-convert\" onclick=\"convertToInteractive('df-4036d13f-defa-4ebd-873b-46e5b7a44ebb')\"\n",
              "              title=\"Convert this dataframe to an interactive table.\"\n",
              "              style=\"display:none;\">\n",
              "        \n",
              "  <svg xmlns=\"http://www.w3.org/2000/svg\" height=\"24px\"viewBox=\"0 0 24 24\"\n",
              "       width=\"24px\">\n",
              "    <path d=\"M0 0h24v24H0V0z\" fill=\"none\"/>\n",
              "    <path d=\"M18.56 5.44l.94 2.06.94-2.06 2.06-.94-2.06-.94-.94-2.06-.94 2.06-2.06.94zm-11 1L8.5 8.5l.94-2.06 2.06-.94-2.06-.94L8.5 2.5l-.94 2.06-2.06.94zm10 10l.94 2.06.94-2.06 2.06-.94-2.06-.94-.94-2.06-.94 2.06-2.06.94z\"/><path d=\"M17.41 7.96l-1.37-1.37c-.4-.4-.92-.59-1.43-.59-.52 0-1.04.2-1.43.59L10.3 9.45l-7.72 7.72c-.78.78-.78 2.05 0 2.83L4 21.41c.39.39.9.59 1.41.59.51 0 1.02-.2 1.41-.59l7.78-7.78 2.81-2.81c.8-.78.8-2.07 0-2.86zM5.41 20L4 18.59l7.72-7.72 1.47 1.35L5.41 20z\"/>\n",
              "  </svg>\n",
              "      </button>\n",
              "      \n",
              "  <style>\n",
              "    .colab-df-container {\n",
              "      display:flex;\n",
              "      flex-wrap:wrap;\n",
              "      gap: 12px;\n",
              "    }\n",
              "\n",
              "    .colab-df-convert {\n",
              "      background-color: #E8F0FE;\n",
              "      border: none;\n",
              "      border-radius: 50%;\n",
              "      cursor: pointer;\n",
              "      display: none;\n",
              "      fill: #1967D2;\n",
              "      height: 32px;\n",
              "      padding: 0 0 0 0;\n",
              "      width: 32px;\n",
              "    }\n",
              "\n",
              "    .colab-df-convert:hover {\n",
              "      background-color: #E2EBFA;\n",
              "      box-shadow: 0px 1px 2px rgba(60, 64, 67, 0.3), 0px 1px 3px 1px rgba(60, 64, 67, 0.15);\n",
              "      fill: #174EA6;\n",
              "    }\n",
              "\n",
              "    [theme=dark] .colab-df-convert {\n",
              "      background-color: #3B4455;\n",
              "      fill: #D2E3FC;\n",
              "    }\n",
              "\n",
              "    [theme=dark] .colab-df-convert:hover {\n",
              "      background-color: #434B5C;\n",
              "      box-shadow: 0px 1px 3px 1px rgba(0, 0, 0, 0.15);\n",
              "      filter: drop-shadow(0px 1px 2px rgba(0, 0, 0, 0.3));\n",
              "      fill: #FFFFFF;\n",
              "    }\n",
              "  </style>\n",
              "\n",
              "      <script>\n",
              "        const buttonEl =\n",
              "          document.querySelector('#df-4036d13f-defa-4ebd-873b-46e5b7a44ebb button.colab-df-convert');\n",
              "        buttonEl.style.display =\n",
              "          google.colab.kernel.accessAllowed ? 'block' : 'none';\n",
              "\n",
              "        async function convertToInteractive(key) {\n",
              "          const element = document.querySelector('#df-4036d13f-defa-4ebd-873b-46e5b7a44ebb');\n",
              "          const dataTable =\n",
              "            await google.colab.kernel.invokeFunction('convertToInteractive',\n",
              "                                                     [key], {});\n",
              "          if (!dataTable) return;\n",
              "\n",
              "          const docLinkHtml = 'Like what you see? Visit the ' +\n",
              "            '<a target=\"_blank\" href=https://colab.research.google.com/notebooks/data_table.ipynb>data table notebook</a>'\n",
              "            + ' to learn more about interactive tables.';\n",
              "          element.innerHTML = '';\n",
              "          dataTable['output_type'] = 'display_data';\n",
              "          await google.colab.output.renderOutput(dataTable, element);\n",
              "          const docLink = document.createElement('div');\n",
              "          docLink.innerHTML = docLinkHtml;\n",
              "          element.appendChild(docLink);\n",
              "        }\n",
              "      </script>\n",
              "    </div>\n",
              "  </div>\n",
              "  "
            ],
            "text/plain": [
              "        userId  movieId  rating   timestamp\n",
              "0            1        1     4.0   964982703\n",
              "1            1        3     4.0   964981247\n",
              "2            1        6     4.0   964982224\n",
              "3            1       47     5.0   964983815\n",
              "4            1       50     5.0   964982931\n",
              "...        ...      ...     ...         ...\n",
              "100831     610   166534     4.0  1493848402\n",
              "100832     610   168248     5.0  1493850091\n",
              "100833     610   168250     5.0  1494273047\n",
              "100834     610   168252     5.0  1493846352\n",
              "100835     610   170875     3.0  1493846415\n",
              "\n",
              "[100836 rows x 4 columns]"
            ]
          },
          "metadata": {},
          "execution_count": 67
        }
      ],
      "source": [
        "import pandas as pd\n",
        "# read user ratings\n",
        "allRatings = pd.read_csv(\"ml-latest-small/ratings.csv\")\n",
        "allRatings"
      ]
    },
    {
      "cell_type": "markdown",
      "metadata": {
        "id": "QfwWA4d2Ne6r"
      },
      "source": [
        "### (15pts) Step 1: Implement Apriori Algorithm\n",
        "In this section, you need to implement the Apriori algorithm, we will check the correctness of your code and we encourage efficient implementation and skills of pruning."
      ]
    },
    {
      "cell_type": "code",
      "execution_count": null,
      "metadata": {
        "id": "48ITOQG09fT2"
      },
      "outputs": [],
      "source": [
        "# your code here\n",
        "from itertools import combinations\n",
        "from itertools import chain\n",
        "from tqdm import tqdm\n",
        "\n",
        "'''\n",
        "Code to count the support. Logic is simple: I check is the given tuple of objects fall under any transactions\n",
        "that has happened under various users. If yes, then incrase the count and at the end, return the total count of the support\n",
        "'''\n",
        "def count_support(item, transactions):\n",
        "  support = 0\n",
        "  for userID in transactions.keys():\n",
        "    if item.issubset(transactions[userID]):\n",
        "      support+=1\n",
        "  return support\n",
        "\n",
        "'''\n",
        "Code to generate frequnt itemsets based on support. I check if the given tuple of objects have support greater than a certain threshold.\n",
        "If yes, then I append it to a list and at the end, return the list. This is also a pruning step since these itemset would be used to generate\n",
        "next level of frequent itemsets\n",
        "'''\n",
        "def generate_frequency_itemset(combinations, min_sup, transactions):\n",
        "  new_itemset = []\n",
        "  for item in tqdm(combinations):\n",
        "    if count_support(set(item), transactions)>=min_sup:\n",
        "      new_itemset.append(item)\n",
        "  return new_itemset\n",
        "\n",
        "'''\n",
        "Code to generate all possible combinations, which later is pruned to generate a frequent itemset.\n",
        "I unwrap the items and store it in a set to remove the duplicates. Then I use combinations itertool\n",
        "to generate all possible combination of a given size indicated by parameter level\n",
        "'''\n",
        "def generate_combinations(cur_freq_itemset, level):\n",
        "  combo = set(map(int, chain.from_iterable(cur_freq_itemset)))\n",
        "  new_freq_itemset = list(combinations(combo, level))\n",
        "  return new_freq_itemset\n",
        "\n",
        "'''\n",
        "Code to generate apriori algorithm. From all the transactions under various users and all possible movies,\n",
        "I generate level 1 frequent itemset. Once this is done, I generate all possible combinations level by level in \n",
        "an iterative manner till the final frequent itemset has no item. The procedure I follow here is as follows:\n",
        "* generate combination\n",
        "* prune combination\n",
        "* store the item set and repeat\n",
        "'''\n",
        "def apriori(transactions, min_support, itemset_0):\n",
        "  cur_level = 1\n",
        "  itemsets = {}\n",
        "  cur_freq_itemset = []\n",
        "\n",
        "  for movieID in itemset_0.keys():\n",
        "    if itemset_0[movieID] >= min_support:\n",
        "      cur_freq_itemset.append((movieID,))\n",
        "\n",
        "  # itemsets.append(set(cur_freq_itemset))\n",
        "  while len(cur_freq_itemset)>0 :\n",
        "    cur_level+=1\n",
        "    possible_combinations = generate_combinations(cur_freq_itemset, cur_level)\n",
        "    cur_freq_itemset = generate_frequency_itemset(possible_combinations, min_support, transactions)\n",
        "    print(len(cur_freq_itemset))\n",
        "    if len(cur_freq_itemset)>0:\n",
        "      itemsets[cur_level] =(list(cur_freq_itemset))\n",
        "  return itemsets"
      ]
    },
    {
      "cell_type": "code",
      "execution_count": null,
      "metadata": {
        "id": "lg0leLUD1vQN",
        "colab": {
          "base_uri": "https://localhost:8080/"
        },
        "outputId": "29ccac22-a1b7-4a3b-b4be-effac1d2fd14"
      },
      "outputs": [
        {
          "output_type": "stream",
          "name": "stderr",
          "text": [
            "100%|██████████| 820/820 [00:00<00:00, 8369.24it/s]\n"
          ]
        },
        {
          "output_type": "stream",
          "name": "stdout",
          "text": [
            "49\n"
          ]
        },
        {
          "output_type": "stream",
          "name": "stderr",
          "text": [
            "100%|██████████| 1330/1330 [00:00<00:00, 7479.51it/s]\n"
          ]
        },
        {
          "output_type": "stream",
          "name": "stdout",
          "text": [
            "7\n"
          ]
        },
        {
          "output_type": "stream",
          "name": "stderr",
          "text": [
            "100%|██████████| 330/330 [00:00<00:00, 6091.35it/s]"
          ]
        },
        {
          "output_type": "stream",
          "name": "stdout",
          "text": [
            "0\n"
          ]
        },
        {
          "output_type": "stream",
          "name": "stderr",
          "text": [
            "\n"
          ]
        }
      ],
      "source": [
        "from collections import defaultdict\n",
        "\n",
        "'''\n",
        "Code to generate baskets given all the transactions. We use a deafaultdictionary of sets to store the movieId under various users\n",
        "frequent itemset0 too is generated here. We simple create a dictionary that contains the count of movies that have ratings greater than 3\n",
        "'''\n",
        "def getBaskets(transaction):\n",
        "  baskets = defaultdict(set) \n",
        "  movies = {}\n",
        "  for row in transaction.itertuples():\n",
        "    if row.rating>=3:\n",
        "      try:\n",
        "            movies[row.movieId]+=1\n",
        "      except KeyError:\n",
        "            movies[row.movieId]=1\n",
        "      baskets[row.userId].add(row.movieId)\n",
        "\n",
        "  for x in movies.keys():\n",
        "    movies[x] = movies[x]\n",
        "  return baskets, movies\n",
        "\n",
        "baskets, movies=getBaskets(allRatings)\n",
        "min_sup = 140\n",
        "itemsets = apriori(baskets, min_sup, movies)"
      ]
    },
    {
      "cell_type": "markdown",
      "metadata": {
        "id": "Ea6GbdOOBZOY"
      },
      "source": [
        "### (5pts) Step 2: Print Your Association Rules\n",
        "\n",
        "Next you should print your final association rules in the following format:\n",
        "\n",
        "**movie_name_1, movie_name_2, ... --> \n",
        "movie_name_k**\n",
        "\n",
        "where the movie names can be fetched by joining the movieId with the file `movies.csv`. For example, one rule that you might find is:\n",
        "\n",
        "**Matrix, The (1999),  Star Wars: Episode V - The Empire Strikes Back (1980),  Star Wars: Episode IV - A New Hope (1977),  -> \n",
        "Star Wars: Episode VI - Return of the Jedi (1983)**"
      ]
    },
    {
      "cell_type": "code",
      "execution_count": null,
      "metadata": {
        "id": "rSbhiIkw9kj1"
      },
      "outputs": [],
      "source": [
        "# your code here\n",
        "'''\n",
        "Code to get the confidence. The procedure is pretty simple. Confidence ofa rule is ration of (itemset+newobject/itemset)\n",
        "'''\n",
        "def get_confidence(itemset, target, transactions):\n",
        " confidence = count_support(target, transactions)/count_support(itemset, transactions)\n",
        " return confidence\n",
        "\n",
        "def find_rules(freq_itemset, min_confidence, transactions):\n",
        "  rule=[]\n",
        "  for level in freq_itemset.keys():\n",
        "    for groups in freq_itemset[level]:\n",
        "      # print(groups)\n",
        "      group = set(groups)\n",
        "      for item in group:\n",
        "        if get_confidence(group-{item}, group, transactions)>=min_confidence:\n",
        "          rule.append((group-{item},item))\n",
        "  return rule \n",
        "asso_rule = find_rules(itemsets, 0.8, baskets)"
      ]
    },
    {
      "cell_type": "code",
      "execution_count": null,
      "metadata": {
        "id": "OAdUJTapUeEr"
      },
      "outputs": [],
      "source": [
        "moviename = pd.read_csv('ml-latest-small/movies.csv')\n",
        "\n",
        "def get_movie_name(movieId):\n",
        "  return moviename.loc[moviename['movieId']==movieId]['title'].values[0]"
      ]
    },
    {
      "cell_type": "code",
      "execution_count": null,
      "metadata": {
        "id": "o6h8VAo4WcOY",
        "colab": {
          "base_uri": "https://localhost:8080/"
        },
        "outputId": "ac02b827-33a3-44f2-9d39-11d9bbd5b403"
      },
      "outputs": [
        {
          "output_type": "stream",
          "name": "stdout",
          "text": [
            "{ Lord of the Rings: The Fellowship of the Ring, The (2001) , }-> Lord of the Rings: The Two Towers, The (2002)\n",
            "{ Lord of the Rings: The Two Towers, The (2002) , }-> Lord of the Rings: The Fellowship of the Ring, The (2001)\n",
            "{ Lord of the Rings: The Return of the King, The (2003) , }-> Lord of the Rings: The Fellowship of the Ring, The (2001)\n",
            "{ Lord of the Rings: The Fellowship of the Ring, The (2001) , }-> Lord of the Rings: The Return of the King, The (2003)\n",
            "{ Star Wars: Episode V - The Empire Strikes Back (1980) , }-> Star Wars: Episode IV - A New Hope (1977)\n",
            "{ Star Wars: Episode VI - Return of the Jedi (1983) , }-> Star Wars: Episode IV - A New Hope (1977)\n",
            "{ Saving Private Ryan (1998) , }-> Matrix, The (1999)\n",
            "{ Apollo 13 (1995) , }-> Forrest Gump (1994)\n",
            "{ Seven (a.k.a. Se7en) (1995) , }-> Pulp Fiction (1994)\n",
            "{ Star Wars: Episode VI - Return of the Jedi (1983) , }-> Star Wars: Episode V - The Empire Strikes Back (1980)\n",
            "{ Lord of the Rings: The Return of the King, The (2003) , }-> Lord of the Rings: The Two Towers, The (2002)\n",
            "{ Lord of the Rings: The Two Towers, The (2002) , }-> Lord of the Rings: The Return of the King, The (2003)\n",
            "{ Jurassic Park (1993) , }-> Forrest Gump (1994)\n",
            "{ Lord of the Rings: The Fellowship of the Ring, The (2001) , Lord of the Rings: The Return of the King, The (2003) , }-> Lord of the Rings: The Two Towers, The (2002)\n",
            "{ Lord of the Rings: The Two Towers, The (2002) , Lord of the Rings: The Return of the King, The (2003) , }-> Lord of the Rings: The Fellowship of the Ring, The (2001)\n",
            "{ Lord of the Rings: The Two Towers, The (2002) , Lord of the Rings: The Fellowship of the Ring, The (2001) , }-> Lord of the Rings: The Return of the King, The (2003)\n",
            "{ Matrix, The (1999) , Star Wars: Episode IV - A New Hope (1977) , }-> Star Wars: Episode V - The Empire Strikes Back (1980)\n",
            "{ Star Wars: Episode V - The Empire Strikes Back (1980) , Star Wars: Episode IV - A New Hope (1977) , }-> Matrix, The (1999)\n",
            "{ Matrix, The (1999) , Star Wars: Episode V - The Empire Strikes Back (1980) , }-> Star Wars: Episode IV - A New Hope (1977)\n",
            "{ Star Wars: Episode V - The Empire Strikes Back (1980) , Star Wars: Episode IV - A New Hope (1977) , }-> Star Wars: Episode VI - Return of the Jedi (1983)\n",
            "{ Star Wars: Episode VI - Return of the Jedi (1983) , Star Wars: Episode IV - A New Hope (1977) , }-> Star Wars: Episode V - The Empire Strikes Back (1980)\n",
            "{ Star Wars: Episode VI - Return of the Jedi (1983) , Star Wars: Episode V - The Empire Strikes Back (1980) , }-> Star Wars: Episode IV - A New Hope (1977)\n",
            "{ Silence of the Lambs, The (1991) , Shawshank Redemption, The (1994) , }-> Pulp Fiction (1994)\n",
            "{ Pulp Fiction (1994) , Silence of the Lambs, The (1991) , }-> Shawshank Redemption, The (1994)\n"
          ]
        }
      ],
      "source": [
        "def printRule(association_rule):\n",
        "  for level in association_rule:\n",
        "    print('{',end=' ')\n",
        "    for item in level[0]:\n",
        "      print(get_movie_name(item), ',',end = ' ')\n",
        "    print('}->',get_movie_name(level[1]))\n",
        "\n",
        "printRule(asso_rule)"
      ]
    },
    {
      "cell_type": "code",
      "source": [
        "print('The number of association rules: {}'.format(sum([1 for a in asso_rule])))\n",
        "print('The number of Baskets created : {}'.format(len(baskets)))\n",
        "a = [(k,len(itemsets[k])) for k in itemsets.keys()]\n",
        "print('The frequent itemsets =: {}'.format(a))"
      ],
      "metadata": {
        "id": "k-mAtuRR0IRh",
        "colab": {
          "base_uri": "https://localhost:8080/"
        },
        "outputId": "7e2fe658-73b0-4bb1-e500-aa56f1c8580a"
      },
      "execution_count": null,
      "outputs": [
        {
          "output_type": "stream",
          "name": "stdout",
          "text": [
            "The number of association rules: 24\n",
            "The number of Baskets created : 609\n",
            "The frequent itemsets =: [(2, 49), (3, 7)]\n"
          ]
        }
      ]
    },
    {
      "cell_type": "markdown",
      "metadata": {
        "id": "FfeufQAxNB82"
      },
      "source": [
        "### (15pts) Step 3: Implement Random Sampling\n",
        "\n",
        "We discussed in class a method to randomly sample baskets to avoid the overhead of reading the entire set of baskets (which in practice, could amount to billions of baskets). For this part, you should implement such a random sampling approach that takes a special parameter **alpha** that controls the size of the sample: e.g., alpha = 0.10 means to sample 10% of the baskets (our users, in this case). \n",
        "\n",
        "Vary **alpha** and report the number of frequent itemsets you find and how this compares to the number of frequent itemsets in the entire dataset. What do you discover?\n"
      ]
    },
    {
      "cell_type": "code",
      "execution_count": null,
      "metadata": {
        "id": "bslz87rc9kET",
        "colab": {
          "base_uri": "https://localhost:8080/"
        },
        "outputId": "abfadee9-83af-428b-9907-fabcd70e87e9"
      },
      "outputs": [
        {
          "output_type": "stream",
          "name": "stdout",
          "text": [
            "Alpha: 0.5_____________________________________________________________________ \n"
          ]
        },
        {
          "output_type": "stream",
          "name": "stderr",
          "text": [
            "100%|██████████| 66/66 [00:00<00:00, 11069.86it/s]\n"
          ]
        },
        {
          "output_type": "stream",
          "name": "stdout",
          "text": [
            "3\n"
          ]
        },
        {
          "output_type": "stream",
          "name": "stderr",
          "text": [
            "100%|██████████| 1/1 [00:00<00:00, 1223.19it/s]\n"
          ]
        },
        {
          "output_type": "stream",
          "name": "stdout",
          "text": [
            "0\n",
            "The number of Baskets created : 304\n",
            "The number of frequent itemsets : 3\n",
            "The number of association rules itemsets : 0\n",
            "\n",
            "\n",
            "Alpha: 0.6_____________________________________________________________________ \n"
          ]
        },
        {
          "output_type": "stream",
          "name": "stderr",
          "text": [
            "100%|██████████| 378/378 [00:00<00:00, 12999.09it/s]\n"
          ]
        },
        {
          "output_type": "stream",
          "name": "stdout",
          "text": [
            "13\n"
          ]
        },
        {
          "output_type": "stream",
          "name": "stderr",
          "text": [
            "100%|██████████| 56/56 [00:00<00:00, 6971.21it/s]\n"
          ]
        },
        {
          "output_type": "stream",
          "name": "stdout",
          "text": [
            "0\n",
            "The number of Baskets created : 365\n",
            "The number of frequent itemsets : 13\n",
            "The number of association rules itemsets : 3\n",
            "{ Star Wars: Episode V - The Empire Strikes Back (1980) , }-> Star Wars: Episode IV - A New Hope (1977)\n",
            "{ Star Wars: Episode V - The Empire Strikes Back (1980) , }-> Matrix, The (1999)\n",
            "{ Jurassic Park (1993) , }-> Forrest Gump (1994)\n",
            "\n",
            "\n",
            "Alpha: 0.7_____________________________________________________________________ \n"
          ]
        },
        {
          "output_type": "stream",
          "name": "stderr",
          "text": [
            "100%|██████████| 861/861 [00:00<00:00, 11983.57it/s]\n"
          ]
        },
        {
          "output_type": "stream",
          "name": "stdout",
          "text": [
            "54\n"
          ]
        },
        {
          "output_type": "stream",
          "name": "stderr",
          "text": [
            "100%|██████████| 1540/1540 [00:00<00:00, 12153.58it/s]\n"
          ]
        },
        {
          "output_type": "stream",
          "name": "stdout",
          "text": [
            "7\n"
          ]
        },
        {
          "output_type": "stream",
          "name": "stderr",
          "text": [
            "100%|██████████| 126/126 [00:00<00:00, 6625.16it/s]\n"
          ]
        },
        {
          "output_type": "stream",
          "name": "stdout",
          "text": [
            "0\n",
            "The number of Baskets created : 426\n",
            "The number of frequent itemsets : 61\n",
            "The number of association rules itemsets : 23\n",
            "{ Lord of the Rings: The Fellowship of the Ring, The (2001) , }-> Lord of the Rings: The Two Towers, The (2002)\n",
            "{ Lord of the Rings: The Two Towers, The (2002) , }-> Lord of the Rings: The Fellowship of the Ring, The (2001)\n",
            "{ Lord of the Rings: The Return of the King, The (2003) , }-> Lord of the Rings: The Fellowship of the Ring, The (2001)\n",
            "{ Lord of the Rings: The Fellowship of the Ring, The (2001) , }-> Lord of the Rings: The Return of the King, The (2003)\n",
            "{ Star Wars: Episode V - The Empire Strikes Back (1980) , }-> Star Wars: Episode IV - A New Hope (1977)\n",
            "{ Star Wars: Episode VI - Return of the Jedi (1983) , }-> Star Wars: Episode IV - A New Hope (1977)\n",
            "{ Saving Private Ryan (1998) , }-> Matrix, The (1999)\n",
            "{ Apollo 13 (1995) , }-> Forrest Gump (1994)\n",
            "{ Seven (a.k.a. Se7en) (1995) , }-> Pulp Fiction (1994)\n",
            "{ Star Wars: Episode VI - Return of the Jedi (1983) , }-> Star Wars: Episode V - The Empire Strikes Back (1980)\n",
            "{ Lord of the Rings: The Return of the King, The (2003) , }-> Lord of the Rings: The Two Towers, The (2002)\n",
            "{ Lord of the Rings: The Two Towers, The (2002) , }-> Lord of the Rings: The Return of the King, The (2003)\n",
            "{ Jurassic Park (1993) , }-> Forrest Gump (1994)\n",
            "{ Matrix, The (1999) , Star Wars: Episode IV - A New Hope (1977) , }-> Star Wars: Episode V - The Empire Strikes Back (1980)\n",
            "{ Star Wars: Episode V - The Empire Strikes Back (1980) , Star Wars: Episode IV - A New Hope (1977) , }-> Matrix, The (1999)\n",
            "{ Matrix, The (1999) , Star Wars: Episode V - The Empire Strikes Back (1980) , }-> Star Wars: Episode IV - A New Hope (1977)\n",
            "{ Star Wars: Episode VI - Return of the Jedi (1983) , Star Wars: Episode IV - A New Hope (1977) , }-> Star Wars: Episode V - The Empire Strikes Back (1980)\n",
            "{ Star Wars: Episode VI - Return of the Jedi (1983) , Star Wars: Episode V - The Empire Strikes Back (1980) , }-> Star Wars: Episode IV - A New Hope (1977)\n",
            "{ Usual Suspects, The (1995) , Shawshank Redemption, The (1994) , }-> Pulp Fiction (1994)\n",
            "{ Pulp Fiction (1994) , Usual Suspects, The (1995) , }-> Shawshank Redemption, The (1994)\n",
            "{ Silence of the Lambs, The (1991) , Shawshank Redemption, The (1994) , }-> Pulp Fiction (1994)\n",
            "{ Pulp Fiction (1994) , Silence of the Lambs, The (1991) , }-> Shawshank Redemption, The (1994)\n",
            "{ Silence of the Lambs, The (1991) , Forrest Gump (1994) , }-> Pulp Fiction (1994)\n",
            "\n",
            "\n",
            "Alpha: 0.8_____________________________________________________________________ \n"
          ]
        },
        {
          "output_type": "stream",
          "name": "stderr",
          "text": [
            "100%|██████████| 1711/1711 [00:00<00:00, 8968.75it/s]\n"
          ]
        },
        {
          "output_type": "stream",
          "name": "stdout",
          "text": [
            "92\n"
          ]
        },
        {
          "output_type": "stream",
          "name": "stderr",
          "text": [
            "100%|██████████| 4960/4960 [00:00<00:00, 10731.75it/s]\n"
          ]
        },
        {
          "output_type": "stream",
          "name": "stdout",
          "text": [
            "25\n"
          ]
        },
        {
          "output_type": "stream",
          "name": "stderr",
          "text": [
            "100%|██████████| 3060/3060 [00:00<00:00, 10186.06it/s]\n"
          ]
        },
        {
          "output_type": "stream",
          "name": "stdout",
          "text": [
            "2\n"
          ]
        },
        {
          "output_type": "stream",
          "name": "stderr",
          "text": [
            "100%|██████████| 56/56 [00:00<00:00, 4877.00it/s]\n"
          ]
        },
        {
          "output_type": "stream",
          "name": "stdout",
          "text": [
            "0\n",
            "The number of Baskets created : 487\n",
            "The number of frequent itemsets : 119\n",
            "The number of association rules itemsets : 60\n",
            "{ Lord of the Rings: The Fellowship of the Ring, The (2001) , }-> Lord of the Rings: The Two Towers, The (2002)\n",
            "{ Lord of the Rings: The Two Towers, The (2002) , }-> Lord of the Rings: The Fellowship of the Ring, The (2001)\n",
            "{ Lord of the Rings: The Return of the King, The (2003) , }-> Lord of the Rings: The Fellowship of the Ring, The (2001)\n",
            "{ Lord of the Rings: The Fellowship of the Ring, The (2001) , }-> Lord of the Rings: The Return of the King, The (2003)\n",
            "{ Star Wars: Episode V - The Empire Strikes Back (1980) , }-> Star Wars: Episode IV - A New Hope (1977)\n",
            "{ Star Wars: Episode VI - Return of the Jedi (1983) , }-> Star Wars: Episode IV - A New Hope (1977)\n",
            "{ Sixth Sense, The (1999) , }-> Matrix, The (1999)\n",
            "{ Saving Private Ryan (1998) , }-> Matrix, The (1999)\n",
            "{ Gladiator (2000) , }-> Matrix, The (1999)\n",
            "{ Apollo 13 (1995) , }-> Forrest Gump (1994)\n",
            "{ Seven (a.k.a. Se7en) (1995) , }-> Pulp Fiction (1994)\n",
            "{ Star Wars: Episode VI - Return of the Jedi (1983) , }-> Star Wars: Episode V - The Empire Strikes Back (1980)\n",
            "{ Lord of the Rings: The Return of the King, The (2003) , }-> Lord of the Rings: The Two Towers, The (2002)\n",
            "{ Lord of the Rings: The Two Towers, The (2002) , }-> Lord of the Rings: The Return of the King, The (2003)\n",
            "{ Jurassic Park (1993) , }-> Forrest Gump (1994)\n",
            "{ Lion King, The (1994) , }-> Forrest Gump (1994)\n",
            "{ Lord of the Rings: The Fellowship of the Ring, The (2001) , Lord of the Rings: The Return of the King, The (2003) , }-> Lord of the Rings: The Two Towers, The (2002)\n",
            "{ Lord of the Rings: The Two Towers, The (2002) , Lord of the Rings: The Return of the King, The (2003) , }-> Lord of the Rings: The Fellowship of the Ring, The (2001)\n",
            "{ Lord of the Rings: The Two Towers, The (2002) , Lord of the Rings: The Fellowship of the Ring, The (2001) , }-> Lord of the Rings: The Return of the King, The (2003)\n",
            "{ Matrix, The (1999) , Star Wars: Episode IV - A New Hope (1977) , }-> Star Wars: Episode V - The Empire Strikes Back (1980)\n",
            "{ Star Wars: Episode V - The Empire Strikes Back (1980) , Star Wars: Episode IV - A New Hope (1977) , }-> Matrix, The (1999)\n",
            "{ Matrix, The (1999) , Star Wars: Episode V - The Empire Strikes Back (1980) , }-> Star Wars: Episode IV - A New Hope (1977)\n",
            "{ Star Wars: Episode VI - Return of the Jedi (1983) , Matrix, The (1999) , }-> Star Wars: Episode IV - A New Hope (1977)\n",
            "{ Star Wars: Episode IV - A New Hope (1977) , Raiders of the Lost Ark (Indiana Jones and the Raiders of the Lost Ark) (1981) , }-> Star Wars: Episode V - The Empire Strikes Back (1980)\n",
            "{ Star Wars: Episode V - The Empire Strikes Back (1980) , Raiders of the Lost Ark (Indiana Jones and the Raiders of the Lost Ark) (1981) , }-> Star Wars: Episode IV - A New Hope (1977)\n",
            "{ Star Wars: Episode V - The Empire Strikes Back (1980) , Star Wars: Episode IV - A New Hope (1977) , }-> Star Wars: Episode VI - Return of the Jedi (1983)\n",
            "{ Star Wars: Episode VI - Return of the Jedi (1983) , Star Wars: Episode IV - A New Hope (1977) , }-> Star Wars: Episode V - The Empire Strikes Back (1980)\n",
            "{ Star Wars: Episode VI - Return of the Jedi (1983) , Star Wars: Episode V - The Empire Strikes Back (1980) , }-> Star Wars: Episode IV - A New Hope (1977)\n",
            "{ Forrest Gump (1994) , Star Wars: Episode IV - A New Hope (1977) , }-> Star Wars: Episode V - The Empire Strikes Back (1980)\n",
            "{ Star Wars: Episode V - The Empire Strikes Back (1980) , Forrest Gump (1994) , }-> Star Wars: Episode IV - A New Hope (1977)\n",
            "{ Forrest Gump (1994) , Fight Club (1999) , }-> Matrix, The (1999)\n",
            "{ Matrix, The (1999) , Fight Club (1999) , }-> Forrest Gump (1994)\n",
            "{ Pulp Fiction (1994) , Matrix, The (1999) , }-> Forrest Gump (1994)\n",
            "{ Matrix, The (1999) , Star Wars: Episode V - The Empire Strikes Back (1980) , }-> Star Wars: Episode VI - Return of the Jedi (1983)\n",
            "{ Star Wars: Episode VI - Return of the Jedi (1983) , Star Wars: Episode V - The Empire Strikes Back (1980) , }-> Matrix, The (1999)\n",
            "{ Star Wars: Episode VI - Return of the Jedi (1983) , Matrix, The (1999) , }-> Star Wars: Episode V - The Empire Strikes Back (1980)\n",
            "{ Matrix, The (1999) , Shawshank Redemption, The (1994) , }-> Forrest Gump (1994)\n",
            "{ Shawshank Redemption, The (1994) , Seven (a.k.a. Se7en) (1995) , }-> Pulp Fiction (1994)\n",
            "{ Pulp Fiction (1994) , Seven (a.k.a. Se7en) (1995) , }-> Shawshank Redemption, The (1994)\n",
            "{ Usual Suspects, The (1995) , Shawshank Redemption, The (1994) , }-> Pulp Fiction (1994)\n",
            "{ Pulp Fiction (1994) , Usual Suspects, The (1995) , }-> Shawshank Redemption, The (1994)\n",
            "{ Usual Suspects, The (1995) , Forrest Gump (1994) , }-> Pulp Fiction (1994)\n",
            "{ Silence of the Lambs, The (1991) , Shawshank Redemption, The (1994) , }-> Pulp Fiction (1994)\n",
            "{ Pulp Fiction (1994) , Silence of the Lambs, The (1991) , }-> Shawshank Redemption, The (1994)\n",
            "{ Shawshank Redemption, The (1994) , Braveheart (1995) , }-> Pulp Fiction (1994)\n",
            "{ Pulp Fiction (1994) , Braveheart (1995) , }-> Shawshank Redemption, The (1994)\n",
            "{ Silence of the Lambs, The (1991) , Forrest Gump (1994) , }-> Pulp Fiction (1994)\n",
            "{ Pulp Fiction (1994) , Jurassic Park (1993) , }-> Forrest Gump (1994)\n",
            "{ Pulp Fiction (1994) , Braveheart (1995) , }-> Forrest Gump (1994)\n",
            "{ Silence of the Lambs, The (1991) , Forrest Gump (1994) , }-> Shawshank Redemption, The (1994)\n",
            "{ Jurassic Park (1993) , Shawshank Redemption, The (1994) , }-> Forrest Gump (1994)\n",
            "{ Shawshank Redemption, The (1994) , Braveheart (1995) , }-> Forrest Gump (1994)\n",
            "{ Jurassic Park (1993) , Braveheart (1995) , }-> Forrest Gump (1994)\n",
            "{ Matrix, The (1999) , Star Wars: Episode V - The Empire Strikes Back (1980) , Star Wars: Episode IV - A New Hope (1977) , }-> Star Wars: Episode VI - Return of the Jedi (1983)\n",
            "{ Star Wars: Episode VI - Return of the Jedi (1983) , Matrix, The (1999) , Star Wars: Episode IV - A New Hope (1977) , }-> Star Wars: Episode V - The Empire Strikes Back (1980)\n",
            "{ Star Wars: Episode VI - Return of the Jedi (1983) , Star Wars: Episode V - The Empire Strikes Back (1980) , Star Wars: Episode IV - A New Hope (1977) , }-> Matrix, The (1999)\n",
            "{ Star Wars: Episode VI - Return of the Jedi (1983) , Matrix, The (1999) , Star Wars: Episode V - The Empire Strikes Back (1980) , }-> Star Wars: Episode IV - A New Hope (1977)\n",
            "{ Silence of the Lambs, The (1991) , Forrest Gump (1994) , Shawshank Redemption, The (1994) , }-> Pulp Fiction (1994)\n",
            "{ Pulp Fiction (1994) , Silence of the Lambs, The (1991) , Shawshank Redemption, The (1994) , }-> Forrest Gump (1994)\n",
            "{ Pulp Fiction (1994) , Silence of the Lambs, The (1991) , Forrest Gump (1994) , }-> Shawshank Redemption, The (1994)\n",
            "\n",
            "\n",
            "Alpha: 0.9_____________________________________________________________________ \n"
          ]
        },
        {
          "output_type": "stream",
          "name": "stderr",
          "text": [
            "100%|██████████| 3240/3240 [00:00<00:00, 7473.47it/s]\n"
          ]
        },
        {
          "output_type": "stream",
          "name": "stdout",
          "text": [
            "183\n"
          ]
        },
        {
          "output_type": "stream",
          "name": "stderr",
          "text": [
            "100%|██████████| 11480/11480 [00:01<00:00, 8918.18it/s]\n"
          ]
        },
        {
          "output_type": "stream",
          "name": "stdout",
          "text": [
            "73\n"
          ]
        },
        {
          "output_type": "stream",
          "name": "stderr",
          "text": [
            "100%|██████████| 5985/5985 [00:00<00:00, 8898.80it/s]\n"
          ]
        },
        {
          "output_type": "stream",
          "name": "stdout",
          "text": [
            "5\n"
          ]
        },
        {
          "output_type": "stream",
          "name": "stderr",
          "text": [
            "100%|██████████| 792/792 [00:00<00:00, 8562.85it/s]\n"
          ]
        },
        {
          "output_type": "stream",
          "name": "stdout",
          "text": [
            "0\n",
            "The number of Baskets created : 548\n",
            "The number of frequent itemsets : 261\n",
            "The number of association rules itemsets : 137\n",
            "{ Sixth Sense, The (1999) , }-> Matrix, The (1999)\n",
            "{ Saving Private Ryan (1998) , }-> Matrix, The (1999)\n",
            "{ Gladiator (2000) , }-> Matrix, The (1999)\n",
            "{ Seven (a.k.a. Se7en) (1995) , }-> Pulp Fiction (1994)\n",
            "{ Beauty and the Beast (1991) , }-> Aladdin (1992)\n",
            "{ Apollo 13 (1995) , }-> Forrest Gump (1994)\n",
            "{ Star Wars: Episode VI - Return of the Jedi (1983) , }-> Star Wars: Episode V - The Empire Strikes Back (1980)\n",
            "{ Star Wars: Episode V - The Empire Strikes Back (1980) , }-> Star Wars: Episode IV - A New Hope (1977)\n",
            "{ Indiana Jones and the Last Crusade (1989) , }-> Star Wars: Episode V - The Empire Strikes Back (1980)\n",
            "{ Indiana Jones and the Last Crusade (1989) , }-> Raiders of the Lost Ark (Indiana Jones and the Raiders of the Lost Ark) (1981)\n",
            "{ Star Wars: Episode VI - Return of the Jedi (1983) , }-> Star Wars: Episode IV - A New Hope (1977)\n",
            "{ Godfather: Part II, The (1974) , }-> Godfather, The (1972)\n",
            "{ Indiana Jones and the Last Crusade (1989) , }-> Star Wars: Episode IV - A New Hope (1977)\n",
            "{ Lord of the Rings: The Fellowship of the Ring, The (2001) , }-> Lord of the Rings: The Two Towers, The (2002)\n",
            "{ Lord of the Rings: The Two Towers, The (2002) , }-> Lord of the Rings: The Fellowship of the Ring, The (2001)\n",
            "{ Lord of the Rings: The Return of the King, The (2003) , }-> Lord of the Rings: The Two Towers, The (2002)\n",
            "{ Lord of the Rings: The Two Towers, The (2002) , }-> Lord of the Rings: The Return of the King, The (2003)\n",
            "{ Lion King, The (1994) , }-> Forrest Gump (1994)\n",
            "{ Speed (1994) , }-> Forrest Gump (1994)\n",
            "{ Jurassic Park (1993) , }-> Forrest Gump (1994)\n",
            "{ Mrs. Doubtfire (1993) , }-> Forrest Gump (1994)\n",
            "{ Lord of the Rings: The Return of the King, The (2003) , }-> Lord of the Rings: The Fellowship of the Ring, The (2001)\n",
            "{ Lord of the Rings: The Fellowship of the Ring, The (2001) , }-> Lord of the Rings: The Return of the King, The (2003)\n",
            "{ Lord of the Rings: The Fellowship of the Ring, The (2001) , Matrix, The (1999) , }-> Lord of the Rings: The Two Towers, The (2002)\n",
            "{ Lord of the Rings: The Two Towers, The (2002) , Matrix, The (1999) , }-> Lord of the Rings: The Fellowship of the Ring, The (2001)\n",
            "{ Lord of the Rings: The Return of the King, The (2003) , Matrix, The (1999) , }-> Lord of the Rings: The Fellowship of the Ring, The (2001)\n",
            "{ Lord of the Rings: The Fellowship of the Ring, The (2001) , Matrix, The (1999) , }-> Lord of the Rings: The Return of the King, The (2003)\n",
            "{ Lord of the Rings: The Return of the King, The (2003) , Shawshank Redemption, The (1994) , }-> Lord of the Rings: The Fellowship of the Ring, The (2001)\n",
            "{ Lord of the Rings: The Fellowship of the Ring, The (2001) , Shawshank Redemption, The (1994) , }-> Lord of the Rings: The Return of the King, The (2003)\n",
            "{ Lord of the Rings: The Fellowship of the Ring, The (2001) , Forrest Gump (1994) , }-> Lord of the Rings: The Two Towers, The (2002)\n",
            "{ Lord of the Rings: The Two Towers, The (2002) , Forrest Gump (1994) , }-> Lord of the Rings: The Fellowship of the Ring, The (2001)\n",
            "{ Lord of the Rings: The Fellowship of the Ring, The (2001) , Lord of the Rings: The Return of the King, The (2003) , }-> Lord of the Rings: The Two Towers, The (2002)\n",
            "{ Lord of the Rings: The Two Towers, The (2002) , Lord of the Rings: The Return of the King, The (2003) , }-> Lord of the Rings: The Fellowship of the Ring, The (2001)\n",
            "{ Lord of the Rings: The Two Towers, The (2002) , Lord of the Rings: The Fellowship of the Ring, The (2001) , }-> Lord of the Rings: The Return of the King, The (2003)\n",
            "{ Lord of the Rings: The Return of the King, The (2003) , Forrest Gump (1994) , }-> Lord of the Rings: The Fellowship of the Ring, The (2001)\n",
            "{ Lord of the Rings: The Fellowship of the Ring, The (2001) , Forrest Gump (1994) , }-> Lord of the Rings: The Return of the King, The (2003)\n",
            "{ Pulp Fiction (1994) , Star Wars: Episode IV - A New Hope (1977) , }-> Matrix, The (1999)\n",
            "{ Matrix, The (1999) , Star Wars: Episode IV - A New Hope (1977) , }-> Star Wars: Episode V - The Empire Strikes Back (1980)\n",
            "{ Star Wars: Episode V - The Empire Strikes Back (1980) , Star Wars: Episode IV - A New Hope (1977) , }-> Matrix, The (1999)\n",
            "{ Matrix, The (1999) , Star Wars: Episode V - The Empire Strikes Back (1980) , }-> Star Wars: Episode IV - A New Hope (1977)\n",
            "{ Star Wars: Episode IV - A New Hope (1977) , Raiders of the Lost Ark (Indiana Jones and the Raiders of the Lost Ark) (1981) , }-> Matrix, The (1999)\n",
            "{ Matrix, The (1999) , Raiders of the Lost Ark (Indiana Jones and the Raiders of the Lost Ark) (1981) , }-> Star Wars: Episode IV - A New Hope (1977)\n",
            "{ Star Wars: Episode VI - Return of the Jedi (1983) , Matrix, The (1999) , }-> Star Wars: Episode IV - A New Hope (1977)\n",
            "{ Pulp Fiction (1994) , Star Wars: Episode IV - A New Hope (1977) , }-> Star Wars: Episode V - The Empire Strikes Back (1980)\n",
            "{ Pulp Fiction (1994) , Star Wars: Episode V - The Empire Strikes Back (1980) , }-> Star Wars: Episode IV - A New Hope (1977)\n",
            "{ Star Wars: Episode IV - A New Hope (1977) , Shawshank Redemption, The (1994) , }-> Pulp Fiction (1994)\n",
            "{ Pulp Fiction (1994) , Star Wars: Episode IV - A New Hope (1977) , }-> Shawshank Redemption, The (1994)\n",
            "{ Star Wars: Episode IV - A New Hope (1977) , Raiders of the Lost Ark (Indiana Jones and the Raiders of the Lost Ark) (1981) , }-> Star Wars: Episode V - The Empire Strikes Back (1980)\n",
            "{ Star Wars: Episode V - The Empire Strikes Back (1980) , Raiders of the Lost Ark (Indiana Jones and the Raiders of the Lost Ark) (1981) , }-> Star Wars: Episode IV - A New Hope (1977)\n",
            "{ Star Wars: Episode V - The Empire Strikes Back (1980) , Star Wars: Episode IV - A New Hope (1977) , }-> Star Wars: Episode VI - Return of the Jedi (1983)\n",
            "{ Star Wars: Episode VI - Return of the Jedi (1983) , Star Wars: Episode IV - A New Hope (1977) , }-> Star Wars: Episode V - The Empire Strikes Back (1980)\n",
            "{ Star Wars: Episode VI - Return of the Jedi (1983) , Star Wars: Episode V - The Empire Strikes Back (1980) , }-> Star Wars: Episode IV - A New Hope (1977)\n",
            "{ Star Wars: Episode IV - A New Hope (1977) , Shawshank Redemption, The (1994) , }-> Star Wars: Episode V - The Empire Strikes Back (1980)\n",
            "{ Star Wars: Episode V - The Empire Strikes Back (1980) , Shawshank Redemption, The (1994) , }-> Star Wars: Episode IV - A New Hope (1977)\n",
            "{ Star Wars: Episode IV - A New Hope (1977) , Terminator 2: Judgment Day (1991) , }-> Star Wars: Episode V - The Empire Strikes Back (1980)\n",
            "{ Star Wars: Episode V - The Empire Strikes Back (1980) , Terminator 2: Judgment Day (1991) , }-> Star Wars: Episode IV - A New Hope (1977)\n",
            "{ Silence of the Lambs, The (1991) , Star Wars: Episode IV - A New Hope (1977) , }-> Star Wars: Episode V - The Empire Strikes Back (1980)\n",
            "{ Silence of the Lambs, The (1991) , Star Wars: Episode V - The Empire Strikes Back (1980) , }-> Star Wars: Episode IV - A New Hope (1977)\n",
            "{ Forrest Gump (1994) , Star Wars: Episode IV - A New Hope (1977) , }-> Star Wars: Episode V - The Empire Strikes Back (1980)\n",
            "{ Star Wars: Episode V - The Empire Strikes Back (1980) , Forrest Gump (1994) , }-> Star Wars: Episode IV - A New Hope (1977)\n",
            "{ Star Wars: Episode IV - A New Hope (1977) , Raiders of the Lost Ark (Indiana Jones and the Raiders of the Lost Ark) (1981) , }-> Star Wars: Episode VI - Return of the Jedi (1983)\n",
            "{ Star Wars: Episode VI - Return of the Jedi (1983) , Raiders of the Lost Ark (Indiana Jones and the Raiders of the Lost Ark) (1981) , }-> Star Wars: Episode IV - A New Hope (1977)\n",
            "{ Forrest Gump (1994) , Star Wars: Episode IV - A New Hope (1977) , }-> Star Wars: Episode VI - Return of the Jedi (1983)\n",
            "{ Star Wars: Episode VI - Return of the Jedi (1983) , Forrest Gump (1994) , }-> Star Wars: Episode IV - A New Hope (1977)\n",
            "{ Pulp Fiction (1994) , Fight Club (1999) , }-> Matrix, The (1999)\n",
            "{ Forrest Gump (1994) , Fight Club (1999) , }-> Matrix, The (1999)\n",
            "{ Matrix, The (1999) , Fight Club (1999) , }-> Forrest Gump (1994)\n",
            "{ Silence of the Lambs, The (1991) , Matrix, The (1999) , }-> Pulp Fiction (1994)\n",
            "{ Pulp Fiction (1994) , Matrix, The (1999) , }-> Forrest Gump (1994)\n",
            "{ Star Wars: Episode V - The Empire Strikes Back (1980) , Raiders of the Lost Ark (Indiana Jones and the Raiders of the Lost Ark) (1981) , }-> Matrix, The (1999)\n",
            "{ Matrix, The (1999) , Raiders of the Lost Ark (Indiana Jones and the Raiders of the Lost Ark) (1981) , }-> Star Wars: Episode V - The Empire Strikes Back (1980)\n",
            "{ Matrix, The (1999) , Star Wars: Episode V - The Empire Strikes Back (1980) , }-> Star Wars: Episode VI - Return of the Jedi (1983)\n",
            "{ Star Wars: Episode VI - Return of the Jedi (1983) , Star Wars: Episode V - The Empire Strikes Back (1980) , }-> Matrix, The (1999)\n",
            "{ Star Wars: Episode VI - Return of the Jedi (1983) , Matrix, The (1999) , }-> Star Wars: Episode V - The Empire Strikes Back (1980)\n",
            "{ Lord of the Rings: The Return of the King, The (2003) , Matrix, The (1999) , }-> Lord of the Rings: The Two Towers, The (2002)\n",
            "{ Lord of the Rings: The Two Towers, The (2002) , Matrix, The (1999) , }-> Lord of the Rings: The Return of the King, The (2003)\n",
            "{ Pulp Fiction (1994) , Schindler's List (1993) , }-> Shawshank Redemption, The (1994)\n",
            "{ Silence of the Lambs, The (1991) , Schindler's List (1993) , }-> Shawshank Redemption, The (1994)\n",
            "{ Forrest Gump (1994) , Schindler's List (1993) , }-> Shawshank Redemption, The (1994)\n",
            "{ Silence of the Lambs, The (1991) , Fight Club (1999) , }-> Pulp Fiction (1994)\n",
            "{ Forrest Gump (1994) , Fight Club (1999) , }-> Shawshank Redemption, The (1994)\n",
            "{ Apollo 13 (1995) , Shawshank Redemption, The (1994) , }-> Forrest Gump (1994)\n",
            "{ Shawshank Redemption, The (1994) , Seven (a.k.a. Se7en) (1995) , }-> Pulp Fiction (1994)\n",
            "{ Silence of the Lambs, The (1991) , Seven (a.k.a. Se7en) (1995) , }-> Pulp Fiction (1994)\n",
            "{ Forrest Gump (1994) , Seven (a.k.a. Se7en) (1995) , }-> Pulp Fiction (1994)\n",
            "{ Usual Suspects, The (1995) , Shawshank Redemption, The (1994) , }-> Pulp Fiction (1994)\n",
            "{ Pulp Fiction (1994) , Usual Suspects, The (1995) , }-> Shawshank Redemption, The (1994)\n",
            "{ Silence of the Lambs, The (1991) , Usual Suspects, The (1995) , }-> Pulp Fiction (1994)\n",
            "{ Usual Suspects, The (1995) , Forrest Gump (1994) , }-> Pulp Fiction (1994)\n",
            "{ Terminator 2: Judgment Day (1991) , Shawshank Redemption, The (1994) , }-> Pulp Fiction (1994)\n",
            "{ Silence of the Lambs, The (1991) , Shawshank Redemption, The (1994) , }-> Pulp Fiction (1994)\n",
            "{ Pulp Fiction (1994) , Silence of the Lambs, The (1991) , }-> Shawshank Redemption, The (1994)\n",
            "{ Jurassic Park (1993) , Shawshank Redemption, The (1994) , }-> Pulp Fiction (1994)\n",
            "{ Shawshank Redemption, The (1994) , Braveheart (1995) , }-> Pulp Fiction (1994)\n",
            "{ Pulp Fiction (1994) , Braveheart (1995) , }-> Shawshank Redemption, The (1994)\n",
            "{ Silence of the Lambs, The (1991) , Terminator 2: Judgment Day (1991) , }-> Pulp Fiction (1994)\n",
            "{ Pulp Fiction (1994) , Terminator 2: Judgment Day (1991) , }-> Forrest Gump (1994)\n",
            "{ Pulp Fiction (1994) , Jurassic Park (1993) , }-> Forrest Gump (1994)\n",
            "{ Pulp Fiction (1994) , Braveheart (1995) , }-> Forrest Gump (1994)\n",
            "{ Star Wars: Episode V - The Empire Strikes Back (1980) , Raiders of the Lost Ark (Indiana Jones and the Raiders of the Lost Ark) (1981) , }-> Star Wars: Episode VI - Return of the Jedi (1983)\n",
            "{ Star Wars: Episode VI - Return of the Jedi (1983) , Raiders of the Lost Ark (Indiana Jones and the Raiders of the Lost Ark) (1981) , }-> Star Wars: Episode V - The Empire Strikes Back (1980)\n",
            "{ Star Wars: Episode V - The Empire Strikes Back (1980) , Forrest Gump (1994) , }-> Star Wars: Episode VI - Return of the Jedi (1983)\n",
            "{ Star Wars: Episode VI - Return of the Jedi (1983) , Forrest Gump (1994) , }-> Star Wars: Episode V - The Empire Strikes Back (1980)\n",
            "{ Forrest Gump (1994) , Seven (a.k.a. Se7en) (1995) , }-> Shawshank Redemption, The (1994)\n",
            "{ Silence of the Lambs, The (1991) , Usual Suspects, The (1995) , }-> Shawshank Redemption, The (1994)\n",
            "{ Usual Suspects, The (1995) , Forrest Gump (1994) , }-> Shawshank Redemption, The (1994)\n",
            "{ Lord of the Rings: The Return of the King, The (2003) , Shawshank Redemption, The (1994) , }-> Lord of the Rings: The Two Towers, The (2002)\n",
            "{ Lord of the Rings: The Two Towers, The (2002) , Shawshank Redemption, The (1994) , }-> Lord of the Rings: The Return of the King, The (2003)\n",
            "{ Terminator 2: Judgment Day (1991) , Shawshank Redemption, The (1994) , }-> Forrest Gump (1994)\n",
            "{ Jurassic Park (1993) , Shawshank Redemption, The (1994) , }-> Forrest Gump (1994)\n",
            "{ Shawshank Redemption, The (1994) , Braveheart (1995) , }-> Forrest Gump (1994)\n",
            "{ Forrest Gump (1994) , Braveheart (1995) , }-> Shawshank Redemption, The (1994)\n",
            "{ Lord of the Rings: The Return of the King, The (2003) , Forrest Gump (1994) , }-> Lord of the Rings: The Two Towers, The (2002)\n",
            "{ Lord of the Rings: The Two Towers, The (2002) , Forrest Gump (1994) , }-> Lord of the Rings: The Return of the King, The (2003)\n",
            "{ Fugitive, The (1993) , Forrest Gump (1994) , }-> Jurassic Park (1993)\n",
            "{ Jurassic Park (1993) , Fugitive, The (1993) , }-> Forrest Gump (1994)\n",
            "{ Silence of the Lambs, The (1991) , Terminator 2: Judgment Day (1991) , }-> Forrest Gump (1994)\n",
            "{ Terminator 2: Judgment Day (1991) , Braveheart (1995) , }-> Forrest Gump (1994)\n",
            "{ Jurassic Park (1993) , Silence of the Lambs, The (1991) , }-> Forrest Gump (1994)\n",
            "{ Silence of the Lambs, The (1991) , Braveheart (1995) , }-> Forrest Gump (1994)\n",
            "{ Jurassic Park (1993) , Braveheart (1995) , }-> Forrest Gump (1994)\n",
            "{ Lord of the Rings: The Fellowship of the Ring, The (2001) , Matrix, The (1999) , Lord of the Rings: The Return of the King, The (2003) , }-> Lord of the Rings: The Two Towers, The (2002)\n",
            "{ Lord of the Rings: The Two Towers, The (2002) , Lord of the Rings: The Return of the King, The (2003) , Matrix, The (1999) , }-> Lord of the Rings: The Fellowship of the Ring, The (2001)\n",
            "{ Lord of the Rings: The Two Towers, The (2002) , Lord of the Rings: The Fellowship of the Ring, The (2001) , Lord of the Rings: The Return of the King, The (2003) , }-> Matrix, The (1999)\n",
            "{ Lord of the Rings: The Two Towers, The (2002) , Lord of the Rings: The Fellowship of the Ring, The (2001) , Matrix, The (1999) , }-> Lord of the Rings: The Return of the King, The (2003)\n",
            "{ Matrix, The (1999) , Star Wars: Episode V - The Empire Strikes Back (1980) , Star Wars: Episode IV - A New Hope (1977) , }-> Star Wars: Episode VI - Return of the Jedi (1983)\n",
            "{ Star Wars: Episode VI - Return of the Jedi (1983) , Matrix, The (1999) , Star Wars: Episode IV - A New Hope (1977) , }-> Star Wars: Episode V - The Empire Strikes Back (1980)\n",
            "{ Star Wars: Episode VI - Return of the Jedi (1983) , Star Wars: Episode V - The Empire Strikes Back (1980) , Star Wars: Episode IV - A New Hope (1977) , }-> Matrix, The (1999)\n",
            "{ Star Wars: Episode VI - Return of the Jedi (1983) , Matrix, The (1999) , Star Wars: Episode V - The Empire Strikes Back (1980) , }-> Star Wars: Episode IV - A New Hope (1977)\n",
            "{ Star Wars: Episode V - The Empire Strikes Back (1980) , Star Wars: Episode IV - A New Hope (1977) , Raiders of the Lost Ark (Indiana Jones and the Raiders of the Lost Ark) (1981) , }-> Star Wars: Episode VI - Return of the Jedi (1983)\n",
            "{ Star Wars: Episode VI - Return of the Jedi (1983) , Star Wars: Episode IV - A New Hope (1977) , Raiders of the Lost Ark (Indiana Jones and the Raiders of the Lost Ark) (1981) , }-> Star Wars: Episode V - The Empire Strikes Back (1980)\n",
            "{ Star Wars: Episode VI - Return of the Jedi (1983) , Star Wars: Episode V - The Empire Strikes Back (1980) , Raiders of the Lost Ark (Indiana Jones and the Raiders of the Lost Ark) (1981) , }-> Star Wars: Episode IV - A New Hope (1977)\n",
            "{ Star Wars: Episode V - The Empire Strikes Back (1980) , Forrest Gump (1994) , Star Wars: Episode IV - A New Hope (1977) , }-> Star Wars: Episode VI - Return of the Jedi (1983)\n",
            "{ Star Wars: Episode VI - Return of the Jedi (1983) , Forrest Gump (1994) , Star Wars: Episode IV - A New Hope (1977) , }-> Star Wars: Episode V - The Empire Strikes Back (1980)\n",
            "{ Star Wars: Episode VI - Return of the Jedi (1983) , Forrest Gump (1994) , Star Wars: Episode V - The Empire Strikes Back (1980) , }-> Star Wars: Episode IV - A New Hope (1977)\n",
            "{ Silence of the Lambs, The (1991) , Forrest Gump (1994) , Shawshank Redemption, The (1994) , }-> Pulp Fiction (1994)\n",
            "{ Pulp Fiction (1994) , Silence of the Lambs, The (1991) , Forrest Gump (1994) , }-> Shawshank Redemption, The (1994)\n",
            "\n",
            "\n"
          ]
        }
      ],
      "source": [
        "import random\n",
        "# your code here\n",
        "'''\n",
        "Random sampling of baskets is done once we get all the baskets from the list of transactions.\n",
        "Random sampling is simply picking users at random from the baskets along with all the movies the reviewed\n",
        "'''\n",
        "def get_sample_itemset(alpha, transactions, minsup_sample, r_state):\n",
        "  baskets,_ = getBaskets(transactions)\n",
        "  n = len(baskets)\n",
        "  random_basket = random.sample(list(baskets.items()), int(n * alpha))\n",
        "  sample_Basket = {}\n",
        "  for a,b in random_basket:\n",
        "    sample_Basket[a] = b\n",
        "  sample_movies = {}\n",
        "  for i in sample_Basket.values():\n",
        "    for v in i:\n",
        "      try:\n",
        "          sample_movies[v]+=1\n",
        "      except KeyError:\n",
        "          sample_movies[v]=1\n",
        "  for x in sample_movies.keys():\n",
        "    sample_movies[x] = sample_movies[x]\n",
        "  sup_sample = minsup_sample\n",
        "  asso_sample_itemset = apriori(sample_Basket, sup_sample, sample_movies)\n",
        "  return asso_sample_itemset, sample_Basket\n",
        "\n",
        "asso_gen = []\n",
        "rules_gen = []\n",
        "for q in range(5, 10, 1):\n",
        "  alpha = q/10\n",
        "  minsup_sample = 100\n",
        "  print('Alpha: {}_____________________________________________________________________ '.format(alpha))\n",
        "  asso_sample_itemset, sample_Basket = get_sample_itemset(alpha, allRatings, minsup_sample,1)\n",
        "  print('The number of Baskets created : {}'.format(len(sample_Basket)))\n",
        "  c = sum([len(asso_sample_itemset[a]) for a in asso_sample_itemset.keys()])\n",
        "  asso_gen.append(c)\n",
        "  print('The number of frequent itemsets : {}'.format(sum([len(asso_sample_itemset[a]) for a in asso_sample_itemset.keys()])))\n",
        "  sample_asso_rule = find_rules(asso_sample_itemset, 0.8, sample_Basket)\n",
        "  # print(asso_sample_itemset)\n",
        "  b = sum([1 for a in sample_asso_rule])\n",
        "  rules_gen.append(b)\n",
        "  print('The number of association rules itemsets : {}'.format(sum([1 for a in sample_asso_rule])))\n",
        "  printRule(sample_asso_rule)\n",
        "  print('\\n')"
      ]
    },
    {
      "cell_type": "code",
      "source": [
        "import matplotlib.pyplot as plt\n",
        "import seaborn as sns\n",
        "# rules_gen\n",
        "fig = plt.figure(figsize=(25, 5), dpi=80)\n",
        "fig.subplots_adjust(hspace=0.4, wspace=0.2)\n",
        "plt.subplot(1, 2, 1)\n",
        "s = sns.lineplot(y=asso_gen,x=[q/10 for q in range(5, 10, 1)])\n",
        "s.set_xlabel(\"Ratio\")\n",
        "s.set_ylabel(\"# itemsets generated\")\n",
        "plt.subplot(1, 2, 2)\n",
        "s = sns.lineplot(y=rules_gen, x=[q/10 for q in range(5, 10, 1)])\n",
        "s.set_xlabel(\"Ratio\")\n",
        "s.set_ylabel(\"# rules generated\")"
      ],
      "metadata": {
        "colab": {
          "base_uri": "https://localhost:8080/",
          "height": 384
        },
        "id": "HGIDbnm1flFX",
        "outputId": "4f95f64d-063a-46bd-80b3-0c112687f2ea"
      },
      "execution_count": null,
      "outputs": [
        {
          "output_type": "execute_result",
          "data": {
            "text/plain": [
              "Text(0, 0.5, '# rules generated')"
            ]
          },
          "metadata": {},
          "execution_count": 75
        },
        {
          "output_type": "display_data",
          "data": {
            "image/png": "[encoded data removed]",
            "text/plain": [
              "<Figure size 2000x400 with 2 Axes>"
            ]
          },
          "metadata": {
            "needs_background": "light"
          }
        }
      ]
    },
    {
      "cell_type": "markdown",
      "metadata": {
        "id": "rIBMkM-W-8Tn"
      },
      "source": [
        "As we changed the sampling ratio from 0.5 to 0.9, we observe that the number of itemsets that are generated, increase drastically. This result is quite is quite intuitive as, sampling ratio directly represents our search space from which we generate our rules from. As this search space increases, we find more and more patterns repeatedly over and over again, and thus these findings qualify the minimum confidence (which is set to 80%).\n",
        "\n",
        "The same can be said about the association rules generated."
      ]
    },
    {
      "cell_type": "markdown",
      "metadata": {
        "id": "wLNDiFDrI2-2"
      },
      "source": [
        "### (10pts) Step 4: Check for False Positives\n",
        "\n",
        "Next you should verify that the candidate pairs you discover by random sampling are truly frequent by comparing to the itemsets you discover over the entire dataset. \n",
        "\n",
        "For this part, consider another parameter **minsup_sample** that relaxes the minimum support threshold. For example if we want minsup = 1/100 for whole dataset, then try minsup_sample = 1/125 for the sample. This will help catch truly frequent itemsets.\n",
        "\n",
        "Vary **minsup_sample** and report the number of frequent itemsets you find and the number of false positives you find. What do you discover?\n"
      ]
    },
    {
      "cell_type": "code",
      "execution_count": null,
      "metadata": {
        "colab": {
          "base_uri": "https://localhost:8080/"
        },
        "id": "R8gtIPuf_82B",
        "outputId": "bc073729-ee76-4581-b1f8-66ec61cc83aa"
      },
      "outputs": [
        {
          "output_type": "stream",
          "name": "stdout",
          "text": [
            "Baseline support sample>=100__________________________________________\n"
          ]
        },
        {
          "output_type": "stream",
          "name": "stderr",
          "text": [
            "100%|██████████| 4851/4851 [00:00<00:00, 7233.00it/s]\n"
          ]
        },
        {
          "output_type": "stream",
          "name": "stdout",
          "text": [
            "314\n"
          ]
        },
        {
          "output_type": "stream",
          "name": "stderr",
          "text": [
            "100%|██████████| 32509/32509 [00:04<00:00, 7968.32it/s]\n"
          ]
        },
        {
          "output_type": "stream",
          "name": "stdout",
          "text": [
            "184\n"
          ]
        },
        {
          "output_type": "stream",
          "name": "stderr",
          "text": [
            "100%|██████████| 46376/46376 [00:05<00:00, 7901.14it/s]\n"
          ]
        },
        {
          "output_type": "stream",
          "name": "stdout",
          "text": [
            "23\n"
          ]
        },
        {
          "output_type": "stream",
          "name": "stderr",
          "text": [
            "100%|██████████| 8568/8568 [00:01<00:00, 7876.96it/s]\n"
          ]
        },
        {
          "output_type": "stream",
          "name": "stdout",
          "text": [
            "0\n",
            "Minimum support sample>=100__________________________________________\n"
          ]
        },
        {
          "output_type": "stream",
          "name": "stderr",
          "text": [
            "100%|██████████| 4851/4851 [00:00<00:00, 7640.83it/s]\n"
          ]
        },
        {
          "output_type": "stream",
          "name": "stdout",
          "text": [
            "314\n"
          ]
        },
        {
          "output_type": "stream",
          "name": "stderr",
          "text": [
            "100%|██████████| 32509/32509 [00:04<00:00, 7548.85it/s]\n"
          ]
        },
        {
          "output_type": "stream",
          "name": "stdout",
          "text": [
            "184\n"
          ]
        },
        {
          "output_type": "stream",
          "name": "stderr",
          "text": [
            "100%|██████████| 46376/46376 [00:05<00:00, 7748.47it/s]\n"
          ]
        },
        {
          "output_type": "stream",
          "name": "stdout",
          "text": [
            "23\n"
          ]
        },
        {
          "output_type": "stream",
          "name": "stderr",
          "text": [
            "100%|██████████| 8568/8568 [00:01<00:00, 7679.37it/s]\n"
          ]
        },
        {
          "output_type": "stream",
          "name": "stdout",
          "text": [
            "0\n",
            "Total Mismatches: 0, Total Matches 521\n",
            "Percentage mimsmatch 0.00%\n",
            "\n",
            "Minimum support sample>=110__________________________________________\n"
          ]
        },
        {
          "output_type": "stream",
          "name": "stderr",
          "text": [
            "100%|██████████| 3240/3240 [00:00<00:00, 7961.49it/s]\n"
          ]
        },
        {
          "output_type": "stream",
          "name": "stdout",
          "text": [
            "196\n"
          ]
        },
        {
          "output_type": "stream",
          "name": "stderr",
          "text": [
            "100%|██████████| 12341/12341 [00:01<00:00, 7979.30it/s]\n"
          ]
        },
        {
          "output_type": "stream",
          "name": "stdout",
          "text": [
            "79\n"
          ]
        },
        {
          "output_type": "stream",
          "name": "stderr",
          "text": [
            "100%|██████████| 7315/7315 [00:00<00:00, 7647.74it/s]\n"
          ]
        },
        {
          "output_type": "stream",
          "name": "stdout",
          "text": [
            "5\n"
          ]
        },
        {
          "output_type": "stream",
          "name": "stderr",
          "text": [
            "100%|██████████| 792/792 [00:00<00:00, 7111.24it/s]\n"
          ]
        },
        {
          "output_type": "stream",
          "name": "stdout",
          "text": [
            "0\n",
            "Total Mismatches: 0, Total Matches 280\n",
            "Percentage mimsmatch 0.00%\n",
            "\n",
            "Minimum support sample>=120__________________________________________\n"
          ]
        },
        {
          "output_type": "stream",
          "name": "stderr",
          "text": [
            "100%|██████████| 2278/2278 [00:00<00:00, 7455.84it/s]\n"
          ]
        },
        {
          "output_type": "stream",
          "name": "stdout",
          "text": [
            "117\n"
          ]
        },
        {
          "output_type": "stream",
          "name": "stderr",
          "text": [
            "100%|██████████| 7770/7770 [00:01<00:00, 7581.68it/s]\n"
          ]
        },
        {
          "output_type": "stream",
          "name": "stdout",
          "text": [
            "33\n"
          ]
        },
        {
          "output_type": "stream",
          "name": "stderr",
          "text": [
            "100%|██████████| 3876/3876 [00:00<00:00, 7205.17it/s]\n"
          ]
        },
        {
          "output_type": "stream",
          "name": "stdout",
          "text": [
            "2\n"
          ]
        },
        {
          "output_type": "stream",
          "name": "stderr",
          "text": [
            "100%|██████████| 56/56 [00:00<00:00, 4004.38it/s]\n"
          ]
        },
        {
          "output_type": "stream",
          "name": "stdout",
          "text": [
            "0\n",
            "Total Mismatches: 37, Total Matches 115\n",
            "Percentage mimsmatch 24.34%\n",
            "\n",
            "Minimum support sample>=130__________________________________________\n"
          ]
        },
        {
          "output_type": "stream",
          "name": "stderr",
          "text": [
            "100%|██████████| 1275/1275 [00:00<00:00, 3545.89it/s]\n"
          ]
        },
        {
          "output_type": "stream",
          "name": "stdout",
          "text": [
            "75\n"
          ]
        },
        {
          "output_type": "stream",
          "name": "stderr",
          "text": [
            "100%|██████████| 3276/3276 [00:01<00:00, 1973.86it/s]\n"
          ]
        },
        {
          "output_type": "stream",
          "name": "stdout",
          "text": [
            "12\n"
          ]
        },
        {
          "output_type": "stream",
          "name": "stderr",
          "text": [
            "100%|██████████| 715/715 [00:00<00:00, 3018.64it/s]\n"
          ]
        },
        {
          "output_type": "stream",
          "name": "stdout",
          "text": [
            "0\n",
            "Total Mismatches: 24, Total Matches 63\n",
            "Percentage mimsmatch 27.59%\n",
            "\n",
            "Minimum support sample>=140__________________________________________\n"
          ]
        },
        {
          "output_type": "stream",
          "name": "stderr",
          "text": [
            "100%|██████████| 820/820 [00:00<00:00, 2070.88it/s]\n"
          ]
        },
        {
          "output_type": "stream",
          "name": "stdout",
          "text": [
            "49\n"
          ]
        },
        {
          "output_type": "stream",
          "name": "stderr",
          "text": [
            "100%|██████████| 1330/1330 [00:00<00:00, 2206.78it/s]\n"
          ]
        },
        {
          "output_type": "stream",
          "name": "stdout",
          "text": [
            "7\n"
          ]
        },
        {
          "output_type": "stream",
          "name": "stderr",
          "text": [
            "100%|██████████| 330/330 [00:00<00:00, 3430.68it/s]\n"
          ]
        },
        {
          "output_type": "stream",
          "name": "stdout",
          "text": [
            "0\n",
            "Total Mismatches: 19, Total Matches 37\n",
            "Percentage mimsmatch 33.93%\n",
            "\n",
            "Minimum support sample>=150__________________________________________\n"
          ]
        },
        {
          "output_type": "stream",
          "name": "stderr",
          "text": [
            "100%|██████████| 666/666 [00:00<00:00, 8078.78it/s]\n"
          ]
        },
        {
          "output_type": "stream",
          "name": "stdout",
          "text": [
            "30\n"
          ]
        },
        {
          "output_type": "stream",
          "name": "stderr",
          "text": [
            "100%|██████████| 969/969 [00:00<00:00, 8310.29it/s]\n"
          ]
        },
        {
          "output_type": "stream",
          "name": "stdout",
          "text": [
            "2\n"
          ]
        },
        {
          "output_type": "stream",
          "name": "stderr",
          "text": [
            "100%|██████████| 1/1 [00:00<00:00, 1236.53it/s]\n"
          ]
        },
        {
          "output_type": "stream",
          "name": "stdout",
          "text": [
            "0\n",
            "Total Mismatches: 13, Total Matches 19\n",
            "Percentage mimsmatch 40.62%\n",
            "\n",
            "Minimum support sample>=160__________________________________________\n"
          ]
        },
        {
          "output_type": "stream",
          "name": "stderr",
          "text": [
            "100%|██████████| 465/465 [00:00<00:00, 8013.90it/s]\n"
          ]
        },
        {
          "output_type": "stream",
          "name": "stdout",
          "text": [
            "14\n"
          ]
        },
        {
          "output_type": "stream",
          "name": "stderr",
          "text": [
            "100%|██████████| 120/120 [00:00<00:00, 6380.06it/s]\n"
          ]
        },
        {
          "output_type": "stream",
          "name": "stdout",
          "text": [
            "1\n"
          ]
        },
        {
          "output_type": "stream",
          "name": "stderr",
          "text": [
            "0it [00:00, ?it/s]\n"
          ]
        },
        {
          "output_type": "stream",
          "name": "stdout",
          "text": [
            "0\n",
            "Total Mismatches: 8, Total Matches 7\n",
            "Percentage mimsmatch 53.33%\n",
            "\n",
            "Minimum support sample>=170__________________________________________\n"
          ]
        },
        {
          "output_type": "stream",
          "name": "stderr",
          "text": [
            "100%|██████████| 378/378 [00:00<00:00, 7691.12it/s]\n"
          ]
        },
        {
          "output_type": "stream",
          "name": "stdout",
          "text": [
            "9\n"
          ]
        },
        {
          "output_type": "stream",
          "name": "stderr",
          "text": [
            "100%|██████████| 56/56 [00:00<00:00, 4746.51it/s]\n"
          ]
        },
        {
          "output_type": "stream",
          "name": "stdout",
          "text": [
            "0\n",
            "Total Mismatches: 4, Total Matches 5\n",
            "Percentage mimsmatch 44.44%\n",
            "\n",
            "Minimum support sample>=180__________________________________________\n"
          ]
        },
        {
          "output_type": "stream",
          "name": "stderr",
          "text": [
            "100%|██████████| 210/210 [00:00<00:00, 8167.84it/s]\n"
          ]
        },
        {
          "output_type": "stream",
          "name": "stdout",
          "text": [
            "6\n"
          ]
        },
        {
          "output_type": "stream",
          "name": "stderr",
          "text": [
            "100%|██████████| 4/4 [00:00<00:00, 1454.46it/s]\n"
          ]
        },
        {
          "output_type": "stream",
          "name": "stdout",
          "text": [
            "0\n",
            "Total Mismatches: 2, Total Matches 4\n",
            "Percentage mimsmatch 33.33%\n",
            "\n",
            "Minimum support sample>=190__________________________________________\n"
          ]
        },
        {
          "output_type": "stream",
          "name": "stderr",
          "text": [
            "100%|██████████| 120/120 [00:00<00:00, 8601.20it/s]\n"
          ]
        },
        {
          "output_type": "stream",
          "name": "stdout",
          "text": [
            "3\n"
          ]
        },
        {
          "output_type": "stream",
          "name": "stderr",
          "text": [
            "100%|██████████| 1/1 [00:00<00:00, 1124.78it/s]"
          ]
        },
        {
          "output_type": "stream",
          "name": "stdout",
          "text": [
            "0\n",
            "Total Mismatches: 2, Total Matches 1\n",
            "Percentage mimsmatch 66.67%\n",
            "\n"
          ]
        },
        {
          "output_type": "stream",
          "name": "stderr",
          "text": [
            "\n"
          ]
        }
      ],
      "source": [
        "def getFalsePositives(sample_itemset, main_itemset):\n",
        "  count_diff=0\n",
        "  count_same = 0\n",
        "  for key in sample_itemset.keys():\n",
        "    for element in sample_itemset[key]:\n",
        "      if element not in main_itemset[key]:\n",
        "        count_diff+=1\n",
        "      else:\n",
        "        count_same+=1\n",
        "  return count_diff, count_same\n",
        "\n",
        "min_sup = 100\n",
        "alpha = 1\n",
        "print(\"Baseline support sample>={}__________________________________________\".format(100))\n",
        "baseline_itemsets, sample_Basket = get_sample_itemset(alpha, allRatings, min_sup,1)\n",
        "baseline_sample_asso_rule = find_rules(baseline_itemsets, 0.8, sample_Basket)\n",
        "baseline_rules = sum([1 for a in baseline_sample_asso_rule])\n",
        "\n",
        "\n",
        "mismatch_per = []\n",
        "asso_rule_gen = []\n",
        "for q in range(100, 200, 10):\n",
        "  minsup_sample = q\n",
        "  alpha = 1\n",
        "  print(\"Minimum support sample>={}__________________________________________\".format(minsup_sample))\n",
        "  asso_sample_itemset, sample_Basket = get_sample_itemset(alpha, allRatings, q,1)\n",
        "  dif,mat = getFalsePositives(asso_sample_itemset, baseline_itemsets)\n",
        "  print(\"Total Mismatches: {}, Total Matches {}\".format(dif,mat))\n",
        "  print(\"Percentage mimsmatch {:.2f}%\".format(100*dif/(dif+mat)))\n",
        "  mismatch_per.append(100*dif/(dif+mat))\n",
        "  sample_asso_rule = find_rules(asso_sample_itemset, 0.8, sample_Basket)\n",
        "  b = sum([1 for a in sample_asso_rule])\n",
        "  asso_rule_gen.append(b/baseline_rules)\n",
        "  print('')\n"
      ]
    },
    {
      "cell_type": "code",
      "source": [
        "fig = plt.figure(figsize=(25, 5), dpi=80)\n",
        "fig.subplots_adjust(hspace=0.4, wspace=0.2)\n",
        "plt.subplot(1, 2, 1)\n",
        "s = sns.lineplot(x=[str(r)+\"/609\" for r in range(100, 200, 10)],y=mismatch_per)\n",
        "s.set_xlabel(\"Minimum support(in counts)\")\n",
        "s.set_ylabel(\"% Mismatch\")\n",
        "plt.subplot(1, 2, 2)\n",
        "s = sns.lineplot(x=[str(r)+\"/609\" for r in range(100, 200, 10)],y=asso_rule_gen)\n",
        "s.set_xlabel(\"Minimum support(in counts)\")\n",
        "s.set_ylabel(\"% Raio of rules generated\")"
      ],
      "metadata": {
        "id": "JpihxG0ihLIK",
        "colab": {
          "base_uri": "https://localhost:8080/",
          "height": 388
        },
        "outputId": "02ce6b4d-b554-4e8f-e1b2-dbfadf91bb6a"
      },
      "execution_count": null,
      "outputs": [
        {
          "output_type": "execute_result",
          "data": {
            "text/plain": [
              "Text(0, 0.5, '% Raio of rules generated')"
            ]
          },
          "metadata": {},
          "execution_count": 77
        },
        {
          "output_type": "display_data",
          "data": {
            "image/png": "[encoded data removed]",
            "text/plain": [
              "<Figure size 2000x400 with 2 Axes>"
            ]
          },
          "metadata": {
            "needs_background": "light"
          }
        }
      ]
    },
    {
      "cell_type": "markdown",
      "metadata": {
        "id": "tgpWjmXh_91h"
      },
      "source": [
        "The below results take the base support of 100/609. That is, mismatches are calculated based on this baseline\n",
        "*  The results graphs shows, when we increase the minimum support from 100 to 200 of the 609 users, the amount of mismatch increases. This result too is intuitive since when we increased the minimum support, we made it harder for the associations to qualify. Thus, many pair or triplet or quadruplets which were present in the original dataset, would not be present in the one with higher support."
      ]
    },
    {
      "cell_type": "markdown",
      "metadata": {
        "id": "Wt4JCrwcAHal"
      },
      "source": [
        "### (5pts) Step 5: Extensions and Next Steps\n",
        "\n",
        "So far, we have been working with a fairly small dataset. For this last question, try your sampling-based approach on the much larger: **Movies 10M** dataset: https://files.grouplens.org/datasets/movielens/ml-10m.zip\n",
        "\n",
        "First, we need to load this larger dataset:"
      ]
    },
    {
      "cell_type": "code",
      "execution_count": null,
      "metadata": {
        "colab": {
          "base_uri": "https://localhost:8080/"
        },
        "id": "iG7qBkj7AVou",
        "outputId": "49739591-1c7f-44c6-bc7c-0a5913a2d9b1"
      },
      "outputs": [
        {
          "output_type": "stream",
          "name": "stderr",
          "text": [
            "/usr/local/lib/python3.7/dist-packages/urllib3/connectionpool.py:847: InsecureRequestWarning: Unverified HTTPS request is being made. Adding certificate verification is strongly advised. See: https://urllib3.readthedocs.io/en/latest/advanced-usage.html#ssl-warnings\n",
            "  InsecureRequestWarning)\n"
          ]
        }
      ],
      "source": [
        "import urllib3\n",
        "import zipfile\n",
        "\n",
        "http = urllib3.PoolManager()\n",
        "req = http.request(\"GET\", \"https://files.grouplens.org/datasets/movielens/ml-10m.zip\", preload_content=False)\n",
        "\n",
        "with open(\"movie.zip\", 'wb') as out:\n",
        "  while True:\n",
        "    data = req.read(4096)\n",
        "    if not data:\n",
        "      break\n",
        "    out.write(data)\n",
        "req.release_conn()\n",
        "\n",
        "zFile = zipfile.ZipFile(\"movie.zip\", \"r\")\n",
        "for fileM in zFile.namelist():\n",
        "  zFile.extract(fileM)"
      ]
    },
    {
      "cell_type": "code",
      "execution_count": null,
      "metadata": {
        "colab": {
          "base_uri": "https://localhost:8080/"
        },
        "id": "6Hi45CqJht7n",
        "outputId": "ed576043-eaf4-4891-c942-c3878153a6a8"
      },
      "outputs": [
        {
          "output_type": "stream",
          "name": "stdout",
          "text": [
            "allbut.pl  movies.dat  ratings.dat  README.html  split_ratings.sh  tags.dat\n"
          ]
        }
      ],
      "source": [
        "! ls ml-10M100K/"
      ]
    },
    {
      "cell_type": "code",
      "execution_count": null,
      "metadata": {
        "colab": {
          "base_uri": "https://localhost:8080/",
          "height": 424
        },
        "id": "V_jdR72WiR2F",
        "outputId": "3cd4c98b-a842-44b9-ff6b-3cd914ccb9bb"
      },
      "outputs": [
        {
          "output_type": "execute_result",
          "data": {
            "text/html": [
              "\n",
              "  <div id=\"df-19493697-7289-4eea-807e-cee7b6af880b\">\n",
              "    <div class=\"colab-df-container\">\n",
              "      <div>\n",
              "<style scoped>\n",
              "    .dataframe tbody tr th:only-of-type {\n",
              "        vertical-align: middle;\n",
              "    }\n",
              "\n",
              "    .dataframe tbody tr th {\n",
              "        vertical-align: top;\n",
              "    }\n",
              "\n",
              "    .dataframe thead th {\n",
              "        text-align: right;\n",
              "    }\n",
              "</style>\n",
              "<table border=\"1\" class=\"dataframe\">\n",
              "  <thead>\n",
              "    <tr style=\"text-align: right;\">\n",
              "      <th></th>\n",
              "      <th>userId</th>\n",
              "      <th>movieId</th>\n",
              "      <th>rating</th>\n",
              "      <th>timestamp</th>\n",
              "    </tr>\n",
              "  </thead>\n",
              "  <tbody>\n",
              "    <tr>\n",
              "      <th>0</th>\n",
              "      <td>1</td>\n",
              "      <td>122</td>\n",
              "      <td>5.0</td>\n",
              "      <td>838985046</td>\n",
              "    </tr>\n",
              "    <tr>\n",
              "      <th>1</th>\n",
              "      <td>1</td>\n",
              "      <td>185</td>\n",
              "      <td>5.0</td>\n",
              "      <td>838983525</td>\n",
              "    </tr>\n",
              "    <tr>\n",
              "      <th>2</th>\n",
              "      <td>1</td>\n",
              "      <td>231</td>\n",
              "      <td>5.0</td>\n",
              "      <td>838983392</td>\n",
              "    </tr>\n",
              "    <tr>\n",
              "      <th>3</th>\n",
              "      <td>1</td>\n",
              "      <td>292</td>\n",
              "      <td>5.0</td>\n",
              "      <td>838983421</td>\n",
              "    </tr>\n",
              "    <tr>\n",
              "      <th>4</th>\n",
              "      <td>1</td>\n",
              "      <td>316</td>\n",
              "      <td>5.0</td>\n",
              "      <td>838983392</td>\n",
              "    </tr>\n",
              "    <tr>\n",
              "      <th>...</th>\n",
              "      <td>...</td>\n",
              "      <td>...</td>\n",
              "      <td>...</td>\n",
              "      <td>...</td>\n",
              "    </tr>\n",
              "    <tr>\n",
              "      <th>10000049</th>\n",
              "      <td>71567</td>\n",
              "      <td>2107</td>\n",
              "      <td>1.0</td>\n",
              "      <td>912580553</td>\n",
              "    </tr>\n",
              "    <tr>\n",
              "      <th>10000050</th>\n",
              "      <td>71567</td>\n",
              "      <td>2126</td>\n",
              "      <td>2.0</td>\n",
              "      <td>912649143</td>\n",
              "    </tr>\n",
              "    <tr>\n",
              "      <th>10000051</th>\n",
              "      <td>71567</td>\n",
              "      <td>2294</td>\n",
              "      <td>5.0</td>\n",
              "      <td>912577968</td>\n",
              "    </tr>\n",
              "    <tr>\n",
              "      <th>10000052</th>\n",
              "      <td>71567</td>\n",
              "      <td>2338</td>\n",
              "      <td>2.0</td>\n",
              "      <td>912578016</td>\n",
              "    </tr>\n",
              "    <tr>\n",
              "      <th>10000053</th>\n",
              "      <td>71567</td>\n",
              "      <td>2384</td>\n",
              "      <td>2.0</td>\n",
              "      <td>912578173</td>\n",
              "    </tr>\n",
              "  </tbody>\n",
              "</table>\n",
              "<p>10000054 rows × 4 columns</p>\n",
              "</div>\n",
              "      <button class=\"colab-df-convert\" onclick=\"convertToInteractive('df-19493697-7289-4eea-807e-cee7b6af880b')\"\n",
              "              title=\"Convert this dataframe to an interactive table.\"\n",
              "              style=\"display:none;\">\n",
              "        \n",
              "  <svg xmlns=\"http://www.w3.org/2000/svg\" height=\"24px\"viewBox=\"0 0 24 24\"\n",
              "       width=\"24px\">\n",
              "    <path d=\"M0 0h24v24H0V0z\" fill=\"none\"/>\n",
              "    <path d=\"M18.56 5.44l.94 2.06.94-2.06 2.06-.94-2.06-.94-.94-2.06-.94 2.06-2.06.94zm-11 1L8.5 8.5l.94-2.06 2.06-.94-2.06-.94L8.5 2.5l-.94 2.06-2.06.94zm10 10l.94 2.06.94-2.06 2.06-.94-2.06-.94-.94-2.06-.94 2.06-2.06.94z\"/><path d=\"M17.41 7.96l-1.37-1.37c-.4-.4-.92-.59-1.43-.59-.52 0-1.04.2-1.43.59L10.3 9.45l-7.72 7.72c-.78.78-.78 2.05 0 2.83L4 21.41c.39.39.9.59 1.41.59.51 0 1.02-.2 1.41-.59l7.78-7.78 2.81-2.81c.8-.78.8-2.07 0-2.86zM5.41 20L4 18.59l7.72-7.72 1.47 1.35L5.41 20z\"/>\n",
              "  </svg>\n",
              "      </button>\n",
              "      \n",
              "  <style>\n",
              "    .colab-df-container {\n",
              "      display:flex;\n",
              "      flex-wrap:wrap;\n",
              "      gap: 12px;\n",
              "    }\n",
              "\n",
              "    .colab-df-convert {\n",
              "      background-color: #E8F0FE;\n",
              "      border: none;\n",
              "      border-radius: 50%;\n",
              "      cursor: pointer;\n",
              "      display: none;\n",
              "      fill: #1967D2;\n",
              "      height: 32px;\n",
              "      padding: 0 0 0 0;\n",
              "      width: 32px;\n",
              "    }\n",
              "\n",
              "    .colab-df-convert:hover {\n",
              "      background-color: #E2EBFA;\n",
              "      box-shadow: 0px 1px 2px rgba(60, 64, 67, 0.3), 0px 1px 3px 1px rgba(60, 64, 67, 0.15);\n",
              "      fill: #174EA6;\n",
              "    }\n",
              "\n",
              "    [theme=dark] .colab-df-convert {\n",
              "      background-color: #3B4455;\n",
              "      fill: #D2E3FC;\n",
              "    }\n",
              "\n",
              "    [theme=dark] .colab-df-convert:hover {\n",
              "      background-color: #434B5C;\n",
              "      box-shadow: 0px 1px 3px 1px rgba(0, 0, 0, 0.15);\n",
              "      filter: drop-shadow(0px 1px 2px rgba(0, 0, 0, 0.3));\n",
              "      fill: #FFFFFF;\n",
              "    }\n",
              "  </style>\n",
              "\n",
              "      <script>\n",
              "        const buttonEl =\n",
              "          document.querySelector('#df-19493697-7289-4eea-807e-cee7b6af880b button.colab-df-convert');\n",
              "        buttonEl.style.display =\n",
              "          google.colab.kernel.accessAllowed ? 'block' : 'none';\n",
              "\n",
              "        async function convertToInteractive(key) {\n",
              "          const element = document.querySelector('#df-19493697-7289-4eea-807e-cee7b6af880b');\n",
              "          const dataTable =\n",
              "            await google.colab.kernel.invokeFunction('convertToInteractive',\n",
              "                                                     [key], {});\n",
              "          if (!dataTable) return;\n",
              "\n",
              "          const docLinkHtml = 'Like what you see? Visit the ' +\n",
              "            '<a target=\"_blank\" href=https://colab.research.google.com/notebooks/data_table.ipynb>data table notebook</a>'\n",
              "            + ' to learn more about interactive tables.';\n",
              "          element.innerHTML = '';\n",
              "          dataTable['output_type'] = 'display_data';\n",
              "          await google.colab.output.renderOutput(dataTable, element);\n",
              "          const docLink = document.createElement('div');\n",
              "          docLink.innerHTML = docLinkHtml;\n",
              "          element.appendChild(docLink);\n",
              "        }\n",
              "      </script>\n",
              "    </div>\n",
              "  </div>\n",
              "  "
            ],
            "text/plain": [
              "          userId  movieId  rating  timestamp\n",
              "0              1      122     5.0  838985046\n",
              "1              1      185     5.0  838983525\n",
              "2              1      231     5.0  838983392\n",
              "3              1      292     5.0  838983421\n",
              "4              1      316     5.0  838983392\n",
              "...          ...      ...     ...        ...\n",
              "10000049   71567     2107     1.0  912580553\n",
              "10000050   71567     2126     2.0  912649143\n",
              "10000051   71567     2294     5.0  912577968\n",
              "10000052   71567     2338     2.0  912578016\n",
              "10000053   71567     2384     2.0  912578173\n",
              "\n",
              "[10000054 rows x 4 columns]"
            ]
          },
          "metadata": {},
          "execution_count": 80
        }
      ],
      "source": [
        "import pandas as pd\n",
        "# read user ratings\n",
        "allRatings = pd.read_csv(\"ml-10M100K/ratings.dat\",sep='::', names=[\"userId\", \"movieId\", \"rating\", \"timestamp\"], engine='python')\n",
        "allRatings"
      ]
    },
    {
      "cell_type": "markdown",
      "metadata": {
        "id": "WEX9wu7ewIqb"
      },
      "source": [
        "Now you can begin your sampling over this larger dataset."
      ]
    },
    {
      "cell_type": "code",
      "execution_count": null,
      "metadata": {
        "colab": {
          "base_uri": "https://localhost:8080/"
        },
        "id": "VYRlIEyulq2X",
        "outputId": "5981653e-2c45-4477-d86c-afc169169b45"
      },
      "outputs": [
        {
          "output_type": "stream",
          "name": "stderr",
          "text": [
            "100%|██████████| 10440/10440 [00:04<00:00, 2172.35it/s]\n"
          ]
        },
        {
          "output_type": "stream",
          "name": "stdout",
          "text": [
            "768\n"
          ]
        },
        {
          "output_type": "stream",
          "name": "stderr",
          "text": [
            "100%|██████████| 95284/95284 [00:43<00:00, 2190.33it/s]\n"
          ]
        },
        {
          "output_type": "stream",
          "name": "stdout",
          "text": [
            "857\n"
          ]
        },
        {
          "output_type": "stream",
          "name": "stderr",
          "text": [
            "100%|██████████| 270725/270725 [02:12<00:00, 2040.96it/s]\n"
          ]
        },
        {
          "output_type": "stream",
          "name": "stdout",
          "text": [
            "399\n"
          ]
        },
        {
          "output_type": "stream",
          "name": "stderr",
          "text": [
            "100%|██████████| 169911/169911 [01:20<00:00, 2113.65it/s]\n"
          ]
        },
        {
          "output_type": "stream",
          "name": "stdout",
          "text": [
            "34\n"
          ]
        },
        {
          "output_type": "stream",
          "name": "stderr",
          "text": [
            "100%|██████████| 924/924 [00:00<00:00, 1990.60it/s]\n"
          ]
        },
        {
          "output_type": "stream",
          "name": "stdout",
          "text": [
            "0\n"
          ]
        }
      ],
      "source": [
        "alpha = 1/50\n",
        "minsup_sample = 100\n",
        "asso_sample_itemset_big, sample_Basket_big = get_sample_itemset(alpha, allRatings, minsup_sample,1)\n",
        "sample_asso_rule_big = find_rules(asso_sample_itemset_big, 0.8, sample_Basket_big)"
      ]
    },
    {
      "cell_type": "code",
      "source": [
        "print('The number of frequent item sets : {}'.format(sum([len(asso_sample_itemset_big[a]) for a in asso_sample_itemset_big.keys()])))\n",
        "printRule(sample_asso_rule_big)\n",
        "# print(len(sample_Basket_big))"
      ],
      "metadata": {
        "colab": {
          "base_uri": "https://localhost:8080/"
        },
        "id": "679Vr6FjlL6q",
        "outputId": "c7235fae-86ee-4684-fa86-002d7f5c6cf8"
      },
      "execution_count": null,
      "outputs": [
        {
          "output_type": "stream",
          "name": "stdout",
          "text": [
            "The number of frequent item sets : 2058\n",
            "{ Sleepless in Seattle (1993) , }-> Forrest Gump (1994)\n",
            "{ Reservoir Dogs (1992) , }-> Silence of the Lambs, The (1991)\n",
            "{ Reservoir Dogs (1992) , }-> Pulp Fiction (1994)\n",
            "{ Home Alone (1990) , }-> Forrest Gump (1994)\n",
            "{ Home Alone (1990) , }-> Jurassic Park (1993)\n",
            "{ Terminator, The (1984) , }-> Terminator 2: Judgment Day (1991)\n",
            "{ Ghost (1990) , }-> Forrest Gump (1994)\n",
            "{ Batman Forever (1995) , }-> Batman (1989)\n",
            "{ Star Trek: Generations (1994) , }-> Batman (1989)\n",
            "{ Pretty Woman (1990) , }-> Forrest Gump (1994)\n",
            "{ Crimson Tide (1995) , }-> Apollo 13 (1995)\n",
            "{ Aliens (1986) , }-> Star Wars: Episode V - The Empire Strikes Back (1980)\n",
            "{ Indiana Jones and the Last Crusade (1989) , }-> Raiders of the Lost Ark (Indiana Jones and the Raiders of the Lost Ark) (1981)\n",
            "{ Aliens (1986) , }-> Alien (1979)\n",
            "{ Godfather: Part II, The (1974) , }-> Godfather, The (1972)\n",
            "{ Outbreak (1995) , }-> Fugitive, The (1993)\n",
            "{ Lord of the Rings: The Two Towers, The (2002) , }-> Lord of the Rings: The Fellowship of the Ring, The (2001)\n",
            "{ Lord of the Rings: The Return of the King, The (2003) , }-> Lord of the Rings: The Two Towers, The (2002)\n",
            "{ Clear and Present Danger (1994) , }-> Fugitive, The (1993)\n",
            "{ Firm, The (1993) , }-> Forrest Gump (1994)\n",
            "{ Mrs. Doubtfire (1993) , }-> Forrest Gump (1994)\n",
            "{ Philadelphia (1993) , }-> Forrest Gump (1994)\n",
            "{ Speed (1994) , }-> Jurassic Park (1993)\n",
            "{ Lord of the Rings: The Return of the King, The (2003) , }-> Lord of the Rings: The Fellowship of the Ring, The (2001)\n",
            "{ Firm, The (1993) , }-> Fugitive, The (1993)\n",
            "{ Mrs. Doubtfire (1993) , }-> Jurassic Park (1993)\n",
            "{ Toy Story (1995) , Star Wars: Episode V - The Empire Strikes Back (1980) , }-> Star Wars: Episode IV - A New Hope (1977)\n",
            "{ Toy Story (1995) , Star Wars: Episode VI - Return of the Jedi (1983) , }-> Star Wars: Episode IV - A New Hope (1977)\n",
            "{ GoldenEye (1995) , Terminator 2: Judgment Day (1991) , }-> Jurassic Park (1993)\n",
            "{ Jurassic Park (1993) , GoldenEye (1995) , }-> Terminator 2: Judgment Day (1991)\n",
            "{ GoldenEye (1995) , True Lies (1994) , }-> Batman (1989)\n",
            "{ Batman (1989) , GoldenEye (1995) , }-> True Lies (1994)\n",
            "{ Fugitive, The (1993) , GoldenEye (1995) , }-> Batman (1989)\n",
            "{ Batman (1989) , GoldenEye (1995) , }-> Fugitive, The (1993)\n",
            "{ GoldenEye (1995) , True Lies (1994) , }-> Fugitive, The (1993)\n",
            "{ Fugitive, The (1993) , GoldenEye (1995) , }-> True Lies (1994)\n",
            "{ Fugitive, The (1993) , GoldenEye (1995) , }-> Jurassic Park (1993)\n",
            "{ Jurassic Park (1993) , GoldenEye (1995) , }-> Fugitive, The (1993)\n",
            "{ Usual Suspects, The (1995) , Matrix, The (1999) , }-> Silence of the Lambs, The (1991)\n",
            "{ Terminator, The (1984) , Matrix, The (1999) , }-> Terminator 2: Judgment Day (1991)\n",
            "{ Pulp Fiction (1994) , Matrix, The (1999) , }-> Silence of the Lambs, The (1991)\n",
            "{ Matrix, The (1999) , Raiders of the Lost Ark (Indiana Jones and the Raiders of the Lost Ark) (1981) , }-> Star Wars: Episode V - The Empire Strikes Back (1980)\n",
            "{ Matrix, The (1999) , Star Wars: Episode V - The Empire Strikes Back (1980) , }-> Star Wars: Episode VI - Return of the Jedi (1983)\n",
            "{ Star Wars: Episode VI - Return of the Jedi (1983) , Matrix, The (1999) , }-> Star Wars: Episode V - The Empire Strikes Back (1980)\n",
            "{ Matrix, The (1999) , Star Wars: Episode IV - A New Hope (1977) , }-> Star Wars: Episode V - The Empire Strikes Back (1980)\n",
            "{ Matrix, The (1999) , Star Wars: Episode V - The Empire Strikes Back (1980) , }-> Star Wars: Episode IV - A New Hope (1977)\n",
            "{ Matrix, The (1999) , Indiana Jones and the Last Crusade (1989) , }-> Raiders of the Lost Ark (Indiana Jones and the Raiders of the Lost Ark) (1981)\n",
            "{ Matrix, The (1999) , Star Wars: Episode IV - A New Hope (1977) , }-> Star Wars: Episode VI - Return of the Jedi (1983)\n",
            "{ Star Wars: Episode VI - Return of the Jedi (1983) , Matrix, The (1999) , }-> Star Wars: Episode IV - A New Hope (1977)\n",
            "{ Die Hard (1988) , Raiders of the Lost Ark (Indiana Jones and the Raiders of the Lost Ark) (1981) , }-> Star Wars: Episode V - The Empire Strikes Back (1980)\n",
            "{ Star Wars: Episode V - The Empire Strikes Back (1980) , Die Hard (1988) , }-> Raiders of the Lost Ark (Indiana Jones and the Raiders of the Lost Ark) (1981)\n",
            "{ Star Wars: Episode V - The Empire Strikes Back (1980) , Die Hard (1988) , }-> Star Wars: Episode VI - Return of the Jedi (1983)\n",
            "{ Star Wars: Episode VI - Return of the Jedi (1983) , Die Hard (1988) , }-> Star Wars: Episode V - The Empire Strikes Back (1980)\n",
            "{ Die Hard (1988) , Star Wars: Episode IV - A New Hope (1977) , }-> Star Wars: Episode V - The Empire Strikes Back (1980)\n",
            "{ Star Wars: Episode V - The Empire Strikes Back (1980) , Die Hard (1988) , }-> Star Wars: Episode IV - A New Hope (1977)\n",
            "{ Die Hard (1988) , Star Wars: Episode IV - A New Hope (1977) , }-> Star Wars: Episode VI - Return of the Jedi (1983)\n",
            "{ Star Wars: Episode VI - Return of the Jedi (1983) , Die Hard (1988) , }-> Star Wars: Episode IV - A New Hope (1977)\n",
            "{ Twelve Monkeys (a.k.a. 12 Monkeys) (1995) , Schindler's List (1993) , }-> Silence of the Lambs, The (1991)\n",
            "{ Twelve Monkeys (a.k.a. 12 Monkeys) (1995) , Schindler's List (1993) , }-> Pulp Fiction (1994)\n",
            "{ Twelve Monkeys (a.k.a. 12 Monkeys) (1995) , Schindler's List (1993) , }-> Shawshank Redemption, The (1994)\n",
            "{ Schindler's List (1993) , Seven (a.k.a. Se7en) (1995) , }-> Silence of the Lambs, The (1991)\n",
            "{ Schindler's List (1993) , Seven (a.k.a. Se7en) (1995) , }-> Pulp Fiction (1994)\n",
            "{ Schindler's List (1993) , Seven (a.k.a. Se7en) (1995) , }-> Forrest Gump (1994)\n",
            "{ Usual Suspects, The (1995) , Schindler's List (1993) , }-> Silence of the Lambs, The (1991)\n",
            "{ Usual Suspects, The (1995) , Schindler's List (1993) , }-> Pulp Fiction (1994)\n",
            "{ Usual Suspects, The (1995) , Schindler's List (1993) , }-> Shawshank Redemption, The (1994)\n",
            "{ Terminator 2: Judgment Day (1991) , Schindler's List (1993) , }-> Silence of the Lambs, The (1991)\n",
            "{ Dances with Wolves (1990) , Schindler's List (1993) , }-> Silence of the Lambs, The (1991)\n",
            "{ Dances with Wolves (1990) , Schindler's List (1993) , }-> Forrest Gump (1994)\n",
            "{ Batman (1989) , Schindler's List (1993) , }-> Silence of the Lambs, The (1991)\n",
            "{ Batman (1989) , Schindler's List (1993) , }-> Forrest Gump (1994)\n",
            "{ Fargo (1996) , Schindler's List (1993) , }-> Silence of the Lambs, The (1991)\n",
            "{ Braveheart (1995) , Schindler's List (1993) , }-> Silence of the Lambs, The (1991)\n",
            "{ Apollo 13 (1995) , Schindler's List (1993) , }-> Silence of the Lambs, The (1991)\n",
            "{ Pulp Fiction (1994) , Schindler's List (1993) , }-> Silence of the Lambs, The (1991)\n",
            "{ Speed (1994) , Schindler's List (1993) , }-> Silence of the Lambs, The (1991)\n",
            "{ Fugitive, The (1993) , Schindler's List (1993) , }-> Silence of the Lambs, The (1991)\n",
            "{ Jurassic Park (1993) , Schindler's List (1993) , }-> Silence of the Lambs, The (1991)\n",
            "{ Fargo (1996) , Schindler's List (1993) , }-> Shawshank Redemption, The (1994)\n",
            "{ Braveheart (1995) , Schindler's List (1993) , }-> Forrest Gump (1994)\n",
            "{ Apollo 13 (1995) , Schindler's List (1993) , }-> Forrest Gump (1994)\n",
            "{ Star Wars: Episode IV - A New Hope (1977) , Schindler's List (1993) , }-> Star Wars: Episode V - The Empire Strikes Back (1980)\n",
            "{ Star Wars: Episode V - The Empire Strikes Back (1980) , Schindler's List (1993) , }-> Star Wars: Episode IV - A New Hope (1977)\n",
            "{ Star Wars: Episode IV - A New Hope (1977) , Schindler's List (1993) , }-> Shawshank Redemption, The (1994)\n",
            "{ Speed (1994) , Schindler's List (1993) , }-> Forrest Gump (1994)\n",
            "{ True Lies (1994) , Schindler's List (1993) , }-> Forrest Gump (1994)\n",
            "{ Fugitive, The (1993) , Schindler's List (1993) , }-> Forrest Gump (1994)\n",
            "{ Jurassic Park (1993) , Schindler's List (1993) , }-> Forrest Gump (1994)\n",
            "{ Speed (1994) , Schindler's List (1993) , }-> Jurassic Park (1993)\n",
            "{ Sleepless in Seattle (1993) , Pretty Woman (1990) , }-> Forrest Gump (1994)\n",
            "{ Fugitive, The (1993) , Sleepless in Seattle (1993) , }-> Forrest Gump (1994)\n",
            "{ Sleepless in Seattle (1993) , Forrest Gump (1994) , }-> Jurassic Park (1993)\n",
            "{ Jurassic Park (1993) , Sleepless in Seattle (1993) , }-> Forrest Gump (1994)\n",
            "{ Star Wars: Episode V - The Empire Strikes Back (1980) , Blade Runner (1982) , }-> Star Wars: Episode IV - A New Hope (1977)\n",
            "{ Star Wars: Episode IV - A New Hope (1977) , Blade Runner (1982) , }-> Star Wars: Episode V - The Empire Strikes Back (1980)\n",
            "{ Twelve Monkeys (a.k.a. 12 Monkeys) (1995) , Seven (a.k.a. Se7en) (1995) , }-> Silence of the Lambs, The (1991)\n",
            "{ Twelve Monkeys (a.k.a. 12 Monkeys) (1995) , Seven (a.k.a. Se7en) (1995) , }-> Pulp Fiction (1994)\n",
            "{ Twelve Monkeys (a.k.a. 12 Monkeys) (1995) , Seven (a.k.a. Se7en) (1995) , }-> Shawshank Redemption, The (1994)\n",
            "{ Twelve Monkeys (a.k.a. 12 Monkeys) (1995) , Usual Suspects, The (1995) , }-> Silence of the Lambs, The (1991)\n",
            "{ Twelve Monkeys (a.k.a. 12 Monkeys) (1995) , Usual Suspects, The (1995) , }-> Pulp Fiction (1994)\n",
            "{ Twelve Monkeys (a.k.a. 12 Monkeys) (1995) , Usual Suspects, The (1995) , }-> Shawshank Redemption, The (1994)\n",
            "{ Twelve Monkeys (a.k.a. 12 Monkeys) (1995) , Jurassic Park (1993) , }-> Terminator 2: Judgment Day (1991)\n",
            "{ Twelve Monkeys (a.k.a. 12 Monkeys) (1995) , Batman (1989) , }-> Silence of the Lambs, The (1991)\n",
            "{ Twelve Monkeys (a.k.a. 12 Monkeys) (1995) , Batman (1989) , }-> Pulp Fiction (1994)\n",
            "{ Twelve Monkeys (a.k.a. 12 Monkeys) (1995) , Braveheart (1995) , }-> Silence of the Lambs, The (1991)\n",
            "{ Twelve Monkeys (a.k.a. 12 Monkeys) (1995) , Pulp Fiction (1994) , }-> Silence of the Lambs, The (1991)\n",
            "{ Twelve Monkeys (a.k.a. 12 Monkeys) (1995) , Silence of the Lambs, The (1991) , }-> Pulp Fiction (1994)\n",
            "{ Twelve Monkeys (a.k.a. 12 Monkeys) (1995) , Shawshank Redemption, The (1994) , }-> Silence of the Lambs, The (1991)\n",
            "{ Twelve Monkeys (a.k.a. 12 Monkeys) (1995) , Forrest Gump (1994) , }-> Silence of the Lambs, The (1991)\n",
            "{ Twelve Monkeys (a.k.a. 12 Monkeys) (1995) , Fugitive, The (1993) , }-> Silence of the Lambs, The (1991)\n",
            "{ Twelve Monkeys (a.k.a. 12 Monkeys) (1995) , Jurassic Park (1993) , }-> Silence of the Lambs, The (1991)\n",
            "{ Twelve Monkeys (a.k.a. 12 Monkeys) (1995) , Braveheart (1995) , }-> Pulp Fiction (1994)\n",
            "{ Twelve Monkeys (a.k.a. 12 Monkeys) (1995) , Apollo 13 (1995) , }-> Pulp Fiction (1994)\n",
            "{ Twelve Monkeys (a.k.a. 12 Monkeys) (1995) , Star Wars: Episode VI - Return of the Jedi (1983) , }-> Star Wars: Episode IV - A New Hope (1977)\n",
            "{ Twelve Monkeys (a.k.a. 12 Monkeys) (1995) , Shawshank Redemption, The (1994) , }-> Pulp Fiction (1994)\n",
            "{ Twelve Monkeys (a.k.a. 12 Monkeys) (1995) , Forrest Gump (1994) , }-> Pulp Fiction (1994)\n",
            "{ Twelve Monkeys (a.k.a. 12 Monkeys) (1995) , True Lies (1994) , }-> Pulp Fiction (1994)\n",
            "{ Twelve Monkeys (a.k.a. 12 Monkeys) (1995) , Fugitive, The (1993) , }-> Pulp Fiction (1994)\n",
            "{ Usual Suspects, The (1995) , Seven (a.k.a. Se7en) (1995) , }-> Silence of the Lambs, The (1991)\n",
            "{ Usual Suspects, The (1995) , Seven (a.k.a. Se7en) (1995) , }-> Pulp Fiction (1994)\n",
            "{ Usual Suspects, The (1995) , Seven (a.k.a. Se7en) (1995) , }-> Shawshank Redemption, The (1994)\n",
            "{ Terminator 2: Judgment Day (1991) , Seven (a.k.a. Se7en) (1995) , }-> Silence of the Lambs, The (1991)\n",
            "{ Terminator 2: Judgment Day (1991) , Seven (a.k.a. Se7en) (1995) , }-> Forrest Gump (1994)\n",
            "{ Speed (1994) , Seven (a.k.a. Se7en) (1995) , }-> Terminator 2: Judgment Day (1991)\n",
            "{ True Lies (1994) , Seven (a.k.a. Se7en) (1995) , }-> Terminator 2: Judgment Day (1991)\n",
            "{ Terminator 2: Judgment Day (1991) , Seven (a.k.a. Se7en) (1995) , }-> Fugitive, The (1993)\n",
            "{ Terminator 2: Judgment Day (1991) , Seven (a.k.a. Se7en) (1995) , }-> Jurassic Park (1993)\n",
            "{ Jurassic Park (1993) , Seven (a.k.a. Se7en) (1995) , }-> Terminator 2: Judgment Day (1991)\n",
            "{ Dances with Wolves (1990) , Seven (a.k.a. Se7en) (1995) , }-> Silence of the Lambs, The (1991)\n",
            "{ Dances with Wolves (1990) , Seven (a.k.a. Se7en) (1995) , }-> Forrest Gump (1994)\n",
            "{ Dances with Wolves (1990) , Seven (a.k.a. Se7en) (1995) , }-> Fugitive, The (1993)\n",
            "{ Batman (1989) , Seven (a.k.a. Se7en) (1995) , }-> Silence of the Lambs, The (1991)\n",
            "{ Apollo 13 (1995) , Seven (a.k.a. Se7en) (1995) , }-> Batman (1989)\n",
            "{ Batman (1989) , Seven (a.k.a. Se7en) (1995) , }-> Pulp Fiction (1994)\n",
            "{ Batman (1989) , Seven (a.k.a. Se7en) (1995) , }-> Shawshank Redemption, The (1994)\n",
            "{ Batman (1989) , Seven (a.k.a. Se7en) (1995) , }-> Forrest Gump (1994)\n",
            "{ True Lies (1994) , Seven (a.k.a. Se7en) (1995) , }-> Batman (1989)\n",
            "{ Braveheart (1995) , Seven (a.k.a. Se7en) (1995) , }-> Silence of the Lambs, The (1991)\n",
            "{ Apollo 13 (1995) , Seven (a.k.a. Se7en) (1995) , }-> Silence of the Lambs, The (1991)\n",
            "{ Silence of the Lambs, The (1991) , Seven (a.k.a. Se7en) (1995) , }-> Pulp Fiction (1994)\n",
            "{ Pulp Fiction (1994) , Seven (a.k.a. Se7en) (1995) , }-> Silence of the Lambs, The (1991)\n",
            "{ Shawshank Redemption, The (1994) , Seven (a.k.a. Se7en) (1995) , }-> Silence of the Lambs, The (1991)\n",
            "{ Forrest Gump (1994) , Seven (a.k.a. Se7en) (1995) , }-> Silence of the Lambs, The (1991)\n",
            "{ Speed (1994) , Seven (a.k.a. Se7en) (1995) , }-> Silence of the Lambs, The (1991)\n",
            "{ True Lies (1994) , Seven (a.k.a. Se7en) (1995) , }-> Silence of the Lambs, The (1991)\n",
            "{ Fugitive, The (1993) , Seven (a.k.a. Se7en) (1995) , }-> Silence of the Lambs, The (1991)\n",
            "{ Jurassic Park (1993) , Seven (a.k.a. Se7en) (1995) , }-> Silence of the Lambs, The (1991)\n",
            "{ Braveheart (1995) , Seven (a.k.a. Se7en) (1995) , }-> Forrest Gump (1994)\n",
            "{ Apollo 13 (1995) , Seven (a.k.a. Se7en) (1995) , }-> Pulp Fiction (1994)\n",
            "{ Apollo 13 (1995) , Seven (a.k.a. Se7en) (1995) , }-> Forrest Gump (1994)\n",
            "{ Apollo 13 (1995) , Seven (a.k.a. Se7en) (1995) , }-> Fugitive, The (1993)\n",
            "{ Shawshank Redemption, The (1994) , Seven (a.k.a. Se7en) (1995) , }-> Pulp Fiction (1994)\n",
            "{ True Lies (1994) , Seven (a.k.a. Se7en) (1995) , }-> Pulp Fiction (1994)\n",
            "{ Speed (1994) , Seven (a.k.a. Se7en) (1995) , }-> Forrest Gump (1994)\n",
            "{ True Lies (1994) , Seven (a.k.a. Se7en) (1995) , }-> Forrest Gump (1994)\n",
            "{ Jurassic Park (1993) , Seven (a.k.a. Se7en) (1995) , }-> Forrest Gump (1994)\n",
            "{ Speed (1994) , Seven (a.k.a. Se7en) (1995) , }-> Fugitive, The (1993)\n",
            "{ Speed (1994) , Seven (a.k.a. Se7en) (1995) , }-> Jurassic Park (1993)\n",
            "{ True Lies (1994) , Seven (a.k.a. Se7en) (1995) , }-> Fugitive, The (1993)\n",
            "{ True Lies (1994) , Seven (a.k.a. Se7en) (1995) , }-> Jurassic Park (1993)\n",
            "{ Jurassic Park (1993) , Seven (a.k.a. Se7en) (1995) , }-> Fugitive, The (1993)\n",
            "{ Usual Suspects, The (1995) , Terminator 2: Judgment Day (1991) , }-> Silence of the Lambs, The (1991)\n",
            "{ Usual Suspects, The (1995) , Terminator 2: Judgment Day (1991) , }-> Pulp Fiction (1994)\n",
            "{ Usual Suspects, The (1995) , Terminator 2: Judgment Day (1991) , }-> Shawshank Redemption, The (1994)\n",
            "{ Jurassic Park (1993) , Usual Suspects, The (1995) , }-> Terminator 2: Judgment Day (1991)\n",
            "{ Batman (1989) , Usual Suspects, The (1995) , }-> Silence of the Lambs, The (1991)\n",
            "{ Batman (1989) , Usual Suspects, The (1995) , }-> Pulp Fiction (1994)\n",
            "{ Batman (1989) , Usual Suspects, The (1995) , }-> Shawshank Redemption, The (1994)\n",
            "{ Batman (1989) , Usual Suspects, The (1995) , }-> Fugitive, The (1993)\n",
            "{ Fargo (1996) , Usual Suspects, The (1995) , }-> Silence of the Lambs, The (1991)\n",
            "{ Usual Suspects, The (1995) , Braveheart (1995) , }-> Silence of the Lambs, The (1991)\n",
            "{ Usual Suspects, The (1995) , Apollo 13 (1995) , }-> Silence of the Lambs, The (1991)\n",
            "{ Usual Suspects, The (1995) , Star Wars: Episode IV - A New Hope (1977) , }-> Silence of the Lambs, The (1991)\n",
            "{ Silence of the Lambs, The (1991) , Usual Suspects, The (1995) , }-> Pulp Fiction (1994)\n",
            "{ Pulp Fiction (1994) , Usual Suspects, The (1995) , }-> Silence of the Lambs, The (1991)\n",
            "{ Usual Suspects, The (1995) , Forrest Gump (1994) , }-> Silence of the Lambs, The (1991)\n",
            "{ Speed (1994) , Usual Suspects, The (1995) , }-> Silence of the Lambs, The (1991)\n",
            "{ Usual Suspects, The (1995) , True Lies (1994) , }-> Silence of the Lambs, The (1991)\n",
            "{ Fugitive, The (1993) , Usual Suspects, The (1995) , }-> Silence of the Lambs, The (1991)\n",
            "{ Jurassic Park (1993) , Usual Suspects, The (1995) , }-> Silence of the Lambs, The (1991)\n",
            "{ Fargo (1996) , Usual Suspects, The (1995) , }-> Pulp Fiction (1994)\n",
            "{ Usual Suspects, The (1995) , Braveheart (1995) , }-> Shawshank Redemption, The (1994)\n",
            "{ Usual Suspects, The (1995) , Star Wars: Episode V - The Empire Strikes Back (1980) , }-> Star Wars: Episode IV - A New Hope (1977)\n",
            "{ Pulp Fiction (1994) , Usual Suspects, The (1995) , }-> Shawshank Redemption, The (1994)\n",
            "{ Usual Suspects, The (1995) , Forrest Gump (1994) , }-> Pulp Fiction (1994)\n",
            "{ Usual Suspects, The (1995) , Forrest Gump (1994) , }-> Shawshank Redemption, The (1994)\n",
            "{ Fugitive, The (1993) , Usual Suspects, The (1995) , }-> Shawshank Redemption, The (1994)\n",
            "{ Jurassic Park (1993) , Usual Suspects, The (1995) , }-> Forrest Gump (1994)\n",
            "{ Jurassic Park (1993) , Usual Suspects, The (1995) , }-> Fugitive, The (1993)\n",
            "{ E.T. the Extra-Terrestrial (1982) , Star Wars: Episode IV - A New Hope (1977) , }-> Star Wars: Episode V - The Empire Strikes Back (1980)\n",
            "{ E.T. the Extra-Terrestrial (1982) , Star Wars: Episode V - The Empire Strikes Back (1980) , }-> Star Wars: Episode IV - A New Hope (1977)\n",
            "{ Silence of the Lambs, The (1991) , Ghost (1990) , }-> Forrest Gump (1994)\n",
            "{ Ghost (1990) , Pretty Woman (1990) , }-> Forrest Gump (1994)\n",
            "{ Speed (1994) , Ghost (1990) , }-> Forrest Gump (1994)\n",
            "{ Ghost (1990) , Forrest Gump (1994) , }-> Fugitive, The (1993)\n",
            "{ Fugitive, The (1993) , Ghost (1990) , }-> Forrest Gump (1994)\n",
            "{ Ghost (1990) , Forrest Gump (1994) , }-> Jurassic Park (1993)\n",
            "{ Jurassic Park (1993) , Ghost (1990) , }-> Forrest Gump (1994)\n",
            "{ Fugitive, The (1993) , Ghost (1990) , }-> Jurassic Park (1993)\n",
            "{ Jurassic Park (1993) , Ghost (1990) , }-> Fugitive, The (1993)\n",
            "{ Aladdin (1992) , Terminator 2: Judgment Day (1991) , }-> Forrest Gump (1994)\n",
            "{ Aladdin (1992) , Terminator 2: Judgment Day (1991) , }-> Jurassic Park (1993)\n",
            "{ Batman (1989) , Beauty and the Beast (1991) , }-> Aladdin (1992)\n",
            "{ True Lies (1994) , Aladdin (1992) , }-> Batman (1989)\n",
            "{ Beauty and the Beast (1991) , Forrest Gump (1994) , }-> Aladdin (1992)\n",
            "{ Beauty and the Beast (1991) , Lion King, The (1994) , }-> Aladdin (1992)\n",
            "{ Fugitive, The (1993) , Beauty and the Beast (1991) , }-> Aladdin (1992)\n",
            "{ Lion King, The (1994) , Aladdin (1992) , }-> Forrest Gump (1994)\n",
            "{ Speed (1994) , Aladdin (1992) , }-> Forrest Gump (1994)\n",
            "{ Jurassic Park (1993) , Aladdin (1992) , }-> Forrest Gump (1994)\n",
            "{ Speed (1994) , Aladdin (1992) , }-> Jurassic Park (1993)\n",
            "{ Terminator 2: Judgment Day (1991) , Dances with Wolves (1990) , }-> Silence of the Lambs, The (1991)\n",
            "{ Terminator 2: Judgment Day (1991) , Dances with Wolves (1990) , }-> Forrest Gump (1994)\n",
            "{ Speed (1994) , Dances with Wolves (1990) , }-> Terminator 2: Judgment Day (1991)\n",
            "{ Terminator 2: Judgment Day (1991) , Dances with Wolves (1990) , }-> Fugitive, The (1993)\n",
            "{ Terminator 2: Judgment Day (1991) , Dances with Wolves (1990) , }-> Jurassic Park (1993)\n",
            "{ Terminator 2: Judgment Day (1991) , Clear and Present Danger (1994) , }-> Batman (1989)\n",
            "{ Batman (1989) , Terminator 2: Judgment Day (1991) , }-> Forrest Gump (1994)\n",
            "{ Batman (1989) , Speed (1994) , }-> Terminator 2: Judgment Day (1991)\n",
            "{ Batman (1989) , Terminator 2: Judgment Day (1991) , }-> Fugitive, The (1993)\n",
            "{ Batman (1989) , Terminator 2: Judgment Day (1991) , }-> Jurassic Park (1993)\n",
            "{ Batman (1989) , Jurassic Park (1993) , }-> Terminator 2: Judgment Day (1991)\n",
            "{ Terminator 2: Judgment Day (1991) , Pretty Woman (1990) , }-> Silence of the Lambs, The (1991)\n",
            "{ Fargo (1996) , Terminator 2: Judgment Day (1991) , }-> Silence of the Lambs, The (1991)\n",
            "{ Terminator 2: Judgment Day (1991) , Apollo 13 (1995) , }-> Silence of the Lambs, The (1991)\n",
            "{ Pulp Fiction (1994) , Terminator 2: Judgment Day (1991) , }-> Silence of the Lambs, The (1991)\n",
            "{ Terminator 2: Judgment Day (1991) , Shawshank Redemption, The (1994) , }-> Silence of the Lambs, The (1991)\n",
            "{ Terminator 2: Judgment Day (1991) , Clear and Present Danger (1994) , }-> Silence of the Lambs, The (1991)\n",
            "{ Silence of the Lambs, The (1991) , Speed (1994) , }-> Terminator 2: Judgment Day (1991)\n",
            "{ True Lies (1994) , Terminator 2: Judgment Day (1991) , }-> Silence of the Lambs, The (1991)\n",
            "{ Silence of the Lambs, The (1991) , Terminator 2: Judgment Day (1991) , }-> Jurassic Park (1993)\n",
            "{ Terminator 2: Judgment Day (1991) , Pretty Woman (1990) , }-> Forrest Gump (1994)\n",
            "{ Terminator 2: Judgment Day (1991) , Pretty Woman (1990) , }-> Speed (1994)\n",
            "{ Speed (1994) , Pretty Woman (1990) , }-> Terminator 2: Judgment Day (1991)\n",
            "{ Terminator 2: Judgment Day (1991) , Pretty Woman (1990) , }-> Jurassic Park (1993)\n",
            "{ Jurassic Park (1993) , Pretty Woman (1990) , }-> Terminator 2: Judgment Day (1991)\n",
            "{ Terminator 2: Judgment Day (1991) , Braveheart (1995) , }-> Forrest Gump (1994)\n",
            "{ Speed (1994) , Braveheart (1995) , }-> Terminator 2: Judgment Day (1991)\n",
            "{ Terminator 2: Judgment Day (1991) , Braveheart (1995) , }-> Jurassic Park (1993)\n",
            "{ Jurassic Park (1993) , Braveheart (1995) , }-> Terminator 2: Judgment Day (1991)\n",
            "{ Terminator 2: Judgment Day (1991) , Apollo 13 (1995) , }-> Forrest Gump (1994)\n",
            "{ Terminator 2: Judgment Day (1991) , Apollo 13 (1995) , }-> Fugitive, The (1993)\n",
            "{ Terminator 2: Judgment Day (1991) , Apollo 13 (1995) , }-> Jurassic Park (1993)\n",
            "{ Terminator 2: Judgment Day (1991) , Die Hard: With a Vengeance (1995) , }-> Forrest Gump (1994)\n",
            "{ Forrest Gump (1994) , Die Hard: With a Vengeance (1995) , }-> Terminator 2: Judgment Day (1991)\n",
            "{ Terminator 2: Judgment Day (1991) , Die Hard: With a Vengeance (1995) , }-> Speed (1994)\n",
            "{ Speed (1994) , Die Hard: With a Vengeance (1995) , }-> Terminator 2: Judgment Day (1991)\n",
            "{ Terminator 2: Judgment Day (1991) , Die Hard: With a Vengeance (1995) , }-> True Lies (1994)\n",
            "{ Terminator 2: Judgment Day (1991) , Die Hard: With a Vengeance (1995) , }-> Fugitive, The (1993)\n",
            "{ Terminator 2: Judgment Day (1991) , Die Hard: With a Vengeance (1995) , }-> Jurassic Park (1993)\n",
            "{ Jurassic Park (1993) , Die Hard: With a Vengeance (1995) , }-> Terminator 2: Judgment Day (1991)\n",
            "{ Terminator 2: Judgment Day (1991) , Raiders of the Lost Ark (Indiana Jones and the Raiders of the Lost Ark) (1981) , }-> Star Wars: Episode V - The Empire Strikes Back (1980)\n",
            "{ Star Wars: Episode V - The Empire Strikes Back (1980) , Terminator 2: Judgment Day (1991) , }-> Star Wars: Episode VI - Return of the Jedi (1983)\n",
            "{ Star Wars: Episode VI - Return of the Jedi (1983) , Terminator 2: Judgment Day (1991) , }-> Star Wars: Episode V - The Empire Strikes Back (1980)\n",
            "{ Star Wars: Episode V - The Empire Strikes Back (1980) , Terminator 2: Judgment Day (1991) , }-> Terminator, The (1984)\n",
            "{ Terminator, The (1984) , Terminator 2: Judgment Day (1991) , }-> Star Wars: Episode V - The Empire Strikes Back (1980)\n",
            "{ Terminator, The (1984) , Star Wars: Episode V - The Empire Strikes Back (1980) , }-> Terminator 2: Judgment Day (1991)\n",
            "{ Terminator 2: Judgment Day (1991) , Back to the Future (1985) , }-> Star Wars: Episode V - The Empire Strikes Back (1980)\n",
            "{ Star Wars: Episode V - The Empire Strikes Back (1980) , Terminator 2: Judgment Day (1991) , }-> Star Wars: Episode IV - A New Hope (1977)\n",
            "{ Star Wars: Episode IV - A New Hope (1977) , Terminator 2: Judgment Day (1991) , }-> Star Wars: Episode V - The Empire Strikes Back (1980)\n",
            "{ Terminator 2: Judgment Day (1991) , Raiders of the Lost Ark (Indiana Jones and the Raiders of the Lost Ark) (1981) , }-> Terminator, The (1984)\n",
            "{ Terminator, The (1984) , Raiders of the Lost Ark (Indiana Jones and the Raiders of the Lost Ark) (1981) , }-> Terminator 2: Judgment Day (1991)\n",
            "{ Terminator 2: Judgment Day (1991) , Raiders of the Lost Ark (Indiana Jones and the Raiders of the Lost Ark) (1981) , }-> Star Wars: Episode IV - A New Hope (1977)\n",
            "{ Terminator, The (1984) , Star Wars: Episode VI - Return of the Jedi (1983) , }-> Terminator 2: Judgment Day (1991)\n",
            "{ Star Wars: Episode IV - A New Hope (1977) , Terminator 2: Judgment Day (1991) , }-> Star Wars: Episode VI - Return of the Jedi (1983)\n",
            "{ Star Wars: Episode VI - Return of the Jedi (1983) , Terminator 2: Judgment Day (1991) , }-> Star Wars: Episode IV - A New Hope (1977)\n",
            "{ Terminator 2: Judgment Day (1991) , Back to the Future (1985) , }-> Terminator, The (1984)\n",
            "{ Terminator, The (1984) , Back to the Future (1985) , }-> Terminator 2: Judgment Day (1991)\n",
            "{ Terminator, The (1984) , Star Wars: Episode IV - A New Hope (1977) , }-> Terminator 2: Judgment Day (1991)\n",
            "{ Terminator, The (1984) , Jurassic Park (1993) , }-> Terminator 2: Judgment Day (1991)\n",
            "{ Independence Day (a.k.a. ID4) (1996) , Terminator 2: Judgment Day (1991) , }-> Jurassic Park (1993)\n",
            "{ Pulp Fiction (1994) , Speed (1994) , }-> Terminator 2: Judgment Day (1991)\n",
            "{ Pulp Fiction (1994) , Jurassic Park (1993) , }-> Terminator 2: Judgment Day (1991)\n",
            "{ Stargate (1994) , Terminator 2: Judgment Day (1991) , }-> Jurassic Park (1993)\n",
            "{ Jurassic Park (1993) , Stargate (1994) , }-> Terminator 2: Judgment Day (1991)\n",
            "{ Terminator 2: Judgment Day (1991) , Clear and Present Danger (1994) , }-> Forrest Gump (1994)\n",
            "{ Terminator 2: Judgment Day (1991) , Clear and Present Danger (1994) , }-> True Lies (1994)\n",
            "{ Terminator 2: Judgment Day (1991) , Clear and Present Danger (1994) , }-> Fugitive, The (1993)\n",
            "{ Terminator 2: Judgment Day (1991) , Clear and Present Danger (1994) , }-> Jurassic Park (1993)\n",
            "{ Jurassic Park (1993) , Clear and Present Danger (1994) , }-> Terminator 2: Judgment Day (1991)\n",
            "{ Lion King, The (1994) , Terminator 2: Judgment Day (1991) , }-> Forrest Gump (1994)\n",
            "{ Terminator 2: Judgment Day (1991) , Mask, The (1994) , }-> Forrest Gump (1994)\n",
            "{ Forrest Gump (1994) , Mask, The (1994) , }-> Terminator 2: Judgment Day (1991)\n",
            "{ True Lies (1994) , Terminator 2: Judgment Day (1991) , }-> Forrest Gump (1994)\n",
            "{ Forrest Gump (1994) , True Lies (1994) , }-> Terminator 2: Judgment Day (1991)\n",
            "{ Forrest Gump (1994) , Terminator 2: Judgment Day (1991) , }-> Jurassic Park (1993)\n",
            "{ Mrs. Doubtfire (1993) , Terminator 2: Judgment Day (1991) , }-> Forrest Gump (1994)\n",
            "{ Lion King, The (1994) , Terminator 2: Judgment Day (1991) , }-> Jurassic Park (1993)\n",
            "{ Terminator 2: Judgment Day (1991) , Mask, The (1994) , }-> Jurassic Park (1993)\n",
            "{ Jurassic Park (1993) , Mask, The (1994) , }-> Terminator 2: Judgment Day (1991)\n",
            "{ Speed (1994) , True Lies (1994) , }-> Terminator 2: Judgment Day (1991)\n",
            "{ Speed (1994) , Terminator 2: Judgment Day (1991) , }-> Fugitive, The (1993)\n",
            "{ Speed (1994) , Fugitive, The (1993) , }-> Terminator 2: Judgment Day (1991)\n",
            "{ Speed (1994) , Terminator 2: Judgment Day (1991) , }-> Jurassic Park (1993)\n",
            "{ Jurassic Park (1993) , Speed (1994) , }-> Terminator 2: Judgment Day (1991)\n",
            "{ Mrs. Doubtfire (1993) , Terminator 2: Judgment Day (1991) , }-> Speed (1994)\n",
            "{ Speed (1994) , Mrs. Doubtfire (1993) , }-> Terminator 2: Judgment Day (1991)\n",
            "{ True Lies (1994) , Terminator 2: Judgment Day (1991) , }-> Fugitive, The (1993)\n",
            "{ True Lies (1994) , Terminator 2: Judgment Day (1991) , }-> Jurassic Park (1993)\n",
            "{ Jurassic Park (1993) , True Lies (1994) , }-> Terminator 2: Judgment Day (1991)\n",
            "{ Fugitive, The (1993) , Terminator 2: Judgment Day (1991) , }-> Jurassic Park (1993)\n",
            "{ Jurassic Park (1993) , Fugitive, The (1993) , }-> Terminator 2: Judgment Day (1991)\n",
            "{ Mrs. Doubtfire (1993) , Terminator 2: Judgment Day (1991) , }-> Jurassic Park (1993)\n",
            "{ Die Hard: With a Vengeance (1995) , Dances with Wolves (1990) , }-> Batman (1989)\n",
            "{ Clear and Present Danger (1994) , Dances with Wolves (1990) , }-> Batman (1989)\n",
            "{ True Lies (1994) , Dances with Wolves (1990) , }-> Batman (1989)\n",
            "{ Batman (1989) , Dances with Wolves (1990) , }-> Fugitive, The (1993)\n",
            "{ Pulp Fiction (1994) , Dances with Wolves (1990) , }-> Silence of the Lambs, The (1991)\n",
            "{ Silence of the Lambs, The (1991) , Dances with Wolves (1990) , }-> Forrest Gump (1994)\n",
            "{ Speed (1994) , Dances with Wolves (1990) , }-> Silence of the Lambs, The (1991)\n",
            "{ Fugitive, The (1993) , Dances with Wolves (1990) , }-> Silence of the Lambs, The (1991)\n",
            "{ Silence of the Lambs, The (1991) , Dances with Wolves (1990) , }-> Fugitive, The (1993)\n",
            "{ Jurassic Park (1993) , Dances with Wolves (1990) , }-> Silence of the Lambs, The (1991)\n",
            "{ Pretty Woman (1990) , Dances with Wolves (1990) , }-> Forrest Gump (1994)\n",
            "{ Dances with Wolves (1990) , Braveheart (1995) , }-> Forrest Gump (1994)\n",
            "{ Dances with Wolves (1990) , Braveheart (1995) , }-> Fugitive, The (1993)\n",
            "{ Clear and Present Danger (1994) , Dances with Wolves (1990) , }-> Apollo 13 (1995)\n",
            "{ True Lies (1994) , Dances with Wolves (1990) , }-> Apollo 13 (1995)\n",
            "{ Dances with Wolves (1990) , Apollo 13 (1995) , }-> Fugitive, The (1993)\n",
            "{ Clear and Present Danger (1994) , Dances with Wolves (1990) , }-> True Lies (1994)\n",
            "{ Clear and Present Danger (1994) , Dances with Wolves (1990) , }-> Fugitive, The (1993)\n",
            "{ Lion King, The (1994) , Dances with Wolves (1990) , }-> Forrest Gump (1994)\n",
            "{ Speed (1994) , Dances with Wolves (1990) , }-> Forrest Gump (1994)\n",
            "{ Forrest Gump (1994) , Dances with Wolves (1990) , }-> Fugitive, The (1993)\n",
            "{ Fugitive, The (1993) , Dances with Wolves (1990) , }-> Forrest Gump (1994)\n",
            "{ Jurassic Park (1993) , Dances with Wolves (1990) , }-> Forrest Gump (1994)\n",
            "{ Speed (1994) , Dances with Wolves (1990) , }-> Fugitive, The (1993)\n",
            "{ Speed (1994) , Dances with Wolves (1990) , }-> Jurassic Park (1993)\n",
            "{ True Lies (1994) , Dances with Wolves (1990) , }-> Fugitive, The (1993)\n",
            "{ Jurassic Park (1993) , Dances with Wolves (1990) , }-> Fugitive, The (1993)\n",
            "{ Batman (1989) , Silence of the Lambs, The (1991) , }-> Fugitive, The (1993)\n",
            "{ Batman (1989) , Pretty Woman (1990) , }-> Forrest Gump (1994)\n",
            "{ Batman (1989) , Braveheart (1995) , }-> Fugitive, The (1993)\n",
            "{ Batman Forever (1995) , Apollo 13 (1995) , }-> Batman (1989)\n",
            "{ Crimson Tide (1995) , Apollo 13 (1995) , }-> Batman (1989)\n",
            "{ Batman (1989) , Crimson Tide (1995) , }-> Apollo 13 (1995)\n",
            "{ Die Hard: With a Vengeance (1995) , Apollo 13 (1995) , }-> Batman (1989)\n",
            "{ Clear and Present Danger (1994) , Apollo 13 (1995) , }-> Batman (1989)\n",
            "{ True Lies (1994) , Apollo 13 (1995) , }-> Batman (1989)\n",
            "{ Batman (1989) , Apollo 13 (1995) , }-> True Lies (1994)\n",
            "{ Batman Forever (1995) , True Lies (1994) , }-> Batman (1989)\n",
            "{ Batman (1989) , Batman Forever (1995) , }-> True Lies (1994)\n",
            "{ Batman Forever (1995) , Fugitive, The (1993) , }-> Batman (1989)\n",
            "{ Crimson Tide (1995) , True Lies (1994) , }-> Batman (1989)\n",
            "{ Batman (1989) , Crimson Tide (1995) , }-> True Lies (1994)\n",
            "{ Pulp Fiction (1994) , Die Hard: With a Vengeance (1995) , }-> Batman (1989)\n",
            "{ Die Hard: With a Vengeance (1995) , Shawshank Redemption, The (1994) , }-> Batman (1989)\n",
            "{ Clear and Present Danger (1994) , Die Hard: With a Vengeance (1995) , }-> Batman (1989)\n",
            "{ Forrest Gump (1994) , Die Hard: With a Vengeance (1995) , }-> Batman (1989)\n",
            "{ Speed (1994) , Die Hard: With a Vengeance (1995) , }-> Batman (1989)\n",
            "{ True Lies (1994) , Die Hard: With a Vengeance (1995) , }-> Batman (1989)\n",
            "{ Batman (1989) , Die Hard: With a Vengeance (1995) , }-> True Lies (1994)\n",
            "{ Fugitive, The (1993) , Die Hard: With a Vengeance (1995) , }-> Batman (1989)\n",
            "{ Batman (1989) , Die Hard: With a Vengeance (1995) , }-> Fugitive, The (1993)\n",
            "{ Jurassic Park (1993) , Die Hard: With a Vengeance (1995) , }-> Batman (1989)\n",
            "{ True Lies (1994) , Outbreak (1995) , }-> Batman (1989)\n",
            "{ Batman (1989) , Outbreak (1995) , }-> True Lies (1994)\n",
            "{ Fugitive, The (1993) , Outbreak (1995) , }-> Batman (1989)\n",
            "{ Batman (1989) , Outbreak (1995) , }-> Fugitive, The (1993)\n",
            "{ Pulp Fiction (1994) , Clear and Present Danger (1994) , }-> Batman (1989)\n",
            "{ True Lies (1994) , Stargate (1994) , }-> Batman (1989)\n",
            "{ Batman (1989) , Stargate (1994) , }-> True Lies (1994)\n",
            "{ Fugitive, The (1993) , Stargate (1994) , }-> Batman (1989)\n",
            "{ Batman (1989) , Stargate (1994) , }-> Fugitive, The (1993)\n",
            "{ Jurassic Park (1993) , Stargate (1994) , }-> Batman (1989)\n",
            "{ Clear and Present Danger (1994) , Shawshank Redemption, The (1994) , }-> Batman (1989)\n",
            "{ True Lies (1994) , Shawshank Redemption, The (1994) , }-> Batman (1989)\n",
            "{ Star Trek: Generations (1994) , True Lies (1994) , }-> Batman (1989)\n",
            "{ Batman (1989) , Star Trek: Generations (1994) , }-> True Lies (1994)\n",
            "{ Star Trek: Generations (1994) , Fugitive, The (1993) , }-> Batman (1989)\n",
            "{ Batman (1989) , Star Trek: Generations (1994) , }-> Fugitive, The (1993)\n",
            "{ Forrest Gump (1994) , Clear and Present Danger (1994) , }-> Batman (1989)\n",
            "{ True Lies (1994) , Clear and Present Danger (1994) , }-> Batman (1989)\n",
            "{ Batman (1989) , Clear and Present Danger (1994) , }-> True Lies (1994)\n",
            "{ Fugitive, The (1993) , Clear and Present Danger (1994) , }-> Batman (1989)\n",
            "{ Batman (1989) , Clear and Present Danger (1994) , }-> Fugitive, The (1993)\n",
            "{ Jurassic Park (1993) , Clear and Present Danger (1994) , }-> Batman (1989)\n",
            "{ Batman (1989) , Lion King, The (1994) , }-> Forrest Gump (1994)\n",
            "{ Batman (1989) , Speed (1994) , }-> Forrest Gump (1994)\n",
            "{ Batman (1989) , Firm, The (1993) , }-> Forrest Gump (1994)\n",
            "{ Batman (1989) , Forrest Gump (1994) , }-> Fugitive, The (1993)\n",
            "{ Batman (1989) , Forrest Gump (1994) , }-> Jurassic Park (1993)\n",
            "{ Batman (1989) , Jurassic Park (1993) , }-> Forrest Gump (1994)\n",
            "{ Batman (1989) , Mrs. Doubtfire (1993) , }-> Forrest Gump (1994)\n",
            "{ Batman (1989) , Lion King, The (1994) , }-> Jurassic Park (1993)\n",
            "{ Batman (1989) , Speed (1994) , }-> Fugitive, The (1993)\n",
            "{ Batman (1989) , Speed (1994) , }-> Jurassic Park (1993)\n",
            "{ Speed (1994) , Mrs. Doubtfire (1993) , }-> Batman (1989)\n",
            "{ Batman (1989) , Mrs. Doubtfire (1993) , }-> Speed (1994)\n",
            "{ Batman (1989) , True Lies (1994) , }-> Fugitive, The (1993)\n",
            "{ Batman (1989) , Firm, The (1993) , }-> Fugitive, The (1993)\n",
            "{ Batman (1989) , Jurassic Park (1993) , }-> Fugitive, The (1993)\n",
            "{ Batman (1989) , Mrs. Doubtfire (1993) , }-> Jurassic Park (1993)\n",
            "{ Silence of the Lambs, The (1991) , Pretty Woman (1990) , }-> Forrest Gump (1994)\n",
            "{ Speed (1994) , Pretty Woman (1990) , }-> Silence of the Lambs, The (1991)\n",
            "{ Fugitive, The (1993) , Pretty Woman (1990) , }-> Silence of the Lambs, The (1991)\n",
            "{ Silence of the Lambs, The (1991) , Pretty Woman (1990) , }-> Jurassic Park (1993)\n",
            "{ Jurassic Park (1993) , Pretty Woman (1990) , }-> Silence of the Lambs, The (1991)\n",
            "{ Fargo (1996) , Pulp Fiction (1994) , }-> Silence of the Lambs, The (1991)\n",
            "{ Fargo (1996) , Shawshank Redemption, The (1994) , }-> Silence of the Lambs, The (1991)\n",
            "{ Fargo (1996) , Forrest Gump (1994) , }-> Silence of the Lambs, The (1991)\n",
            "{ Fargo (1996) , Fugitive, The (1993) , }-> Silence of the Lambs, The (1991)\n",
            "{ Pulp Fiction (1994) , Braveheart (1995) , }-> Silence of the Lambs, The (1991)\n",
            "{ Pulp Fiction (1994) , Apollo 13 (1995) , }-> Silence of the Lambs, The (1991)\n",
            "{ Speed (1994) , Apollo 13 (1995) , }-> Silence of the Lambs, The (1991)\n",
            "{ Jurassic Park (1993) , Apollo 13 (1995) , }-> Silence of the Lambs, The (1991)\n",
            "{ Crimson Tide (1995) , Fugitive, The (1993) , }-> Silence of the Lambs, The (1991)\n",
            "{ Silence of the Lambs, The (1991) , Crimson Tide (1995) , }-> Fugitive, The (1993)\n",
            "{ Pulp Fiction (1994) , Die Hard: With a Vengeance (1995) , }-> Silence of the Lambs, The (1991)\n",
            "{ Die Hard: With a Vengeance (1995) , Shawshank Redemption, The (1994) , }-> Silence of the Lambs, The (1991)\n",
            "{ Forrest Gump (1994) , Die Hard: With a Vengeance (1995) , }-> Silence of the Lambs, The (1991)\n",
            "{ Silence of the Lambs, The (1991) , Die Hard: With a Vengeance (1995) , }-> True Lies (1994)\n",
            "{ Fugitive, The (1993) , Die Hard: With a Vengeance (1995) , }-> Silence of the Lambs, The (1991)\n",
            "{ Silence of the Lambs, The (1991) , Die Hard: With a Vengeance (1995) , }-> Fugitive, The (1993)\n",
            "{ Silence of the Lambs, The (1991) , Star Wars: Episode VI - Return of the Jedi (1983) , }-> Star Wars: Episode V - The Empire Strikes Back (1980)\n",
            "{ Silence of the Lambs, The (1991) , Star Wars: Episode V - The Empire Strikes Back (1980) , }-> Star Wars: Episode IV - A New Hope (1977)\n",
            "{ Pulp Fiction (1994) , Star Wars: Episode V - The Empire Strikes Back (1980) , }-> Silence of the Lambs, The (1991)\n",
            "{ Pulp Fiction (1994) , Raiders of the Lost Ark (Indiana Jones and the Raiders of the Lost Ark) (1981) , }-> Silence of the Lambs, The (1991)\n",
            "{ Silence of the Lambs, The (1991) , Star Wars: Episode VI - Return of the Jedi (1983) , }-> Star Wars: Episode IV - A New Hope (1977)\n",
            "{ Pulp Fiction (1994) , Star Wars: Episode IV - A New Hope (1977) , }-> Silence of the Lambs, The (1991)\n",
            "{ Fugitive, The (1993) , Outbreak (1995) , }-> Silence of the Lambs, The (1991)\n",
            "{ Silence of the Lambs, The (1991) , Outbreak (1995) , }-> Fugitive, The (1993)\n",
            "{ Pulp Fiction (1994) , American Beauty (1999) , }-> Silence of the Lambs, The (1991)\n",
            "{ Pulp Fiction (1994) , Forrest Gump (1994) , }-> Silence of the Lambs, The (1991)\n",
            "{ Pulp Fiction (1994) , Speed (1994) , }-> Silence of the Lambs, The (1991)\n",
            "{ Pulp Fiction (1994) , True Lies (1994) , }-> Silence of the Lambs, The (1991)\n",
            "{ Pulp Fiction (1994) , Fugitive, The (1993) , }-> Silence of the Lambs, The (1991)\n",
            "{ Pulp Fiction (1994) , Jurassic Park (1993) , }-> Silence of the Lambs, The (1991)\n",
            "{ Speed (1994) , Shawshank Redemption, The (1994) , }-> Silence of the Lambs, The (1991)\n",
            "{ True Lies (1994) , Shawshank Redemption, The (1994) , }-> Silence of the Lambs, The (1991)\n",
            "{ Fugitive, The (1993) , Shawshank Redemption, The (1994) , }-> Silence of the Lambs, The (1991)\n",
            "{ Jurassic Park (1993) , Shawshank Redemption, The (1994) , }-> Silence of the Lambs, The (1991)\n",
            "{ Forrest Gump (1994) , Clear and Present Danger (1994) , }-> Silence of the Lambs, The (1991)\n",
            "{ Silence of the Lambs, The (1991) , Clear and Present Danger (1994) , }-> True Lies (1994)\n",
            "{ Fugitive, The (1993) , Clear and Present Danger (1994) , }-> Silence of the Lambs, The (1991)\n",
            "{ Silence of the Lambs, The (1991) , Clear and Present Danger (1994) , }-> Fugitive, The (1993)\n",
            "{ Jurassic Park (1993) , Clear and Present Danger (1994) , }-> Silence of the Lambs, The (1991)\n",
            "{ Silence of the Lambs, The (1991) , Lion King, The (1994) , }-> Forrest Gump (1994)\n",
            "{ Silence of the Lambs, The (1991) , Mask, The (1994) , }-> Forrest Gump (1994)\n",
            "{ Silence of the Lambs, The (1991) , Firm, The (1993) , }-> Forrest Gump (1994)\n",
            "{ Silence of the Lambs, The (1991) , Mrs. Doubtfire (1993) , }-> Forrest Gump (1994)\n",
            "{ Silence of the Lambs, The (1991) , Lion King, The (1994) , }-> Jurassic Park (1993)\n",
            "{ Silence of the Lambs, The (1991) , Speed (1994) , }-> Jurassic Park (1993)\n",
            "{ Silence of the Lambs, The (1991) , True Lies (1994) , }-> Fugitive, The (1993)\n",
            "{ Fugitive, The (1993) , Firm, The (1993) , }-> Silence of the Lambs, The (1991)\n",
            "{ Silence of the Lambs, The (1991) , Firm, The (1993) , }-> Fugitive, The (1993)\n",
            "{ Fugitive, The (1993) , Mrs. Doubtfire (1993) , }-> Silence of the Lambs, The (1991)\n",
            "{ Silence of the Lambs, The (1991) , Mrs. Doubtfire (1993) , }-> Fugitive, The (1993)\n",
            "{ Silence of the Lambs, The (1991) , Mrs. Doubtfire (1993) , }-> Jurassic Park (1993)\n",
            "{ Beauty and the Beast (1991) , Lion King, The (1994) , }-> Forrest Gump (1994)\n",
            "{ Fugitive, The (1993) , Beauty and the Beast (1991) , }-> Forrest Gump (1994)\n",
            "{ Beauty and the Beast (1991) , Forrest Gump (1994) , }-> Jurassic Park (1993)\n",
            "{ Jurassic Park (1993) , Beauty and the Beast (1991) , }-> Forrest Gump (1994)\n",
            "{ Pretty Woman (1990) , Shawshank Redemption, The (1994) , }-> Forrest Gump (1994)\n",
            "{ Speed (1994) , Pretty Woman (1990) , }-> Forrest Gump (1994)\n",
            "{ True Lies (1994) , Pretty Woman (1990) , }-> Forrest Gump (1994)\n",
            "{ Fugitive, The (1993) , Pretty Woman (1990) , }-> Forrest Gump (1994)\n",
            "{ Forrest Gump (1994) , Pretty Woman (1990) , }-> Jurassic Park (1993)\n",
            "{ Jurassic Park (1993) , Pretty Woman (1990) , }-> Forrest Gump (1994)\n",
            "{ Mrs. Doubtfire (1993) , Pretty Woman (1990) , }-> Forrest Gump (1994)\n",
            "{ Fugitive, The (1993) , Pretty Woman (1990) , }-> Speed (1994)\n",
            "{ Speed (1994) , Pretty Woman (1990) , }-> Fugitive, The (1993)\n",
            "{ Speed (1994) , Pretty Woman (1990) , }-> Jurassic Park (1993)\n",
            "{ Jurassic Park (1993) , Pretty Woman (1990) , }-> Speed (1994)\n",
            "{ True Lies (1994) , Pretty Woman (1990) , }-> Jurassic Park (1993)\n",
            "{ Fugitive, The (1993) , Pretty Woman (1990) , }-> Jurassic Park (1993)\n",
            "{ Jurassic Park (1993) , Pretty Woman (1990) , }-> Fugitive, The (1993)\n",
            "{ Braveheart (1995) , Apollo 13 (1995) , }-> Fugitive, The (1993)\n",
            "{ Star Wars: Episode V - The Empire Strikes Back (1980) , Braveheart (1995) , }-> Star Wars: Episode VI - Return of the Jedi (1983)\n",
            "{ Star Wars: Episode VI - Return of the Jedi (1983) , Braveheart (1995) , }-> Star Wars: Episode V - The Empire Strikes Back (1980)\n",
            "{ Star Wars: Episode IV - A New Hope (1977) , Braveheart (1995) , }-> Star Wars: Episode V - The Empire Strikes Back (1980)\n",
            "{ Star Wars: Episode V - The Empire Strikes Back (1980) , Braveheart (1995) , }-> Star Wars: Episode IV - A New Hope (1977)\n",
            "{ Clear and Present Danger (1994) , Braveheart (1995) , }-> Fugitive, The (1993)\n",
            "{ Speed (1994) , Braveheart (1995) , }-> Forrest Gump (1994)\n",
            "{ Jurassic Park (1993) , Braveheart (1995) , }-> Forrest Gump (1994)\n",
            "{ Speed (1994) , Braveheart (1995) , }-> Fugitive, The (1993)\n",
            "{ Speed (1994) , Braveheart (1995) , }-> Jurassic Park (1993)\n",
            "{ True Lies (1994) , Braveheart (1995) , }-> Fugitive, The (1993)\n",
            "{ Monty Python and the Holy Grail (1975) , Raiders of the Lost Ark (Indiana Jones and the Raiders of the Lost Ark) (1981) , }-> Star Wars: Episode V - The Empire Strikes Back (1980)\n",
            "{ Monty Python and the Holy Grail (1975) , Star Wars: Episode V - The Empire Strikes Back (1980) , }-> Raiders of the Lost Ark (Indiana Jones and the Raiders of the Lost Ark) (1981)\n",
            "{ Monty Python and the Holy Grail (1975) , Star Wars: Episode V - The Empire Strikes Back (1980) , }-> Star Wars: Episode VI - Return of the Jedi (1983)\n",
            "{ Monty Python and the Holy Grail (1975) , Star Wars: Episode VI - Return of the Jedi (1983) , }-> Star Wars: Episode V - The Empire Strikes Back (1980)\n",
            "{ Monty Python and the Holy Grail (1975) , Star Wars: Episode IV - A New Hope (1977) , }-> Star Wars: Episode V - The Empire Strikes Back (1980)\n",
            "{ Monty Python and the Holy Grail (1975) , Star Wars: Episode V - The Empire Strikes Back (1980) , }-> Star Wars: Episode IV - A New Hope (1977)\n",
            "{ Crimson Tide (1995) , Apollo 13 (1995) , }-> Fugitive, The (1993)\n",
            "{ Crimson Tide (1995) , Fugitive, The (1993) , }-> Apollo 13 (1995)\n",
            "{ Die Hard: With a Vengeance (1995) , Apollo 13 (1995) , }-> True Lies (1994)\n",
            "{ Die Hard: With a Vengeance (1995) , Apollo 13 (1995) , }-> Fugitive, The (1993)\n",
            "{ Outbreak (1995) , Apollo 13 (1995) , }-> True Lies (1994)\n",
            "{ Outbreak (1995) , Apollo 13 (1995) , }-> Fugitive, The (1993)\n",
            "{ Clear and Present Danger (1994) , Shawshank Redemption, The (1994) , }-> Apollo 13 (1995)\n",
            "{ Clear and Present Danger (1994) , Apollo 13 (1995) , }-> True Lies (1994)\n",
            "{ Clear and Present Danger (1994) , Apollo 13 (1995) , }-> Fugitive, The (1993)\n",
            "{ Lion King, The (1994) , Apollo 13 (1995) , }-> Forrest Gump (1994)\n",
            "{ Speed (1994) , Apollo 13 (1995) , }-> Forrest Gump (1994)\n",
            "{ Forrest Gump (1994) , Apollo 13 (1995) , }-> Fugitive, The (1993)\n",
            "{ Jurassic Park (1993) , Apollo 13 (1995) , }-> Forrest Gump (1994)\n",
            "{ Mrs. Doubtfire (1993) , Apollo 13 (1995) , }-> Forrest Gump (1994)\n",
            "{ Speed (1994) , Apollo 13 (1995) , }-> Fugitive, The (1993)\n",
            "{ Speed (1994) , Apollo 13 (1995) , }-> Jurassic Park (1993)\n",
            "{ True Lies (1994) , Apollo 13 (1995) , }-> Fugitive, The (1993)\n",
            "{ Apollo 13 (1995) , Firm, The (1993) , }-> Fugitive, The (1993)\n",
            "{ Fugitive, The (1993) , Firm, The (1993) , }-> Apollo 13 (1995)\n",
            "{ Jurassic Park (1993) , Apollo 13 (1995) , }-> Fugitive, The (1993)\n",
            "{ Mrs. Doubtfire (1993) , Apollo 13 (1995) , }-> Jurassic Park (1993)\n",
            "{ Die Hard: With a Vengeance (1995) , Shawshank Redemption, The (1994) , }-> Pulp Fiction (1994)\n",
            "{ Pulp Fiction (1994) , Die Hard: With a Vengeance (1995) , }-> True Lies (1994)\n",
            "{ Die Hard: With a Vengeance (1995) , Shawshank Redemption, The (1994) , }-> True Lies (1994)\n",
            "{ Die Hard: With a Vengeance (1995) , Shawshank Redemption, The (1994) , }-> Fugitive, The (1993)\n",
            "{ Clear and Present Danger (1994) , Die Hard: With a Vengeance (1995) , }-> True Lies (1994)\n",
            "{ Clear and Present Danger (1994) , Die Hard: With a Vengeance (1995) , }-> Fugitive, The (1993)\n",
            "{ Speed (1994) , Die Hard: With a Vengeance (1995) , }-> Forrest Gump (1994)\n",
            "{ Forrest Gump (1994) , Die Hard: With a Vengeance (1995) , }-> True Lies (1994)\n",
            "{ Forrest Gump (1994) , Die Hard: With a Vengeance (1995) , }-> Fugitive, The (1993)\n",
            "{ Forrest Gump (1994) , Die Hard: With a Vengeance (1995) , }-> Jurassic Park (1993)\n",
            "{ Jurassic Park (1993) , Die Hard: With a Vengeance (1995) , }-> Forrest Gump (1994)\n",
            "{ Speed (1994) , Die Hard: With a Vengeance (1995) , }-> True Lies (1994)\n",
            "{ Speed (1994) , Die Hard: With a Vengeance (1995) , }-> Fugitive, The (1993)\n",
            "{ Speed (1994) , Die Hard: With a Vengeance (1995) , }-> Jurassic Park (1993)\n",
            "{ Jurassic Park (1993) , Die Hard: With a Vengeance (1995) , }-> Speed (1994)\n",
            "{ True Lies (1994) , Die Hard: With a Vengeance (1995) , }-> Fugitive, The (1993)\n",
            "{ Fugitive, The (1993) , Die Hard: With a Vengeance (1995) , }-> True Lies (1994)\n",
            "{ Jurassic Park (1993) , Die Hard: With a Vengeance (1995) , }-> True Lies (1994)\n",
            "{ Jurassic Park (1993) , Die Hard: With a Vengeance (1995) , }-> Fugitive, The (1993)\n",
            "{ Star Wars: Episode V - The Empire Strikes Back (1980) , Raiders of the Lost Ark (Indiana Jones and the Raiders of the Lost Ark) (1981) , }-> Star Wars: Episode VI - Return of the Jedi (1983)\n",
            "{ Star Wars: Episode VI - Return of the Jedi (1983) , Raiders of the Lost Ark (Indiana Jones and the Raiders of the Lost Ark) (1981) , }-> Star Wars: Episode V - The Empire Strikes Back (1980)\n",
            "{ Terminator, The (1984) , Raiders of the Lost Ark (Indiana Jones and the Raiders of the Lost Ark) (1981) , }-> Star Wars: Episode V - The Empire Strikes Back (1980)\n",
            "{ Terminator, The (1984) , Star Wars: Episode V - The Empire Strikes Back (1980) , }-> Raiders of the Lost Ark (Indiana Jones and the Raiders of the Lost Ark) (1981)\n",
            "{ Raiders of the Lost Ark (Indiana Jones and the Raiders of the Lost Ark) (1981) , Back to the Future (1985) , }-> Star Wars: Episode V - The Empire Strikes Back (1980)\n",
            "{ Star Wars: Episode V - The Empire Strikes Back (1980) , Back to the Future (1985) , }-> Raiders of the Lost Ark (Indiana Jones and the Raiders of the Lost Ark) (1981)\n",
            "{ Star Wars: Episode IV - A New Hope (1977) , Raiders of the Lost Ark (Indiana Jones and the Raiders of the Lost Ark) (1981) , }-> Star Wars: Episode V - The Empire Strikes Back (1980)\n",
            "{ Star Wars: Episode V - The Empire Strikes Back (1980) , Raiders of the Lost Ark (Indiana Jones and the Raiders of the Lost Ark) (1981) , }-> Star Wars: Episode IV - A New Hope (1977)\n",
            "{ Indiana Jones and the Last Crusade (1989) , Raiders of the Lost Ark (Indiana Jones and the Raiders of the Lost Ark) (1981) , }-> Star Wars: Episode V - The Empire Strikes Back (1980)\n",
            "{ Indiana Jones and the Last Crusade (1989) , Star Wars: Episode V - The Empire Strikes Back (1980) , }-> Raiders of the Lost Ark (Indiana Jones and the Raiders of the Lost Ark) (1981)\n",
            "{ Pulp Fiction (1994) , Raiders of the Lost Ark (Indiana Jones and the Raiders of the Lost Ark) (1981) , }-> Star Wars: Episode V - The Empire Strikes Back (1980)\n",
            "{ Raiders of the Lost Ark (Indiana Jones and the Raiders of the Lost Ark) (1981) , Shawshank Redemption, The (1994) , }-> Star Wars: Episode V - The Empire Strikes Back (1980)\n",
            "{ Fugitive, The (1993) , Raiders of the Lost Ark (Indiana Jones and the Raiders of the Lost Ark) (1981) , }-> Star Wars: Episode V - The Empire Strikes Back (1980)\n",
            "{ Fugitive, The (1993) , Star Wars: Episode V - The Empire Strikes Back (1980) , }-> Raiders of the Lost Ark (Indiana Jones and the Raiders of the Lost Ark) (1981)\n",
            "{ Jurassic Park (1993) , Raiders of the Lost Ark (Indiana Jones and the Raiders of the Lost Ark) (1981) , }-> Star Wars: Episode V - The Empire Strikes Back (1980)\n",
            "{ Jurassic Park (1993) , Star Wars: Episode V - The Empire Strikes Back (1980) , }-> Raiders of the Lost Ark (Indiana Jones and the Raiders of the Lost Ark) (1981)\n",
            "{ Terminator, The (1984) , Star Wars: Episode V - The Empire Strikes Back (1980) , }-> Star Wars: Episode VI - Return of the Jedi (1983)\n",
            "{ Terminator, The (1984) , Star Wars: Episode VI - Return of the Jedi (1983) , }-> Star Wars: Episode V - The Empire Strikes Back (1980)\n",
            "{ Star Wars: Episode V - The Empire Strikes Back (1980) , Back to the Future (1985) , }-> Star Wars: Episode VI - Return of the Jedi (1983)\n",
            "{ Star Wars: Episode VI - Return of the Jedi (1983) , Back to the Future (1985) , }-> Star Wars: Episode V - The Empire Strikes Back (1980)\n",
            "{ Star Wars: Episode V - The Empire Strikes Back (1980) , Star Wars: Episode IV - A New Hope (1977) , }-> Star Wars: Episode VI - Return of the Jedi (1983)\n",
            "{ Star Wars: Episode VI - Return of the Jedi (1983) , Star Wars: Episode IV - A New Hope (1977) , }-> Star Wars: Episode V - The Empire Strikes Back (1980)\n",
            "{ Star Wars: Episode VI - Return of the Jedi (1983) , Star Wars: Episode V - The Empire Strikes Back (1980) , }-> Star Wars: Episode IV - A New Hope (1977)\n",
            "{ Indiana Jones and the Last Crusade (1989) , Star Wars: Episode V - The Empire Strikes Back (1980) , }-> Star Wars: Episode VI - Return of the Jedi (1983)\n",
            "{ Star Wars: Episode VI - Return of the Jedi (1983) , Indiana Jones and the Last Crusade (1989) , }-> Star Wars: Episode V - The Empire Strikes Back (1980)\n",
            "{ Pulp Fiction (1994) , Star Wars: Episode V - The Empire Strikes Back (1980) , }-> Star Wars: Episode VI - Return of the Jedi (1983)\n",
            "{ Pulp Fiction (1994) , Star Wars: Episode VI - Return of the Jedi (1983) , }-> Star Wars: Episode V - The Empire Strikes Back (1980)\n",
            "{ Star Wars: Episode V - The Empire Strikes Back (1980) , Shawshank Redemption, The (1994) , }-> Star Wars: Episode VI - Return of the Jedi (1983)\n",
            "{ Star Wars: Episode VI - Return of the Jedi (1983) , Shawshank Redemption, The (1994) , }-> Star Wars: Episode V - The Empire Strikes Back (1980)\n",
            "{ Star Wars: Episode V - The Empire Strikes Back (1980) , Forrest Gump (1994) , }-> Star Wars: Episode VI - Return of the Jedi (1983)\n",
            "{ Star Wars: Episode VI - Return of the Jedi (1983) , Forrest Gump (1994) , }-> Star Wars: Episode V - The Empire Strikes Back (1980)\n",
            "{ Fugitive, The (1993) , Star Wars: Episode V - The Empire Strikes Back (1980) , }-> Star Wars: Episode VI - Return of the Jedi (1983)\n",
            "{ Fugitive, The (1993) , Star Wars: Episode VI - Return of the Jedi (1983) , }-> Star Wars: Episode V - The Empire Strikes Back (1980)\n",
            "{ Jurassic Park (1993) , Star Wars: Episode V - The Empire Strikes Back (1980) , }-> Star Wars: Episode VI - Return of the Jedi (1983)\n",
            "{ Jurassic Park (1993) , Star Wars: Episode VI - Return of the Jedi (1983) , }-> Star Wars: Episode V - The Empire Strikes Back (1980)\n",
            "{ Star Wars: Episode IV - A New Hope (1977) , Alien (1979) , }-> Star Wars: Episode V - The Empire Strikes Back (1980)\n",
            "{ Star Wars: Episode V - The Empire Strikes Back (1980) , Alien (1979) , }-> Star Wars: Episode IV - A New Hope (1977)\n",
            "{ Terminator, The (1984) , Back to the Future (1985) , }-> Star Wars: Episode V - The Empire Strikes Back (1980)\n",
            "{ Terminator, The (1984) , Star Wars: Episode IV - A New Hope (1977) , }-> Star Wars: Episode V - The Empire Strikes Back (1980)\n",
            "{ Terminator, The (1984) , Star Wars: Episode V - The Empire Strikes Back (1980) , }-> Star Wars: Episode IV - A New Hope (1977)\n",
            "{ Star Wars: Episode IV - A New Hope (1977) , Back to the Future (1985) , }-> Star Wars: Episode V - The Empire Strikes Back (1980)\n",
            "{ Star Wars: Episode V - The Empire Strikes Back (1980) , Back to the Future (1985) , }-> Star Wars: Episode IV - A New Hope (1977)\n",
            "{ Indiana Jones and the Last Crusade (1989) , Back to the Future (1985) , }-> Star Wars: Episode V - The Empire Strikes Back (1980)\n",
            "{ Indiana Jones and the Last Crusade (1989) , Star Wars: Episode V - The Empire Strikes Back (1980) , }-> Back to the Future (1985)\n",
            "{ Jurassic Park (1993) , Back to the Future (1985) , }-> Star Wars: Episode V - The Empire Strikes Back (1980)\n",
            "{ Indiana Jones and the Last Crusade (1989) , Star Wars: Episode IV - A New Hope (1977) , }-> Star Wars: Episode V - The Empire Strikes Back (1980)\n",
            "{ Indiana Jones and the Last Crusade (1989) , Star Wars: Episode V - The Empire Strikes Back (1980) , }-> Star Wars: Episode IV - A New Hope (1977)\n",
            "{ Pulp Fiction (1994) , Star Wars: Episode IV - A New Hope (1977) , }-> Star Wars: Episode V - The Empire Strikes Back (1980)\n",
            "{ Pulp Fiction (1994) , Star Wars: Episode V - The Empire Strikes Back (1980) , }-> Star Wars: Episode IV - A New Hope (1977)\n",
            "{ Star Wars: Episode IV - A New Hope (1977) , Shawshank Redemption, The (1994) , }-> Star Wars: Episode V - The Empire Strikes Back (1980)\n",
            "{ Star Wars: Episode V - The Empire Strikes Back (1980) , Shawshank Redemption, The (1994) , }-> Star Wars: Episode IV - A New Hope (1977)\n",
            "{ Star Wars: Episode V - The Empire Strikes Back (1980) , Forrest Gump (1994) , }-> Star Wars: Episode IV - A New Hope (1977)\n",
            "{ Fugitive, The (1993) , Star Wars: Episode IV - A New Hope (1977) , }-> Star Wars: Episode V - The Empire Strikes Back (1980)\n",
            "{ Fugitive, The (1993) , Star Wars: Episode V - The Empire Strikes Back (1980) , }-> Star Wars: Episode IV - A New Hope (1977)\n",
            "{ Jurassic Park (1993) , Star Wars: Episode IV - A New Hope (1977) , }-> Star Wars: Episode V - The Empire Strikes Back (1980)\n",
            "{ Jurassic Park (1993) , Star Wars: Episode V - The Empire Strikes Back (1980) , }-> Star Wars: Episode IV - A New Hope (1977)\n",
            "{ Star Wars: Episode VI - Return of the Jedi (1983) , Back to the Future (1985) , }-> Raiders of the Lost Ark (Indiana Jones and the Raiders of the Lost Ark) (1981)\n",
            "{ Star Wars: Episode IV - A New Hope (1977) , Raiders of the Lost Ark (Indiana Jones and the Raiders of the Lost Ark) (1981) , }-> Star Wars: Episode VI - Return of the Jedi (1983)\n",
            "{ Star Wars: Episode VI - Return of the Jedi (1983) , Raiders of the Lost Ark (Indiana Jones and the Raiders of the Lost Ark) (1981) , }-> Star Wars: Episode IV - A New Hope (1977)\n",
            "{ Star Wars: Episode VI - Return of the Jedi (1983) , Indiana Jones and the Last Crusade (1989) , }-> Raiders of the Lost Ark (Indiana Jones and the Raiders of the Lost Ark) (1981)\n",
            "{ Terminator, The (1984) , Raiders of the Lost Ark (Indiana Jones and the Raiders of the Lost Ark) (1981) , }-> Star Wars: Episode IV - A New Hope (1977)\n",
            "{ Terminator, The (1984) , Star Wars: Episode IV - A New Hope (1977) , }-> Raiders of the Lost Ark (Indiana Jones and the Raiders of the Lost Ark) (1981)\n",
            "{ Raiders of the Lost Ark (Indiana Jones and the Raiders of the Lost Ark) (1981) , Back to the Future (1985) , }-> Star Wars: Episode IV - A New Hope (1977)\n",
            "{ Star Wars: Episode IV - A New Hope (1977) , Back to the Future (1985) , }-> Raiders of the Lost Ark (Indiana Jones and the Raiders of the Lost Ark) (1981)\n",
            "{ Indiana Jones and the Last Crusade (1989) , Back to the Future (1985) , }-> Raiders of the Lost Ark (Indiana Jones and the Raiders of the Lost Ark) (1981)\n",
            "{ Indiana Jones and the Last Crusade (1989) , Raiders of the Lost Ark (Indiana Jones and the Raiders of the Lost Ark) (1981) , }-> Star Wars: Episode IV - A New Hope (1977)\n",
            "{ Indiana Jones and the Last Crusade (1989) , Star Wars: Episode IV - A New Hope (1977) , }-> Raiders of the Lost Ark (Indiana Jones and the Raiders of the Lost Ark) (1981)\n",
            "{ Pulp Fiction (1994) , Raiders of the Lost Ark (Indiana Jones and the Raiders of the Lost Ark) (1981) , }-> Star Wars: Episode IV - A New Hope (1977)\n",
            "{ Raiders of the Lost Ark (Indiana Jones and the Raiders of the Lost Ark) (1981) , Shawshank Redemption, The (1994) , }-> Star Wars: Episode IV - A New Hope (1977)\n",
            "{ Fugitive, The (1993) , Raiders of the Lost Ark (Indiana Jones and the Raiders of the Lost Ark) (1981) , }-> Star Wars: Episode IV - A New Hope (1977)\n",
            "{ Jurassic Park (1993) , Raiders of the Lost Ark (Indiana Jones and the Raiders of the Lost Ark) (1981) , }-> Star Wars: Episode IV - A New Hope (1977)\n",
            "{ Terminator, The (1984) , Star Wars: Episode IV - A New Hope (1977) , }-> Star Wars: Episode VI - Return of the Jedi (1983)\n",
            "{ Terminator, The (1984) , Star Wars: Episode VI - Return of the Jedi (1983) , }-> Star Wars: Episode IV - A New Hope (1977)\n",
            "{ Star Wars: Episode IV - A New Hope (1977) , Back to the Future (1985) , }-> Star Wars: Episode VI - Return of the Jedi (1983)\n",
            "{ Star Wars: Episode VI - Return of the Jedi (1983) , Back to the Future (1985) , }-> Star Wars: Episode IV - A New Hope (1977)\n",
            "{ Indiana Jones and the Last Crusade (1989) , Star Wars: Episode IV - A New Hope (1977) , }-> Star Wars: Episode VI - Return of the Jedi (1983)\n",
            "{ Star Wars: Episode VI - Return of the Jedi (1983) , Indiana Jones and the Last Crusade (1989) , }-> Star Wars: Episode IV - A New Hope (1977)\n",
            "{ Pulp Fiction (1994) , Star Wars: Episode VI - Return of the Jedi (1983) , }-> Star Wars: Episode IV - A New Hope (1977)\n",
            "{ Star Wars: Episode VI - Return of the Jedi (1983) , Shawshank Redemption, The (1994) , }-> Star Wars: Episode IV - A New Hope (1977)\n",
            "{ Star Wars: Episode VI - Return of the Jedi (1983) , Forrest Gump (1994) , }-> Star Wars: Episode IV - A New Hope (1977)\n",
            "{ Fugitive, The (1993) , Star Wars: Episode VI - Return of the Jedi (1983) , }-> Star Wars: Episode IV - A New Hope (1977)\n",
            "{ Jurassic Park (1993) , Star Wars: Episode IV - A New Hope (1977) , }-> Star Wars: Episode VI - Return of the Jedi (1983)\n",
            "{ Jurassic Park (1993) , Star Wars: Episode VI - Return of the Jedi (1983) , }-> Star Wars: Episode IV - A New Hope (1977)\n",
            "{ Forrest Gump (1994) , Outbreak (1995) , }-> Fugitive, The (1993)\n",
            "{ Jurassic Park (1993) , Outbreak (1995) , }-> Forrest Gump (1994)\n",
            "{ Forrest Gump (1994) , Outbreak (1995) , }-> Jurassic Park (1993)\n",
            "{ Fugitive, The (1993) , Outbreak (1995) , }-> True Lies (1994)\n",
            "{ True Lies (1994) , Outbreak (1995) , }-> Fugitive, The (1993)\n",
            "{ Fugitive, The (1993) , Outbreak (1995) , }-> Jurassic Park (1993)\n",
            "{ Jurassic Park (1993) , Outbreak (1995) , }-> Fugitive, The (1993)\n",
            "{ Pulp Fiction (1994) , Clear and Present Danger (1994) , }-> True Lies (1994)\n",
            "{ Pulp Fiction (1994) , Clear and Present Danger (1994) , }-> Fugitive, The (1993)\n",
            "{ Pulp Fiction (1994) , Lion King, The (1994) , }-> Forrest Gump (1994)\n",
            "{ Pulp Fiction (1994) , Speed (1994) , }-> Forrest Gump (1994)\n",
            "{ Pulp Fiction (1994) , Speed (1994) , }-> Jurassic Park (1993)\n",
            "{ Forrest Gump (1994) , Stargate (1994) , }-> Fugitive, The (1993)\n",
            "{ Jurassic Park (1993) , Stargate (1994) , }-> Forrest Gump (1994)\n",
            "{ Forrest Gump (1994) , Stargate (1994) , }-> Jurassic Park (1993)\n",
            "{ Fugitive, The (1993) , Stargate (1994) , }-> True Lies (1994)\n",
            "{ True Lies (1994) , Stargate (1994) , }-> Fugitive, The (1993)\n",
            "{ Fugitive, The (1993) , Stargate (1994) , }-> Jurassic Park (1993)\n",
            "{ Jurassic Park (1993) , Stargate (1994) , }-> Fugitive, The (1993)\n",
            "{ Clear and Present Danger (1994) , Shawshank Redemption, The (1994) , }-> True Lies (1994)\n",
            "{ Clear and Present Danger (1994) , Shawshank Redemption, The (1994) , }-> Fugitive, The (1993)\n",
            "{ Speed (1994) , Shawshank Redemption, The (1994) , }-> Forrest Gump (1994)\n",
            "{ Jurassic Park (1993) , Shawshank Redemption, The (1994) , }-> Forrest Gump (1994)\n",
            "{ Speed (1994) , Shawshank Redemption, The (1994) , }-> Fugitive, The (1993)\n",
            "{ Speed (1994) , Shawshank Redemption, The (1994) , }-> Jurassic Park (1993)\n",
            "{ True Lies (1994) , Shawshank Redemption, The (1994) , }-> Fugitive, The (1993)\n",
            "{ Forrest Gump (1994) , Clear and Present Danger (1994) , }-> True Lies (1994)\n",
            "{ Forrest Gump (1994) , Clear and Present Danger (1994) , }-> Fugitive, The (1993)\n",
            "{ Forrest Gump (1994) , Clear and Present Danger (1994) , }-> Jurassic Park (1993)\n",
            "{ Jurassic Park (1993) , Clear and Present Danger (1994) , }-> Forrest Gump (1994)\n",
            "{ Speed (1994) , Clear and Present Danger (1994) , }-> Fugitive, The (1993)\n",
            "{ Speed (1994) , Clear and Present Danger (1994) , }-> Jurassic Park (1993)\n",
            "{ True Lies (1994) , Clear and Present Danger (1994) , }-> Fugitive, The (1993)\n",
            "{ Fugitive, The (1993) , Clear and Present Danger (1994) , }-> True Lies (1994)\n",
            "{ Jurassic Park (1993) , Clear and Present Danger (1994) , }-> True Lies (1994)\n",
            "{ Jurassic Park (1993) , Clear and Present Danger (1994) , }-> Fugitive, The (1993)\n",
            "{ Speed (1994) , Lion King, The (1994) , }-> Forrest Gump (1994)\n",
            "{ True Lies (1994) , Lion King, The (1994) , }-> Forrest Gump (1994)\n",
            "{ Fugitive, The (1993) , Lion King, The (1994) , }-> Forrest Gump (1994)\n",
            "{ Forrest Gump (1994) , Lion King, The (1994) , }-> Jurassic Park (1993)\n",
            "{ Jurassic Park (1993) , Lion King, The (1994) , }-> Forrest Gump (1994)\n",
            "{ Forrest Gump (1994) , Mask, The (1994) , }-> Jurassic Park (1993)\n",
            "{ Jurassic Park (1993) , Mask, The (1994) , }-> Forrest Gump (1994)\n",
            "{ Speed (1994) , True Lies (1994) , }-> Forrest Gump (1994)\n",
            "{ Speed (1994) , Fugitive, The (1993) , }-> Forrest Gump (1994)\n",
            "{ Speed (1994) , Forrest Gump (1994) , }-> Jurassic Park (1993)\n",
            "{ Jurassic Park (1993) , Speed (1994) , }-> Forrest Gump (1994)\n",
            "{ Speed (1994) , Mrs. Doubtfire (1993) , }-> Forrest Gump (1994)\n",
            "{ Forrest Gump (1994) , True Lies (1994) , }-> Fugitive, The (1993)\n",
            "{ Forrest Gump (1994) , True Lies (1994) , }-> Jurassic Park (1993)\n",
            "{ Jurassic Park (1993) , True Lies (1994) , }-> Forrest Gump (1994)\n",
            "{ True Lies (1994) , Mrs. Doubtfire (1993) , }-> Forrest Gump (1994)\n",
            "{ Forrest Gump (1994) , Firm, The (1993) , }-> Fugitive, The (1993)\n",
            "{ Fugitive, The (1993) , Firm, The (1993) , }-> Forrest Gump (1994)\n",
            "{ Forrest Gump (1994) , Firm, The (1993) , }-> Jurassic Park (1993)\n",
            "{ Jurassic Park (1993) , Firm, The (1993) , }-> Forrest Gump (1994)\n",
            "{ Jurassic Park (1993) , Fugitive, The (1993) , }-> Forrest Gump (1994)\n",
            "{ Fugitive, The (1993) , Mrs. Doubtfire (1993) , }-> Forrest Gump (1994)\n",
            "{ Forrest Gump (1994) , Mrs. Doubtfire (1993) , }-> Jurassic Park (1993)\n",
            "{ Jurassic Park (1993) , Mrs. Doubtfire (1993) , }-> Forrest Gump (1994)\n",
            "{ Speed (1994) , Lion King, The (1994) , }-> Jurassic Park (1993)\n",
            "{ Fugitive, The (1993) , Lion King, The (1994) , }-> Jurassic Park (1993)\n",
            "{ Speed (1994) , True Lies (1994) , }-> Fugitive, The (1993)\n",
            "{ Speed (1994) , True Lies (1994) , }-> Jurassic Park (1993)\n",
            "{ True Lies (1994) , Mrs. Doubtfire (1993) , }-> Speed (1994)\n",
            "{ Speed (1994) , Fugitive, The (1993) , }-> Jurassic Park (1993)\n",
            "{ Jurassic Park (1993) , Speed (1994) , }-> Fugitive, The (1993)\n",
            "{ Fugitive, The (1993) , Mrs. Doubtfire (1993) , }-> Speed (1994)\n",
            "{ Speed (1994) , Mrs. Doubtfire (1993) , }-> Fugitive, The (1993)\n",
            "{ Speed (1994) , Mrs. Doubtfire (1993) , }-> Jurassic Park (1993)\n",
            "{ Jurassic Park (1993) , Mrs. Doubtfire (1993) , }-> Speed (1994)\n",
            "{ True Lies (1994) , Firm, The (1993) , }-> Fugitive, The (1993)\n",
            "{ Fugitive, The (1993) , True Lies (1994) , }-> Jurassic Park (1993)\n",
            "{ Jurassic Park (1993) , True Lies (1994) , }-> Fugitive, The (1993)\n",
            "{ True Lies (1994) , Mrs. Doubtfire (1993) , }-> Fugitive, The (1993)\n",
            "{ Fugitive, The (1993) , Mrs. Doubtfire (1993) , }-> True Lies (1994)\n",
            "{ True Lies (1994) , Mrs. Doubtfire (1993) , }-> Jurassic Park (1993)\n",
            "{ Fugitive, The (1993) , Firm, The (1993) , }-> Jurassic Park (1993)\n",
            "{ Jurassic Park (1993) , Firm, The (1993) , }-> Fugitive, The (1993)\n",
            "{ Fugitive, The (1993) , Mrs. Doubtfire (1993) , }-> Jurassic Park (1993)\n",
            "{ Jurassic Park (1993) , Mrs. Doubtfire (1993) , }-> Fugitive, The (1993)\n",
            "{ Matrix, The (1999) , Star Wars: Episode V - The Empire Strikes Back (1980) , Star Wars: Episode IV - A New Hope (1977) , }-> Star Wars: Episode VI - Return of the Jedi (1983)\n",
            "{ Star Wars: Episode VI - Return of the Jedi (1983) , Matrix, The (1999) , Star Wars: Episode IV - A New Hope (1977) , }-> Star Wars: Episode V - The Empire Strikes Back (1980)\n",
            "{ Star Wars: Episode VI - Return of the Jedi (1983) , Matrix, The (1999) , Star Wars: Episode V - The Empire Strikes Back (1980) , }-> Star Wars: Episode IV - A New Hope (1977)\n",
            "{ Indiana Jones and the Last Crusade (1989) , Star Wars: Episode IV - A New Hope (1977) , Raiders of the Lost Ark (Indiana Jones and the Raiders of the Lost Ark) (1981) , }-> Star Wars: Episode V - The Empire Strikes Back (1980)\n",
            "{ Indiana Jones and the Last Crusade (1989) , Star Wars: Episode V - The Empire Strikes Back (1980) , Raiders of the Lost Ark (Indiana Jones and the Raiders of the Lost Ark) (1981) , }-> Star Wars: Episode IV - A New Hope (1977)\n",
            "{ Indiana Jones and the Last Crusade (1989) , Star Wars: Episode V - The Empire Strikes Back (1980) , Star Wars: Episode IV - A New Hope (1977) , }-> Raiders of the Lost Ark (Indiana Jones and the Raiders of the Lost Ark) (1981)\n",
            "{ Indiana Jones and the Last Crusade (1989) , Star Wars: Episode V - The Empire Strikes Back (1980) , Star Wars: Episode IV - A New Hope (1977) , }-> Star Wars: Episode VI - Return of the Jedi (1983)\n",
            "{ Star Wars: Episode VI - Return of the Jedi (1983) , Indiana Jones and the Last Crusade (1989) , Star Wars: Episode IV - A New Hope (1977) , }-> Star Wars: Episode V - The Empire Strikes Back (1980)\n",
            "{ Star Wars: Episode VI - Return of the Jedi (1983) , Indiana Jones and the Last Crusade (1989) , Star Wars: Episode V - The Empire Strikes Back (1980) , }-> Star Wars: Episode IV - A New Hope (1977)\n",
            "{ Indiana Jones and the Last Crusade (1989) , Star Wars: Episode IV - A New Hope (1977) , Raiders of the Lost Ark (Indiana Jones and the Raiders of the Lost Ark) (1981) , }-> Star Wars: Episode VI - Return of the Jedi (1983)\n",
            "{ Star Wars: Episode VI - Return of the Jedi (1983) , Indiana Jones and the Last Crusade (1989) , Raiders of the Lost Ark (Indiana Jones and the Raiders of the Lost Ark) (1981) , }-> Star Wars: Episode IV - A New Hope (1977)\n",
            "{ Star Wars: Episode VI - Return of the Jedi (1983) , Indiana Jones and the Last Crusade (1989) , Star Wars: Episode IV - A New Hope (1977) , }-> Raiders of the Lost Ark (Indiana Jones and the Raiders of the Lost Ark) (1981)\n",
            "{ Pulp Fiction (1994) , Star Wars: Episode VI - Return of the Jedi (1983) , Star Wars: Episode IV - A New Hope (1977) , }-> Star Wars: Episode V - The Empire Strikes Back (1980)\n",
            "{ Pulp Fiction (1994) , Star Wars: Episode V - The Empire Strikes Back (1980) , Star Wars: Episode IV - A New Hope (1977) , }-> Star Wars: Episode VI - Return of the Jedi (1983)\n",
            "{ Pulp Fiction (1994) , Star Wars: Episode VI - Return of the Jedi (1983) , Star Wars: Episode V - The Empire Strikes Back (1980) , }-> Star Wars: Episode IV - A New Hope (1977)\n",
            "{ Star Wars: Episode V - The Empire Strikes Back (1980) , Star Wars: Episode IV - A New Hope (1977) , Raiders of the Lost Ark (Indiana Jones and the Raiders of the Lost Ark) (1981) , }-> Star Wars: Episode VI - Return of the Jedi (1983)\n",
            "{ Star Wars: Episode VI - Return of the Jedi (1983) , Star Wars: Episode IV - A New Hope (1977) , Raiders of the Lost Ark (Indiana Jones and the Raiders of the Lost Ark) (1981) , }-> Star Wars: Episode V - The Empire Strikes Back (1980)\n",
            "{ Star Wars: Episode VI - Return of the Jedi (1983) , Star Wars: Episode V - The Empire Strikes Back (1980) , Raiders of the Lost Ark (Indiana Jones and the Raiders of the Lost Ark) (1981) , }-> Star Wars: Episode IV - A New Hope (1977)\n",
            "{ Star Wars: Episode IV - A New Hope (1977) , Shawshank Redemption, The (1994) , Raiders of the Lost Ark (Indiana Jones and the Raiders of the Lost Ark) (1981) , }-> Star Wars: Episode V - The Empire Strikes Back (1980)\n",
            "{ Star Wars: Episode V - The Empire Strikes Back (1980) , Shawshank Redemption, The (1994) , Raiders of the Lost Ark (Indiana Jones and the Raiders of the Lost Ark) (1981) , }-> Star Wars: Episode IV - A New Hope (1977)\n",
            "{ Star Wars: Episode V - The Empire Strikes Back (1980) , Star Wars: Episode IV - A New Hope (1977) , Shawshank Redemption, The (1994) , }-> Raiders of the Lost Ark (Indiana Jones and the Raiders of the Lost Ark) (1981)\n",
            "{ Silence of the Lambs, The (1991) , Star Wars: Episode IV - A New Hope (1977) , Raiders of the Lost Ark (Indiana Jones and the Raiders of the Lost Ark) (1981) , }-> Star Wars: Episode V - The Empire Strikes Back (1980)\n",
            "{ Silence of the Lambs, The (1991) , Star Wars: Episode V - The Empire Strikes Back (1980) , Raiders of the Lost Ark (Indiana Jones and the Raiders of the Lost Ark) (1981) , }-> Star Wars: Episode IV - A New Hope (1977)\n",
            "{ Silence of the Lambs, The (1991) , Star Wars: Episode V - The Empire Strikes Back (1980) , Star Wars: Episode IV - A New Hope (1977) , }-> Raiders of the Lost Ark (Indiana Jones and the Raiders of the Lost Ark) (1981)\n",
            "{ Star Wars: Episode IV - A New Hope (1977) , Back to the Future (1985) , Raiders of the Lost Ark (Indiana Jones and the Raiders of the Lost Ark) (1981) , }-> Star Wars: Episode V - The Empire Strikes Back (1980)\n",
            "{ Star Wars: Episode V - The Empire Strikes Back (1980) , Back to the Future (1985) , Raiders of the Lost Ark (Indiana Jones and the Raiders of the Lost Ark) (1981) , }-> Star Wars: Episode IV - A New Hope (1977)\n",
            "{ Star Wars: Episode V - The Empire Strikes Back (1980) , Star Wars: Episode IV - A New Hope (1977) , Back to the Future (1985) , }-> Raiders of the Lost Ark (Indiana Jones and the Raiders of the Lost Ark) (1981)\n",
            "{ Star Wars: Episode V - The Empire Strikes Back (1980) , Star Wars: Episode IV - A New Hope (1977) , Shawshank Redemption, The (1994) , }-> Star Wars: Episode VI - Return of the Jedi (1983)\n",
            "{ Star Wars: Episode VI - Return of the Jedi (1983) , Star Wars: Episode IV - A New Hope (1977) , Shawshank Redemption, The (1994) , }-> Star Wars: Episode V - The Empire Strikes Back (1980)\n",
            "{ Star Wars: Episode VI - Return of the Jedi (1983) , Star Wars: Episode V - The Empire Strikes Back (1980) , Shawshank Redemption, The (1994) , }-> Star Wars: Episode IV - A New Hope (1977)\n",
            "{ Terminator 2: Judgment Day (1991) , Star Wars: Episode V - The Empire Strikes Back (1980) , Star Wars: Episode IV - A New Hope (1977) , }-> Star Wars: Episode VI - Return of the Jedi (1983)\n",
            "{ Star Wars: Episode VI - Return of the Jedi (1983) , Star Wars: Episode IV - A New Hope (1977) , Terminator 2: Judgment Day (1991) , }-> Star Wars: Episode V - The Empire Strikes Back (1980)\n",
            "{ Star Wars: Episode VI - Return of the Jedi (1983) , Star Wars: Episode V - The Empire Strikes Back (1980) , Terminator 2: Judgment Day (1991) , }-> Star Wars: Episode IV - A New Hope (1977)\n",
            "{ Silence of the Lambs, The (1991) , Star Wars: Episode V - The Empire Strikes Back (1980) , Star Wars: Episode IV - A New Hope (1977) , }-> Star Wars: Episode VI - Return of the Jedi (1983)\n",
            "{ Silence of the Lambs, The (1991) , Star Wars: Episode VI - Return of the Jedi (1983) , Star Wars: Episode IV - A New Hope (1977) , }-> Star Wars: Episode V - The Empire Strikes Back (1980)\n",
            "{ Silence of the Lambs, The (1991) , Star Wars: Episode VI - Return of the Jedi (1983) , Star Wars: Episode V - The Empire Strikes Back (1980) , }-> Star Wars: Episode IV - A New Hope (1977)\n",
            "{ Terminator, The (1984) , Star Wars: Episode V - The Empire Strikes Back (1980) , Star Wars: Episode IV - A New Hope (1977) , }-> Star Wars: Episode VI - Return of the Jedi (1983)\n",
            "{ Terminator, The (1984) , Star Wars: Episode VI - Return of the Jedi (1983) , Star Wars: Episode IV - A New Hope (1977) , }-> Star Wars: Episode V - The Empire Strikes Back (1980)\n",
            "{ Terminator, The (1984) , Star Wars: Episode VI - Return of the Jedi (1983) , Star Wars: Episode V - The Empire Strikes Back (1980) , }-> Star Wars: Episode IV - A New Hope (1977)\n",
            "{ Jurassic Park (1993) , Star Wars: Episode V - The Empire Strikes Back (1980) , Star Wars: Episode IV - A New Hope (1977) , }-> Star Wars: Episode VI - Return of the Jedi (1983)\n",
            "{ Jurassic Park (1993) , Star Wars: Episode VI - Return of the Jedi (1983) , Star Wars: Episode IV - A New Hope (1977) , }-> Star Wars: Episode V - The Empire Strikes Back (1980)\n",
            "{ Jurassic Park (1993) , Star Wars: Episode VI - Return of the Jedi (1983) , Star Wars: Episode V - The Empire Strikes Back (1980) , }-> Star Wars: Episode IV - A New Hope (1977)\n",
            "{ Star Wars: Episode V - The Empire Strikes Back (1980) , Star Wars: Episode IV - A New Hope (1977) , Back to the Future (1985) , }-> Star Wars: Episode VI - Return of the Jedi (1983)\n",
            "{ Star Wars: Episode VI - Return of the Jedi (1983) , Star Wars: Episode IV - A New Hope (1977) , Back to the Future (1985) , }-> Star Wars: Episode V - The Empire Strikes Back (1980)\n",
            "{ Star Wars: Episode VI - Return of the Jedi (1983) , Star Wars: Episode V - The Empire Strikes Back (1980) , Back to the Future (1985) , }-> Star Wars: Episode IV - A New Hope (1977)\n",
            "{ Terminator 2: Judgment Day (1991) , Star Wars: Episode V - The Empire Strikes Back (1980) , Star Wars: Episode IV - A New Hope (1977) , }-> Terminator, The (1984)\n",
            "{ Terminator, The (1984) , Star Wars: Episode IV - A New Hope (1977) , Terminator 2: Judgment Day (1991) , }-> Star Wars: Episode V - The Empire Strikes Back (1980)\n",
            "{ Terminator, The (1984) , Star Wars: Episode V - The Empire Strikes Back (1980) , Terminator 2: Judgment Day (1991) , }-> Star Wars: Episode IV - A New Hope (1977)\n",
            "{ Terminator, The (1984) , Star Wars: Episode V - The Empire Strikes Back (1980) , Star Wars: Episode IV - A New Hope (1977) , }-> Terminator 2: Judgment Day (1991)\n",
            "{ Indiana Jones and the Last Crusade (1989) , Star Wars: Episode V - The Empire Strikes Back (1980) , Raiders of the Lost Ark (Indiana Jones and the Raiders of the Lost Ark) (1981) , }-> Star Wars: Episode VI - Return of the Jedi (1983)\n",
            "{ Star Wars: Episode VI - Return of the Jedi (1983) , Indiana Jones and the Last Crusade (1989) , Raiders of the Lost Ark (Indiana Jones and the Raiders of the Lost Ark) (1981) , }-> Star Wars: Episode V - The Empire Strikes Back (1980)\n",
            "{ Star Wars: Episode VI - Return of the Jedi (1983) , Indiana Jones and the Last Crusade (1989) , Star Wars: Episode V - The Empire Strikes Back (1980) , }-> Raiders of the Lost Ark (Indiana Jones and the Raiders of the Lost Ark) (1981)\n",
            "{ Pulp Fiction (1994) , Shawshank Redemption, The (1994) , Schindler's List (1993) , }-> Silence of the Lambs, The (1991)\n",
            "{ Silence of the Lambs, The (1991) , Fugitive, The (1993) , Schindler's List (1993) , }-> Pulp Fiction (1994)\n",
            "{ Pulp Fiction (1994) , Fugitive, The (1993) , Schindler's List (1993) , }-> Silence of the Lambs, The (1991)\n",
            "{ Silence of the Lambs, The (1991) , Terminator 2: Judgment Day (1991) , Schindler's List (1993) , }-> Pulp Fiction (1994)\n",
            "{ Pulp Fiction (1994) , Terminator 2: Judgment Day (1991) , Schindler's List (1993) , }-> Silence of the Lambs, The (1991)\n",
            "{ Jurassic Park (1993) , Silence of the Lambs, The (1991) , Schindler's List (1993) , }-> Pulp Fiction (1994)\n",
            "{ Pulp Fiction (1994) , Jurassic Park (1993) , Schindler's List (1993) , }-> Silence of the Lambs, The (1991)\n",
            "{ Pulp Fiction (1994) , Forrest Gump (1994) , Schindler's List (1993) , }-> Silence of the Lambs, The (1991)\n",
            "{ Forrest Gump (1994) , Shawshank Redemption, The (1994) , Schindler's List (1993) , }-> Silence of the Lambs, The (1991)\n",
            "{ Fugitive, The (1993) , Forrest Gump (1994) , Schindler's List (1993) , }-> Silence of the Lambs, The (1991)\n",
            "{ Silence of the Lambs, The (1991) , Fugitive, The (1993) , Schindler's List (1993) , }-> Forrest Gump (1994)\n",
            "{ Fugitive, The (1993) , Forrest Gump (1994) , Schindler's List (1993) , }-> Jurassic Park (1993)\n",
            "{ Jurassic Park (1993) , Fugitive, The (1993) , Schindler's List (1993) , }-> Forrest Gump (1994)\n",
            "{ Jurassic Park (1993) , Forrest Gump (1994) , Schindler's List (1993) , }-> Silence of the Lambs, The (1991)\n",
            "{ Jurassic Park (1993) , Silence of the Lambs, The (1991) , Schindler's List (1993) , }-> Forrest Gump (1994)\n",
            "{ Pulp Fiction (1994) , Fugitive, The (1993) , Apollo 13 (1995) , }-> Shawshank Redemption, The (1994)\n",
            "{ Pulp Fiction (1994) , Batman (1989) , Apollo 13 (1995) , }-> Shawshank Redemption, The (1994)\n",
            "{ Pulp Fiction (1994) , Apollo 13 (1995) , Shawshank Redemption, The (1994) , }-> Silence of the Lambs, The (1991)\n",
            "{ Pulp Fiction (1994) , Batman (1989) , Apollo 13 (1995) , }-> Fugitive, The (1993)\n",
            "{ Pulp Fiction (1994) , Silence of the Lambs, The (1991) , Apollo 13 (1995) , }-> Fugitive, The (1993)\n",
            "{ Pulp Fiction (1994) , Fugitive, The (1993) , Apollo 13 (1995) , }-> Silence of the Lambs, The (1991)\n",
            "{ Pulp Fiction (1994) , Forrest Gump (1994) , Apollo 13 (1995) , }-> Fugitive, The (1993)\n",
            "{ Pulp Fiction (1994) , Terminator 2: Judgment Day (1991) , Apollo 13 (1995) , }-> Jurassic Park (1993)\n",
            "{ Pulp Fiction (1994) , Jurassic Park (1993) , Apollo 13 (1995) , }-> Terminator 2: Judgment Day (1991)\n",
            "{ Pulp Fiction (1994) , Batman (1989) , Apollo 13 (1995) , }-> Silence of the Lambs, The (1991)\n",
            "{ Pulp Fiction (1994) , True Lies (1994) , Apollo 13 (1995) , }-> Batman (1989)\n",
            "{ Pulp Fiction (1994) , Batman (1989) , Apollo 13 (1995) , }-> True Lies (1994)\n",
            "{ Pulp Fiction (1994) , Jurassic Park (1993) , Apollo 13 (1995) , }-> Silence of the Lambs, The (1991)\n",
            "{ Pulp Fiction (1994) , Forrest Gump (1994) , Apollo 13 (1995) , }-> Silence of the Lambs, The (1991)\n",
            "{ Pulp Fiction (1994) , Forrest Gump (1994) , Apollo 13 (1995) , }-> Jurassic Park (1993)\n",
            "{ Pulp Fiction (1994) , Jurassic Park (1993) , Apollo 13 (1995) , }-> Forrest Gump (1994)\n",
            "{ Dances with Wolves (1990) , Apollo 13 (1995) , Shawshank Redemption, The (1994) , }-> Fugitive, The (1993)\n",
            "{ Fugitive, The (1993) , Shawshank Redemption, The (1994) , Dances with Wolves (1990) , }-> Apollo 13 (1995)\n",
            "{ Batman (1989) , Apollo 13 (1995) , Shawshank Redemption, The (1994) , }-> Fugitive, The (1993)\n",
            "{ Silence of the Lambs, The (1991) , Apollo 13 (1995) , Shawshank Redemption, The (1994) , }-> Fugitive, The (1993)\n",
            "{ Fugitive, The (1993) , Apollo 13 (1995) , Shawshank Redemption, The (1994) , }-> Silence of the Lambs, The (1991)\n",
            "{ Jurassic Park (1993) , Apollo 13 (1995) , Shawshank Redemption, The (1994) , }-> Fugitive, The (1993)\n",
            "{ Apollo 13 (1995) , Forrest Gump (1994) , Shawshank Redemption, The (1994) , }-> Fugitive, The (1993)\n",
            "{ Fugitive, The (1993) , Apollo 13 (1995) , Shawshank Redemption, The (1994) , }-> Forrest Gump (1994)\n",
            "{ Apollo 13 (1995) , True Lies (1994) , Shawshank Redemption, The (1994) , }-> Fugitive, The (1993)\n",
            "{ Batman (1989) , Silence of the Lambs, The (1991) , Apollo 13 (1995) , }-> Shawshank Redemption, The (1994)\n",
            "{ Apollo 13 (1995) , True Lies (1994) , Shawshank Redemption, The (1994) , }-> Batman (1989)\n",
            "{ Batman (1989) , Apollo 13 (1995) , Shawshank Redemption, The (1994) , }-> True Lies (1994)\n",
            "{ Batman (1989) , True Lies (1994) , Shawshank Redemption, The (1994) , }-> Apollo 13 (1995)\n",
            "{ Jurassic Park (1993) , Apollo 13 (1995) , Shawshank Redemption, The (1994) , }-> Silence of the Lambs, The (1991)\n",
            "{ Apollo 13 (1995) , Forrest Gump (1994) , Shawshank Redemption, The (1994) , }-> Silence of the Lambs, The (1991)\n",
            "{ Silence of the Lambs, The (1991) , Apollo 13 (1995) , Shawshank Redemption, The (1994) , }-> Forrest Gump (1994)\n",
            "{ Apollo 13 (1995) , Forrest Gump (1994) , Shawshank Redemption, The (1994) , }-> Jurassic Park (1993)\n",
            "{ Jurassic Park (1993) , Apollo 13 (1995) , Shawshank Redemption, The (1994) , }-> Forrest Gump (1994)\n",
            "{ Batman (1989) , Terminator 2: Judgment Day (1991) , Apollo 13 (1995) , }-> Fugitive, The (1993)\n",
            "{ Fugitive, The (1993) , Terminator 2: Judgment Day (1991) , Apollo 13 (1995) , }-> Silence of the Lambs, The (1991)\n",
            "{ Silence of the Lambs, The (1991) , Terminator 2: Judgment Day (1991) , Apollo 13 (1995) , }-> Fugitive, The (1993)\n",
            "{ Fugitive, The (1993) , Terminator 2: Judgment Day (1991) , Apollo 13 (1995) , }-> Jurassic Park (1993)\n",
            "{ Jurassic Park (1993) , Terminator 2: Judgment Day (1991) , Apollo 13 (1995) , }-> Fugitive, The (1993)\n",
            "{ Jurassic Park (1993) , Fugitive, The (1993) , Apollo 13 (1995) , }-> Terminator 2: Judgment Day (1991)\n",
            "{ Forrest Gump (1994) , Terminator 2: Judgment Day (1991) , Apollo 13 (1995) , }-> Fugitive, The (1993)\n",
            "{ Fugitive, The (1993) , Terminator 2: Judgment Day (1991) , Apollo 13 (1995) , }-> Forrest Gump (1994)\n",
            "{ Batman (1989) , Dances with Wolves (1990) , Apollo 13 (1995) , }-> Fugitive, The (1993)\n",
            "{ Fugitive, The (1993) , Apollo 13 (1995) , Dances with Wolves (1990) , }-> Silence of the Lambs, The (1991)\n",
            "{ Silence of the Lambs, The (1991) , Apollo 13 (1995) , Dances with Wolves (1990) , }-> Fugitive, The (1993)\n",
            "{ Jurassic Park (1993) , Dances with Wolves (1990) , Apollo 13 (1995) , }-> Fugitive, The (1993)\n",
            "{ Dances with Wolves (1990) , Forrest Gump (1994) , Apollo 13 (1995) , }-> Fugitive, The (1993)\n",
            "{ Fugitive, The (1993) , Apollo 13 (1995) , Dances with Wolves (1990) , }-> Forrest Gump (1994)\n",
            "{ Dances with Wolves (1990) , True Lies (1994) , Apollo 13 (1995) , }-> Fugitive, The (1993)\n",
            "{ Fugitive, The (1993) , True Lies (1994) , Dances with Wolves (1990) , }-> Apollo 13 (1995)\n",
            "{ Batman (1989) , Silence of the Lambs, The (1991) , Apollo 13 (1995) , }-> Fugitive, The (1993)\n",
            "{ Batman (1989) , Fugitive, The (1993) , Apollo 13 (1995) , }-> Silence of the Lambs, The (1991)\n",
            "{ Batman (1989) , Jurassic Park (1993) , Apollo 13 (1995) , }-> Fugitive, The (1993)\n",
            "{ Batman (1989) , Fugitive, The (1993) , Apollo 13 (1995) , }-> Jurassic Park (1993)\n",
            "{ Batman (1989) , Forrest Gump (1994) , Apollo 13 (1995) , }-> Fugitive, The (1993)\n",
            "{ Batman (1989) , Fugitive, The (1993) , Apollo 13 (1995) , }-> Forrest Gump (1994)\n",
            "{ Fugitive, The (1993) , True Lies (1994) , Apollo 13 (1995) , }-> Batman (1989)\n",
            "{ Batman (1989) , True Lies (1994) , Apollo 13 (1995) , }-> Fugitive, The (1993)\n",
            "{ Batman (1989) , Fugitive, The (1993) , Apollo 13 (1995) , }-> True Lies (1994)\n",
            "{ Jurassic Park (1993) , Fugitive, The (1993) , Apollo 13 (1995) , }-> Silence of the Lambs, The (1991)\n",
            "{ Jurassic Park (1993) , Silence of the Lambs, The (1991) , Apollo 13 (1995) , }-> Fugitive, The (1993)\n",
            "{ Fugitive, The (1993) , Forrest Gump (1994) , Apollo 13 (1995) , }-> Silence of the Lambs, The (1991)\n",
            "{ Silence of the Lambs, The (1991) , Forrest Gump (1994) , Apollo 13 (1995) , }-> Fugitive, The (1993)\n",
            "{ Silence of the Lambs, The (1991) , Fugitive, The (1993) , Apollo 13 (1995) , }-> Forrest Gump (1994)\n",
            "{ Fugitive, The (1993) , Apollo 13 (1995) , Speed (1994) , }-> Silence of the Lambs, The (1991)\n",
            "{ Silence of the Lambs, The (1991) , Apollo 13 (1995) , Speed (1994) , }-> Fugitive, The (1993)\n",
            "{ Fugitive, The (1993) , True Lies (1994) , Apollo 13 (1995) , }-> Silence of the Lambs, The (1991)\n",
            "{ Silence of the Lambs, The (1991) , True Lies (1994) , Apollo 13 (1995) , }-> Fugitive, The (1993)\n",
            "{ Fugitive, The (1993) , Forrest Gump (1994) , Apollo 13 (1995) , }-> Jurassic Park (1993)\n",
            "{ Jurassic Park (1993) , Forrest Gump (1994) , Apollo 13 (1995) , }-> Fugitive, The (1993)\n",
            "{ Jurassic Park (1993) , Fugitive, The (1993) , Apollo 13 (1995) , }-> Forrest Gump (1994)\n",
            "{ Fugitive, The (1993) , Apollo 13 (1995) , Speed (1994) , }-> Jurassic Park (1993)\n",
            "{ Jurassic Park (1993) , Speed (1994) , Apollo 13 (1995) , }-> Fugitive, The (1993)\n",
            "{ Jurassic Park (1993) , True Lies (1994) , Apollo 13 (1995) , }-> Fugitive, The (1993)\n",
            "{ Apollo 13 (1995) , Forrest Gump (1994) , Braveheart (1995) , }-> Fugitive, The (1993)\n",
            "{ Fugitive, The (1993) , Apollo 13 (1995) , Braveheart (1995) , }-> Forrest Gump (1994)\n",
            "{ Speed (1994) , Forrest Gump (1994) , Apollo 13 (1995) , }-> Fugitive, The (1993)\n",
            "{ Fugitive, The (1993) , Apollo 13 (1995) , Speed (1994) , }-> Forrest Gump (1994)\n",
            "{ Forrest Gump (1994) , True Lies (1994) , Apollo 13 (1995) , }-> Fugitive, The (1993)\n",
            "{ Fugitive, The (1993) , True Lies (1994) , Apollo 13 (1995) , }-> Forrest Gump (1994)\n",
            "{ Batman (1989) , Terminator 2: Judgment Day (1991) , Apollo 13 (1995) , }-> Jurassic Park (1993)\n",
            "{ Batman (1989) , Jurassic Park (1993) , Apollo 13 (1995) , }-> Terminator 2: Judgment Day (1991)\n",
            "{ Forrest Gump (1994) , Terminator 2: Judgment Day (1991) , Apollo 13 (1995) , }-> Batman (1989)\n",
            "{ Batman (1989) , Terminator 2: Judgment Day (1991) , Apollo 13 (1995) , }-> Forrest Gump (1994)\n",
            "{ Silence of the Lambs, The (1991) , Terminator 2: Judgment Day (1991) , Apollo 13 (1995) , }-> Jurassic Park (1993)\n",
            "{ Jurassic Park (1993) , Terminator 2: Judgment Day (1991) , Apollo 13 (1995) , }-> Silence of the Lambs, The (1991)\n",
            "{ Jurassic Park (1993) , Silence of the Lambs, The (1991) , Apollo 13 (1995) , }-> Terminator 2: Judgment Day (1991)\n",
            "{ Forrest Gump (1994) , Terminator 2: Judgment Day (1991) , Apollo 13 (1995) , }-> Silence of the Lambs, The (1991)\n",
            "{ Silence of the Lambs, The (1991) , Terminator 2: Judgment Day (1991) , Apollo 13 (1995) , }-> Forrest Gump (1994)\n",
            "{ Forrest Gump (1994) , Terminator 2: Judgment Day (1991) , Apollo 13 (1995) , }-> Jurassic Park (1993)\n",
            "{ Jurassic Park (1993) , Terminator 2: Judgment Day (1991) , Apollo 13 (1995) , }-> Forrest Gump (1994)\n",
            "{ Speed (1994) , Terminator 2: Judgment Day (1991) , Apollo 13 (1995) , }-> Jurassic Park (1993)\n",
            "{ Jurassic Park (1993) , Speed (1994) , Apollo 13 (1995) , }-> Terminator 2: Judgment Day (1991)\n",
            "{ True Lies (1994) , Terminator 2: Judgment Day (1991) , Apollo 13 (1995) , }-> Jurassic Park (1993)\n",
            "{ Jurassic Park (1993) , True Lies (1994) , Apollo 13 (1995) , }-> Terminator 2: Judgment Day (1991)\n",
            "{ True Lies (1994) , Terminator 2: Judgment Day (1991) , Apollo 13 (1995) , }-> Forrest Gump (1994)\n",
            "{ Forrest Gump (1994) , True Lies (1994) , Apollo 13 (1995) , }-> Terminator 2: Judgment Day (1991)\n",
            "{ Apollo 13 (1995) , True Lies (1994) , Dances with Wolves (1990) , }-> Batman (1989)\n",
            "{ Batman (1989) , Apollo 13 (1995) , Dances with Wolves (1990) , }-> True Lies (1994)\n",
            "{ Batman (1989) , True Lies (1994) , Dances with Wolves (1990) , }-> Apollo 13 (1995)\n",
            "{ Jurassic Park (1993) , Apollo 13 (1995) , Dances with Wolves (1990) , }-> Silence of the Lambs, The (1991)\n",
            "{ Apollo 13 (1995) , Forrest Gump (1994) , Dances with Wolves (1990) , }-> Silence of the Lambs, The (1991)\n",
            "{ Silence of the Lambs, The (1991) , Apollo 13 (1995) , Dances with Wolves (1990) , }-> Forrest Gump (1994)\n",
            "{ Apollo 13 (1995) , Forrest Gump (1994) , Dances with Wolves (1990) , }-> Jurassic Park (1993)\n",
            "{ Jurassic Park (1993) , Apollo 13 (1995) , Dances with Wolves (1990) , }-> Forrest Gump (1994)\n",
            "{ Batman (1989) , Jurassic Park (1993) , Apollo 13 (1995) , }-> Silence of the Lambs, The (1991)\n",
            "{ Batman (1989) , Silence of the Lambs, The (1991) , Apollo 13 (1995) , }-> Jurassic Park (1993)\n",
            "{ Batman (1989) , Forrest Gump (1994) , Apollo 13 (1995) , }-> Silence of the Lambs, The (1991)\n",
            "{ Batman (1989) , Silence of the Lambs, The (1991) , Apollo 13 (1995) , }-> Forrest Gump (1994)\n",
            "{ Silence of the Lambs, The (1991) , True Lies (1994) , Apollo 13 (1995) , }-> Batman (1989)\n",
            "{ Batman (1989) , Silence of the Lambs, The (1991) , Apollo 13 (1995) , }-> True Lies (1994)\n",
            "{ True Lies (1994) , Clear and Present Danger (1994) , Apollo 13 (1995) , }-> Batman (1989)\n",
            "{ Batman (1989) , Clear and Present Danger (1994) , Apollo 13 (1995) , }-> True Lies (1994)\n",
            "{ Batman (1989) , True Lies (1994) , Clear and Present Danger (1994) , }-> Apollo 13 (1995)\n",
            "{ Batman (1989) , Forrest Gump (1994) , Apollo 13 (1995) , }-> Jurassic Park (1993)\n",
            "{ Batman (1989) , Jurassic Park (1993) , Apollo 13 (1995) , }-> Forrest Gump (1994)\n",
            "{ Jurassic Park (1993) , True Lies (1994) , Apollo 13 (1995) , }-> Batman (1989)\n",
            "{ Batman (1989) , Jurassic Park (1993) , Apollo 13 (1995) , }-> True Lies (1994)\n",
            "{ Forrest Gump (1994) , True Lies (1994) , Apollo 13 (1995) , }-> Batman (1989)\n",
            "{ Batman (1989) , Forrest Gump (1994) , Apollo 13 (1995) , }-> True Lies (1994)\n",
            "{ Silence of the Lambs, The (1991) , Forrest Gump (1994) , Apollo 13 (1995) , }-> Jurassic Park (1993)\n",
            "{ Jurassic Park (1993) , Forrest Gump (1994) , Apollo 13 (1995) , }-> Silence of the Lambs, The (1991)\n",
            "{ Jurassic Park (1993) , Silence of the Lambs, The (1991) , Apollo 13 (1995) , }-> Forrest Gump (1994)\n",
            "{ Silence of the Lambs, The (1991) , Apollo 13 (1995) , Speed (1994) , }-> Jurassic Park (1993)\n",
            "{ Jurassic Park (1993) , Speed (1994) , Apollo 13 (1995) , }-> Silence of the Lambs, The (1991)\n",
            "{ Forrest Gump (1994) , True Lies (1994) , Apollo 13 (1995) , }-> Silence of the Lambs, The (1991)\n",
            "{ Silence of the Lambs, The (1991) , True Lies (1994) , Apollo 13 (1995) , }-> Forrest Gump (1994)\n",
            "{ Speed (1994) , Forrest Gump (1994) , Apollo 13 (1995) , }-> Jurassic Park (1993)\n",
            "{ Jurassic Park (1993) , Speed (1994) , Apollo 13 (1995) , }-> Forrest Gump (1994)\n",
            "{ Forrest Gump (1994) , True Lies (1994) , Apollo 13 (1995) , }-> Jurassic Park (1993)\n",
            "{ Jurassic Park (1993) , True Lies (1994) , Apollo 13 (1995) , }-> Forrest Gump (1994)\n",
            "{ Twelve Monkeys (a.k.a. 12 Monkeys) (1995) , Shawshank Redemption, The (1994) , Seven (a.k.a. Se7en) (1995) , }-> Pulp Fiction (1994)\n",
            "{ Twelve Monkeys (a.k.a. 12 Monkeys) (1995) , Pulp Fiction (1994) , Seven (a.k.a. Se7en) (1995) , }-> Shawshank Redemption, The (1994)\n",
            "{ Twelve Monkeys (a.k.a. 12 Monkeys) (1995) , Pulp Fiction (1994) , Seven (a.k.a. Se7en) (1995) , }-> Silence of the Lambs, The (1991)\n",
            "{ Twelve Monkeys (a.k.a. 12 Monkeys) (1995) , Silence of the Lambs, The (1991) , Seven (a.k.a. Se7en) (1995) , }-> Pulp Fiction (1994)\n",
            "{ Twelve Monkeys (a.k.a. 12 Monkeys) (1995) , Usual Suspects, The (1995) , Shawshank Redemption, The (1994) , }-> Pulp Fiction (1994)\n",
            "{ Twelve Monkeys (a.k.a. 12 Monkeys) (1995) , Pulp Fiction (1994) , Usual Suspects, The (1995) , }-> Shawshank Redemption, The (1994)\n",
            "{ Twelve Monkeys (a.k.a. 12 Monkeys) (1995) , Pulp Fiction (1994) , Usual Suspects, The (1995) , }-> Silence of the Lambs, The (1991)\n",
            "{ Twelve Monkeys (a.k.a. 12 Monkeys) (1995) , Silence of the Lambs, The (1991) , Usual Suspects, The (1995) , }-> Pulp Fiction (1994)\n",
            "{ Twelve Monkeys (a.k.a. 12 Monkeys) (1995) , Pulp Fiction (1994) , Shawshank Redemption, The (1994) , }-> Silence of the Lambs, The (1991)\n",
            "{ Twelve Monkeys (a.k.a. 12 Monkeys) (1995) , Silence of the Lambs, The (1991) , Shawshank Redemption, The (1994) , }-> Pulp Fiction (1994)\n",
            "{ Twelve Monkeys (a.k.a. 12 Monkeys) (1995) , Silence of the Lambs, The (1991) , Pulp Fiction (1994) , }-> Shawshank Redemption, The (1994)\n",
            "{ Twelve Monkeys (a.k.a. 12 Monkeys) (1995) , Fugitive, The (1993) , Silence of the Lambs, The (1991) , }-> Pulp Fiction (1994)\n",
            "{ Twelve Monkeys (a.k.a. 12 Monkeys) (1995) , Fugitive, The (1993) , Pulp Fiction (1994) , }-> Silence of the Lambs, The (1991)\n",
            "{ Twelve Monkeys (a.k.a. 12 Monkeys) (1995) , Pulp Fiction (1994) , Terminator 2: Judgment Day (1991) , }-> Silence of the Lambs, The (1991)\n",
            "{ Twelve Monkeys (a.k.a. 12 Monkeys) (1995) , Silence of the Lambs, The (1991) , Terminator 2: Judgment Day (1991) , }-> Pulp Fiction (1994)\n",
            "{ Twelve Monkeys (a.k.a. 12 Monkeys) (1995) , Pulp Fiction (1994) , Forrest Gump (1994) , }-> Silence of the Lambs, The (1991)\n",
            "{ Twelve Monkeys (a.k.a. 12 Monkeys) (1995) , Silence of the Lambs, The (1991) , Forrest Gump (1994) , }-> Pulp Fiction (1994)\n",
            "{ Fugitive, The (1993) , Terminator 2: Judgment Day (1991) , Die Hard: With a Vengeance (1995) , }-> Jurassic Park (1993)\n",
            "{ Jurassic Park (1993) , Terminator 2: Judgment Day (1991) , Die Hard: With a Vengeance (1995) , }-> Fugitive, The (1993)\n",
            "{ Jurassic Park (1993) , Fugitive, The (1993) , Die Hard: With a Vengeance (1995) , }-> Terminator 2: Judgment Day (1991)\n",
            "{ Fugitive, The (1993) , True Lies (1994) , Die Hard: With a Vengeance (1995) , }-> Batman (1989)\n",
            "{ Batman (1989) , True Lies (1994) , Die Hard: With a Vengeance (1995) , }-> Fugitive, The (1993)\n",
            "{ Batman (1989) , Fugitive, The (1993) , Die Hard: With a Vengeance (1995) , }-> True Lies (1994)\n",
            "{ Forrest Gump (1994) , Terminator 2: Judgment Day (1991) , Die Hard: With a Vengeance (1995) , }-> Jurassic Park (1993)\n",
            "{ Jurassic Park (1993) , Terminator 2: Judgment Day (1991) , Die Hard: With a Vengeance (1995) , }-> Forrest Gump (1994)\n",
            "{ Jurassic Park (1993) , Forrest Gump (1994) , Die Hard: With a Vengeance (1995) , }-> Terminator 2: Judgment Day (1991)\n",
            "{ Speed (1994) , Terminator 2: Judgment Day (1991) , Die Hard: With a Vengeance (1995) , }-> Jurassic Park (1993)\n",
            "{ Jurassic Park (1993) , Terminator 2: Judgment Day (1991) , Die Hard: With a Vengeance (1995) , }-> Speed (1994)\n",
            "{ Jurassic Park (1993) , Speed (1994) , Die Hard: With a Vengeance (1995) , }-> Terminator 2: Judgment Day (1991)\n",
            "{ Usual Suspects, The (1995) , Shawshank Redemption, The (1994) , Seven (a.k.a. Se7en) (1995) , }-> Pulp Fiction (1994)\n",
            "{ Pulp Fiction (1994) , Usual Suspects, The (1995) , Seven (a.k.a. Se7en) (1995) , }-> Shawshank Redemption, The (1994)\n",
            "{ Silence of the Lambs, The (1991) , Usual Suspects, The (1995) , Seven (a.k.a. Se7en) (1995) , }-> Pulp Fiction (1994)\n",
            "{ Pulp Fiction (1994) , Usual Suspects, The (1995) , Seven (a.k.a. Se7en) (1995) , }-> Silence of the Lambs, The (1991)\n",
            "{ Fugitive, The (1993) , Shawshank Redemption, The (1994) , Seven (a.k.a. Se7en) (1995) , }-> Pulp Fiction (1994)\n",
            "{ Pulp Fiction (1994) , Fugitive, The (1993) , Seven (a.k.a. Se7en) (1995) , }-> Shawshank Redemption, The (1994)\n",
            "{ Terminator 2: Judgment Day (1991) , Shawshank Redemption, The (1994) , Seven (a.k.a. Se7en) (1995) , }-> Pulp Fiction (1994)\n",
            "{ Pulp Fiction (1994) , Terminator 2: Judgment Day (1991) , Seven (a.k.a. Se7en) (1995) , }-> Shawshank Redemption, The (1994)\n",
            "{ Batman (1989) , Shawshank Redemption, The (1994) , Seven (a.k.a. Se7en) (1995) , }-> Pulp Fiction (1994)\n",
            "{ Pulp Fiction (1994) , Batman (1989) , Seven (a.k.a. Se7en) (1995) , }-> Shawshank Redemption, The (1994)\n",
            "{ Silence of the Lambs, The (1991) , Shawshank Redemption, The (1994) , Seven (a.k.a. Se7en) (1995) , }-> Pulp Fiction (1994)\n",
            "{ Pulp Fiction (1994) , Shawshank Redemption, The (1994) , Seven (a.k.a. Se7en) (1995) , }-> Silence of the Lambs, The (1991)\n",
            "{ Pulp Fiction (1994) , Silence of the Lambs, The (1991) , Seven (a.k.a. Se7en) (1995) , }-> Shawshank Redemption, The (1994)\n",
            "{ Forrest Gump (1994) , Shawshank Redemption, The (1994) , Seven (a.k.a. Se7en) (1995) , }-> Pulp Fiction (1994)\n",
            "{ Pulp Fiction (1994) , Forrest Gump (1994) , Seven (a.k.a. Se7en) (1995) , }-> Shawshank Redemption, The (1994)\n",
            "{ Silence of the Lambs, The (1991) , Fugitive, The (1993) , Seven (a.k.a. Se7en) (1995) , }-> Pulp Fiction (1994)\n",
            "{ Pulp Fiction (1994) , Fugitive, The (1993) , Seven (a.k.a. Se7en) (1995) , }-> Silence of the Lambs, The (1991)\n",
            "{ Silence of the Lambs, The (1991) , Terminator 2: Judgment Day (1991) , Seven (a.k.a. Se7en) (1995) , }-> Pulp Fiction (1994)\n",
            "{ Pulp Fiction (1994) , Terminator 2: Judgment Day (1991) , Seven (a.k.a. Se7en) (1995) , }-> Silence of the Lambs, The (1991)\n",
            "{ Forrest Gump (1994) , Terminator 2: Judgment Day (1991) , Seven (a.k.a. Se7en) (1995) , }-> Pulp Fiction (1994)\n",
            "{ Pulp Fiction (1994) , Terminator 2: Judgment Day (1991) , Seven (a.k.a. Se7en) (1995) , }-> Forrest Gump (1994)\n",
            "{ Batman (1989) , Silence of the Lambs, The (1991) , Seven (a.k.a. Se7en) (1995) , }-> Pulp Fiction (1994)\n",
            "{ Pulp Fiction (1994) , Batman (1989) , Seven (a.k.a. Se7en) (1995) , }-> Silence of the Lambs, The (1991)\n",
            "{ Jurassic Park (1993) , Silence of the Lambs, The (1991) , Seven (a.k.a. Se7en) (1995) , }-> Pulp Fiction (1994)\n",
            "{ Pulp Fiction (1994) , Jurassic Park (1993) , Seven (a.k.a. Se7en) (1995) , }-> Silence of the Lambs, The (1991)\n",
            "{ Silence of the Lambs, The (1991) , Forrest Gump (1994) , Seven (a.k.a. Se7en) (1995) , }-> Pulp Fiction (1994)\n",
            "{ Pulp Fiction (1994) , Forrest Gump (1994) , Seven (a.k.a. Se7en) (1995) , }-> Silence of the Lambs, The (1991)\n",
            "{ Silence of the Lambs, The (1991) , Braveheart (1995) , Seven (a.k.a. Se7en) (1995) , }-> Pulp Fiction (1994)\n",
            "{ Pulp Fiction (1994) , Braveheart (1995) , Seven (a.k.a. Se7en) (1995) , }-> Silence of the Lambs, The (1991)\n",
            "{ Fugitive, The (1993) , Usual Suspects, The (1995) , Shawshank Redemption, The (1994) , }-> Pulp Fiction (1994)\n",
            "{ Pulp Fiction (1994) , Fugitive, The (1993) , Usual Suspects, The (1995) , }-> Shawshank Redemption, The (1994)\n",
            "{ Silence of the Lambs, The (1991) , Usual Suspects, The (1995) , Shawshank Redemption, The (1994) , }-> Pulp Fiction (1994)\n",
            "{ Pulp Fiction (1994) , Usual Suspects, The (1995) , Shawshank Redemption, The (1994) , }-> Silence of the Lambs, The (1991)\n",
            "{ Pulp Fiction (1994) , Silence of the Lambs, The (1991) , Usual Suspects, The (1995) , }-> Shawshank Redemption, The (1994)\n",
            "{ Usual Suspects, The (1995) , Forrest Gump (1994) , Shawshank Redemption, The (1994) , }-> Pulp Fiction (1994)\n",
            "{ Pulp Fiction (1994) , Usual Suspects, The (1995) , Forrest Gump (1994) , }-> Shawshank Redemption, The (1994)\n",
            "{ Silence of the Lambs, The (1991) , Fugitive, The (1993) , Usual Suspects, The (1995) , }-> Pulp Fiction (1994)\n",
            "{ Pulp Fiction (1994) , Fugitive, The (1993) , Usual Suspects, The (1995) , }-> Silence of the Lambs, The (1991)\n",
            "{ Silence of the Lambs, The (1991) , Usual Suspects, The (1995) , Terminator 2: Judgment Day (1991) , }-> Pulp Fiction (1994)\n",
            "{ Pulp Fiction (1994) , Usual Suspects, The (1995) , Terminator 2: Judgment Day (1991) , }-> Silence of the Lambs, The (1991)\n",
            "{ Silence of the Lambs, The (1991) , Usual Suspects, The (1995) , Forrest Gump (1994) , }-> Pulp Fiction (1994)\n",
            "{ Pulp Fiction (1994) , Usual Suspects, The (1995) , Forrest Gump (1994) , }-> Silence of the Lambs, The (1991)\n",
            "{ Pulp Fiction (1994) , Terminator 2: Judgment Day (1991) , Shawshank Redemption, The (1994) , }-> Fugitive, The (1993)\n",
            "{ Pulp Fiction (1994) , Fugitive, The (1993) , Shawshank Redemption, The (1994) , }-> Silence of the Lambs, The (1991)\n",
            "{ Pulp Fiction (1994) , Jurassic Park (1993) , Shawshank Redemption, The (1994) , }-> Fugitive, The (1993)\n",
            "{ Pulp Fiction (1994) , Fugitive, The (1993) , Braveheart (1995) , }-> Shawshank Redemption, The (1994)\n",
            "{ Silence of the Lambs, The (1991) , Terminator 2: Judgment Day (1991) , Shawshank Redemption, The (1994) , }-> Pulp Fiction (1994)\n",
            "{ Pulp Fiction (1994) , Terminator 2: Judgment Day (1991) , Shawshank Redemption, The (1994) , }-> Silence of the Lambs, The (1991)\n",
            "{ Pulp Fiction (1994) , Terminator 2: Judgment Day (1991) , Shawshank Redemption, The (1994) , }-> Jurassic Park (1993)\n",
            "{ Pulp Fiction (1994) , Jurassic Park (1993) , Shawshank Redemption, The (1994) , }-> Terminator 2: Judgment Day (1991)\n",
            "{ Pulp Fiction (1994) , Terminator 2: Judgment Day (1991) , Shawshank Redemption, The (1994) , }-> Forrest Gump (1994)\n",
            "{ Pulp Fiction (1994) , Shawshank Redemption, The (1994) , Dances with Wolves (1990) , }-> Silence of the Lambs, The (1991)\n",
            "{ Batman (1989) , Silence of the Lambs, The (1991) , Shawshank Redemption, The (1994) , }-> Pulp Fiction (1994)\n",
            "{ Pulp Fiction (1994) , Batman (1989) , Shawshank Redemption, The (1994) , }-> Silence of the Lambs, The (1991)\n",
            "{ Batman (1989) , True Lies (1994) , Shawshank Redemption, The (1994) , }-> Pulp Fiction (1994)\n",
            "{ Pulp Fiction (1994) , True Lies (1994) , Shawshank Redemption, The (1994) , }-> Batman (1989)\n",
            "{ Pulp Fiction (1994) , Jurassic Park (1993) , Shawshank Redemption, The (1994) , }-> Silence of the Lambs, The (1991)\n",
            "{ Fargo (1996) , Silence of the Lambs, The (1991) , Shawshank Redemption, The (1994) , }-> Pulp Fiction (1994)\n",
            "{ Pulp Fiction (1994) , Fargo (1996) , Shawshank Redemption, The (1994) , }-> Silence of the Lambs, The (1991)\n",
            "{ Pulp Fiction (1994) , Forrest Gump (1994) , Shawshank Redemption, The (1994) , }-> Silence of the Lambs, The (1991)\n",
            "{ Pulp Fiction (1994) , Shawshank Redemption, The (1994) , Braveheart (1995) , }-> Silence of the Lambs, The (1991)\n",
            "{ Silence of the Lambs, The (1991) , True Lies (1994) , Shawshank Redemption, The (1994) , }-> Pulp Fiction (1994)\n",
            "{ Pulp Fiction (1994) , True Lies (1994) , Shawshank Redemption, The (1994) , }-> Silence of the Lambs, The (1991)\n",
            "{ Pulp Fiction (1994) , Jurassic Park (1993) , Shawshank Redemption, The (1994) , }-> Forrest Gump (1994)\n",
            "{ Pulp Fiction (1994) , Batman (1989) , Terminator 2: Judgment Day (1991) , }-> Fugitive, The (1993)\n",
            "{ Pulp Fiction (1994) , Fugitive, The (1993) , Terminator 2: Judgment Day (1991) , }-> Silence of the Lambs, The (1991)\n",
            "{ Pulp Fiction (1994) , Fugitive, The (1993) , Jurassic Park (1993) , }-> Terminator 2: Judgment Day (1991)\n",
            "{ Pulp Fiction (1994) , Fugitive, The (1993) , Terminator 2: Judgment Day (1991) , }-> Jurassic Park (1993)\n",
            "{ Pulp Fiction (1994) , Forrest Gump (1994) , Terminator 2: Judgment Day (1991) , }-> Fugitive, The (1993)\n",
            "{ Pulp Fiction (1994) , Fugitive, The (1993) , Terminator 2: Judgment Day (1991) , }-> Forrest Gump (1994)\n",
            "{ Pulp Fiction (1994) , Fugitive, The (1993) , Forrest Gump (1994) , }-> Terminator 2: Judgment Day (1991)\n",
            "{ Pulp Fiction (1994) , True Lies (1994) , Terminator 2: Judgment Day (1991) , }-> Fugitive, The (1993)\n",
            "{ Pulp Fiction (1994) , Fugitive, The (1993) , True Lies (1994) , }-> Terminator 2: Judgment Day (1991)\n",
            "{ Pulp Fiction (1994) , Silence of the Lambs, The (1991) , Dances with Wolves (1990) , }-> Fugitive, The (1993)\n",
            "{ Pulp Fiction (1994) , Fugitive, The (1993) , Dances with Wolves (1990) , }-> Silence of the Lambs, The (1991)\n",
            "{ Pulp Fiction (1994) , Forrest Gump (1994) , Dances with Wolves (1990) , }-> Fugitive, The (1993)\n",
            "{ Pulp Fiction (1994) , Fugitive, The (1993) , Dances with Wolves (1990) , }-> Forrest Gump (1994)\n",
            "{ Pulp Fiction (1994) , Silence of the Lambs, The (1991) , Batman (1989) , }-> Fugitive, The (1993)\n",
            "{ Pulp Fiction (1994) , Fugitive, The (1993) , Batman (1989) , }-> Silence of the Lambs, The (1991)\n",
            "{ Pulp Fiction (1994) , Jurassic Park (1993) , Batman (1989) , }-> Fugitive, The (1993)\n",
            "{ Pulp Fiction (1994) , Batman (1989) , Forrest Gump (1994) , }-> Fugitive, The (1993)\n",
            "{ Pulp Fiction (1994) , Batman (1989) , True Lies (1994) , }-> Fugitive, The (1993)\n",
            "{ Pulp Fiction (1994) , Fugitive, The (1993) , True Lies (1994) , }-> Batman (1989)\n",
            "{ Pulp Fiction (1994) , Fugitive, The (1993) , Jurassic Park (1993) , }-> Silence of the Lambs, The (1991)\n",
            "{ Pulp Fiction (1994) , Fugitive, The (1993) , Forrest Gump (1994) , }-> Silence of the Lambs, The (1991)\n",
            "{ Pulp Fiction (1994) , Fugitive, The (1993) , Braveheart (1995) , }-> Silence of the Lambs, The (1991)\n",
            "{ Pulp Fiction (1994) , Silence of the Lambs, The (1991) , True Lies (1994) , }-> Fugitive, The (1993)\n",
            "{ Pulp Fiction (1994) , Fugitive, The (1993) , True Lies (1994) , }-> Silence of the Lambs, The (1991)\n",
            "{ Pulp Fiction (1994) , Fugitive, The (1993) , Jurassic Park (1993) , }-> Forrest Gump (1994)\n",
            "{ Pulp Fiction (1994) , Fugitive, The (1993) , Forrest Gump (1994) , }-> Jurassic Park (1993)\n",
            "{ Pulp Fiction (1994) , Jurassic Park (1993) , True Lies (1994) , }-> Fugitive, The (1993)\n",
            "{ Pulp Fiction (1994) , Fugitive, The (1993) , True Lies (1994) , }-> Jurassic Park (1993)\n",
            "{ Pulp Fiction (1994) , True Lies (1994) , Forrest Gump (1994) , }-> Fugitive, The (1993)\n",
            "{ Pulp Fiction (1994) , Fugitive, The (1993) , True Lies (1994) , }-> Forrest Gump (1994)\n",
            "{ Batman (1989) , Silence of the Lambs, The (1991) , Terminator 2: Judgment Day (1991) , }-> Pulp Fiction (1994)\n",
            "{ Pulp Fiction (1994) , Batman (1989) , Terminator 2: Judgment Day (1991) , }-> Silence of the Lambs, The (1991)\n",
            "{ Pulp Fiction (1994) , Batman (1989) , Terminator 2: Judgment Day (1991) , }-> Jurassic Park (1993)\n",
            "{ Pulp Fiction (1994) , Jurassic Park (1993) , Batman (1989) , }-> Terminator 2: Judgment Day (1991)\n",
            "{ Pulp Fiction (1994) , Batman (1989) , Terminator 2: Judgment Day (1991) , }-> Forrest Gump (1994)\n",
            "{ Pulp Fiction (1994) , Jurassic Park (1993) , Terminator 2: Judgment Day (1991) , }-> Silence of the Lambs, The (1991)\n",
            "{ Pulp Fiction (1994) , Silence of the Lambs, The (1991) , Jurassic Park (1993) , }-> Terminator 2: Judgment Day (1991)\n",
            "{ Pulp Fiction (1994) , Silence of the Lambs, The (1991) , Terminator 2: Judgment Day (1991) , }-> Jurassic Park (1993)\n",
            "{ Pulp Fiction (1994) , Forrest Gump (1994) , Terminator 2: Judgment Day (1991) , }-> Silence of the Lambs, The (1991)\n",
            "{ Pulp Fiction (1994) , Terminator 2: Judgment Day (1991) , Braveheart (1995) , }-> Silence of the Lambs, The (1991)\n",
            "{ Pulp Fiction (1994) , Speed (1994) , Terminator 2: Judgment Day (1991) , }-> Silence of the Lambs, The (1991)\n",
            "{ Pulp Fiction (1994) , Silence of the Lambs, The (1991) , Speed (1994) , }-> Terminator 2: Judgment Day (1991)\n",
            "{ Pulp Fiction (1994) , True Lies (1994) , Terminator 2: Judgment Day (1991) , }-> Silence of the Lambs, The (1991)\n",
            "{ Pulp Fiction (1994) , Forrest Gump (1994) , Terminator 2: Judgment Day (1991) , }-> Jurassic Park (1993)\n",
            "{ Pulp Fiction (1994) , Jurassic Park (1993) , Terminator 2: Judgment Day (1991) , }-> Forrest Gump (1994)\n",
            "{ Pulp Fiction (1994) , Jurassic Park (1993) , Forrest Gump (1994) , }-> Terminator 2: Judgment Day (1991)\n",
            "{ Pulp Fiction (1994) , Terminator 2: Judgment Day (1991) , Braveheart (1995) , }-> Jurassic Park (1993)\n",
            "{ Pulp Fiction (1994) , Jurassic Park (1993) , Braveheart (1995) , }-> Terminator 2: Judgment Day (1991)\n",
            "{ Pulp Fiction (1994) , Speed (1994) , Terminator 2: Judgment Day (1991) , }-> Jurassic Park (1993)\n",
            "{ Pulp Fiction (1994) , Jurassic Park (1993) , Speed (1994) , }-> Terminator 2: Judgment Day (1991)\n",
            "{ Pulp Fiction (1994) , True Lies (1994) , Terminator 2: Judgment Day (1991) , }-> Jurassic Park (1993)\n",
            "{ Pulp Fiction (1994) , Jurassic Park (1993) , True Lies (1994) , }-> Terminator 2: Judgment Day (1991)\n",
            "{ Pulp Fiction (1994) , Terminator 2: Judgment Day (1991) , Braveheart (1995) , }-> Forrest Gump (1994)\n",
            "{ Pulp Fiction (1994) , True Lies (1994) , Terminator 2: Judgment Day (1991) , }-> Forrest Gump (1994)\n",
            "{ Pulp Fiction (1994) , Forrest Gump (1994) , True Lies (1994) , }-> Terminator 2: Judgment Day (1991)\n",
            "{ Pulp Fiction (1994) , Forrest Gump (1994) , Dances with Wolves (1990) , }-> Silence of the Lambs, The (1991)\n",
            "{ Pulp Fiction (1994) , Silence of the Lambs, The (1991) , Dances with Wolves (1990) , }-> Forrest Gump (1994)\n",
            "{ Pulp Fiction (1994) , Jurassic Park (1993) , Batman (1989) , }-> Silence of the Lambs, The (1991)\n",
            "{ Batman (1989) , Silence of the Lambs, The (1991) , Forrest Gump (1994) , }-> Pulp Fiction (1994)\n",
            "{ Pulp Fiction (1994) , Batman (1989) , Forrest Gump (1994) , }-> Silence of the Lambs, The (1991)\n",
            "{ Pulp Fiction (1994) , Silence of the Lambs, The (1991) , Batman (1989) , }-> Forrest Gump (1994)\n",
            "{ Batman (1989) , Silence of the Lambs, The (1991) , True Lies (1994) , }-> Pulp Fiction (1994)\n",
            "{ Pulp Fiction (1994) , Batman (1989) , True Lies (1994) , }-> Silence of the Lambs, The (1991)\n",
            "{ Pulp Fiction (1994) , Batman (1989) , Forrest Gump (1994) , }-> Jurassic Park (1993)\n",
            "{ Pulp Fiction (1994) , Jurassic Park (1993) , Batman (1989) , }-> Forrest Gump (1994)\n",
            "{ Pulp Fiction (1994) , Jurassic Park (1993) , Forrest Gump (1994) , }-> Silence of the Lambs, The (1991)\n",
            "{ Pulp Fiction (1994) , Silence of the Lambs, The (1991) , Jurassic Park (1993) , }-> Forrest Gump (1994)\n",
            "{ Pulp Fiction (1994) , Jurassic Park (1993) , Braveheart (1995) , }-> Silence of the Lambs, The (1991)\n",
            "{ Pulp Fiction (1994) , Jurassic Park (1993) , Speed (1994) , }-> Silence of the Lambs, The (1991)\n",
            "{ Pulp Fiction (1994) , Silence of the Lambs, The (1991) , Speed (1994) , }-> Jurassic Park (1993)\n",
            "{ Pulp Fiction (1994) , Jurassic Park (1993) , True Lies (1994) , }-> Silence of the Lambs, The (1991)\n",
            "{ Pulp Fiction (1994) , Forrest Gump (1994) , Braveheart (1995) , }-> Silence of the Lambs, The (1991)\n",
            "{ Pulp Fiction (1994) , Speed (1994) , Forrest Gump (1994) , }-> Silence of the Lambs, The (1991)\n",
            "{ Pulp Fiction (1994) , Silence of the Lambs, The (1991) , Speed (1994) , }-> Forrest Gump (1994)\n",
            "{ Pulp Fiction (1994) , True Lies (1994) , Forrest Gump (1994) , }-> Silence of the Lambs, The (1991)\n",
            "{ Pulp Fiction (1994) , Silence of the Lambs, The (1991) , True Lies (1994) , }-> Forrest Gump (1994)\n",
            "{ Pulp Fiction (1994) , Jurassic Park (1993) , Braveheart (1995) , }-> Forrest Gump (1994)\n",
            "{ Pulp Fiction (1994) , Speed (1994) , Forrest Gump (1994) , }-> Jurassic Park (1993)\n",
            "{ Pulp Fiction (1994) , Jurassic Park (1993) , Speed (1994) , }-> Forrest Gump (1994)\n",
            "{ Pulp Fiction (1994) , True Lies (1994) , Forrest Gump (1994) , }-> Jurassic Park (1993)\n",
            "{ Pulp Fiction (1994) , Jurassic Park (1993) , True Lies (1994) , }-> Forrest Gump (1994)\n",
            "{ Star Wars: Episode V - The Empire Strikes Back (1980) , Back to the Future (1985) , Raiders of the Lost Ark (Indiana Jones and the Raiders of the Lost Ark) (1981) , }-> Star Wars: Episode VI - Return of the Jedi (1983)\n",
            "{ Star Wars: Episode VI - Return of the Jedi (1983) , Raiders of the Lost Ark (Indiana Jones and the Raiders of the Lost Ark) (1981) , Back to the Future (1985) , }-> Star Wars: Episode V - The Empire Strikes Back (1980)\n",
            "{ Star Wars: Episode VI - Return of the Jedi (1983) , Star Wars: Episode V - The Empire Strikes Back (1980) , Back to the Future (1985) , }-> Raiders of the Lost Ark (Indiana Jones and the Raiders of the Lost Ark) (1981)\n",
            "{ Usual Suspects, The (1995) , Shawshank Redemption, The (1994) , Seven (a.k.a. Se7en) (1995) , }-> Silence of the Lambs, The (1991)\n",
            "{ Silence of the Lambs, The (1991) , Usual Suspects, The (1995) , Seven (a.k.a. Se7en) (1995) , }-> Shawshank Redemption, The (1994)\n",
            "{ Fugitive, The (1993) , Shawshank Redemption, The (1994) , Seven (a.k.a. Se7en) (1995) , }-> Silence of the Lambs, The (1991)\n",
            "{ Terminator 2: Judgment Day (1991) , Shawshank Redemption, The (1994) , Seven (a.k.a. Se7en) (1995) , }-> Silence of the Lambs, The (1991)\n",
            "{ Batman (1989) , Shawshank Redemption, The (1994) , Seven (a.k.a. Se7en) (1995) , }-> Silence of the Lambs, The (1991)\n",
            "{ Batman (1989) , Silence of the Lambs, The (1991) , Seven (a.k.a. Se7en) (1995) , }-> Shawshank Redemption, The (1994)\n",
            "{ Jurassic Park (1993) , Shawshank Redemption, The (1994) , Seven (a.k.a. Se7en) (1995) , }-> Silence of the Lambs, The (1991)\n",
            "{ Forrest Gump (1994) , Shawshank Redemption, The (1994) , Seven (a.k.a. Se7en) (1995) , }-> Silence of the Lambs, The (1991)\n",
            "{ Fugitive, The (1993) , Terminator 2: Judgment Day (1991) , Seven (a.k.a. Se7en) (1995) , }-> Silence of the Lambs, The (1991)\n",
            "{ Silence of the Lambs, The (1991) , Terminator 2: Judgment Day (1991) , Seven (a.k.a. Se7en) (1995) , }-> Fugitive, The (1993)\n",
            "{ Fugitive, The (1993) , Terminator 2: Judgment Day (1991) , Seven (a.k.a. Se7en) (1995) , }-> Jurassic Park (1993)\n",
            "{ Jurassic Park (1993) , Terminator 2: Judgment Day (1991) , Seven (a.k.a. Se7en) (1995) , }-> Fugitive, The (1993)\n",
            "{ Jurassic Park (1993) , Fugitive, The (1993) , Seven (a.k.a. Se7en) (1995) , }-> Terminator 2: Judgment Day (1991)\n",
            "{ Forrest Gump (1994) , Terminator 2: Judgment Day (1991) , Seven (a.k.a. Se7en) (1995) , }-> Fugitive, The (1993)\n",
            "{ Fugitive, The (1993) , Terminator 2: Judgment Day (1991) , Seven (a.k.a. Se7en) (1995) , }-> Forrest Gump (1994)\n",
            "{ Fugitive, The (1993) , Forrest Gump (1994) , Seven (a.k.a. Se7en) (1995) , }-> Terminator 2: Judgment Day (1991)\n",
            "{ Batman (1989) , Silence of the Lambs, The (1991) , Seven (a.k.a. Se7en) (1995) , }-> Fugitive, The (1993)\n",
            "{ Batman (1989) , Fugitive, The (1993) , Seven (a.k.a. Se7en) (1995) , }-> Silence of the Lambs, The (1991)\n",
            "{ Jurassic Park (1993) , Fugitive, The (1993) , Seven (a.k.a. Se7en) (1995) , }-> Silence of the Lambs, The (1991)\n",
            "{ Jurassic Park (1993) , Silence of the Lambs, The (1991) , Seven (a.k.a. Se7en) (1995) , }-> Fugitive, The (1993)\n",
            "{ Fugitive, The (1993) , Forrest Gump (1994) , Seven (a.k.a. Se7en) (1995) , }-> Silence of the Lambs, The (1991)\n",
            "{ Fugitive, The (1993) , Forrest Gump (1994) , Seven (a.k.a. Se7en) (1995) , }-> Jurassic Park (1993)\n",
            "{ Jurassic Park (1993) , Forrest Gump (1994) , Seven (a.k.a. Se7en) (1995) , }-> Fugitive, The (1993)\n",
            "{ Jurassic Park (1993) , Fugitive, The (1993) , Seven (a.k.a. Se7en) (1995) , }-> Forrest Gump (1994)\n",
            "{ Jurassic Park (1993) , Terminator 2: Judgment Day (1991) , Seven (a.k.a. Se7en) (1995) , }-> Batman (1989)\n",
            "{ Batman (1989) , Terminator 2: Judgment Day (1991) , Seven (a.k.a. Se7en) (1995) , }-> Jurassic Park (1993)\n",
            "{ Batman (1989) , Jurassic Park (1993) , Seven (a.k.a. Se7en) (1995) , }-> Terminator 2: Judgment Day (1991)\n",
            "{ Silence of the Lambs, The (1991) , Terminator 2: Judgment Day (1991) , Seven (a.k.a. Se7en) (1995) , }-> Jurassic Park (1993)\n",
            "{ Jurassic Park (1993) , Terminator 2: Judgment Day (1991) , Seven (a.k.a. Se7en) (1995) , }-> Silence of the Lambs, The (1991)\n",
            "{ Jurassic Park (1993) , Silence of the Lambs, The (1991) , Seven (a.k.a. Se7en) (1995) , }-> Terminator 2: Judgment Day (1991)\n",
            "{ Forrest Gump (1994) , Terminator 2: Judgment Day (1991) , Seven (a.k.a. Se7en) (1995) , }-> Silence of the Lambs, The (1991)\n",
            "{ Silence of the Lambs, The (1991) , Terminator 2: Judgment Day (1991) , Seven (a.k.a. Se7en) (1995) , }-> Forrest Gump (1994)\n",
            "{ Forrest Gump (1994) , Terminator 2: Judgment Day (1991) , Seven (a.k.a. Se7en) (1995) , }-> Jurassic Park (1993)\n",
            "{ Jurassic Park (1993) , Terminator 2: Judgment Day (1991) , Seven (a.k.a. Se7en) (1995) , }-> Forrest Gump (1994)\n",
            "{ Jurassic Park (1993) , Forrest Gump (1994) , Seven (a.k.a. Se7en) (1995) , }-> Terminator 2: Judgment Day (1991)\n",
            "{ Speed (1994) , Terminator 2: Judgment Day (1991) , Seven (a.k.a. Se7en) (1995) , }-> Jurassic Park (1993)\n",
            "{ Jurassic Park (1993) , Terminator 2: Judgment Day (1991) , Seven (a.k.a. Se7en) (1995) , }-> Speed (1994)\n",
            "{ Jurassic Park (1993) , Speed (1994) , Seven (a.k.a. Se7en) (1995) , }-> Terminator 2: Judgment Day (1991)\n",
            "{ Batman (1989) , Jurassic Park (1993) , Seven (a.k.a. Se7en) (1995) , }-> Silence of the Lambs, The (1991)\n",
            "{ Batman (1989) , Silence of the Lambs, The (1991) , Seven (a.k.a. Se7en) (1995) , }-> Jurassic Park (1993)\n",
            "{ Batman (1989) , Forrest Gump (1994) , Seven (a.k.a. Se7en) (1995) , }-> Silence of the Lambs, The (1991)\n",
            "{ Batman (1989) , Silence of the Lambs, The (1991) , Seven (a.k.a. Se7en) (1995) , }-> Forrest Gump (1994)\n",
            "{ Jurassic Park (1993) , Forrest Gump (1994) , Seven (a.k.a. Se7en) (1995) , }-> Batman (1989)\n",
            "{ Batman (1989) , Forrest Gump (1994) , Seven (a.k.a. Se7en) (1995) , }-> Jurassic Park (1993)\n",
            "{ Batman (1989) , Jurassic Park (1993) , Seven (a.k.a. Se7en) (1995) , }-> Forrest Gump (1994)\n",
            "{ Jurassic Park (1993) , Forrest Gump (1994) , Seven (a.k.a. Se7en) (1995) , }-> Silence of the Lambs, The (1991)\n",
            "{ Jurassic Park (1993) , Silence of the Lambs, The (1991) , Seven (a.k.a. Se7en) (1995) , }-> Forrest Gump (1994)\n",
            "{ Forrest Gump (1994) , Braveheart (1995) , Seven (a.k.a. Se7en) (1995) , }-> Silence of the Lambs, The (1991)\n",
            "{ Silence of the Lambs, The (1991) , Braveheart (1995) , Seven (a.k.a. Se7en) (1995) , }-> Forrest Gump (1994)\n",
            "{ Speed (1994) , Forrest Gump (1994) , Seven (a.k.a. Se7en) (1995) , }-> Jurassic Park (1993)\n",
            "{ Jurassic Park (1993) , Forrest Gump (1994) , Seven (a.k.a. Se7en) (1995) , }-> Speed (1994)\n",
            "{ Jurassic Park (1993) , Speed (1994) , Seven (a.k.a. Se7en) (1995) , }-> Forrest Gump (1994)\n",
            "{ Fugitive, The (1993) , Usual Suspects, The (1995) , Shawshank Redemption, The (1994) , }-> Silence of the Lambs, The (1991)\n",
            "{ Silence of the Lambs, The (1991) , Usual Suspects, The (1995) , Fugitive, The (1993) , }-> Shawshank Redemption, The (1994)\n",
            "{ Usual Suspects, The (1995) , Forrest Gump (1994) , Shawshank Redemption, The (1994) , }-> Silence of the Lambs, The (1991)\n",
            "{ Silence of the Lambs, The (1991) , Usual Suspects, The (1995) , Forrest Gump (1994) , }-> Shawshank Redemption, The (1994)\n",
            "{ Fugitive, The (1993) , Usual Suspects, The (1995) , Forrest Gump (1994) , }-> Silence of the Lambs, The (1991)\n",
            "{ Batman (1989) , Terminator 2: Judgment Day (1991) , Shawshank Redemption, The (1994) , }-> Fugitive, The (1993)\n",
            "{ Fugitive, The (1993) , Terminator 2: Judgment Day (1991) , Shawshank Redemption, The (1994) , }-> Silence of the Lambs, The (1991)\n",
            "{ Silence of the Lambs, The (1991) , Terminator 2: Judgment Day (1991) , Shawshank Redemption, The (1994) , }-> Fugitive, The (1993)\n",
            "{ Fugitive, The (1993) , Terminator 2: Judgment Day (1991) , Shawshank Redemption, The (1994) , }-> Jurassic Park (1993)\n",
            "{ Jurassic Park (1993) , Terminator 2: Judgment Day (1991) , Shawshank Redemption, The (1994) , }-> Fugitive, The (1993)\n",
            "{ Jurassic Park (1993) , Fugitive, The (1993) , Shawshank Redemption, The (1994) , }-> Terminator 2: Judgment Day (1991)\n",
            "{ Forrest Gump (1994) , Terminator 2: Judgment Day (1991) , Shawshank Redemption, The (1994) , }-> Fugitive, The (1993)\n",
            "{ Fugitive, The (1993) , Terminator 2: Judgment Day (1991) , Shawshank Redemption, The (1994) , }-> Forrest Gump (1994)\n",
            "{ Shawshank Redemption, The (1994) , Terminator 2: Judgment Day (1991) , Braveheart (1995) , }-> Fugitive, The (1993)\n",
            "{ True Lies (1994) , Terminator 2: Judgment Day (1991) , Shawshank Redemption, The (1994) , }-> Fugitive, The (1993)\n",
            "{ Fugitive, The (1993) , Shawshank Redemption, The (1994) , Dances with Wolves (1990) , }-> Silence of the Lambs, The (1991)\n",
            "{ Silence of the Lambs, The (1991) , Shawshank Redemption, The (1994) , Dances with Wolves (1990) , }-> Fugitive, The (1993)\n",
            "{ Dances with Wolves (1990) , Forrest Gump (1994) , Shawshank Redemption, The (1994) , }-> Fugitive, The (1993)\n",
            "{ Fugitive, The (1993) , Shawshank Redemption, The (1994) , Dances with Wolves (1990) , }-> Forrest Gump (1994)\n",
            "{ Batman (1989) , Silence of the Lambs, The (1991) , Shawshank Redemption, The (1994) , }-> Fugitive, The (1993)\n",
            "{ Batman (1989) , Fugitive, The (1993) , Shawshank Redemption, The (1994) , }-> Silence of the Lambs, The (1991)\n",
            "{ Batman (1989) , Jurassic Park (1993) , Shawshank Redemption, The (1994) , }-> Fugitive, The (1993)\n",
            "{ Batman (1989) , Forrest Gump (1994) , Shawshank Redemption, The (1994) , }-> Fugitive, The (1993)\n",
            "{ Batman (1989) , Fugitive, The (1993) , Shawshank Redemption, The (1994) , }-> Forrest Gump (1994)\n",
            "{ Fugitive, The (1993) , True Lies (1994) , Shawshank Redemption, The (1994) , }-> Batman (1989)\n",
            "{ Batman (1989) , True Lies (1994) , Shawshank Redemption, The (1994) , }-> Fugitive, The (1993)\n",
            "{ Jurassic Park (1993) , Fugitive, The (1993) , Shawshank Redemption, The (1994) , }-> Silence of the Lambs, The (1991)\n",
            "{ Jurassic Park (1993) , Silence of the Lambs, The (1991) , Shawshank Redemption, The (1994) , }-> Fugitive, The (1993)\n",
            "{ Fugitive, The (1993) , Forrest Gump (1994) , Shawshank Redemption, The (1994) , }-> Silence of the Lambs, The (1991)\n",
            "{ Shawshank Redemption, The (1994) , Fugitive, The (1993) , Braveheart (1995) , }-> Silence of the Lambs, The (1991)\n",
            "{ Fugitive, The (1993) , True Lies (1994) , Shawshank Redemption, The (1994) , }-> Silence of the Lambs, The (1991)\n",
            "{ Silence of the Lambs, The (1991) , True Lies (1994) , Shawshank Redemption, The (1994) , }-> Fugitive, The (1993)\n",
            "{ Jurassic Park (1993) , Forrest Gump (1994) , Shawshank Redemption, The (1994) , }-> Fugitive, The (1993)\n",
            "{ Jurassic Park (1993) , Fugitive, The (1993) , Shawshank Redemption, The (1994) , }-> Forrest Gump (1994)\n",
            "{ Fugitive, The (1993) , Shawshank Redemption, The (1994) , Speed (1994) , }-> Jurassic Park (1993)\n",
            "{ Jurassic Park (1993) , Speed (1994) , Shawshank Redemption, The (1994) , }-> Fugitive, The (1993)\n",
            "{ Fugitive, The (1993) , True Lies (1994) , Shawshank Redemption, The (1994) , }-> Jurassic Park (1993)\n",
            "{ Jurassic Park (1993) , True Lies (1994) , Shawshank Redemption, The (1994) , }-> Fugitive, The (1993)\n",
            "{ Forrest Gump (1994) , True Lies (1994) , Shawshank Redemption, The (1994) , }-> Fugitive, The (1993)\n",
            "{ Fugitive, The (1993) , True Lies (1994) , Shawshank Redemption, The (1994) , }-> Forrest Gump (1994)\n",
            "{ Batman (1989) , Terminator 2: Judgment Day (1991) , Shawshank Redemption, The (1994) , }-> Silence of the Lambs, The (1991)\n",
            "{ Batman (1989) , Terminator 2: Judgment Day (1991) , Shawshank Redemption, The (1994) , }-> Jurassic Park (1993)\n",
            "{ Batman (1989) , Jurassic Park (1993) , Shawshank Redemption, The (1994) , }-> Terminator 2: Judgment Day (1991)\n",
            "{ Batman (1989) , Terminator 2: Judgment Day (1991) , Shawshank Redemption, The (1994) , }-> Forrest Gump (1994)\n",
            "{ Silence of the Lambs, The (1991) , Terminator 2: Judgment Day (1991) , Shawshank Redemption, The (1994) , }-> Jurassic Park (1993)\n",
            "{ Jurassic Park (1993) , Terminator 2: Judgment Day (1991) , Shawshank Redemption, The (1994) , }-> Silence of the Lambs, The (1991)\n",
            "{ Jurassic Park (1993) , Silence of the Lambs, The (1991) , Shawshank Redemption, The (1994) , }-> Terminator 2: Judgment Day (1991)\n",
            "{ Forrest Gump (1994) , Terminator 2: Judgment Day (1991) , Shawshank Redemption, The (1994) , }-> Silence of the Lambs, The (1991)\n",
            "{ Silence of the Lambs, The (1991) , Terminator 2: Judgment Day (1991) , Shawshank Redemption, The (1994) , }-> Forrest Gump (1994)\n",
            "{ Shawshank Redemption, The (1994) , Terminator 2: Judgment Day (1991) , Braveheart (1995) , }-> Silence of the Lambs, The (1991)\n",
            "{ Forrest Gump (1994) , Terminator 2: Judgment Day (1991) , Shawshank Redemption, The (1994) , }-> Jurassic Park (1993)\n",
            "{ Jurassic Park (1993) , Terminator 2: Judgment Day (1991) , Shawshank Redemption, The (1994) , }-> Forrest Gump (1994)\n",
            "{ True Lies (1994) , Terminator 2: Judgment Day (1991) , Shawshank Redemption, The (1994) , }-> Jurassic Park (1993)\n",
            "{ Jurassic Park (1993) , True Lies (1994) , Shawshank Redemption, The (1994) , }-> Terminator 2: Judgment Day (1991)\n",
            "{ Shawshank Redemption, The (1994) , Terminator 2: Judgment Day (1991) , Braveheart (1995) , }-> Forrest Gump (1994)\n",
            "{ True Lies (1994) , Terminator 2: Judgment Day (1991) , Shawshank Redemption, The (1994) , }-> Forrest Gump (1994)\n",
            "{ Forrest Gump (1994) , True Lies (1994) , Shawshank Redemption, The (1994) , }-> Terminator 2: Judgment Day (1991)\n",
            "{ Shawshank Redemption, The (1994) , Forrest Gump (1994) , Dances with Wolves (1990) , }-> Silence of the Lambs, The (1991)\n",
            "{ Shawshank Redemption, The (1994) , Silence of the Lambs, The (1991) , Dances with Wolves (1990) , }-> Forrest Gump (1994)\n",
            "{ Jurassic Park (1993) , Shawshank Redemption, The (1994) , Dances with Wolves (1990) , }-> Forrest Gump (1994)\n",
            "{ Batman (1989) , Jurassic Park (1993) , Shawshank Redemption, The (1994) , }-> Silence of the Lambs, The (1991)\n",
            "{ Batman (1989) , Forrest Gump (1994) , Shawshank Redemption, The (1994) , }-> Silence of the Lambs, The (1991)\n",
            "{ Batman (1989) , Silence of the Lambs, The (1991) , Shawshank Redemption, The (1994) , }-> Forrest Gump (1994)\n",
            "{ Silence of the Lambs, The (1991) , True Lies (1994) , Shawshank Redemption, The (1994) , }-> Batman (1989)\n",
            "{ Batman (1989) , True Lies (1994) , Shawshank Redemption, The (1994) , }-> Silence of the Lambs, The (1991)\n",
            "{ Batman (1989) , Forrest Gump (1994) , Shawshank Redemption, The (1994) , }-> Jurassic Park (1993)\n",
            "{ Batman (1989) , Jurassic Park (1993) , Shawshank Redemption, The (1994) , }-> Forrest Gump (1994)\n",
            "{ Jurassic Park (1993) , Forrest Gump (1994) , Shawshank Redemption, The (1994) , }-> Silence of the Lambs, The (1991)\n",
            "{ Jurassic Park (1993) , Silence of the Lambs, The (1991) , Shawshank Redemption, The (1994) , }-> Forrest Gump (1994)\n",
            "{ Jurassic Park (1993) , Shawshank Redemption, The (1994) , Braveheart (1995) , }-> Silence of the Lambs, The (1991)\n",
            "{ Silence of the Lambs, The (1991) , Shawshank Redemption, The (1994) , Speed (1994) , }-> Jurassic Park (1993)\n",
            "{ Jurassic Park (1993) , Speed (1994) , Shawshank Redemption, The (1994) , }-> Silence of the Lambs, The (1991)\n",
            "{ Jurassic Park (1993) , True Lies (1994) , Shawshank Redemption, The (1994) , }-> Silence of the Lambs, The (1991)\n",
            "{ Shawshank Redemption, The (1994) , Forrest Gump (1994) , Braveheart (1995) , }-> Silence of the Lambs, The (1991)\n",
            "{ Shawshank Redemption, The (1994) , Silence of the Lambs, The (1991) , Braveheart (1995) , }-> Forrest Gump (1994)\n",
            "{ Forrest Gump (1994) , True Lies (1994) , Shawshank Redemption, The (1994) , }-> Silence of the Lambs, The (1991)\n",
            "{ Silence of the Lambs, The (1991) , True Lies (1994) , Shawshank Redemption, The (1994) , }-> Forrest Gump (1994)\n",
            "{ Jurassic Park (1993) , Shawshank Redemption, The (1994) , Braveheart (1995) , }-> Forrest Gump (1994)\n",
            "{ Speed (1994) , Forrest Gump (1994) , Shawshank Redemption, The (1994) , }-> Jurassic Park (1993)\n",
            "{ Jurassic Park (1993) , Speed (1994) , Shawshank Redemption, The (1994) , }-> Forrest Gump (1994)\n",
            "{ Forrest Gump (1994) , True Lies (1994) , Shawshank Redemption, The (1994) , }-> Jurassic Park (1993)\n",
            "{ Jurassic Park (1993) , True Lies (1994) , Shawshank Redemption, The (1994) , }-> Forrest Gump (1994)\n",
            "{ Fugitive, The (1993) , Terminator 2: Judgment Day (1991) , Dances with Wolves (1990) , }-> Silence of the Lambs, The (1991)\n",
            "{ Silence of the Lambs, The (1991) , Terminator 2: Judgment Day (1991) , Dances with Wolves (1990) , }-> Fugitive, The (1993)\n",
            "{ Fugitive, The (1993) , Terminator 2: Judgment Day (1991) , Dances with Wolves (1990) , }-> Jurassic Park (1993)\n",
            "{ Jurassic Park (1993) , Terminator 2: Judgment Day (1991) , Dances with Wolves (1990) , }-> Fugitive, The (1993)\n",
            "{ Jurassic Park (1993) , Fugitive, The (1993) , Dances with Wolves (1990) , }-> Terminator 2: Judgment Day (1991)\n",
            "{ Forrest Gump (1994) , Terminator 2: Judgment Day (1991) , Dances with Wolves (1990) , }-> Fugitive, The (1993)\n",
            "{ Fugitive, The (1993) , Terminator 2: Judgment Day (1991) , Dances with Wolves (1990) , }-> Forrest Gump (1994)\n",
            "{ Batman (1989) , Silence of the Lambs, The (1991) , Terminator 2: Judgment Day (1991) , }-> Fugitive, The (1993)\n",
            "{ Batman (1989) , Fugitive, The (1993) , Terminator 2: Judgment Day (1991) , }-> Silence of the Lambs, The (1991)\n",
            "{ Batman (1989) , Jurassic Park (1993) , Terminator 2: Judgment Day (1991) , }-> Fugitive, The (1993)\n",
            "{ Batman (1989) , Fugitive, The (1993) , Jurassic Park (1993) , }-> Terminator 2: Judgment Day (1991)\n",
            "{ Batman (1989) , Fugitive, The (1993) , Terminator 2: Judgment Day (1991) , }-> Jurassic Park (1993)\n",
            "{ Batman (1989) , Forrest Gump (1994) , Terminator 2: Judgment Day (1991) , }-> Fugitive, The (1993)\n",
            "{ Batman (1989) , Fugitive, The (1993) , Terminator 2: Judgment Day (1991) , }-> Forrest Gump (1994)\n",
            "{ Batman (1989) , Fugitive, The (1993) , Forrest Gump (1994) , }-> Terminator 2: Judgment Day (1991)\n",
            "{ Fugitive, The (1993) , Terminator 2: Judgment Day (1991) , Speed (1994) , }-> Batman (1989)\n",
            "{ Batman (1989) , Speed (1994) , Terminator 2: Judgment Day (1991) , }-> Fugitive, The (1993)\n",
            "{ Batman (1989) , Fugitive, The (1993) , Speed (1994) , }-> Terminator 2: Judgment Day (1991)\n",
            "{ Fugitive, The (1993) , True Lies (1994) , Terminator 2: Judgment Day (1991) , }-> Batman (1989)\n",
            "{ Batman (1989) , True Lies (1994) , Terminator 2: Judgment Day (1991) , }-> Fugitive, The (1993)\n",
            "{ Batman (1989) , Fugitive, The (1993) , True Lies (1994) , }-> Terminator 2: Judgment Day (1991)\n",
            "{ Jurassic Park (1993) , Silence of the Lambs, The (1991) , Terminator 2: Judgment Day (1991) , }-> Fugitive, The (1993)\n",
            "{ Jurassic Park (1993) , Silence of the Lambs, The (1991) , Fugitive, The (1993) , }-> Terminator 2: Judgment Day (1991)\n",
            "{ Silence of the Lambs, The (1991) , Fugitive, The (1993) , Terminator 2: Judgment Day (1991) , }-> Jurassic Park (1993)\n",
            "{ Fugitive, The (1993) , Forrest Gump (1994) , Terminator 2: Judgment Day (1991) , }-> Silence of the Lambs, The (1991)\n",
            "{ Silence of the Lambs, The (1991) , Forrest Gump (1994) , Terminator 2: Judgment Day (1991) , }-> Fugitive, The (1993)\n",
            "{ Silence of the Lambs, The (1991) , Fugitive, The (1993) , Terminator 2: Judgment Day (1991) , }-> Forrest Gump (1994)\n",
            "{ Fugitive, The (1993) , Terminator 2: Judgment Day (1991) , Braveheart (1995) , }-> Silence of the Lambs, The (1991)\n",
            "{ Silence of the Lambs, The (1991) , Terminator 2: Judgment Day (1991) , Braveheart (1995) , }-> Fugitive, The (1993)\n",
            "{ Fugitive, The (1993) , Terminator 2: Judgment Day (1991) , Speed (1994) , }-> Silence of the Lambs, The (1991)\n",
            "{ Silence of the Lambs, The (1991) , Terminator 2: Judgment Day (1991) , Speed (1994) , }-> Fugitive, The (1993)\n",
            "{ Silence of the Lambs, The (1991) , Fugitive, The (1993) , Speed (1994) , }-> Terminator 2: Judgment Day (1991)\n",
            "{ Fugitive, The (1993) , True Lies (1994) , Terminator 2: Judgment Day (1991) , }-> Silence of the Lambs, The (1991)\n",
            "{ Silence of the Lambs, The (1991) , True Lies (1994) , Terminator 2: Judgment Day (1991) , }-> Fugitive, The (1993)\n",
            "{ True Lies (1994) , Silence of the Lambs, The (1991) , Fugitive, The (1993) , }-> Terminator 2: Judgment Day (1991)\n",
            "{ Fugitive, The (1993) , Terminator 2: Judgment Day (1991) , Clear and Present Danger (1994) , }-> Jurassic Park (1993)\n",
            "{ Jurassic Park (1993) , Terminator 2: Judgment Day (1991) , Clear and Present Danger (1994) , }-> Fugitive, The (1993)\n",
            "{ Jurassic Park (1993) , Fugitive, The (1993) , Clear and Present Danger (1994) , }-> Terminator 2: Judgment Day (1991)\n",
            "{ Fugitive, The (1993) , Forrest Gump (1994) , Terminator 2: Judgment Day (1991) , }-> Jurassic Park (1993)\n",
            "{ Jurassic Park (1993) , Forrest Gump (1994) , Terminator 2: Judgment Day (1991) , }-> Fugitive, The (1993)\n",
            "{ Jurassic Park (1993) , Fugitive, The (1993) , Terminator 2: Judgment Day (1991) , }-> Forrest Gump (1994)\n",
            "{ Jurassic Park (1993) , Fugitive, The (1993) , Forrest Gump (1994) , }-> Terminator 2: Judgment Day (1991)\n",
            "{ Fugitive, The (1993) , Terminator 2: Judgment Day (1991) , Braveheart (1995) , }-> Jurassic Park (1993)\n",
            "{ Jurassic Park (1993) , Terminator 2: Judgment Day (1991) , Braveheart (1995) , }-> Fugitive, The (1993)\n",
            "{ Jurassic Park (1993) , Fugitive, The (1993) , Braveheart (1995) , }-> Terminator 2: Judgment Day (1991)\n",
            "{ Fugitive, The (1993) , Terminator 2: Judgment Day (1991) , Speed (1994) , }-> Jurassic Park (1993)\n",
            "{ Jurassic Park (1993) , Speed (1994) , Terminator 2: Judgment Day (1991) , }-> Fugitive, The (1993)\n",
            "{ Jurassic Park (1993) , Fugitive, The (1993) , Speed (1994) , }-> Terminator 2: Judgment Day (1991)\n",
            "{ Fugitive, The (1993) , True Lies (1994) , Terminator 2: Judgment Day (1991) , }-> Jurassic Park (1993)\n",
            "{ Jurassic Park (1993) , True Lies (1994) , Terminator 2: Judgment Day (1991) , }-> Fugitive, The (1993)\n",
            "{ Jurassic Park (1993) , Fugitive, The (1993) , True Lies (1994) , }-> Terminator 2: Judgment Day (1991)\n",
            "{ Forrest Gump (1994) , Terminator 2: Judgment Day (1991) , Braveheart (1995) , }-> Fugitive, The (1993)\n",
            "{ Fugitive, The (1993) , Terminator 2: Judgment Day (1991) , Braveheart (1995) , }-> Forrest Gump (1994)\n",
            "{ Speed (1994) , Forrest Gump (1994) , Terminator 2: Judgment Day (1991) , }-> Fugitive, The (1993)\n",
            "{ Fugitive, The (1993) , Terminator 2: Judgment Day (1991) , Speed (1994) , }-> Forrest Gump (1994)\n",
            "{ Fugitive, The (1993) , Forrest Gump (1994) , Speed (1994) , }-> Terminator 2: Judgment Day (1991)\n",
            "{ Forrest Gump (1994) , True Lies (1994) , Terminator 2: Judgment Day (1991) , }-> Fugitive, The (1993)\n",
            "{ Fugitive, The (1993) , True Lies (1994) , Terminator 2: Judgment Day (1991) , }-> Forrest Gump (1994)\n",
            "{ Forrest Gump (1994) , Fugitive, The (1993) , True Lies (1994) , }-> Terminator 2: Judgment Day (1991)\n",
            "{ True Lies (1994) , Terminator 2: Judgment Day (1991) , Braveheart (1995) , }-> Fugitive, The (1993)\n",
            "{ Fugitive, The (1993) , True Lies (1994) , Braveheart (1995) , }-> Terminator 2: Judgment Day (1991)\n",
            "{ Speed (1994) , True Lies (1994) , Terminator 2: Judgment Day (1991) , }-> Fugitive, The (1993)\n",
            "{ Fugitive, The (1993) , Terminator 2: Judgment Day (1991) , Speed (1994) , }-> True Lies (1994)\n",
            "{ Fugitive, The (1993) , True Lies (1994) , Speed (1994) , }-> Terminator 2: Judgment Day (1991)\n",
            "{ Fugitive, The (1993) , True Lies (1994) , Terminator 2: Judgment Day (1991) , }-> Speed (1994)\n",
            "{ Batman (1989) , Silence of the Lambs, The (1991) , Dances with Wolves (1990) , }-> Fugitive, The (1993)\n",
            "{ Batman (1989) , Fugitive, The (1993) , Dances with Wolves (1990) , }-> Silence of the Lambs, The (1991)\n",
            "{ Batman (1989) , Jurassic Park (1993) , Dances with Wolves (1990) , }-> Fugitive, The (1993)\n",
            "{ Batman (1989) , Forrest Gump (1994) , Dances with Wolves (1990) , }-> Fugitive, The (1993)\n",
            "{ Batman (1989) , Fugitive, The (1993) , Dances with Wolves (1990) , }-> Forrest Gump (1994)\n",
            "{ Fugitive, The (1993) , True Lies (1994) , Dances with Wolves (1990) , }-> Batman (1989)\n",
            "{ Batman (1989) , True Lies (1994) , Dances with Wolves (1990) , }-> Fugitive, The (1993)\n",
            "{ Jurassic Park (1993) , Fugitive, The (1993) , Dances with Wolves (1990) , }-> Silence of the Lambs, The (1991)\n",
            "{ Jurassic Park (1993) , Silence of the Lambs, The (1991) , Dances with Wolves (1990) , }-> Fugitive, The (1993)\n",
            "{ Fugitive, The (1993) , Forrest Gump (1994) , Dances with Wolves (1990) , }-> Silence of the Lambs, The (1991)\n",
            "{ Silence of the Lambs, The (1991) , Forrest Gump (1994) , Dances with Wolves (1990) , }-> Fugitive, The (1993)\n",
            "{ Silence of the Lambs, The (1991) , Fugitive, The (1993) , Dances with Wolves (1990) , }-> Forrest Gump (1994)\n",
            "{ Fugitive, The (1993) , Braveheart (1995) , Dances with Wolves (1990) , }-> Silence of the Lambs, The (1991)\n",
            "{ Silence of the Lambs, The (1991) , Braveheart (1995) , Dances with Wolves (1990) , }-> Fugitive, The (1993)\n",
            "{ Fugitive, The (1993) , True Lies (1994) , Dances with Wolves (1990) , }-> Silence of the Lambs, The (1991)\n",
            "{ Silence of the Lambs, The (1991) , True Lies (1994) , Dances with Wolves (1990) , }-> Fugitive, The (1993)\n",
            "{ Fugitive, The (1993) , Forrest Gump (1994) , Dances with Wolves (1990) , }-> Jurassic Park (1993)\n",
            "{ Jurassic Park (1993) , Forrest Gump (1994) , Dances with Wolves (1990) , }-> Fugitive, The (1993)\n",
            "{ Jurassic Park (1993) , Fugitive, The (1993) , Dances with Wolves (1990) , }-> Forrest Gump (1994)\n",
            "{ Dances with Wolves (1990) , Forrest Gump (1994) , Braveheart (1995) , }-> Fugitive, The (1993)\n",
            "{ Fugitive, The (1993) , Braveheart (1995) , Dances with Wolves (1990) , }-> Forrest Gump (1994)\n",
            "{ Speed (1994) , Forrest Gump (1994) , Dances with Wolves (1990) , }-> Fugitive, The (1993)\n",
            "{ Fugitive, The (1993) , Dances with Wolves (1990) , Speed (1994) , }-> Forrest Gump (1994)\n",
            "{ Forrest Gump (1994) , True Lies (1994) , Dances with Wolves (1990) , }-> Fugitive, The (1993)\n",
            "{ Fugitive, The (1993) , True Lies (1994) , Dances with Wolves (1990) , }-> Forrest Gump (1994)\n",
            "{ Batman (1989) , Silence of the Lambs, The (1991) , Jurassic Park (1993) , }-> Fugitive, The (1993)\n",
            "{ Batman (1989) , Silence of the Lambs, The (1991) , Forrest Gump (1994) , }-> Fugitive, The (1993)\n",
            "{ Batman (1989) , Fugitive, The (1993) , Silence of the Lambs, The (1991) , }-> Forrest Gump (1994)\n",
            "{ Batman (1989) , Fugitive, The (1993) , Forrest Gump (1994) , }-> Silence of the Lambs, The (1991)\n",
            "{ Batman (1989) , Silence of the Lambs, The (1991) , Braveheart (1995) , }-> Fugitive, The (1993)\n",
            "{ Batman (1989) , Fugitive, The (1993) , Braveheart (1995) , }-> Silence of the Lambs, The (1991)\n",
            "{ Batman (1989) , Silence of the Lambs, The (1991) , Speed (1994) , }-> Fugitive, The (1993)\n",
            "{ Batman (1989) , Fugitive, The (1993) , Speed (1994) , }-> Silence of the Lambs, The (1991)\n",
            "{ Silence of the Lambs, The (1991) , Fugitive, The (1993) , True Lies (1994) , }-> Batman (1989)\n",
            "{ Batman (1989) , Silence of the Lambs, The (1991) , True Lies (1994) , }-> Fugitive, The (1993)\n",
            "{ Batman (1989) , Fugitive, The (1993) , True Lies (1994) , }-> Silence of the Lambs, The (1991)\n",
            "{ Jurassic Park (1993) , Fugitive, The (1993) , Clear and Present Danger (1994) , }-> Batman (1989)\n",
            "{ Batman (1989) , Jurassic Park (1993) , Clear and Present Danger (1994) , }-> Fugitive, The (1993)\n",
            "{ Batman (1989) , Fugitive, The (1993) , Clear and Present Danger (1994) , }-> Jurassic Park (1993)\n",
            "{ Fugitive, The (1993) , Forrest Gump (1994) , Clear and Present Danger (1994) , }-> Batman (1989)\n",
            "{ Batman (1989) , Forrest Gump (1994) , Clear and Present Danger (1994) , }-> Fugitive, The (1993)\n",
            "{ Batman (1989) , Fugitive, The (1993) , Clear and Present Danger (1994) , }-> Forrest Gump (1994)\n",
            "{ Fugitive, The (1993) , True Lies (1994) , Clear and Present Danger (1994) , }-> Batman (1989)\n",
            "{ Batman (1989) , True Lies (1994) , Clear and Present Danger (1994) , }-> Fugitive, The (1993)\n",
            "{ Batman (1989) , Fugitive, The (1993) , Clear and Present Danger (1994) , }-> True Lies (1994)\n",
            "{ Batman (1989) , Jurassic Park (1993) , Forrest Gump (1994) , }-> Fugitive, The (1993)\n",
            "{ Batman (1989) , Fugitive, The (1993) , Jurassic Park (1993) , }-> Forrest Gump (1994)\n",
            "{ Batman (1989) , Fugitive, The (1993) , Forrest Gump (1994) , }-> Jurassic Park (1993)\n",
            "{ Batman (1989) , Jurassic Park (1993) , Speed (1994) , }-> Fugitive, The (1993)\n",
            "{ Batman (1989) , Fugitive, The (1993) , Speed (1994) , }-> Jurassic Park (1993)\n",
            "{ Jurassic Park (1993) , Fugitive, The (1993) , True Lies (1994) , }-> Batman (1989)\n",
            "{ Batman (1989) , Jurassic Park (1993) , True Lies (1994) , }-> Fugitive, The (1993)\n",
            "{ Batman (1989) , Fugitive, The (1993) , Jurassic Park (1993) , }-> True Lies (1994)\n",
            "{ Batman (1989) , Fugitive, The (1993) , True Lies (1994) , }-> Jurassic Park (1993)\n",
            "{ Batman (1989) , Forrest Gump (1994) , Braveheart (1995) , }-> Fugitive, The (1993)\n",
            "{ Batman (1989) , Fugitive, The (1993) , Braveheart (1995) , }-> Forrest Gump (1994)\n",
            "{ Batman (1989) , Speed (1994) , Forrest Gump (1994) , }-> Fugitive, The (1993)\n",
            "{ Batman (1989) , Fugitive, The (1993) , Speed (1994) , }-> Forrest Gump (1994)\n",
            "{ True Lies (1994) , Fugitive, The (1993) , Forrest Gump (1994) , }-> Batman (1989)\n",
            "{ Batman (1989) , True Lies (1994) , Forrest Gump (1994) , }-> Fugitive, The (1993)\n",
            "{ Batman (1989) , Fugitive, The (1993) , True Lies (1994) , }-> Forrest Gump (1994)\n",
            "{ Fugitive, The (1993) , True Lies (1994) , Speed (1994) , }-> Batman (1989)\n",
            "{ Batman (1989) , Speed (1994) , True Lies (1994) , }-> Fugitive, The (1993)\n",
            "{ Batman (1989) , Fugitive, The (1993) , Speed (1994) , }-> True Lies (1994)\n",
            "{ Fugitive, The (1993) , True Lies (1994) , Clear and Present Danger (1994) , }-> Silence of the Lambs, The (1991)\n",
            "{ Silence of the Lambs, The (1991) , True Lies (1994) , Clear and Present Danger (1994) , }-> Fugitive, The (1993)\n",
            "{ Silence of the Lambs, The (1991) , Fugitive, The (1993) , Clear and Present Danger (1994) , }-> True Lies (1994)\n",
            "{ Jurassic Park (1993) , Fugitive, The (1993) , Forrest Gump (1994) , }-> Silence of the Lambs, The (1991)\n",
            "{ Jurassic Park (1993) , Silence of the Lambs, The (1991) , Forrest Gump (1994) , }-> Fugitive, The (1993)\n",
            "{ Jurassic Park (1993) , Silence of the Lambs, The (1991) , Fugitive, The (1993) , }-> Forrest Gump (1994)\n",
            "{ Forrest Gump (1994) , Silence of the Lambs, The (1991) , Fugitive, The (1993) , }-> Jurassic Park (1993)\n",
            "{ Jurassic Park (1993) , Fugitive, The (1993) , Braveheart (1995) , }-> Silence of the Lambs, The (1991)\n",
            "{ Jurassic Park (1993) , Silence of the Lambs, The (1991) , Braveheart (1995) , }-> Fugitive, The (1993)\n",
            "{ Jurassic Park (1993) , Silence of the Lambs, The (1991) , Speed (1994) , }-> Fugitive, The (1993)\n",
            "{ Silence of the Lambs, The (1991) , Fugitive, The (1993) , Speed (1994) , }-> Jurassic Park (1993)\n",
            "{ Jurassic Park (1993) , Silence of the Lambs, The (1991) , True Lies (1994) , }-> Fugitive, The (1993)\n",
            "{ True Lies (1994) , Silence of the Lambs, The (1991) , Fugitive, The (1993) , }-> Jurassic Park (1993)\n",
            "{ Fugitive, The (1993) , Forrest Gump (1994) , Braveheart (1995) , }-> Silence of the Lambs, The (1991)\n",
            "{ Fugitive, The (1993) , Forrest Gump (1994) , Speed (1994) , }-> Silence of the Lambs, The (1991)\n",
            "{ Silence of the Lambs, The (1991) , Forrest Gump (1994) , Speed (1994) , }-> Fugitive, The (1993)\n",
            "{ Silence of the Lambs, The (1991) , Fugitive, The (1993) , Speed (1994) , }-> Forrest Gump (1994)\n",
            "{ True Lies (1994) , Fugitive, The (1993) , Forrest Gump (1994) , }-> Silence of the Lambs, The (1991)\n",
            "{ True Lies (1994) , Silence of the Lambs, The (1991) , Forrest Gump (1994) , }-> Fugitive, The (1993)\n",
            "{ True Lies (1994) , Silence of the Lambs, The (1991) , Fugitive, The (1993) , }-> Forrest Gump (1994)\n",
            "{ Fugitive, The (1993) , True Lies (1994) , Braveheart (1995) , }-> Silence of the Lambs, The (1991)\n",
            "{ Silence of the Lambs, The (1991) , True Lies (1994) , Braveheart (1995) , }-> Fugitive, The (1993)\n",
            "{ Silence of the Lambs, The (1991) , True Lies (1994) , Speed (1994) , }-> Fugitive, The (1993)\n",
            "{ Fugitive, The (1993) , Forrest Gump (1994) , Pretty Woman (1990) , }-> Jurassic Park (1993)\n",
            "{ Jurassic Park (1993) , Forrest Gump (1994) , Pretty Woman (1990) , }-> Fugitive, The (1993)\n",
            "{ Jurassic Park (1993) , Fugitive, The (1993) , Pretty Woman (1990) , }-> Forrest Gump (1994)\n",
            "{ Fugitive, The (1993) , Forrest Gump (1994) , Clear and Present Danger (1994) , }-> Jurassic Park (1993)\n",
            "{ Jurassic Park (1993) , Forrest Gump (1994) , Clear and Present Danger (1994) , }-> Fugitive, The (1993)\n",
            "{ Jurassic Park (1993) , Fugitive, The (1993) , Clear and Present Danger (1994) , }-> Forrest Gump (1994)\n",
            "{ Fugitive, The (1993) , True Lies (1994) , Clear and Present Danger (1994) , }-> Jurassic Park (1993)\n",
            "{ Jurassic Park (1993) , True Lies (1994) , Clear and Present Danger (1994) , }-> Fugitive, The (1993)\n",
            "{ Jurassic Park (1993) , Fugitive, The (1993) , Clear and Present Danger (1994) , }-> True Lies (1994)\n",
            "{ Fugitive, The (1993) , Forrest Gump (1994) , Clear and Present Danger (1994) , }-> True Lies (1994)\n",
            "{ Forrest Gump (1994) , True Lies (1994) , Clear and Present Danger (1994) , }-> Fugitive, The (1993)\n",
            "{ Fugitive, The (1993) , True Lies (1994) , Clear and Present Danger (1994) , }-> Forrest Gump (1994)\n",
            "{ Lion King, The (1994) , Fugitive, The (1993) , Forrest Gump (1994) , }-> Jurassic Park (1993)\n",
            "{ Jurassic Park (1993) , Lion King, The (1994) , Forrest Gump (1994) , }-> Fugitive, The (1993)\n",
            "{ Jurassic Park (1993) , Fugitive, The (1993) , Lion King, The (1994) , }-> Forrest Gump (1994)\n",
            "{ Fugitive, The (1993) , Forrest Gump (1994) , Braveheart (1995) , }-> Jurassic Park (1993)\n",
            "{ Jurassic Park (1993) , Forrest Gump (1994) , Braveheart (1995) , }-> Fugitive, The (1993)\n",
            "{ Jurassic Park (1993) , Fugitive, The (1993) , Braveheart (1995) , }-> Forrest Gump (1994)\n",
            "{ Fugitive, The (1993) , Forrest Gump (1994) , Mrs. Doubtfire (1993) , }-> Jurassic Park (1993)\n",
            "{ Jurassic Park (1993) , Forrest Gump (1994) , Mrs. Doubtfire (1993) , }-> Fugitive, The (1993)\n",
            "{ Jurassic Park (1993) , Fugitive, The (1993) , Mrs. Doubtfire (1993) , }-> Forrest Gump (1994)\n",
            "{ Fugitive, The (1993) , Forrest Gump (1994) , Speed (1994) , }-> Jurassic Park (1993)\n",
            "{ Jurassic Park (1993) , Speed (1994) , Forrest Gump (1994) , }-> Fugitive, The (1993)\n",
            "{ Jurassic Park (1993) , Fugitive, The (1993) , Speed (1994) , }-> Forrest Gump (1994)\n",
            "{ True Lies (1994) , Fugitive, The (1993) , Forrest Gump (1994) , }-> Jurassic Park (1993)\n",
            "{ Jurassic Park (1993) , True Lies (1994) , Forrest Gump (1994) , }-> Fugitive, The (1993)\n",
            "{ Jurassic Park (1993) , Fugitive, The (1993) , True Lies (1994) , }-> Forrest Gump (1994)\n",
            "{ Fugitive, The (1993) , True Lies (1994) , Braveheart (1995) , }-> Jurassic Park (1993)\n",
            "{ Jurassic Park (1993) , True Lies (1994) , Braveheart (1995) , }-> Fugitive, The (1993)\n",
            "{ Fugitive, The (1993) , True Lies (1994) , Speed (1994) , }-> Jurassic Park (1993)\n",
            "{ Jurassic Park (1993) , Speed (1994) , True Lies (1994) , }-> Fugitive, The (1993)\n",
            "{ Forrest Gump (1994) , True Lies (1994) , Braveheart (1995) , }-> Fugitive, The (1993)\n",
            "{ Fugitive, The (1993) , True Lies (1994) , Braveheart (1995) , }-> Forrest Gump (1994)\n",
            "{ Forrest Gump (1994) , Speed (1994) , True Lies (1994) , }-> Fugitive, The (1993)\n",
            "{ Fugitive, The (1993) , True Lies (1994) , Speed (1994) , }-> Forrest Gump (1994)\n",
            "{ Silence of the Lambs, The (1991) , Terminator 2: Judgment Day (1991) , Dances with Wolves (1990) , }-> Jurassic Park (1993)\n",
            "{ Jurassic Park (1993) , Terminator 2: Judgment Day (1991) , Dances with Wolves (1990) , }-> Silence of the Lambs, The (1991)\n",
            "{ Jurassic Park (1993) , Silence of the Lambs, The (1991) , Dances with Wolves (1990) , }-> Terminator 2: Judgment Day (1991)\n",
            "{ Forrest Gump (1994) , Terminator 2: Judgment Day (1991) , Dances with Wolves (1990) , }-> Silence of the Lambs, The (1991)\n",
            "{ Silence of the Lambs, The (1991) , Terminator 2: Judgment Day (1991) , Dances with Wolves (1990) , }-> Forrest Gump (1994)\n",
            "{ Forrest Gump (1994) , Terminator 2: Judgment Day (1991) , Dances with Wolves (1990) , }-> Jurassic Park (1993)\n",
            "{ Jurassic Park (1993) , Terminator 2: Judgment Day (1991) , Dances with Wolves (1990) , }-> Forrest Gump (1994)\n",
            "{ Batman (1989) , Silence of the Lambs, The (1991) , Jurassic Park (1993) , }-> Terminator 2: Judgment Day (1991)\n",
            "{ Batman (1989) , Silence of the Lambs, The (1991) , Terminator 2: Judgment Day (1991) , }-> Jurassic Park (1993)\n",
            "{ Batman (1989) , Forrest Gump (1994) , Terminator 2: Judgment Day (1991) , }-> Silence of the Lambs, The (1991)\n",
            "{ Batman (1989) , Silence of the Lambs, The (1991) , Terminator 2: Judgment Day (1991) , }-> Forrest Gump (1994)\n",
            "{ Batman (1989) , Silence of the Lambs, The (1991) , Forrest Gump (1994) , }-> Terminator 2: Judgment Day (1991)\n",
            "{ Batman (1989) , Speed (1994) , Terminator 2: Judgment Day (1991) , }-> Silence of the Lambs, The (1991)\n",
            "{ Batman (1989) , Silence of the Lambs, The (1991) , Speed (1994) , }-> Terminator 2: Judgment Day (1991)\n",
            "{ Batman (1989) , True Lies (1994) , Terminator 2: Judgment Day (1991) , }-> Silence of the Lambs, The (1991)\n",
            "{ Batman (1989) , Silence of the Lambs, The (1991) , True Lies (1994) , }-> Terminator 2: Judgment Day (1991)\n",
            "{ Batman (1989) , Forrest Gump (1994) , Terminator 2: Judgment Day (1991) , }-> Jurassic Park (1993)\n",
            "{ Batman (1989) , Jurassic Park (1993) , Terminator 2: Judgment Day (1991) , }-> Forrest Gump (1994)\n",
            "{ Batman (1989) , Jurassic Park (1993) , Forrest Gump (1994) , }-> Terminator 2: Judgment Day (1991)\n",
            "{ Batman (1989) , Terminator 2: Judgment Day (1991) , Braveheart (1995) , }-> Jurassic Park (1993)\n",
            "{ Batman (1989) , Jurassic Park (1993) , Braveheart (1995) , }-> Terminator 2: Judgment Day (1991)\n",
            "{ Batman (1989) , Speed (1994) , Terminator 2: Judgment Day (1991) , }-> Jurassic Park (1993)\n",
            "{ Batman (1989) , Jurassic Park (1993) , Speed (1994) , }-> Terminator 2: Judgment Day (1991)\n",
            "{ Jurassic Park (1993) , True Lies (1994) , Terminator 2: Judgment Day (1991) , }-> Batman (1989)\n",
            "{ Batman (1989) , True Lies (1994) , Terminator 2: Judgment Day (1991) , }-> Jurassic Park (1993)\n",
            "{ Batman (1989) , Jurassic Park (1993) , True Lies (1994) , }-> Terminator 2: Judgment Day (1991)\n",
            "{ Speed (1994) , Forrest Gump (1994) , Terminator 2: Judgment Day (1991) , }-> Batman (1989)\n",
            "{ Batman (1989) , Speed (1994) , Terminator 2: Judgment Day (1991) , }-> Forrest Gump (1994)\n",
            "{ Batman (1989) , Speed (1994) , Forrest Gump (1994) , }-> Terminator 2: Judgment Day (1991)\n",
            "{ Batman (1989) , True Lies (1994) , Terminator 2: Judgment Day (1991) , }-> Forrest Gump (1994)\n",
            "{ Batman (1989) , Forrest Gump (1994) , True Lies (1994) , }-> Terminator 2: Judgment Day (1991)\n",
            "{ Speed (1994) , True Lies (1994) , Terminator 2: Judgment Day (1991) , }-> Batman (1989)\n",
            "{ Batman (1989) , True Lies (1994) , Terminator 2: Judgment Day (1991) , }-> Speed (1994)\n",
            "{ Batman (1989) , Speed (1994) , Terminator 2: Judgment Day (1991) , }-> True Lies (1994)\n",
            "{ Batman (1989) , Speed (1994) , True Lies (1994) , }-> Terminator 2: Judgment Day (1991)\n",
            "{ Silence of the Lambs, The (1991) , Forrest Gump (1994) , Terminator 2: Judgment Day (1991) , }-> Jurassic Park (1993)\n",
            "{ Silence of the Lambs, The (1991) , Terminator 2: Judgment Day (1991) , Braveheart (1995) , }-> Jurassic Park (1993)\n",
            "{ Jurassic Park (1993) , Terminator 2: Judgment Day (1991) , Braveheart (1995) , }-> Silence of the Lambs, The (1991)\n",
            "{ Jurassic Park (1993) , Silence of the Lambs, The (1991) , Braveheart (1995) , }-> Terminator 2: Judgment Day (1991)\n",
            "{ Silence of the Lambs, The (1991) , Terminator 2: Judgment Day (1991) , Speed (1994) , }-> Jurassic Park (1993)\n",
            "{ Jurassic Park (1993) , Speed (1994) , Terminator 2: Judgment Day (1991) , }-> Silence of the Lambs, The (1991)\n",
            "{ Jurassic Park (1993) , Silence of the Lambs, The (1991) , Speed (1994) , }-> Terminator 2: Judgment Day (1991)\n",
            "{ Silence of the Lambs, The (1991) , True Lies (1994) , Terminator 2: Judgment Day (1991) , }-> Jurassic Park (1993)\n",
            "{ Jurassic Park (1993) , True Lies (1994) , Terminator 2: Judgment Day (1991) , }-> Silence of the Lambs, The (1991)\n",
            "{ Jurassic Park (1993) , Silence of the Lambs, The (1991) , True Lies (1994) , }-> Terminator 2: Judgment Day (1991)\n",
            "{ Silence of the Lambs, The (1991) , Terminator 2: Judgment Day (1991) , Braveheart (1995) , }-> Forrest Gump (1994)\n",
            "{ Speed (1994) , Forrest Gump (1994) , Terminator 2: Judgment Day (1991) , }-> Silence of the Lambs, The (1991)\n",
            "{ Silence of the Lambs, The (1991) , Terminator 2: Judgment Day (1991) , Speed (1994) , }-> Forrest Gump (1994)\n",
            "{ Silence of the Lambs, The (1991) , Forrest Gump (1994) , Speed (1994) , }-> Terminator 2: Judgment Day (1991)\n",
            "{ Forrest Gump (1994) , True Lies (1994) , Terminator 2: Judgment Day (1991) , }-> Silence of the Lambs, The (1991)\n",
            "{ Silence of the Lambs, The (1991) , True Lies (1994) , Terminator 2: Judgment Day (1991) , }-> Forrest Gump (1994)\n",
            "{ Forrest Gump (1994) , Silence of the Lambs, The (1991) , True Lies (1994) , }-> Terminator 2: Judgment Day (1991)\n",
            "{ Speed (1994) , True Lies (1994) , Terminator 2: Judgment Day (1991) , }-> Silence of the Lambs, The (1991)\n",
            "{ Silence of the Lambs, The (1991) , True Lies (1994) , Speed (1994) , }-> Terminator 2: Judgment Day (1991)\n",
            "{ Forrest Gump (1994) , Terminator 2: Judgment Day (1991) , Braveheart (1995) , }-> Jurassic Park (1993)\n",
            "{ Jurassic Park (1993) , Terminator 2: Judgment Day (1991) , Braveheart (1995) , }-> Forrest Gump (1994)\n",
            "{ Jurassic Park (1993) , Forrest Gump (1994) , Braveheart (1995) , }-> Terminator 2: Judgment Day (1991)\n",
            "{ Speed (1994) , Forrest Gump (1994) , Terminator 2: Judgment Day (1991) , }-> Jurassic Park (1993)\n",
            "{ Jurassic Park (1993) , Speed (1994) , Terminator 2: Judgment Day (1991) , }-> Forrest Gump (1994)\n",
            "{ Jurassic Park (1993) , Speed (1994) , Forrest Gump (1994) , }-> Terminator 2: Judgment Day (1991)\n",
            "{ Forrest Gump (1994) , True Lies (1994) , Terminator 2: Judgment Day (1991) , }-> Jurassic Park (1993)\n",
            "{ Jurassic Park (1993) , True Lies (1994) , Terminator 2: Judgment Day (1991) , }-> Forrest Gump (1994)\n",
            "{ Jurassic Park (1993) , Forrest Gump (1994) , True Lies (1994) , }-> Terminator 2: Judgment Day (1991)\n",
            "{ Speed (1994) , Terminator 2: Judgment Day (1991) , Braveheart (1995) , }-> Jurassic Park (1993)\n",
            "{ Jurassic Park (1993) , Speed (1994) , Braveheart (1995) , }-> Terminator 2: Judgment Day (1991)\n",
            "{ True Lies (1994) , Terminator 2: Judgment Day (1991) , Braveheart (1995) , }-> Jurassic Park (1993)\n",
            "{ Jurassic Park (1993) , True Lies (1994) , Braveheart (1995) , }-> Terminator 2: Judgment Day (1991)\n",
            "{ Speed (1994) , True Lies (1994) , Terminator 2: Judgment Day (1991) , }-> Jurassic Park (1993)\n",
            "{ Jurassic Park (1993) , True Lies (1994) , Terminator 2: Judgment Day (1991) , }-> Speed (1994)\n",
            "{ Jurassic Park (1993) , Speed (1994) , Terminator 2: Judgment Day (1991) , }-> True Lies (1994)\n",
            "{ Jurassic Park (1993) , Speed (1994) , True Lies (1994) , }-> Terminator 2: Judgment Day (1991)\n",
            "{ Speed (1994) , Forrest Gump (1994) , Terminator 2: Judgment Day (1991) , }-> True Lies (1994)\n",
            "{ Speed (1994) , True Lies (1994) , Terminator 2: Judgment Day (1991) , }-> Forrest Gump (1994)\n",
            "{ Forrest Gump (1994) , Speed (1994) , True Lies (1994) , }-> Terminator 2: Judgment Day (1991)\n",
            "{ Batman (1989) , Forrest Gump (1994) , Dances with Wolves (1990) , }-> Silence of the Lambs, The (1991)\n",
            "{ Batman (1989) , Silence of the Lambs, The (1991) , Dances with Wolves (1990) , }-> Forrest Gump (1994)\n",
            "{ Batman (1989) , Forrest Gump (1994) , Dances with Wolves (1990) , }-> Jurassic Park (1993)\n",
            "{ Batman (1989) , Jurassic Park (1993) , Dances with Wolves (1990) , }-> Forrest Gump (1994)\n",
            "{ Silence of the Lambs, The (1991) , Forrest Gump (1994) , Dances with Wolves (1990) , }-> Jurassic Park (1993)\n",
            "{ Jurassic Park (1993) , Forrest Gump (1994) , Dances with Wolves (1990) , }-> Silence of the Lambs, The (1991)\n",
            "{ Jurassic Park (1993) , Silence of the Lambs, The (1991) , Dances with Wolves (1990) , }-> Forrest Gump (1994)\n",
            "{ Dances with Wolves (1990) , Forrest Gump (1994) , Braveheart (1995) , }-> Silence of the Lambs, The (1991)\n",
            "{ Silence of the Lambs, The (1991) , Braveheart (1995) , Dances with Wolves (1990) , }-> Forrest Gump (1994)\n",
            "{ Speed (1994) , Forrest Gump (1994) , Dances with Wolves (1990) , }-> Jurassic Park (1993)\n",
            "{ Jurassic Park (1993) , Speed (1994) , Dances with Wolves (1990) , }-> Forrest Gump (1994)\n",
            "{ Forrest Gump (1994) , True Lies (1994) , Dances with Wolves (1990) , }-> Jurassic Park (1993)\n",
            "{ Jurassic Park (1993) , True Lies (1994) , Dances with Wolves (1990) , }-> Forrest Gump (1994)\n",
            "{ Batman (1989) , Jurassic Park (1993) , Forrest Gump (1994) , }-> Silence of the Lambs, The (1991)\n",
            "{ Batman (1989) , Silence of the Lambs, The (1991) , Jurassic Park (1993) , }-> Forrest Gump (1994)\n",
            "{ Batman (1989) , Silence of the Lambs, The (1991) , Forrest Gump (1994) , }-> Jurassic Park (1993)\n",
            "{ Batman (1989) , Jurassic Park (1993) , Speed (1994) , }-> Silence of the Lambs, The (1991)\n",
            "{ Batman (1989) , Silence of the Lambs, The (1991) , Speed (1994) , }-> Jurassic Park (1993)\n",
            "{ Jurassic Park (1993) , Silence of the Lambs, The (1991) , True Lies (1994) , }-> Batman (1989)\n",
            "{ Batman (1989) , Jurassic Park (1993) , True Lies (1994) , }-> Silence of the Lambs, The (1991)\n",
            "{ Batman (1989) , Silence of the Lambs, The (1991) , True Lies (1994) , }-> Jurassic Park (1993)\n",
            "{ Batman (1989) , Forrest Gump (1994) , Braveheart (1995) , }-> Silence of the Lambs, The (1991)\n",
            "{ Batman (1989) , Silence of the Lambs, The (1991) , Braveheart (1995) , }-> Forrest Gump (1994)\n",
            "{ Batman (1989) , Speed (1994) , Forrest Gump (1994) , }-> Silence of the Lambs, The (1991)\n",
            "{ Batman (1989) , Silence of the Lambs, The (1991) , Speed (1994) , }-> Forrest Gump (1994)\n",
            "{ Batman (1989) , True Lies (1994) , Forrest Gump (1994) , }-> Silence of the Lambs, The (1991)\n",
            "{ Batman (1989) , Silence of the Lambs, The (1991) , True Lies (1994) , }-> Forrest Gump (1994)\n",
            "{ Batman (1989) , Forrest Gump (1994) , Braveheart (1995) , }-> Jurassic Park (1993)\n",
            "{ Batman (1989) , Jurassic Park (1993) , Braveheart (1995) , }-> Forrest Gump (1994)\n",
            "{ Batman (1989) , Speed (1994) , Forrest Gump (1994) , }-> Jurassic Park (1993)\n",
            "{ Batman (1989) , Jurassic Park (1993) , Speed (1994) , }-> Forrest Gump (1994)\n",
            "{ Jurassic Park (1993) , True Lies (1994) , Forrest Gump (1994) , }-> Batman (1989)\n",
            "{ Batman (1989) , True Lies (1994) , Forrest Gump (1994) , }-> Jurassic Park (1993)\n",
            "{ Batman (1989) , Jurassic Park (1993) , True Lies (1994) , }-> Forrest Gump (1994)\n",
            "{ Jurassic Park (1993) , Speed (1994) , True Lies (1994) , }-> Batman (1989)\n",
            "{ Batman (1989) , Speed (1994) , True Lies (1994) , }-> Jurassic Park (1993)\n",
            "{ Batman (1989) , Jurassic Park (1993) , Speed (1994) , }-> True Lies (1994)\n",
            "{ Batman (1989) , Jurassic Park (1993) , True Lies (1994) , }-> Speed (1994)\n",
            "{ True Lies (1994) , Speed (1994) , Forrest Gump (1994) , }-> Batman (1989)\n",
            "{ Batman (1989) , Speed (1994) , True Lies (1994) , }-> Forrest Gump (1994)\n",
            "{ Batman (1989) , Speed (1994) , Forrest Gump (1994) , }-> True Lies (1994)\n",
            "{ Jurassic Park (1993) , Forrest Gump (1994) , Braveheart (1995) , }-> Silence of the Lambs, The (1991)\n",
            "{ Jurassic Park (1993) , Silence of the Lambs, The (1991) , Braveheart (1995) , }-> Forrest Gump (1994)\n",
            "{ Silence of the Lambs, The (1991) , Forrest Gump (1994) , Speed (1994) , }-> Jurassic Park (1993)\n",
            "{ Jurassic Park (1993) , Silence of the Lambs, The (1991) , Speed (1994) , }-> Forrest Gump (1994)\n",
            "{ True Lies (1994) , Silence of the Lambs, The (1991) , Forrest Gump (1994) , }-> Jurassic Park (1993)\n",
            "{ Jurassic Park (1993) , True Lies (1994) , Forrest Gump (1994) , }-> Silence of the Lambs, The (1991)\n",
            "{ Jurassic Park (1993) , Silence of the Lambs, The (1991) , True Lies (1994) , }-> Forrest Gump (1994)\n",
            "{ Silence of the Lambs, The (1991) , True Lies (1994) , Speed (1994) , }-> Jurassic Park (1993)\n",
            "{ Forrest Gump (1994) , Speed (1994) , True Lies (1994) , }-> Silence of the Lambs, The (1991)\n",
            "{ Silence of the Lambs, The (1991) , True Lies (1994) , Speed (1994) , }-> Forrest Gump (1994)\n",
            "{ Speed (1994) , Forrest Gump (1994) , Pretty Woman (1990) , }-> Jurassic Park (1993)\n",
            "{ Jurassic Park (1993) , Forrest Gump (1994) , Pretty Woman (1990) , }-> Speed (1994)\n",
            "{ Jurassic Park (1993) , Speed (1994) , Pretty Woman (1990) , }-> Forrest Gump (1994)\n",
            "{ Speed (1994) , Forrest Gump (1994) , Braveheart (1995) , }-> Jurassic Park (1993)\n",
            "{ Jurassic Park (1993) , Speed (1994) , Braveheart (1995) , }-> Forrest Gump (1994)\n",
            "{ Forrest Gump (1994) , True Lies (1994) , Braveheart (1995) , }-> Jurassic Park (1993)\n",
            "{ Jurassic Park (1993) , True Lies (1994) , Braveheart (1995) , }-> Forrest Gump (1994)\n",
            "{ Speed (1994) , Forrest Gump (1994) , Mrs. Doubtfire (1993) , }-> Jurassic Park (1993)\n",
            "{ Jurassic Park (1993) , Forrest Gump (1994) , Mrs. Doubtfire (1993) , }-> Speed (1994)\n",
            "{ Jurassic Park (1993) , Speed (1994) , Mrs. Doubtfire (1993) , }-> Forrest Gump (1994)\n",
            "{ True Lies (1994) , Speed (1994) , Forrest Gump (1994) , }-> Jurassic Park (1993)\n",
            "{ Jurassic Park (1993) , Speed (1994) , True Lies (1994) , }-> Forrest Gump (1994)\n",
            "{ Fugitive, The (1993) , Forrest Gump (1994) , Terminator 2: Judgment Day (1991) , Apollo 13 (1995) , }-> Jurassic Park (1993)\n",
            "{ Jurassic Park (1993) , Fugitive, The (1993) , Terminator 2: Judgment Day (1991) , Apollo 13 (1995) , }-> Forrest Gump (1994)\n",
            "{ Jurassic Park (1993) , Forrest Gump (1994) , Terminator 2: Judgment Day (1991) , Apollo 13 (1995) , }-> Fugitive, The (1993)\n",
            "{ Jurassic Park (1993) , Fugitive, The (1993) , Forrest Gump (1994) , Apollo 13 (1995) , }-> Terminator 2: Judgment Day (1991)\n",
            "{ Silence of the Lambs, The (1991) , Fugitive, The (1993) , Forrest Gump (1994) , Apollo 13 (1995) , }-> Jurassic Park (1993)\n",
            "{ Jurassic Park (1993) , Fugitive, The (1993) , Apollo 13 (1995) , Silence of the Lambs, The (1991) , }-> Forrest Gump (1994)\n",
            "{ Jurassic Park (1993) , Silence of the Lambs, The (1991) , Forrest Gump (1994) , Apollo 13 (1995) , }-> Fugitive, The (1993)\n",
            "{ Jurassic Park (1993) , Fugitive, The (1993) , Forrest Gump (1994) , Apollo 13 (1995) , }-> Silence of the Lambs, The (1991)\n",
            "{ Pulp Fiction (1994) , Fugitive, The (1993) , Terminator 2: Judgment Day (1991) , Silence of the Lambs, The (1991) , }-> Jurassic Park (1993)\n",
            "{ Jurassic Park (1993) , Silence of the Lambs, The (1991) , Pulp Fiction (1994) , Terminator 2: Judgment Day (1991) , }-> Fugitive, The (1993)\n",
            "{ Jurassic Park (1993) , Fugitive, The (1993) , Pulp Fiction (1994) , Silence of the Lambs, The (1991) , }-> Terminator 2: Judgment Day (1991)\n",
            "{ Jurassic Park (1993) , Fugitive, The (1993) , Pulp Fiction (1994) , Terminator 2: Judgment Day (1991) , }-> Silence of the Lambs, The (1991)\n",
            "{ Pulp Fiction (1994) , Fugitive, The (1993) , Terminator 2: Judgment Day (1991) , Silence of the Lambs, The (1991) , }-> Forrest Gump (1994)\n",
            "{ Pulp Fiction (1994) , Silence of the Lambs, The (1991) , Forrest Gump (1994) , Terminator 2: Judgment Day (1991) , }-> Fugitive, The (1993)\n",
            "{ Pulp Fiction (1994) , Fugitive, The (1993) , Forrest Gump (1994) , Silence of the Lambs, The (1991) , }-> Terminator 2: Judgment Day (1991)\n",
            "{ Pulp Fiction (1994) , Fugitive, The (1993) , Forrest Gump (1994) , Terminator 2: Judgment Day (1991) , }-> Silence of the Lambs, The (1991)\n",
            "{ Pulp Fiction (1994) , Fugitive, The (1993) , Forrest Gump (1994) , Silence of the Lambs, The (1991) , }-> Jurassic Park (1993)\n",
            "{ Jurassic Park (1993) , Fugitive, The (1993) , Pulp Fiction (1994) , Silence of the Lambs, The (1991) , }-> Forrest Gump (1994)\n",
            "{ Jurassic Park (1993) , Silence of the Lambs, The (1991) , Pulp Fiction (1994) , Forrest Gump (1994) , }-> Fugitive, The (1993)\n",
            "{ Jurassic Park (1993) , Fugitive, The (1993) , Pulp Fiction (1994) , Forrest Gump (1994) , }-> Silence of the Lambs, The (1991)\n",
            "{ Pulp Fiction (1994) , Silence of the Lambs, The (1991) , Forrest Gump (1994) , Terminator 2: Judgment Day (1991) , }-> Jurassic Park (1993)\n",
            "{ Jurassic Park (1993) , Silence of the Lambs, The (1991) , Pulp Fiction (1994) , Terminator 2: Judgment Day (1991) , }-> Forrest Gump (1994)\n",
            "{ Jurassic Park (1993) , Silence of the Lambs, The (1991) , Pulp Fiction (1994) , Forrest Gump (1994) , }-> Terminator 2: Judgment Day (1991)\n",
            "{ Jurassic Park (1993) , Pulp Fiction (1994) , Forrest Gump (1994) , Terminator 2: Judgment Day (1991) , }-> Silence of the Lambs, The (1991)\n",
            "{ Silence of the Lambs, The (1991) , Fugitive, The (1993) , Terminator 2: Judgment Day (1991) , Shawshank Redemption, The (1994) , }-> Jurassic Park (1993)\n",
            "{ Jurassic Park (1993) , Silence of the Lambs, The (1991) , Terminator 2: Judgment Day (1991) , Shawshank Redemption, The (1994) , }-> Fugitive, The (1993)\n",
            "{ Jurassic Park (1993) , Fugitive, The (1993) , Silence of the Lambs, The (1991) , Shawshank Redemption, The (1994) , }-> Terminator 2: Judgment Day (1991)\n",
            "{ Jurassic Park (1993) , Fugitive, The (1993) , Terminator 2: Judgment Day (1991) , Shawshank Redemption, The (1994) , }-> Silence of the Lambs, The (1991)\n",
            "{ Fugitive, The (1993) , Forrest Gump (1994) , Terminator 2: Judgment Day (1991) , Shawshank Redemption, The (1994) , }-> Jurassic Park (1993)\n",
            "{ Jurassic Park (1993) , Fugitive, The (1993) , Terminator 2: Judgment Day (1991) , Shawshank Redemption, The (1994) , }-> Forrest Gump (1994)\n",
            "{ Jurassic Park (1993) , Forrest Gump (1994) , Terminator 2: Judgment Day (1991) , Shawshank Redemption, The (1994) , }-> Fugitive, The (1993)\n",
            "{ Jurassic Park (1993) , Fugitive, The (1993) , Forrest Gump (1994) , Shawshank Redemption, The (1994) , }-> Terminator 2: Judgment Day (1991)\n",
            "{ Silence of the Lambs, The (1991) , Fugitive, The (1993) , Forrest Gump (1994) , Shawshank Redemption, The (1994) , }-> Jurassic Park (1993)\n",
            "{ Jurassic Park (1993) , Fugitive, The (1993) , Silence of the Lambs, The (1991) , Shawshank Redemption, The (1994) , }-> Forrest Gump (1994)\n",
            "{ Jurassic Park (1993) , Silence of the Lambs, The (1991) , Forrest Gump (1994) , Shawshank Redemption, The (1994) , }-> Fugitive, The (1993)\n",
            "{ Jurassic Park (1993) , Fugitive, The (1993) , Forrest Gump (1994) , Shawshank Redemption, The (1994) , }-> Silence of the Lambs, The (1991)\n",
            "{ Silence of the Lambs, The (1991) , Forrest Gump (1994) , Terminator 2: Judgment Day (1991) , Shawshank Redemption, The (1994) , }-> Jurassic Park (1993)\n",
            "{ Jurassic Park (1993) , Silence of the Lambs, The (1991) , Terminator 2: Judgment Day (1991) , Shawshank Redemption, The (1994) , }-> Forrest Gump (1994)\n",
            "{ Jurassic Park (1993) , Silence of the Lambs, The (1991) , Forrest Gump (1994) , Shawshank Redemption, The (1994) , }-> Terminator 2: Judgment Day (1991)\n",
            "{ Jurassic Park (1993) , Forrest Gump (1994) , Terminator 2: Judgment Day (1991) , Shawshank Redemption, The (1994) , }-> Silence of the Lambs, The (1991)\n",
            "{ Batman (1989) , Fugitive, The (1993) , Terminator 2: Judgment Day (1991) , Silence of the Lambs, The (1991) , }-> Jurassic Park (1993)\n",
            "{ Jurassic Park (1993) , Silence of the Lambs, The (1991) , Batman (1989) , Terminator 2: Judgment Day (1991) , }-> Fugitive, The (1993)\n",
            "{ Jurassic Park (1993) , Fugitive, The (1993) , Batman (1989) , Silence of the Lambs, The (1991) , }-> Terminator 2: Judgment Day (1991)\n",
            "{ Jurassic Park (1993) , Fugitive, The (1993) , Batman (1989) , Terminator 2: Judgment Day (1991) , }-> Silence of the Lambs, The (1991)\n",
            "{ Batman (1989) , Fugitive, The (1993) , Forrest Gump (1994) , Terminator 2: Judgment Day (1991) , }-> Jurassic Park (1993)\n",
            "{ Jurassic Park (1993) , Fugitive, The (1993) , Batman (1989) , Terminator 2: Judgment Day (1991) , }-> Forrest Gump (1994)\n",
            "{ Jurassic Park (1993) , Batman (1989) , Forrest Gump (1994) , Terminator 2: Judgment Day (1991) , }-> Fugitive, The (1993)\n",
            "{ Jurassic Park (1993) , Fugitive, The (1993) , Batman (1989) , Forrest Gump (1994) , }-> Terminator 2: Judgment Day (1991)\n",
            "{ Jurassic Park (1993) , Fugitive, The (1993) , Forrest Gump (1994) , Terminator 2: Judgment Day (1991) , }-> Batman (1989)\n",
            "{ Batman (1989) , Fugitive, The (1993) , Terminator 2: Judgment Day (1991) , Speed (1994) , }-> Jurassic Park (1993)\n",
            "{ Jurassic Park (1993) , Speed (1994) , Batman (1989) , Terminator 2: Judgment Day (1991) , }-> Fugitive, The (1993)\n",
            "{ Jurassic Park (1993) , Fugitive, The (1993) , Batman (1989) , Speed (1994) , }-> Terminator 2: Judgment Day (1991)\n",
            "{ Jurassic Park (1993) , Fugitive, The (1993) , Terminator 2: Judgment Day (1991) , Speed (1994) , }-> Batman (1989)\n",
            "{ Batman (1989) , Fugitive, The (1993) , True Lies (1994) , Terminator 2: Judgment Day (1991) , }-> Jurassic Park (1993)\n",
            "{ Jurassic Park (1993) , Batman (1989) , True Lies (1994) , Terminator 2: Judgment Day (1991) , }-> Fugitive, The (1993)\n",
            "{ Jurassic Park (1993) , Fugitive, The (1993) , Batman (1989) , True Lies (1994) , }-> Terminator 2: Judgment Day (1991)\n",
            "{ Jurassic Park (1993) , Fugitive, The (1993) , True Lies (1994) , Terminator 2: Judgment Day (1991) , }-> Batman (1989)\n",
            "{ Jurassic Park (1993) , Fugitive, The (1993) , Batman (1989) , Terminator 2: Judgment Day (1991) , }-> True Lies (1994)\n",
            "{ Silence of the Lambs, The (1991) , Fugitive, The (1993) , Forrest Gump (1994) , Terminator 2: Judgment Day (1991) , }-> Jurassic Park (1993)\n",
            "{ Jurassic Park (1993) , Fugitive, The (1993) , Terminator 2: Judgment Day (1991) , Silence of the Lambs, The (1991) , }-> Forrest Gump (1994)\n",
            "{ Jurassic Park (1993) , Silence of the Lambs, The (1991) , Forrest Gump (1994) , Terminator 2: Judgment Day (1991) , }-> Fugitive, The (1993)\n",
            "{ Jurassic Park (1993) , Fugitive, The (1993) , Forrest Gump (1994) , Silence of the Lambs, The (1991) , }-> Terminator 2: Judgment Day (1991)\n",
            "{ Jurassic Park (1993) , Fugitive, The (1993) , Forrest Gump (1994) , Terminator 2: Judgment Day (1991) , }-> Silence of the Lambs, The (1991)\n",
            "{ Silence of the Lambs, The (1991) , Fugitive, The (1993) , Terminator 2: Judgment Day (1991) , Speed (1994) , }-> Jurassic Park (1993)\n",
            "{ Jurassic Park (1993) , Silence of the Lambs, The (1991) , Terminator 2: Judgment Day (1991) , Speed (1994) , }-> Fugitive, The (1993)\n",
            "{ Jurassic Park (1993) , Fugitive, The (1993) , Silence of the Lambs, The (1991) , Speed (1994) , }-> Terminator 2: Judgment Day (1991)\n",
            "{ Jurassic Park (1993) , Fugitive, The (1993) , Terminator 2: Judgment Day (1991) , Speed (1994) , }-> Silence of the Lambs, The (1991)\n",
            "{ Silence of the Lambs, The (1991) , Fugitive, The (1993) , True Lies (1994) , Terminator 2: Judgment Day (1991) , }-> Jurassic Park (1993)\n",
            "{ Jurassic Park (1993) , Silence of the Lambs, The (1991) , True Lies (1994) , Terminator 2: Judgment Day (1991) , }-> Fugitive, The (1993)\n",
            "{ Jurassic Park (1993) , Fugitive, The (1993) , True Lies (1994) , Silence of the Lambs, The (1991) , }-> Terminator 2: Judgment Day (1991)\n",
            "{ Jurassic Park (1993) , Fugitive, The (1993) , True Lies (1994) , Terminator 2: Judgment Day (1991) , }-> Silence of the Lambs, The (1991)\n",
            "{ Silence of the Lambs, The (1991) , Fugitive, The (1993) , True Lies (1994) , Terminator 2: Judgment Day (1991) , }-> Forrest Gump (1994)\n",
            "{ True Lies (1994) , Silence of the Lambs, The (1991) , Forrest Gump (1994) , Terminator 2: Judgment Day (1991) , }-> Fugitive, The (1993)\n",
            "{ Silence of the Lambs, The (1991) , Fugitive, The (1993) , Forrest Gump (1994) , True Lies (1994) , }-> Terminator 2: Judgment Day (1991)\n",
            "{ True Lies (1994) , Fugitive, The (1993) , Forrest Gump (1994) , Terminator 2: Judgment Day (1991) , }-> Silence of the Lambs, The (1991)\n",
            "{ Fugitive, The (1993) , Forrest Gump (1994) , Terminator 2: Judgment Day (1991) , Speed (1994) , }-> Jurassic Park (1993)\n",
            "{ Jurassic Park (1993) , Fugitive, The (1993) , Terminator 2: Judgment Day (1991) , Speed (1994) , }-> Forrest Gump (1994)\n",
            "{ Jurassic Park (1993) , Speed (1994) , Forrest Gump (1994) , Terminator 2: Judgment Day (1991) , }-> Fugitive, The (1993)\n",
            "{ Jurassic Park (1993) , Fugitive, The (1993) , Forrest Gump (1994) , Speed (1994) , }-> Terminator 2: Judgment Day (1991)\n",
            "{ True Lies (1994) , Fugitive, The (1993) , Forrest Gump (1994) , Terminator 2: Judgment Day (1991) , }-> Jurassic Park (1993)\n",
            "{ Jurassic Park (1993) , Fugitive, The (1993) , True Lies (1994) , Terminator 2: Judgment Day (1991) , }-> Forrest Gump (1994)\n",
            "{ Jurassic Park (1993) , True Lies (1994) , Forrest Gump (1994) , Terminator 2: Judgment Day (1991) , }-> Fugitive, The (1993)\n",
            "{ Jurassic Park (1993) , Fugitive, The (1993) , Forrest Gump (1994) , True Lies (1994) , }-> Terminator 2: Judgment Day (1991)\n",
            "{ Jurassic Park (1993) , Fugitive, The (1993) , Forrest Gump (1994) , Terminator 2: Judgment Day (1991) , }-> True Lies (1994)\n",
            "{ Fugitive, The (1993) , True Lies (1994) , Terminator 2: Judgment Day (1991) , Speed (1994) , }-> Jurassic Park (1993)\n",
            "{ Jurassic Park (1993) , Speed (1994) , True Lies (1994) , Terminator 2: Judgment Day (1991) , }-> Fugitive, The (1993)\n",
            "{ Jurassic Park (1993) , Fugitive, The (1993) , True Lies (1994) , Speed (1994) , }-> Terminator 2: Judgment Day (1991)\n",
            "{ Jurassic Park (1993) , Fugitive, The (1993) , True Lies (1994) , Terminator 2: Judgment Day (1991) , }-> Speed (1994)\n",
            "{ Jurassic Park (1993) , Fugitive, The (1993) , Terminator 2: Judgment Day (1991) , Speed (1994) , }-> True Lies (1994)\n",
            "{ Silence of the Lambs, The (1991) , Fugitive, The (1993) , Forrest Gump (1994) , Dances with Wolves (1990) , }-> Jurassic Park (1993)\n",
            "{ Jurassic Park (1993) , Fugitive, The (1993) , Dances with Wolves (1990) , Silence of the Lambs, The (1991) , }-> Forrest Gump (1994)\n",
            "{ Jurassic Park (1993) , Silence of the Lambs, The (1991) , Forrest Gump (1994) , Dances with Wolves (1990) , }-> Fugitive, The (1993)\n",
            "{ Jurassic Park (1993) , Fugitive, The (1993) , Forrest Gump (1994) , Dances with Wolves (1990) , }-> Silence of the Lambs, The (1991)\n",
            "{ Batman (1989) , Fugitive, The (1993) , Forrest Gump (1994) , Silence of the Lambs, The (1991) , }-> Jurassic Park (1993)\n",
            "{ Jurassic Park (1993) , Fugitive, The (1993) , Batman (1989) , Silence of the Lambs, The (1991) , }-> Forrest Gump (1994)\n",
            "{ Jurassic Park (1993) , Silence of the Lambs, The (1991) , Batman (1989) , Forrest Gump (1994) , }-> Fugitive, The (1993)\n",
            "{ Jurassic Park (1993) , Fugitive, The (1993) , Batman (1989) , Forrest Gump (1994) , }-> Silence of the Lambs, The (1991)\n",
            "{ Batman (1989) , Fugitive, The (1993) , Forrest Gump (1994) , Speed (1994) , }-> Jurassic Park (1993)\n",
            "{ Jurassic Park (1993) , Fugitive, The (1993) , Batman (1989) , Speed (1994) , }-> Forrest Gump (1994)\n",
            "{ Jurassic Park (1993) , Speed (1994) , Batman (1989) , Forrest Gump (1994) , }-> Fugitive, The (1993)\n",
            "{ Jurassic Park (1993) , Fugitive, The (1993) , Forrest Gump (1994) , Speed (1994) , }-> Batman (1989)\n",
            "{ Batman (1989) , Fugitive, The (1993) , Forrest Gump (1994) , True Lies (1994) , }-> Jurassic Park (1993)\n",
            "{ Jurassic Park (1993) , Fugitive, The (1993) , Batman (1989) , True Lies (1994) , }-> Forrest Gump (1994)\n",
            "{ Jurassic Park (1993) , True Lies (1994) , Batman (1989) , Forrest Gump (1994) , }-> Fugitive, The (1993)\n",
            "{ Jurassic Park (1993) , Fugitive, The (1993) , Forrest Gump (1994) , True Lies (1994) , }-> Batman (1989)\n",
            "{ Jurassic Park (1993) , Fugitive, The (1993) , Batman (1989) , Forrest Gump (1994) , }-> True Lies (1994)\n",
            "{ Silence of the Lambs, The (1991) , Fugitive, The (1993) , Forrest Gump (1994) , Speed (1994) , }-> Jurassic Park (1993)\n",
            "{ Jurassic Park (1993) , Fugitive, The (1993) , Silence of the Lambs, The (1991) , Speed (1994) , }-> Forrest Gump (1994)\n",
            "{ Jurassic Park (1993) , Silence of the Lambs, The (1991) , Forrest Gump (1994) , Speed (1994) , }-> Fugitive, The (1993)\n",
            "{ Jurassic Park (1993) , Fugitive, The (1993) , Forrest Gump (1994) , Speed (1994) , }-> Silence of the Lambs, The (1991)\n",
            "{ Silence of the Lambs, The (1991) , Fugitive, The (1993) , Forrest Gump (1994) , True Lies (1994) , }-> Jurassic Park (1993)\n",
            "{ Jurassic Park (1993) , Fugitive, The (1993) , True Lies (1994) , Silence of the Lambs, The (1991) , }-> Forrest Gump (1994)\n",
            "{ Jurassic Park (1993) , Silence of the Lambs, The (1991) , Forrest Gump (1994) , True Lies (1994) , }-> Fugitive, The (1993)\n",
            "{ Jurassic Park (1993) , Fugitive, The (1993) , Forrest Gump (1994) , True Lies (1994) , }-> Silence of the Lambs, The (1991)\n",
            "{ True Lies (1994) , Fugitive, The (1993) , Forrest Gump (1994) , Speed (1994) , }-> Jurassic Park (1993)\n",
            "{ Jurassic Park (1993) , Fugitive, The (1993) , True Lies (1994) , Speed (1994) , }-> Forrest Gump (1994)\n",
            "{ Jurassic Park (1993) , Speed (1994) , Forrest Gump (1994) , True Lies (1994) , }-> Fugitive, The (1993)\n",
            "{ Jurassic Park (1993) , Fugitive, The (1993) , Forrest Gump (1994) , True Lies (1994) , }-> Speed (1994)\n",
            "{ Jurassic Park (1993) , Fugitive, The (1993) , Forrest Gump (1994) , Speed (1994) , }-> True Lies (1994)\n",
            "{ Batman (1989) , Silence of the Lambs, The (1991) , Forrest Gump (1994) , Terminator 2: Judgment Day (1991) , }-> Jurassic Park (1993)\n",
            "{ Jurassic Park (1993) , Silence of the Lambs, The (1991) , Batman (1989) , Terminator 2: Judgment Day (1991) , }-> Forrest Gump (1994)\n",
            "{ Jurassic Park (1993) , Silence of the Lambs, The (1991) , Batman (1989) , Forrest Gump (1994) , }-> Terminator 2: Judgment Day (1991)\n",
            "{ Jurassic Park (1993) , Batman (1989) , Forrest Gump (1994) , Terminator 2: Judgment Day (1991) , }-> Silence of the Lambs, The (1991)\n",
            "{ Batman (1989) , Speed (1994) , Forrest Gump (1994) , Terminator 2: Judgment Day (1991) , }-> Jurassic Park (1993)\n",
            "{ Jurassic Park (1993) , Speed (1994) , Batman (1989) , Terminator 2: Judgment Day (1991) , }-> Forrest Gump (1994)\n",
            "{ Jurassic Park (1993) , Speed (1994) , Batman (1989) , Forrest Gump (1994) , }-> Terminator 2: Judgment Day (1991)\n",
            "{ Jurassic Park (1993) , Speed (1994) , Forrest Gump (1994) , Terminator 2: Judgment Day (1991) , }-> Batman (1989)\n",
            "{ Jurassic Park (1993) , Batman (1989) , Forrest Gump (1994) , Terminator 2: Judgment Day (1991) , }-> Speed (1994)\n",
            "{ Batman (1989) , True Lies (1994) , Forrest Gump (1994) , Terminator 2: Judgment Day (1991) , }-> Jurassic Park (1993)\n",
            "{ Jurassic Park (1993) , Batman (1989) , True Lies (1994) , Terminator 2: Judgment Day (1991) , }-> Forrest Gump (1994)\n",
            "{ Jurassic Park (1993) , True Lies (1994) , Batman (1989) , Forrest Gump (1994) , }-> Terminator 2: Judgment Day (1991)\n",
            "{ Jurassic Park (1993) , True Lies (1994) , Forrest Gump (1994) , Terminator 2: Judgment Day (1991) , }-> Batman (1989)\n",
            "{ Jurassic Park (1993) , Batman (1989) , Forrest Gump (1994) , Terminator 2: Judgment Day (1991) , }-> True Lies (1994)\n",
            "{ Batman (1989) , Speed (1994) , True Lies (1994) , Terminator 2: Judgment Day (1991) , }-> Jurassic Park (1993)\n",
            "{ Jurassic Park (1993) , Speed (1994) , Batman (1989) , True Lies (1994) , }-> Terminator 2: Judgment Day (1991)\n",
            "{ Jurassic Park (1993) , Speed (1994) , True Lies (1994) , Terminator 2: Judgment Day (1991) , }-> Batman (1989)\n",
            "{ Jurassic Park (1993) , Batman (1989) , True Lies (1994) , Terminator 2: Judgment Day (1991) , }-> Speed (1994)\n",
            "{ Jurassic Park (1993) , Speed (1994) , Batman (1989) , Terminator 2: Judgment Day (1991) , }-> True Lies (1994)\n",
            "{ True Lies (1994) , Silence of the Lambs, The (1991) , Forrest Gump (1994) , Terminator 2: Judgment Day (1991) , }-> Jurassic Park (1993)\n",
            "{ Jurassic Park (1993) , Silence of the Lambs, The (1991) , True Lies (1994) , Terminator 2: Judgment Day (1991) , }-> Forrest Gump (1994)\n",
            "{ Jurassic Park (1993) , Silence of the Lambs, The (1991) , Forrest Gump (1994) , True Lies (1994) , }-> Terminator 2: Judgment Day (1991)\n",
            "{ Jurassic Park (1993) , True Lies (1994) , Forrest Gump (1994) , Terminator 2: Judgment Day (1991) , }-> Silence of the Lambs, The (1991)\n",
            "{ True Lies (1994) , Speed (1994) , Forrest Gump (1994) , Terminator 2: Judgment Day (1991) , }-> Jurassic Park (1993)\n",
            "{ Jurassic Park (1993) , Speed (1994) , True Lies (1994) , Terminator 2: Judgment Day (1991) , }-> Forrest Gump (1994)\n",
            "{ Jurassic Park (1993) , Speed (1994) , Forrest Gump (1994) , True Lies (1994) , }-> Terminator 2: Judgment Day (1991)\n",
            "{ Jurassic Park (1993) , True Lies (1994) , Forrest Gump (1994) , Terminator 2: Judgment Day (1991) , }-> Speed (1994)\n",
            "{ Jurassic Park (1993) , Speed (1994) , Forrest Gump (1994) , Terminator 2: Judgment Day (1991) , }-> True Lies (1994)\n"
          ]
        }
      ]
    },
    {
      "cell_type": "code",
      "source": [
        "print('The number of association rules: {}'.format(sum([1 for a in sample_asso_rule_big])))\n",
        "print('The number of Baskets created : {}'.format(len(sample_Basket_big)))\n",
        "a = [(k,len(asso_sample_itemset_big[k])) for k in asso_sample_itemset_big.keys()]\n",
        "print('The frequent itemsets =: {}'.format(a))"
      ],
      "metadata": {
        "colab": {
          "base_uri": "https://localhost:8080/"
        },
        "id": "fb1PHHKWr2E9",
        "outputId": "8c0d7155-730b-475f-c327-0425bd008057"
      },
      "execution_count": null,
      "outputs": [
        {
          "output_type": "stream",
          "name": "stdout",
          "text": [
            "The number of association rules: 1668\n",
            "The number of Baskets created : 1397\n",
            "The frequent itemsets =: [(2, 768), (3, 857), (4, 399), (5, 34)]\n"
          ]
        }
      ]
    },
    {
      "cell_type": "markdown",
      "metadata": {
        "id": "FX3LDkfAlpyg"
      },
      "source": [
        "For the dataset of 10 million, I sampled 1/50 = 0.02 of the total dataset.\n",
        "The total number of baskets thus created were approximated 1400 which is twice the smaller dataset. Intuitively, the smaller data set had approx 600 users while this bigger dataset had a little more than twice of it. However, the unexpected part is the number of rules thus obtained. In the smaller data set, **317 association rules** had been found. However, with the larger dataset with 2% sampling (that is, 2x the number of user), the total number of rules increased nearly **5x** i.e. **1668 association rules**\n",
        "\n",
        "The itemset distribution thus found is as follows:\n",
        "* two item frequent-itemset = 768\n",
        "* three item frequent-itemset = 857\n",
        "* four item frequent-itemset = 399\n",
        "* five item frequent-itemset = 34\n",
        "\n"
      ]
    },
    {
      "cell_type": "code",
      "source": [
        ""
      ],
      "metadata": {
        "id": "XA7Lh-Wj09Eq"
      },
      "execution_count": null,
      "outputs": []
    }
  ],
  "metadata": {
    "colab": {
      "collapsed_sections": [],
      "name": "232003268_homework_1.ipynb",
      "provenance": []
    },
    "kernelspec": {
      "display_name": "Python 3",
      "name": "python3"
    },
    "language_info": {
      "name": "python"
    }
  },
  "nbformat": 4,
  "nbformat_minor": 0
}