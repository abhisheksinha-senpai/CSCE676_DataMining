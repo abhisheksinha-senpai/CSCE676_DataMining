{
  "cells": [
    {
      "cell_type": "markdown",
      "metadata": {
        "id": "Liwm2fk4fhWL"
      },
      "source": [
        "#### CSCE 676 :: Data Mining and Analysis :: Texas A&M University :: Fall 2021\n",
        "\n",
        "\n",
        "# Homework 0: Let's get it started\n",
        "\n",
        "- **100 points [2% of your final grade]**\n",
        "- **Due Tuesday, January 25 by 11:59pm**\n",
        "\n",
        "*Goals of this homework:* The objective of this homework is to prepare your development environment, get familiar with iPython in a Jupyter notebook as well as google colab, and then do some beginning exercises.\n",
        "\n",
        "*Submission instructions:* You should post your notebook to Canvas (look for the homework 0 assignment there). Please name your submission **your-uin_hw0.ipynb**, so for example, my submission would be something like **555001234_hw0.ipynb**. Your notebook should be fully executed on google colab when you submit ... so run all the cells for us so we can see the output, then submit that.\n",
        "\n",
        "*Grading:* This is a stress-free homework. For this starter homework, we will only check that you have submitted a notebook with at least some code to Canvas. We will not check for completeness or correctness. Basically, do your best and submit = 100."
      ]
    },
    {
      "cell_type": "markdown",
      "metadata": {
        "id": "S1QWp2t-fhWP"
      },
      "source": [
        "## iPython, Python, and our Expectations\n",
        "\n",
        "This homework and all subsequent homeworks will use iPython in a Jupyter notebook. iPython is just an interactive shell for programming in the Python language. A few years ago, the developers created a generic interactive shell called Jupyter that supports languages beyond just Python. This can be a bit confusing, and we'll add a bit to the confusion by referring to iPython and Jupyter interchangeably in this course.\n",
        "\n",
        "With respect to Python, we do not expect you to have any prior experience. We do, however, expect you to have proficiency in some programming language (so you've seen loops, conditionals, functions, etc.) and a willingness to experiment and learn on your own. Python is a fun language and you should be able to pick up the necessary portions as we move along; however, this may require you to spend some extra cycles consulting online documentation, referring to a Python book, or scouring over StackOverflow. \n",
        "\n",
        "A few basic Python pointers:\n",
        "* http://introtopython.org\n",
        "* http://ricardoduarte.github.io/python-for-developers/\n",
        "* http://mbakker7.github.io/exploratory_computing_with_python/ [particularly the basic Python language ones]\n",
        "\n",
        "We expect your code to be well-documented with appropriate comments. We prefer meaningful variable names and function names. We also expect your code to be compact and sensible -- no super-long lines, nor dense unintelligible lines of code.\n",
        "\n",
        "Note that in this course we will use Python 3.7.\n",
        "\n",
        "In general, Python code is often run from standalone Python modules or files; for this class, we will often run Python from here within the iPython notebook.\n",
        "\n",
        "Now that you're ready, let's take a look at this iPython notebook. You'll notice that it is composed of cells. Some cells have text (like this one), while others contain code and comments. This cell is written in **Markdown**, a simple text-to-HTML language. You can find a cheat sheet for Markdown here: https://github.com/adam-p/markdown-here/wiki/Markdown-Cheatsheet. You can toggle a cell between Markdown and code with the toggle button up there on the menu bar.\n",
        "\n",
        "The cell below contains code and can be **executed** by hitting the **Play** button on the menu bar or by hitting **shift + enter**."
      ]
    },
    {
      "cell_type": "code",
      "execution_count": null,
      "metadata": {
        "id": "zcDZjFx4fhWQ",
        "colab": {
          "base_uri": "https://localhost:8080/"
        },
        "outputId": "16339db8-cadb-43f9-9b21-daccd472b7c5"
      },
      "outputs": [
        {
          "output_type": "stream",
          "name": "stdout",
          "text": [
            "Hello world!\n"
          ]
        }
      ],
      "source": [
        "# this is a comment\n",
        "# you can execute this cell by hitting shift+enter\n",
        "# the output will appear immediately below\n",
        "print('Hello world!')"
      ]
    },
    {
      "cell_type": "markdown",
      "metadata": {
        "id": "UrobgZ4FfhWR"
      },
      "source": [
        "Since iPython is just an interactive shell around Python, you can define functions. For example:"
      ]
    },
    {
      "cell_type": "code",
      "execution_count": null,
      "metadata": {
        "id": "UaG3NHkffhWR",
        "colab": {
          "base_uri": "https://localhost:8080/"
        },
        "outputId": "2800b6e1-7eb4-4531-b2a9-460d234f1d21"
      },
      "outputs": [
        {
          "output_type": "execute_result",
          "data": {
            "text/plain": [
              "27"
            ]
          },
          "metadata": {},
          "execution_count": 2
        }
      ],
      "source": [
        "def cubed(x):\n",
        "    \"\"\" Return the cube of a  \n",
        "        value \"\"\"\n",
        "    return x ** 3\n",
        "\n",
        "cubed(3)"
      ]
    },
    {
      "cell_type": "markdown",
      "metadata": {
        "id": "T-VfKpiVfhWS"
      },
      "source": [
        "You can even access the filesystem with commands like `ls` or `pwd`:"
      ]
    },
    {
      "cell_type": "code",
      "execution_count": null,
      "metadata": {
        "id": "xvEh2d33fhWS",
        "colab": {
          "base_uri": "https://localhost:8080/"
        },
        "outputId": "8e316574-fc32-45f1-9433-dd9ff9b18ea5"
      },
      "outputs": [
        {
          "output_type": "stream",
          "name": "stdout",
          "text": [
            "/content\n",
            "sample_data\n"
          ]
        }
      ],
      "source": [
        "!pwd\n",
        "!ls"
      ]
    },
    {
      "cell_type": "markdown",
      "metadata": {
        "id": "ZC12PN5nfhWT"
      },
      "source": [
        "## Getting Started with Numpy and matplotlib\n",
        "\n",
        "In this part, we're going to get familiar with two important libraries -- Numpy and matplotlib.\n",
        "\n",
        "### Into to Numpy\n",
        "Since Python is an interpreted language, it might not seem like the best choice for data-intensive work. Luckily, almost all of our data workflow stack is built on top of Numpy, a Python library that adds support for large, multi-dimensional arrays and matrices, along with a large library of high-level mathematical functions to operate on these arrays."
      ]
    },
    {
      "cell_type": "code",
      "execution_count": null,
      "metadata": {
        "id": "5O6Za9UefhWU",
        "colab": {
          "base_uri": "https://localhost:8080/"
        },
        "outputId": "030683f8-0a23-4fc0-f53e-db177de97b98"
      },
      "outputs": [
        {
          "output_type": "stream",
          "name": "stdout",
          "text": [
            "Make a 4 row x 2 column matrix of random numbers\n",
            "[[0.73140983 0.79894962]\n",
            " [0.39099268 0.56307275]\n",
            " [0.95049233 0.01401797]\n",
            " [0.29611934 0.41998248]]\n",
            "\n",
            "Add 10 to every element\n",
            "[[10.73140983 10.79894962]\n",
            " [10.39099268 10.56307275]\n",
            " [10.95049233 10.01401797]\n",
            " [10.29611934 10.41998248]]\n",
            "\n",
            "Get the element at row 3, column 1\n",
            "10.419982478396676\n",
            "\n",
            "Get the first row\n",
            "[10.73140983 10.79894962]\n",
            "\n",
            "Get the first two rows\n",
            "[[10.73140983 10.79894962]\n",
            " [10.39099268 10.56307275]]\n",
            "\n"
          ]
        }
      ],
      "source": [
        "import numpy as np\n",
        "\n",
        "print(\"Make a 4 row x 2 column matrix of random numbers\")\n",
        "x = np.random.random((4, 2))\n",
        "print(x)\n",
        "print()\n",
        "\n",
        "print(\"Add 10 to every element\")\n",
        "x = x + 10\n",
        "print(x)\n",
        "print()\n",
        "\n",
        "print(\"Get the element at row 3, column 1\")\n",
        "print(x[3, 1])\n",
        "print()\n",
        "\n",
        "print(\"Get the first row\")\n",
        "print(x[0, :])\n",
        "print()\n",
        "\n",
        "print(\"Get the first two rows\")\n",
        "print(x[:2])\n",
        "print()"
      ]
    },
    {
      "cell_type": "markdown",
      "metadata": {
        "id": "Ox6b6yhOfhWU"
      },
      "source": [
        "Now, it's your turn. Find the maximum, minimum, and mean of the array. This does not require writing a loop. In the code cell below, type `x.m<TAB>`, to find built-in operations that may help you out."
      ]
    },
    {
      "cell_type": "code",
      "execution_count": null,
      "metadata": {
        "id": "M0dStGRGfhWU",
        "colab": {
          "base_uri": "https://localhost:8080/"
        },
        "outputId": "b3592fb4-238c-419f-8aa1-136f253fc9ea"
      },
      "outputs": [
        {
          "output_type": "execute_result",
          "data": {
            "text/plain": [
              "10.95049232562702"
            ]
          },
          "metadata": {},
          "execution_count": 5
        }
      ],
      "source": [
        "# your code here\n",
        "x.max()"
      ]
    },
    {
      "cell_type": "code",
      "source": [
        "x.min()"
      ],
      "metadata": {
        "colab": {
          "base_uri": "https://localhost:8080/"
        },
        "id": "SNjkPVZAEaOc",
        "outputId": "8a605b53-4d0c-47fa-e1f8-77d6a3f3bc16"
      },
      "execution_count": null,
      "outputs": [
        {
          "output_type": "execute_result",
          "data": {
            "text/plain": [
              "10.014017971540582"
            ]
          },
          "metadata": {},
          "execution_count": 6
        }
      ]
    },
    {
      "cell_type": "code",
      "source": [
        "x.mean()"
      ],
      "metadata": {
        "colab": {
          "base_uri": "https://localhost:8080/"
        },
        "id": "9SgUhq40Ecpa",
        "outputId": "777c0882-c4dc-488f-93c2-329454a491cb"
      },
      "execution_count": null,
      "outputs": [
        {
          "output_type": "execute_result",
          "data": {
            "text/plain": [
              "10.520629625170413"
            ]
          },
          "metadata": {},
          "execution_count": 7
        }
      ]
    },
    {
      "cell_type": "markdown",
      "metadata": {
        "id": "dQ4h8udCfhWV"
      },
      "source": [
        "That wasy easy! Now, let's see if you can generate 500 numbers from a uniform distribution between 0 and 10,000, inclusive. That is each random number could be 0, 1, 2, ..., 10,000 with equal chance. What is the maximum, minimum, and mean of these 500 random numbers? *Hint: take a look at np.random* "
      ]
    },
    {
      "cell_type": "code",
      "execution_count": null,
      "metadata": {
        "id": "zRhXS15bfhWV",
        "colab": {
          "base_uri": "https://localhost:8080/"
        },
        "outputId": "146d336e-8ae5-4f66-9365-8a982fedbe2b"
      },
      "outputs": [
        {
          "output_type": "stream",
          "name": "stdout",
          "text": [
            "8148\n"
          ]
        }
      ],
      "source": [
        "# your code here\n",
        "something = np.random.randint(0, high=10000)\n",
        "print(something)"
      ]
    },
    {
      "cell_type": "markdown",
      "metadata": {
        "id": "POx73VZIfhWV"
      },
      "source": [
        "### Intro to matplotlib\n",
        "The most widespread Python plotting library is matplotlib. With it, you can create graphs, charts, basic maps, and other data visualizations. Later in the semester, we'll use `seaborn`, a library built on top of matplotlib that provides even more beautiful charts.\n",
        "\n",
        "Below, we provide some simple x and y coordinates that are then plotted. You should update the plot to include:\n",
        "* a label for the x-axis (call it 'X-axis')\n",
        "* a label for the y-axis (call it 'Y-axis')\n",
        "* a label for the x, y1 curve (call it 'Alice')\n",
        "* a label for the x, y2 curve (call it 'Bob')\n",
        "* a legend in the lower right corner"
      ]
    },
    {
      "cell_type": "code",
      "execution_count": null,
      "metadata": {
        "id": "luHORxgcfhWV",
        "colab": {
          "base_uri": "https://localhost:8080/",
          "height": 296
        },
        "outputId": "8add7476-5952-4c23-82ee-c1a005db1d63"
      },
      "outputs": [
        {
          "output_type": "execute_result",
          "data": {
            "text/plain": [
              "<matplotlib.legend.Legend at 0x7f24c79b02d0>"
            ]
          },
          "metadata": {},
          "execution_count": 13
        },
        {
          "output_type": "display_data",
          "data": {
            "image/png": "[encoded data removed]",
            "text/plain": [
              "<Figure size 432x288 with 1 Axes>"
            ]
          },
          "metadata": {
            "needs_background": "light"
          }
        }
      ],
      "source": [
        "# this line prepares IPython for working with matplotlib\n",
        "%matplotlib inline  \n",
        "\n",
        "import matplotlib.pyplot as plt  \n",
        "\n",
        "x = [0, 1, 2, 3, 4]  \n",
        "y1 = [10, 12, 10, 10, 12]\n",
        "y2 = [8, 9, 9, 11, 12]\n",
        "plt.plot(x, y1, label='Alice')\n",
        "plt.plot(x, y2, label='Bob') \n",
        "# your code here (plus you may need to modify the previous two lines)\n",
        "plt.xlabel('X-axis')\n",
        "plt.ylabel('Y-axis')\n",
        "plt.legend(loc=4)"
      ]
    },
    {
      "cell_type": "markdown",
      "metadata": {
        "id": "BWdb229MfhWW"
      },
      "source": [
        "## Python Data Structures\n",
        "Here we introduce some of the popular built-in data structures in Python: list, set and dictionary.\n",
        "#### List"
      ]
    },
    {
      "cell_type": "code",
      "execution_count": null,
      "metadata": {
        "id": "-cz3pkbcfhWW",
        "colab": {
          "base_uri": "https://localhost:8080/"
        },
        "outputId": "18bba024-5322-4000-d224-02ab0fd71641"
      },
      "outputs": [
        {
          "output_type": "stream",
          "name": "stdout",
          "text": [
            "Add item 7 to the list\n",
            "[1, 5, 6, 3, 4, 0, 7]\n",
            "\n",
            "Remove item 4 from the list\n",
            "[1, 5, 6, 3, 0, 7]\n",
            "\n",
            "Insert item 3 at a position 2\n",
            "[1, 5, 3, 6, 3, 0, 7]\n",
            "\n"
          ]
        }
      ],
      "source": [
        "x=[1, 5, 6, 3, 4, 0]\n",
        "print('Add item 7 to the list')\n",
        "x.append(7)\n",
        "print(x)\n",
        "print()\n",
        "\n",
        "print('Remove item 4 from the list')\n",
        "x.remove(4)\n",
        "print(x)\n",
        "print()\n",
        "\n",
        "print('Insert item 3 at a position 2')\n",
        "x.insert(2,3)\n",
        "print(x)\n",
        "print()"
      ]
    },
    {
      "cell_type": "markdown",
      "metadata": {
        "id": "mIQUKdnlfhWW"
      },
      "source": [
        "Now, it's your turn. Sort the list and then reverse the list. In the code cell below, type x.<TAB>, to find built-in operations that may help you out."
      ]
    },
    {
      "cell_type": "code",
      "execution_count": null,
      "metadata": {
        "id": "6BSkzaX8fhWW",
        "colab": {
          "base_uri": "https://localhost:8080/"
        },
        "outputId": "52376377-3644-4841-f06c-f31167011506"
      },
      "outputs": [
        {
          "output_type": "stream",
          "name": "stdout",
          "text": [
            "[7, 6, 5, 3, 3, 1, 0]\n"
          ]
        }
      ],
      "source": [
        "#your code here\n",
        "x = sorted(x)\n",
        "x = x[::-1]\n",
        "print(x)"
      ]
    },
    {
      "cell_type": "markdown",
      "metadata": {
        "id": "q1AwAvymfhWW"
      },
      "source": [
        "#### Set \n",
        "A set is an unordered collection with no duplicate elements."
      ]
    },
    {
      "cell_type": "code",
      "execution_count": null,
      "metadata": {
        "id": "LY_ue5wpfhWX",
        "colab": {
          "base_uri": "https://localhost:8080/"
        },
        "outputId": "777accfd-3d55-4f5a-f96a-332a550117c7"
      },
      "outputs": [
        {
          "output_type": "stream",
          "name": "stdout",
          "text": [
            "{1, 2, 'a', 'c'}\n",
            "{'d', 4, 5, 'c'}\n",
            "\n",
            "Check if item a is in set s1\n",
            "True\n",
            "\n",
            "return union of s1 and s2\n",
            "{1, 2, 4, 'c', 5, 'a', 'd'}\n",
            "\n",
            "return intersection of s1 and s2\n",
            "{'c'}\n",
            "\n"
          ]
        }
      ],
      "source": [
        "s1=set([1,2,'a','c'])\n",
        "s2=set([4,5,'d','c'])\n",
        "print(s1)\n",
        "print(s2)\n",
        "print()\n",
        "\n",
        "print('Check if item a is in set s1')\n",
        "print('a' in s1)\n",
        "print()\n",
        "\n",
        "print('return union of s1 and s2')\n",
        "print(s1.union(s2))\n",
        "print()\n",
        "\n",
        "print('return intersection of s1 and s2')\n",
        "print(s1.intersection(s2))\n",
        "print()"
      ]
    },
    {
      "cell_type": "markdown",
      "metadata": {
        "id": "4pHeG_ATfhWX"
      },
      "source": [
        "Now it's your turn to try out .add(), .remove(), .issubset() and .issuperset() built-in operations and report the results. "
      ]
    },
    {
      "cell_type": "code",
      "execution_count": null,
      "metadata": {
        "id": "rjPtkfnEfhWX",
        "colab": {
          "base_uri": "https://localhost:8080/"
        },
        "outputId": "7c3e0f44-a515-42b1-e728-c18395b92bef"
      },
      "outputs": [
        {
          "output_type": "stream",
          "name": "stdout",
          "text": [
            "{1, 2, 'c', 'a', 'zx'}\n",
            "\n",
            "{4, 5, 'c'}\n",
            "\n",
            "False\n",
            "\n",
            "False\n"
          ]
        }
      ],
      "source": [
        "#your code here\n",
        "s1.add('zx')\n",
        "print(s1)\n",
        "print()\n",
        "\n",
        "s2.remove('d')\n",
        "print(s2)\n",
        "print()\n",
        "\n",
        "print(s2.issubset(s1))\n",
        "print()\n",
        "\n",
        "print(s1.issuperset(s2))"
      ]
    },
    {
      "cell_type": "markdown",
      "metadata": {
        "id": "ynz_1mYGfhWX"
      },
      "source": [
        "#### Dictionary\n",
        "Unlike sequential data structures, which are indexed by a range of numbers, dictionaries are indexed by keys, which can be any type like strings and numbers.\n"
      ]
    },
    {
      "cell_type": "code",
      "execution_count": null,
      "metadata": {
        "id": "NSYPyapkfhWX",
        "colab": {
          "base_uri": "https://localhost:8080/"
        },
        "outputId": "76288b3f-8665-456f-9694-84831746091d"
      },
      "outputs": [
        {
          "output_type": "stream",
          "name": "stdout",
          "text": [
            "{'fruit': ['apple', 'orange'], 'animal': ['cat', 'dog']}\n",
            "\n",
            "add food with value of soup\n",
            "{'fruit': ['apple', 'orange'], 'animal': ['cat', 'dog'], 'food': ['soup']}\n",
            "\n",
            "add value of banana into fruit\n",
            "{'fruit': ['apple', 'orange', 'banana'], 'animal': ['cat', 'dog'], 'food': ['soup']}\n"
          ]
        }
      ],
      "source": [
        "dic = {'fruit': ['apple', 'orange'], 'animal': ['cat', 'dog']}\n",
        "print(dic)\n",
        "print()\n",
        "\n",
        "print('add food with value of soup')\n",
        "dic['food']=['soup']\n",
        "print(dic)\n",
        "print()\n",
        "\n",
        "print('add value of banana into fruit')\n",
        "dic['fruit'].append('banana')\n",
        "print(dic)\n"
      ]
    },
    {
      "cell_type": "markdown",
      "metadata": {
        "id": "0xhF9FQwfhWX"
      },
      "source": [
        "Create a dictionary where the keys are integer numbers from 0 to 10 and the corresponding values are the square of the key value.  "
      ]
    },
    {
      "cell_type": "code",
      "execution_count": null,
      "metadata": {
        "id": "_26FZ3IifhWX",
        "colab": {
          "base_uri": "https://localhost:8080/"
        },
        "outputId": "3cfa5df1-d289-47bd-fdca-17cfa9065d22"
      },
      "outputs": [
        {
          "output_type": "stream",
          "name": "stdout",
          "text": [
            "{0: 0, 1: 1, 2: 4, 3: 9, 4: 16, 5: 25, 6: 36, 7: 49, 8: 64, 9: 81, 10: 100}\n"
          ]
        }
      ],
      "source": [
        "# your code here\n",
        "myDict = {}\n",
        "for i in range(11):\n",
        "  myDict[i] = i*i\n",
        "print(myDict)\n"
      ]
    },
    {
      "cell_type": "markdown",
      "metadata": {
        "id": "0x6yxq50fhWY"
      },
      "source": [
        "## Getting started with File Input & Output\n",
        "\n",
        "Python can easily handle reading and writing files. As far as Python is concerned, a file is just a string (often very large!) stored on your local file system, that you can read or write, gradually or all together.\n",
        "\n",
        "### Writing Files\n",
        "\n",
        "*open()* returns a file object, and is most commonly used with two arguments: *open(filename, mode)*."
      ]
    },
    {
      "cell_type": "code",
      "execution_count": null,
      "metadata": {
        "id": "ap4nZeRTfhWY"
      },
      "outputs": [],
      "source": [
        "outFile = open('sample.txt', 'w')\n",
        "outFile.write('The first line\\nThe second line\\nThe third line\\n')\n",
        "outFile.close()"
      ]
    },
    {
      "cell_type": "markdown",
      "metadata": {
        "id": "W1ELtGE8fhWY"
      },
      "source": [
        "The first line creates a file object, which links Python to your computer’s file system. The first parameter in the file constructor gives the file name, *sample.txt*. The second parameter indicates how you use the file. The 'w' is short for **w**rite. If the file already existed, the old contents are destroyed.\n",
        "\n",
        "And 'a' opens the file for **a**ppending; any data written to the file is automatically added to the end. 'r+' opens the file for both reading and writing.\n",
        "\n",
        "The *close* line is essential for Python to make sure everything is really written, and to relinquish control of the file."
      ]
    },
    {
      "cell_type": "markdown",
      "metadata": {
        "id": "TenFSov1fhWY"
      },
      "source": [
        "### Methods of File Objects\n",
        "\n",
        "To read a file’s contents, call *f.read(size)*, which reads some quantity of data and returns it as a string. *size* is an optional numeric argument. When *size* is omitted or negative, the entire contents of the file will be read and returned."
      ]
    },
    {
      "cell_type": "code",
      "execution_count": null,
      "metadata": {
        "id": "NG-8oDRhfhWY",
        "colab": {
          "base_uri": "https://localhost:8080/",
          "height": 35
        },
        "outputId": "89a51ff6-9d88-4656-e0fe-41c49202bafc"
      },
      "outputs": [
        {
          "output_type": "execute_result",
          "data": {
            "application/vnd.google.colaboratory.intrinsic+json": {
              "type": "string"
            },
            "text/plain": [
              "'The first line\\nThe second line\\nThe third line\\n'"
            ]
          },
          "metadata": {},
          "execution_count": 39
        }
      ],
      "source": [
        "outFile = open('sample.txt', 'r')\n",
        "outFile.read()"
      ]
    },
    {
      "cell_type": "markdown",
      "metadata": {
        "id": "pxGqf4DUfhWY"
      },
      "source": [
        "For reading lines from a file, you can loop over the file object. This is memory efficient, fast, and leads to simple code:"
      ]
    },
    {
      "cell_type": "code",
      "execution_count": null,
      "metadata": {
        "id": "zVp9mo8lfhWZ",
        "colab": {
          "base_uri": "https://localhost:8080/"
        },
        "outputId": "e7d06c1e-2ba4-442b-dc01-2436fae975ba"
      },
      "outputs": [
        {
          "output_type": "stream",
          "name": "stdout",
          "text": [
            "The first line\n",
            "The second line\n",
            "The third line\n"
          ]
        }
      ],
      "source": [
        "outFile = open('sample.txt', 'r')\n",
        "for line in outFile:\n",
        "    print(line, end='')"
      ]
    },
    {
      "cell_type": "markdown",
      "metadata": {
        "id": "jaq30gu7fhWZ"
      },
      "source": [
        "It is good practice to use the *with* keyword when dealing with file objects. This has the advantage that the file is properly closed after its suite finishes, even if an exception is raised on the way. It is also much shorter than writing equivalent try-finally blocks:"
      ]
    },
    {
      "cell_type": "code",
      "execution_count": null,
      "metadata": {
        "id": "vBtg6P9jfhWZ",
        "colab": {
          "base_uri": "https://localhost:8080/",
          "height": 35
        },
        "outputId": "8a232b85-1763-4a54-b63b-74c69ea60ed8"
      },
      "outputs": [
        {
          "output_type": "execute_result",
          "data": {
            "application/vnd.google.colaboratory.intrinsic+json": {
              "type": "string"
            },
            "text/plain": [
              "'The first line\\nThe second line\\nThe third line\\n'"
            ]
          },
          "metadata": {},
          "execution_count": 41
        }
      ],
      "source": [
        "with open('sample.txt', 'r') as f:\n",
        "    outFile = f.read()\n",
        "outFile"
      ]
    },
    {
      "cell_type": "code",
      "execution_count": null,
      "metadata": {
        "id": "6Ra-Q-A6fhWZ",
        "colab": {
          "base_uri": "https://localhost:8080/"
        },
        "outputId": "ec95e1b1-fee1-42d6-8560-e495926f3b06"
      },
      "outputs": [
        {
          "output_type": "execute_result",
          "data": {
            "text/plain": [
              "True"
            ]
          },
          "metadata": {},
          "execution_count": 42
        }
      ],
      "source": [
        "f.closed"
      ]
    },
    {
      "cell_type": "code",
      "execution_count": null,
      "metadata": {
        "id": "wiwK3MGcfhWZ"
      },
      "outputs": [],
      "source": [
        "with open('sample.txt', 'a') as f:\n",
        "    f.write('The fourth line\\n')"
      ]
    },
    {
      "cell_type": "code",
      "execution_count": null,
      "metadata": {
        "id": "6iOQ_Oy5fhWZ",
        "colab": {
          "base_uri": "https://localhost:8080/"
        },
        "outputId": "c89c6673-c680-4760-e543-f4bd77d4663e"
      },
      "outputs": [
        {
          "output_type": "stream",
          "name": "stdout",
          "text": [
            "['The first line\\n', 'The second line\\n', 'The third line\\n', 'The fourth line\\n']\n"
          ]
        }
      ],
      "source": [
        "with open('sample.txt', 'r') as f:\n",
        "    print(f.readlines())  # readlines – reads the entire file and returns it as a list of strings"
      ]
    },
    {
      "cell_type": "markdown",
      "metadata": {
        "id": "dZr34onIfhWZ"
      },
      "source": [
        "### Open a Remote File via URL\n",
        "\n",
        "Python can easily access the content of a webpage via its URL, and print out locally line-by-line without saving a local copy of the file. "
      ]
    },
    {
      "cell_type": "code",
      "execution_count": 3,
      "metadata": {
        "id": "_3nJSKZGfhWZ",
        "colab": {
          "base_uri": "https://localhost:8080/"
        },
        "outputId": "81008bf9-a885-4cb6-af93-81c010a4944d"
      },
      "outputs": [
        {
          "output_type": "stream",
          "name": "stdout",
          "text": [
            "<!DOCTYPE html>\n",
            "<html xmlns=\"http://www.w3.org/1999/xhtml\" class=\"no-js\" lang=\"en\">\n",
            "<head>\n",
            "    <link href=\"https://www.tamu.edu/traditions/aggie-culture/index.html\" rel=\"canonical\"/>\n",
            "\n",
            "<meta charset=\"utf-8\"/>\n",
            "<meta content=\"IE=edge\" http-equiv=\"X-UA-Compatible\"/>\n",
            "<meta content=\"width=device-width, initial-scale=1.0\" name=\"viewport\"/>\n",
            "<title>Aggie Culture | Aggie Traditions</title>\n",
            "\n",
            "\n",
            "<link href=\"../images/favicon.ico\" rel=\"shortcut icon\"/>\n",
            "<link href=\"https://fonts.googleapis.com/css?family=Open+Sans:300,400,400italic,800\" rel=\"stylesheet\" type=\"text/css\"/>\n",
            "<link href=\"https://fonts.googleapis.com/css?family=Oswald:300,400,700\" rel=\"stylesheet\" type=\"text/css\"/>\n",
            "<link href=\"../css/app3.css\" rel=\"stylesheet\" type=\"text/css\"/>\n",
            "<script src=\"../js/modernizr.js\" type=\"text/javascript\"></script>\n",
            "</head>\n",
            "<body>\n",
            "<!-- Google Tag Manager -->\n",
            "<script>(function(w,d,s,l,i){w[l]=w[l]||[];w[l].push({'gtm.start':\n",
            "new Date().getTime(),event:'gtm.js'});var f=d.getElementsByTagName(s)[0],\n",
            "j=d.createElement(s),dl=l!='dataLayer'?'&amp;l='+l:'';j.async=true;j.src=\n",
            "'//www.googletagmanager.com/gtm.js?id='+i+dl;f.parentNode.insertBefore(j,f);\n",
            "})(window,document,'script','dataLayer','GTM-53LFZF');</script>\n",
            "\n",
            "<noscript aria-hidden=\"true\"><iframe height=\"0\" src=\"//www.googletagmanager.com/ns.html?id=GTM-53LFZF\" style=\"display:none;visibility:hidden\" title=\"Google Tag Manager\" width=\"0\"></iframe></noscript>\n",
            "\n",
            "<!-- End Google Tag Manager -->\n",
            "<nav id=\"skip\">\n",
            "    <a class=\"smooth\" href=\"#timeline\">Skip to the main content</a>\n",
            "</nav>\n",
            "<div class=\"off-canvas-wrap\" data-offcanvas=\"\">\n",
            "<div class=\"inner-wrap\" role=\"navigation\">        <div class=\"nav-container\">\n",
            "          <div class=\"nav-wrap\">\n",
            "            <nav class=\"top-bar\" data-topbar=\"\">\n",
            "              <ul class=\"title-area\">\n",
            "                <li class=\"banner\">\n",
            "                  <a href=\"/traditions/\"><img alt=\"Aggie Traditions\" src=\"../images/banner.png\"/></a>\n",
            "                </li>\n",
            "                <li class=\"toggle-topbar\"><a href=\"#\"><span>Menu</span></a></li>\n",
            "              </ul>\n",
            "\n",
            "              <section class=\"top-bar-section\">\n",
            "                <ul class=\"right\">\n",
            "                  <li><a href=\"/traditions/orientation/\" id=\"orientationLink\">Orientation</a></li>\n",
            "                  <li><a href=\"/traditions/aggie-culture/\" id=\"cultureLink\">Aggie Culture</a></li>\n",
            "                  <li><a href=\"/traditions/the-corps/\" id=\"corpsLink\">The Corps</a></li>\n",
            "                  <li><a href=\"/traditions/gameday/\" id=\"gamedayLink\">Gameday</a></li>\n",
            "                  <li><a href=\"/traditions/remembrance/\" id=\"remembranceLink\">Remembrance</a></li>\n",
            "                  <li><a class=\"TAMU-logo\" href=\"http://www.tamu.edu/\"><img alt=\"Texas A&amp;M University\" src=\"../images/TAM-Logo-white-small.png\"/></a></li>\n",
            "                </ul>\n",
            "              </section>\n",
            "            </nav>\n",
            "          </div>\n",
            "        </div>\n",
            "\n",
            "        <nav class=\"tab-bar\">\n",
            "          <section class=\"right-small\">\n",
            "            <a class=\"TAMU-logo\" href=\"http://www.tamu.edu/\"><img alt=\"Texas A&amp;M University\" src=\"../images/TAM-Logo-white-small.png\"/></a>\n",
            "          </section>\n",
            "\n",
            "          <section class=\"middle tab-bar-section\">\n",
            "            <a href=\"/traditions/\"><img alt=\"Aggie Traditions\" src=\"../images/banner.png\"/></a>\n",
            "          </section>\n",
            "\n",
            "          <section class=\"left-small\">\n",
            "            <a class=\"left-off-canvas-toggle menu-icon\" href=\"#\">Menu</a>\n",
            "          </section>\n",
            "        </nav>\n",
            "\n",
            "        <aside class=\"left-off-canvas-menu\">\n",
            "          <ul class=\"off-canvas-list\">\n",
            "            <li><a href=\"/traditions/orientation/\">Orientation</a></li>\n",
            "            <li><a href=\"/traditions/aggie-culture/\">Aggie Culture</a></li>\n",
            "            <li><a href=\"/traditions/the-corps/\">The Corps</a></li>\n",
            "            <li><a href=\"/traditions/gameday/\">Gameday</a></li>\n",
            "            <li><a href=\"/traditions/remembrance/\">Remembrance</a></li>\n",
            "          </ul>\n",
            "        </aside>  \n",
            "<main>\n",
            "\n",
            "<section id=\"hero\">\n",
            "    <div class=\"hero-bg aggie-culture\"></div>\n",
            "    <div class=\"hero-content\">\n",
            "        <h1>Aggie Culture</h1>\n",
            "        <div class=\"links\">\n",
            "            <ul class=\"inline-list\">\n",
            "                            <li><a href=\"#aggie-terminology\">Aggie Terminology</a></li>\n",
            "                            <li><a href=\"#aggie-ring\">Aggie Ring</a></li>\n",
            "                            <li><a href=\"#century-tree\">Century Tree</a></li>\n",
            "                            <li><a href=\"#pennies-on-sully\">Pennies on Sully</a></li>\n",
            "                            <li><a href=\"#elephant-walk\">Elephant Walk</a></li>\n",
            "                            <li><a href=\"#reveille\">Reveille</a></li>\n",
            "                            <li><a href=\"#the-big-event\">The Big Event</a></li>\n",
            "                            <li><a href=\"#replant\">Replant</a></li>\n",
            "                        </ul>\n",
            "        </div>\n",
            "    </div>\n",
            "</section>\n",
            "\n",
            "<section id=\"timeline\">\n",
            "    <div class=\"row-bg\">\n",
            "        <div class=\"row timeline-entry\" id=\"aggie-terminology\">\n",
            "            <div class=\"timeline-header\">\n",
            "                <div class=\"inner\">\n",
            "                    <div class=\"star\"></div>\n",
            "                    <h2><span>Aggie Terminology</span></h2>\n",
            "                    <img alt=\"Two corps members shaking hands\" src=\"../images/aggie-culture/aggie-terminology.jpg\"/>\n",
            "                </div>\n",
            "            </div>\n",
            "            <div class=\"timeline-content\">\n",
            "                <div class=\"inner\">\n",
            "                <p>There are many terms and phrases that are unique to Texas A&amp;M, and you'll often hear Aggies using them when speaking to one another. These words are often rooted in history and tradition, much like the university itself.</p>\n",
            "                <a aria-label=\"Read more about Aggie Terminology\" class=\"button\" href=\"/traditions/aggie-culture/aggie-terminology/\" title=\"Read more about Aggie Terminology\">Read More <span class=\"fa fa-long-arrow-right\"></span></a>\n",
            "                </div>\n",
            "            </div>\n",
            "        </div>\n",
            "    </div>\n",
            "    <div class=\"row-bg\">\n",
            "        <div class=\"row timeline-entry\" id=\"aggie-ring\">\n",
            "            <div class=\"timeline-header\">\n",
            "                <div class=\"inner\">\n",
            "                    <div class=\"star\"></div>\n",
            "                    <h2>1889<span>Aggie Ring</span></h2>\n",
            "                    <img alt=\"Four people showing their Aggie Rings\" src=\"../images/aggie-culture/aggie-ring.jpg\"/>\n",
            "                </div>\n",
            "            </div>\n",
            "            <div class=\"timeline-content\">\n",
            "                <div class=\"inner\">\n",
            "                <p>The Aggie Ring is the most recognizable symbol of the Aggie Network, creating an instant connection between Aggies long after they leave the university.</p>\n",
            "                <a aria-label=\"Read more about Aggie Ring\" class=\"button\" href=\"/traditions/aggie-culture/aggie-ring/\" title=\"Read more about Aggie Ring\">Read More <span class=\"fa fa-long-arrow-right\"></span></a>\n",
            "                </div>\n",
            "            </div>\n",
            "        </div>\n",
            "    </div>\n",
            "    <div class=\"row-bg\">\n",
            "        <div class=\"row timeline-entry\" id=\"century-tree\">\n",
            "            <div class=\"timeline-header\">\n",
            "                <div class=\"inner\">\n",
            "                    <div class=\"star\"></div>\n",
            "                    <h2><span>Century Tree</span></h2>\n",
            "                    <img alt=\"The Century Tree\" src=\"../images/aggie-culture/century-tree.jpg\"/>\n",
            "                </div>\n",
            "            </div>\n",
            "            <div class=\"timeline-content\">\n",
            "                <div class=\"inner\">\n",
            "                <p>At over 100 years old, the Century Tree has grown along with the university over the decades.</p>\n",
            "                <a aria-label=\"Read more about Century Tree\" class=\"button\" href=\"/traditions/aggie-culture/century-tree/\" title=\"Read more about Century Tree\">Read More <span class=\"fa fa-long-arrow-right\"></span></a>\n",
            "                </div>\n",
            "            </div>\n",
            "        </div>\n",
            "    </div>\n",
            "    <div class=\"row-bg\">\n",
            "        <div class=\"row timeline-entry\" id=\"pennies-on-sully\">\n",
            "            <div class=\"timeline-header\">\n",
            "                <div class=\"inner\">\n",
            "                    <div class=\"star\"></div>\n",
            "                    <h2>1918<span>Pennies on Sully</span></h2>\n",
            "                    <img alt=\"Pennies on the foot of the Sul Ross statue\" src=\"../images/aggie-culture/pennies-on-sully.jpg\"/>\n",
            "                </div>\n",
            "            </div>\n",
            "            <div class=\"timeline-content\">\n",
            "                <div class=\"inner\">\n",
            "                <p>Placing pennies at the base of the Sul Ross statue on campus just might give an Aggie the extra luck he or she needs to ace an upcoming exam.</p>\n",
            "                <a aria-label=\"Read more about Pennies on Sully\" class=\"button\" href=\"/traditions/aggie-culture/pennies-on-sully/\" title=\"Read more about Pennies on Sully\">Read More <span class=\"fa fa-long-arrow-right\"></span></a>\n",
            "                </div>\n",
            "            </div>\n",
            "        </div>\n",
            "    </div>\n",
            "    <div class=\"row-bg\">\n",
            "        <div class=\"row timeline-entry\" id=\"elephant-walk\">\n",
            "            <div class=\"timeline-header\">\n",
            "                <div class=\"inner\">\n",
            "                    <div class=\"star\"></div>\n",
            "                    <h2>1926<span>Elephant Walk</span></h2>\n",
            "                    <img alt=\"Crowd gathered in front of YMCA building\" src=\"../images/aggie-culture/elephant-walk.jpg\"/>\n",
            "                </div>\n",
            "            </div>\n",
            "            <div class=\"timeline-content\">\n",
            "                <div class=\"inner\">\n",
            "                <p>This tradition, which brings the senior class together for a symbolic walk through campus, is one of the oldest at Texas A&amp;M.</p>\n",
            "                <a aria-label=\"Read more about Elephant Walk\" class=\"button\" href=\"/traditions/aggie-culture/elephant-walk/\" title=\"Read more about Elephant Walk\">Read More <span class=\"fa fa-long-arrow-right\"></span></a>\n",
            "                </div>\n",
            "            </div>\n",
            "        </div>\n",
            "    </div>\n",
            "    <div class=\"row-bg\">\n",
            "        <div class=\"row timeline-entry\" id=\"reveille\">\n",
            "            <div class=\"timeline-header\">\n",
            "                <div class=\"inner\">\n",
            "                    <div class=\"star\"></div>\n",
            "                    <h2>1931<span>Reveille</span></h2>\n",
            "                    <img alt=\"Reveille\" src=\"../images/aggie-culture/reveille-x-traditions.jpg\"/>\n",
            "                </div>\n",
            "            </div>\n",
            "            <div class=\"timeline-content\">\n",
            "                <div class=\"inner\">\n",
            "                <p>Reveille is the official mascot of Texas A&amp;M, and she can often be seen on campus in class or attending events.</p>\n",
            "                <a aria-label=\"Read more about Reveille\" class=\"button\" href=\"/traditions/aggie-culture/reveille/\" title=\"Read more about Reveille\">Read More <span class=\"fa fa-long-arrow-right\"></span></a>\n",
            "                </div>\n",
            "            </div>\n",
            "        </div>\n",
            "    </div>\n",
            "    <div class=\"row-bg\">\n",
            "        <div class=\"row timeline-entry\" id=\"the-big-event\">\n",
            "            <div class=\"timeline-header\">\n",
            "                <div class=\"inner\">\n",
            "                    <div class=\"star\"></div>\n",
            "                    <h2>1982<span>The Big Event</span></h2>\n",
            "                    <img alt=\"Two people raking leaves at The Big Event\" src=\"../images/aggie-culture/the-big-event.jpg\"/>\n",
            "                </div>\n",
            "            </div>\n",
            "            <div class=\"timeline-content\">\n",
            "                <div class=\"inner\">\n",
            "                <p>This unique tradition is the largest one-day student-run service project in the United States.</p>\n",
            "                <a aria-label=\"Read more about The Big Event\" class=\"button\" href=\"/traditions/aggie-culture/the-big-event/\" title=\"Read more about The Big Event\">Read More <span class=\"fa fa-long-arrow-right\"></span></a>\n",
            "                </div>\n",
            "            </div>\n",
            "        </div>\n",
            "    </div>\n",
            "    <div class=\"row-bg\">\n",
            "        <div class=\"row timeline-entry\" id=\"replant\">\n",
            "            <div class=\"timeline-header\">\n",
            "                <div class=\"inner\">\n",
            "                    <div class=\"star\"></div>\n",
            "                    <h2>1991<span>Replant</span></h2>\n",
            "                    <img alt=\"A tree being planted during Replant\" src=\"../images/aggie-culture/replant.jpg\"/>\n",
            "                </div>\n",
            "            </div>\n",
            "            <div class=\"timeline-content\">\n",
            "                <div class=\"inner\">\n",
            "                <p>Each year, Aggies help plant hundreds of trees at local parks and schools.</p>\n",
            "                <a aria-label=\"Read more about Replant\" class=\"button\" href=\"/traditions/aggie-culture/replant/\" title=\"Read more about Replant\">Read More <span class=\"fa fa-long-arrow-right\"></span></a>\n",
            "                </div>\n",
            "            </div>\n",
            "        </div>\n",
            "    </div>\n",
            "</section>\n",
            "</main>\n",
            "<footer>\n",
            "  <div class=\"top-links\">\n",
            "    <div class=\"footer-layout\">\n",
            "      <div class=\"footer-img text-center\"><a href=\"http://www.tamu.edu/\"><img alt=\"Texas A&amp;M University\" src=\"../images/primary-mark.png\"/></a></div>\n",
            "      <div class=\"footer-content\">\n",
            "        <ul class=\"inline-list\">\n",
            "          <li>© 2022 Texas A&amp;M University</li>\n",
            "          <li><a href=\"https://www.google.com/maps/place/Texas+A%26M+University/@30.614919,-96.342316,17z/data=!3m1!4b1!4m2!3m1!1s0x864683a30a9a7c41:0xdb2904a4a0fbd02?hl=en\">College Station, Texas 77843</a></li>\n",
            "          <li><a href=\"https://www.tamu.edu/statements/index.html\">Site Policies</a></li>\n",
            "        </ul>\n",
            "        <ul class=\"inline-list\">\n",
            "          <li><a href=\"https://www.tamug.edu/\">Texas A&amp;M at Galveston</a></li>\n",
            "          <li><a href=\"https://www.qatar.tamu.edu/\">Texas A&amp;M at Qatar</a></li>\n",
            "          <li><a href=\"https://www.tamus.edu/system/about/\">Texas A&amp;M System Campuses</a></li>\n",
            "        </ul>\n",
            "        <a class=\"button white-button show-for-small smooth\" href=\"#skip\">Go to top</a>\n",
            "      </div>\n",
            "    </div>\n",
            "  </div>\n",
            "</footer>  \n",
            "<a class=\"exit-off-canvas\"></a></div>\n",
            "</div>\n",
            "<script src=\"../js/jquery.js\" type=\"text/javascript\"></script>\n",
            "<script src=\"../js/app.js\" type=\"text/javascript\"></script>\n",
            "</body>\n",
            "</html>\n"
          ]
        },
        {
          "output_type": "stream",
          "name": "stderr",
          "text": [
            "/usr/local/lib/python3.7/dist-packages/urllib3/connectionpool.py:847: InsecureRequestWarning: Unverified HTTPS request is being made. Adding certificate verification is strongly advised. See: https://urllib3.readthedocs.io/en/latest/advanced-usage.html#ssl-warnings\n",
            "  InsecureRequestWarning)\n"
          ]
        }
      ],
      "source": [
        "import urllib3  # the lib that handles the url stuff\n",
        "\n",
        "url = \"https://www.tamu.edu/traditions/aggie-culture/\"\n",
        "\n",
        "# your code here: open the url. Hint: take a look at urllib3.PoolManager\n",
        "manager = urllib3.PoolManager(num_pools=2)\n",
        "r = manager.urlopen('GET',url)\n",
        "# your code here: now print out each line\n",
        "print(r.data.decode('utf-8'))"
      ]
    },
    {
      "cell_type": "code",
      "source": [
        "from bs4 import BeautifulSoup\n",
        "\n",
        "soup = BeautifulSoup(r.data.decode('utf-8'), \"html.parser\")\n",
        "data = soup.getText()"
      ],
      "metadata": {
        "id": "-YDqFndsWB6f"
      },
      "execution_count": 7,
      "outputs": []
    },
    {
      "cell_type": "markdown",
      "metadata": {
        "id": "mRBLzLFlfhWa"
      },
      "source": [
        "## Counting Word Frequency\n",
        "\n",
        "One of the most fundamental tasks in many text-based data mining activities is to count the frequency of each word in a document.\n",
        "\n",
        "In the following example, we start with a string and split it into a list. We then create an (initially empty) list called *wordfreq*, go through each word in the *wordlist*, and count the number of times that word appears in the whole list. We then add each word’s count to our wordfreq list. Using the *zip* operation, we are able to match the first word of the word list with the first number in the frequency list, the second word and second frequency, and so on. We end up with a list of word and frequency pairs. The *str* function converts any object to a string so that it can be printed."
      ]
    },
    {
      "cell_type": "code",
      "execution_count": null,
      "metadata": {
        "id": "XsPSj2hPfhWa",
        "colab": {
          "base_uri": "https://localhost:8080/"
        },
        "outputId": "d03edf67-07b8-4651-80a4-489c87e8d037"
      },
      "outputs": [
        {
          "output_type": "stream",
          "name": "stdout",
          "text": [
            "String\n",
            "it was the best of times it was the worst of times it was the age of wisdom it was the age of foolishness\n",
            "\n",
            "List\n",
            "['it', 'was', 'the', 'best', 'of', 'times', 'it', 'was', 'the', 'worst', 'of', 'times', 'it', 'was', 'the', 'age', 'of', 'wisdom', 'it', 'was', 'the', 'age', 'of', 'foolishness']\n",
            "\n",
            "Frequencies\n",
            "[4, 4, 4, 1, 4, 2, 4, 4, 4, 1, 4, 2, 4, 4, 4, 2, 4, 1, 4, 4, 4, 2, 4, 1]\n",
            "\n",
            "Pairs\n",
            "{'it': 4, 'was': 4, 'the': 4, 'best': 1, 'of': 4, 'times': 2, 'worst': 1, 'age': 2, 'wisdom': 1, 'foolishness': 1}\n"
          ]
        }
      ],
      "source": [
        "wordstring = 'it was the best of times it was the worst of times '\n",
        "wordstring += 'it was the age of wisdom it was the age of foolishness'\n",
        "\n",
        "wordlist = wordstring.split()\n",
        "\n",
        "wordfreq = []\n",
        "for w in wordlist:\n",
        "    wordfreq.append(wordlist.count(w))\n",
        "\n",
        "print(\"String\\n\" + wordstring +\"\\n\")\n",
        "print(\"List\\n\" + str(wordlist) + \"\\n\")\n",
        "print(\"Frequencies\\n\" + str(wordfreq) + \"\\n\")\n",
        "print(\"Pairs\\n\" + str(dict(zip(wordlist, wordfreq))))"
      ]
    },
    {
      "cell_type": "markdown",
      "metadata": {
        "id": "wMw5HXqpfhWa"
      },
      "source": [
        "Now, your job is to open up the url we mentioned a few cells above. Then output the word-frequency pairs in that url, sorted in order of descending frequency. In the case of ours Dickens example here, the output would look something like: [('of', 4), ('it', 4), ('the', 4), ('was', 4), ('age', 2), ('times', 2), ('foolishness', 1), ('worst', 1), ('wisdom', 1), ('best', 1)].\n",
        "\n",
        "Your job is to output a the word-frequency pairs for the url."
      ]
    },
    {
      "cell_type": "code",
      "execution_count": 8,
      "metadata": {
        "id": "Elom_wrDfhWa"
      },
      "outputs": [],
      "source": [
        "# your code here\n",
        "import re\n",
        "WordList = data.split()\n",
        "\n",
        "WordFreq = []\n",
        "unique_words = set(WordList)\n",
        "\n",
        "for WL in unique_words:\n",
        "    WordFreq.append(WordList.count(WL))\n",
        "\n",
        "WordList_unique = list(unique_words)"
      ]
    },
    {
      "cell_type": "code",
      "source": [
        "WordFreq, WordList_unique  = (list(t) for t in zip(*sorted(zip(WordFreq, WordList_unique),reverse=True)))"
      ],
      "metadata": {
        "id": "xxFPIkbGkekC"
      },
      "execution_count": 9,
      "outputs": []
    },
    {
      "cell_type": "code",
      "source": [
        "for i in range(len(WordFreq)):\n",
        "  print(str(WordList_unique[i]) +\":\"+ str(WordFreq[i]))"
      ],
      "metadata": {
        "colab": {
          "base_uri": "https://localhost:8080/"
        },
        "id": "xAFmZGx3thCd",
        "outputId": "bfc9ebf4-ff65-4ed9-dd08-67f438d947c7"
      },
      "execution_count": 10,
      "outputs": [
        {
          "output_type": "stream",
          "name": "stdout",
          "text": [
            "the:16\n",
            "Aggie:11\n",
            "Texas:8\n",
            "Read:8\n",
            "More:8\n",
            "to:5\n",
            "of:5\n",
            "at:5\n",
            "and:5\n",
            "on:4\n",
            "is:4\n",
            "The:4\n",
            "Culture:4\n",
            "A&M:4\n",
            "often:3\n",
            "in:3\n",
            "are:3\n",
            "an:3\n",
            "Tree:3\n",
            "Ring:3\n",
            "Century:3\n",
            "Aggies:3\n",
            "university:2\n",
            "unique:2\n",
            "tradition,:2\n",
            "she:2\n",
            "over:2\n",
            "or:2\n",
            "one:2\n",
            "class:2\n",
            "campus:2\n",
            "Walk:2\n",
            "This:2\n",
            "Terminology:2\n",
            "Sully:2\n",
            "Reveille:2\n",
            "Remembrance:2\n",
            "Orientation:2\n",
            "Menu:2\n",
            "Gameday:2\n",
            "Event:2\n",
            "Corps:2\n",
            "Big:2\n",
            "A&M,:2\n",
            "©:1\n",
            "})(window,document,'script','dataLayer','GTM-53LFZF');:1\n",
            "|:1\n",
            "you'll:1\n",
            "years:1\n",
            "year,:1\n",
            "words:1\n",
            "with:1\n",
            "which:1\n",
            "when:1\n",
            "walk:1\n",
            "using:1\n",
            "upcoming:1\n",
            "university.:1\n",
            "trees:1\n",
            "tradition:1\n",
            "top:1\n",
            "together:1\n",
            "through:1\n",
            "they:1\n",
            "them:1\n",
            "that:1\n",
            "terms:1\n",
            "symbolic:1\n",
            "symbol:1\n",
            "student-run:1\n",
            "statue:1\n",
            "speaking:1\n",
            "service:1\n",
            "senior:1\n",
            "seen:1\n",
            "schools.:1\n",
            "rooted:1\n",
            "recognizable:1\n",
            "project:1\n",
            "plant:1\n",
            "phrases:1\n",
            "pennies:1\n",
            "parks:1\n",
            "one-day:1\n",
            "oldest:1\n",
            "old,:1\n",
            "official:1\n",
            "new:1\n",
            "needs:1\n",
            "much:1\n",
            "most:1\n",
            "might:1\n",
            "mascot:1\n",
            "many:1\n",
            "main:1\n",
            "luck:1\n",
            "long:1\n",
            "local:1\n",
            "like:1\n",
            "leave:1\n",
            "largest:1\n",
            "just:1\n",
            "j=d.createElement(s),dl=l!='dataLayer'?'&amp;l='+l:'';j.async=true;j.src=:1\n",
            "itself.:1\n",
            "instant:1\n",
            "hundreds:1\n",
            "history:1\n",
            "help:1\n",
            "hear:1\n",
            "he:1\n",
            "has:1\n",
            "grown:1\n",
            "give:1\n",
            "for:1\n",
            "f=d.getElementsByTagName(s)[0],:1\n",
            "extra:1\n",
            "exam.:1\n",
            "events.:1\n",
            "decades.:1\n",
            "creating:1\n",
            "content:1\n",
            "connection:1\n",
            "can:1\n",
            "campus,:1\n",
            "brings:1\n",
            "between:1\n",
            "be:1\n",
            "base:1\n",
            "attending:1\n",
            "another.:1\n",
            "along:1\n",
            "after:1\n",
            "ace:1\n",
            "a:1\n",
            "University:1\n",
            "United:1\n",
            "Traditions:1\n",
            "These:1\n",
            "There:1\n",
            "System:1\n",
            "Sul:1\n",
            "Station,:1\n",
            "States.:1\n",
            "Skip:1\n",
            "Site:1\n",
            "Ross:1\n",
            "Replant:1\n",
            "Qatar:1\n",
            "Policies:1\n",
            "Placing:1\n",
            "Pennies:1\n",
            "Network,:1\n",
            "Go:1\n",
            "Galveston:1\n",
            "Elephant:1\n",
            "Each:1\n",
            "Date().getTime(),event:'gtm.js'});var:1\n",
            "College:1\n",
            "Campuses:1\n",
            "At:1\n",
            "A&M.:1\n",
            "77843:1\n",
            "2022:1\n",
            "1991Replant:1\n",
            "1982The:1\n",
            "1931Reveille:1\n",
            "1926Elephant:1\n",
            "1918Pennies:1\n",
            "1889Aggie:1\n",
            "100:1\n",
            "(function(w,d,s,l,i){w[l]=w[l]||[];w[l].push({'gtm.start'::1\n",
            "'//www.googletagmanager.com/gtm.js?id='+i+dl;f.parentNode.insertBefore(j,f);:1\n"
          ]
        }
      ]
    },
    {
      "cell_type": "code",
      "source": [
        ""
      ],
      "metadata": {
        "id": "BXGQRZahtnE9"
      },
      "execution_count": null,
      "outputs": []
    }
  ],
  "metadata": {
    "anaconda-cloud": {},
    "kernelspec": {
      "display_name": "Python 3",
      "language": "python",
      "name": "python3"
    },
    "language_info": {
      "codemirror_mode": {
        "name": "ipython",
        "version": 3
      },
      "file_extension": ".py",
      "mimetype": "text/x-python",
      "name": "python",
      "nbconvert_exporter": "python",
      "pygments_lexer": "ipython3",
      "version": "3.8.8"
    },
    "colab": {
      "name": "homework_0.ipynb",
      "provenance": [],
      "collapsed_sections": []
    }
  },
  "nbformat": 4,
  "nbformat_minor": 0
}