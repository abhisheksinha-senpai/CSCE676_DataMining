{
  "cells": [
    {
      "cell_type": "markdown",
      "metadata": {
        "id": "jHaAX6XIJR9j"
      },
      "source": [
        "## CSCE 676 :: Data Mining and Analysis :: Texas A&M University :: Spring 2022\n",
        "\n",
        "\n",
        "# Homework 3\n",
        "\n",
        "- **100 points [7% of your final grade]**\n",
        "- **Due April 10, 2022 by 11:59pm**\n",
        "\n",
        "*Goals of this homework:* In this homework, you will investigate data visualization and the foundations of recommendation.\n",
        "\n",
        "\n",
        "\n",
        "*Submission instructions:* This homework is a bit different from the previous ones. For the visualizatin component, you will post to Campuswire. See below for details. For the recommendation component, rename this notebook as `UIN_hw3.ipynb`. For example, if your UIN is `123456789`, then your homework submission would be `123456789_hw2.ipynb`. Submit this notebook via Canvas. Your notebook should be completely self-contained, with the results visible in the notebook. We should not have to run any code from the command line, nor should we have to run your code within the notebook (though we reserve the right to do so). So please run all the cells for us, and then submit. \n",
        "\n",
        "*Late policy:* No late days for the data visualization. For the recommendaiton, you may use up to three of your late days. No homeworks will be accepted after April 13 11:59pm."
      ]
    },
    {
      "cell_type": "markdown",
      "metadata": {
        "id": "37SaWm5NyuL8"
      },
      "source": [
        "## Collaboration Declaration:\n",
        "\n",
        "***You must add all of your collaboration declarations here. Who did you talk to about this assignment? What web resources did you use? Etc.***\n",
        "\n",
        "For example:\n",
        "* Part 3a: I talked to Amy about how to split the data randomly. She helped me understand that I needed to use a random number generator.\n",
        "* Part 3b: I needed help on how to comment my code, so I relied on this StackOverflow thread: https://stackoverflow.com/questions/184618/what-is-the-best-comment-in-source-code-you-have-ever-encountered\n",
        "* (Replace this bullet list with your own collaboration declarations.)\n"
      ]
    },
    {
      "cell_type": "markdown",
      "metadata": {
        "id": "Bvb4mxbhJR9l"
      },
      "source": [
        "## (30 points) Part 1: Data Visualization (submit to Campuswire, no late days)\n",
        "\n",
        "For this first part, you will create a data visualization based on an exploration of a dataset we provide. Your visualization should capture Tufte's principles of graphical excellence: \"complex ideas communicated with clarity, precision, and efficiency.\"\n",
        "\n",
        "### The Data\n",
        "You must choose one of the following datasets:\n",
        "\n",
        "* Police Shootings: The Washington Post's database contains records of every fatal shooting in the United States by a police officer in the line of duty since Jan. 1, 2015\n",
        "    * [data](https://github.com/washingtonpost/data-police-shootings)\n",
        "    * [website](https://www.washingtonpost.com/graphics/investigations/police-shootings-database/) (including some example charts)\n",
        "\n",
        "* Bike Sharing: This dataset contains the hourly and daily count of rental bikes between years 2011 and 2012 in Capital bikeshare system with the corresponding weather and seasonal information.\n",
        "    * [data](https://archive.ics.uci.edu/ml/datasets/bike+sharing+dataset)\n",
        "\n",
        "* Tennis Time: A dataset of tennis players and how much time they take.\n",
        "    * [data](https://github.com/fivethirtyeight/data/tree/master/tennis-time)\n",
        "    * [article](https://fivethirtyeight.com/features/why-some-tennis-matches-take-forever/)\n",
        "\n",
        "### Your Goal\n",
        "1. Identify an interesting story or insight from this data\n",
        "2. Carefully design a data visualization that communicates this story.\n",
        "\n",
        "You may assume that your audience is the **general public.**\n",
        "\n",
        "You may clean, manipulate, and transform the data as you like. You are free to use external data from whatever sources you like. (But be sure to cite them!). Feel free to use as little or as much data as you like, so long as the story (and associated data visualization are compelling). \n",
        "\n",
        "\n",
        "### What to Submit\n",
        "\n",
        "Utimately you should produce:\n",
        "\n",
        "\n",
        "1. A single image (e.g., PNG, PDF, JPG) that effectively communicates the data. You must use a Python visualization toolkit as your key tool, but you are welcome to augment with other tools if you like (e.g., Photoshop, MS Paint, GIMP). For Python viz tools, you may use matplotlib, plotly, seaborn, geoplotlib, bokeh, networkx, or whatever else you can find.\n",
        "    \n",
        "2. A brief explanation describing your design. (a few paragraphs, 1/2 page or so).\n",
        "\n",
        "Your explanation should justify the design choices you have made. \n",
        "\n",
        "* Why did you choose the particular visualization type? \n",
        "* What motivated your choice of size, color,\n",
        "and scale? \n",
        "* Why are they appropriate for what you are trying to communicate?\n",
        "* Additionally, your explanation should document:\n",
        "    * What you are trying to\n",
        "communicate\n",
        "    * The benefits of your choice of visualization\n",
        "    * As well as any downsides\n",
        "to your viz (e.g., are certain connections downplayed due to your choices?).\n",
        "\n",
        "### How to Submit\n",
        "You should post your image + explanation to Campuswire by April 10 (no late days)."
      ]
    },
    {
      "cell_type": "code",
      "execution_count": 33,
      "metadata": {
        "colab": {
          "base_uri": "https://localhost:8080/",
          "height": 337
        },
        "id": "KHolG4fw9Dpd",
        "outputId": "293ee23c-06cb-48a3-8f3e-9a587831dbf5"
      },
      "outputs": [
        {
          "output_type": "execute_result",
          "data": {
            "text/plain": [
              "   id                name        date   manner_of_death       armed   age  \\\n",
              "0   3          Tim Elliot  2015-01-02              shot         gun  53.0   \n",
              "1   4    Lewis Lee Lembke  2015-01-02              shot         gun  47.0   \n",
              "2   5  John Paul Quintero  2015-01-03  shot and Tasered     unarmed  23.0   \n",
              "3   8     Matthew Hoffman  2015-01-04              shot  toy weapon  32.0   \n",
              "4   9   Michael Rodriguez  2015-01-04              shot    nail gun  39.0   \n",
              "\n",
              "  gender race           city state  signs_of_mental_illness threat_level  \\\n",
              "0      M    A        Shelton    WA                     True       attack   \n",
              "1      M    W          Aloha    OR                    False       attack   \n",
              "2      M    H        Wichita    KS                    False        other   \n",
              "3      M    W  San Francisco    CA                     True       attack   \n",
              "4      M    H          Evans    CO                    False       attack   \n",
              "\n",
              "          flee  body_camera  longitude  latitude  is_geocoding_exact  \n",
              "0  Not fleeing        False   -123.122    47.247                True  \n",
              "1  Not fleeing        False   -122.892    45.487                True  \n",
              "2  Not fleeing        False    -97.281    37.695                True  \n",
              "3  Not fleeing        False   -122.422    37.763                True  \n",
              "4  Not fleeing        False   -104.692    40.384                True  "
            ],
            "text/html": [
              "\n",
              "  <div id=\"df-234b6b80-38b5-499f-9194-f006d7b6db7c\">\n",
              "    <div class=\"colab-df-container\">\n",
              "      <div>\n",
              "<style scoped>\n",
              "    .dataframe tbody tr th:only-of-type {\n",
              "        vertical-align: middle;\n",
              "    }\n",
              "\n",
              "    .dataframe tbody tr th {\n",
              "        vertical-align: top;\n",
              "    }\n",
              "\n",
              "    .dataframe thead th {\n",
              "        text-align: right;\n",
              "    }\n",
              "</style>\n",
              "<table border=\"1\" class=\"dataframe\">\n",
              "  <thead>\n",
              "    <tr style=\"text-align: right;\">\n",
              "      <th></th>\n",
              "      <th>id</th>\n",
              "      <th>name</th>\n",
              "      <th>date</th>\n",
              "      <th>manner_of_death</th>\n",
              "      <th>armed</th>\n",
              "      <th>age</th>\n",
              "      <th>gender</th>\n",
              "      <th>race</th>\n",
              "      <th>city</th>\n",
              "      <th>state</th>\n",
              "      <th>signs_of_mental_illness</th>\n",
              "      <th>threat_level</th>\n",
              "      <th>flee</th>\n",
              "      <th>body_camera</th>\n",
              "      <th>longitude</th>\n",
              "      <th>latitude</th>\n",
              "      <th>is_geocoding_exact</th>\n",
              "    </tr>\n",
              "  </thead>\n",
              "  <tbody>\n",
              "    <tr>\n",
              "      <th>0</th>\n",
              "      <td>3</td>\n",
              "      <td>Tim Elliot</td>\n",
              "      <td>2015-01-02</td>\n",
              "      <td>shot</td>\n",
              "      <td>gun</td>\n",
              "      <td>53.0</td>\n",
              "      <td>M</td>\n",
              "      <td>A</td>\n",
              "      <td>Shelton</td>\n",
              "      <td>WA</td>\n",
              "      <td>True</td>\n",
              "      <td>attack</td>\n",
              "      <td>Not fleeing</td>\n",
              "      <td>False</td>\n",
              "      <td>-123.122</td>\n",
              "      <td>47.247</td>\n",
              "      <td>True</td>\n",
              "    </tr>\n",
              "    <tr>\n",
              "      <th>1</th>\n",
              "      <td>4</td>\n",
              "      <td>Lewis Lee Lembke</td>\n",
              "      <td>2015-01-02</td>\n",
              "      <td>shot</td>\n",
              "      <td>gun</td>\n",
              "      <td>47.0</td>\n",
              "      <td>M</td>\n",
              "      <td>W</td>\n",
              "      <td>Aloha</td>\n",
              "      <td>OR</td>\n",
              "      <td>False</td>\n",
              "      <td>attack</td>\n",
              "      <td>Not fleeing</td>\n",
              "      <td>False</td>\n",
              "      <td>-122.892</td>\n",
              "      <td>45.487</td>\n",
              "      <td>True</td>\n",
              "    </tr>\n",
              "    <tr>\n",
              "      <th>2</th>\n",
              "      <td>5</td>\n",
              "      <td>John Paul Quintero</td>\n",
              "      <td>2015-01-03</td>\n",
              "      <td>shot and Tasered</td>\n",
              "      <td>unarmed</td>\n",
              "      <td>23.0</td>\n",
              "      <td>M</td>\n",
              "      <td>H</td>\n",
              "      <td>Wichita</td>\n",
              "      <td>KS</td>\n",
              "      <td>False</td>\n",
              "      <td>other</td>\n",
              "      <td>Not fleeing</td>\n",
              "      <td>False</td>\n",
              "      <td>-97.281</td>\n",
              "      <td>37.695</td>\n",
              "      <td>True</td>\n",
              "    </tr>\n",
              "    <tr>\n",
              "      <th>3</th>\n",
              "      <td>8</td>\n",
              "      <td>Matthew Hoffman</td>\n",
              "      <td>2015-01-04</td>\n",
              "      <td>shot</td>\n",
              "      <td>toy weapon</td>\n",
              "      <td>32.0</td>\n",
              "      <td>M</td>\n",
              "      <td>W</td>\n",
              "      <td>San Francisco</td>\n",
              "      <td>CA</td>\n",
              "      <td>True</td>\n",
              "      <td>attack</td>\n",
              "      <td>Not fleeing</td>\n",
              "      <td>False</td>\n",
              "      <td>-122.422</td>\n",
              "      <td>37.763</td>\n",
              "      <td>True</td>\n",
              "    </tr>\n",
              "    <tr>\n",
              "      <th>4</th>\n",
              "      <td>9</td>\n",
              "      <td>Michael Rodriguez</td>\n",
              "      <td>2015-01-04</td>\n",
              "      <td>shot</td>\n",
              "      <td>nail gun</td>\n",
              "      <td>39.0</td>\n",
              "      <td>M</td>\n",
              "      <td>H</td>\n",
              "      <td>Evans</td>\n",
              "      <td>CO</td>\n",
              "      <td>False</td>\n",
              "      <td>attack</td>\n",
              "      <td>Not fleeing</td>\n",
              "      <td>False</td>\n",
              "      <td>-104.692</td>\n",
              "      <td>40.384</td>\n",
              "      <td>True</td>\n",
              "    </tr>\n",
              "  </tbody>\n",
              "</table>\n",
              "</div>\n",
              "      <button class=\"colab-df-convert\" onclick=\"convertToInteractive('df-234b6b80-38b5-499f-9194-f006d7b6db7c')\"\n",
              "              title=\"Convert this dataframe to an interactive table.\"\n",
              "              style=\"display:none;\">\n",
              "        \n",
              "  <svg xmlns=\"http://www.w3.org/2000/svg\" height=\"24px\"viewBox=\"0 0 24 24\"\n",
              "       width=\"24px\">\n",
              "    <path d=\"M0 0h24v24H0V0z\" fill=\"none\"/>\n",
              "    <path d=\"M18.56 5.44l.94 2.06.94-2.06 2.06-.94-2.06-.94-.94-2.06-.94 2.06-2.06.94zm-11 1L8.5 8.5l.94-2.06 2.06-.94-2.06-.94L8.5 2.5l-.94 2.06-2.06.94zm10 10l.94 2.06.94-2.06 2.06-.94-2.06-.94-.94-2.06-.94 2.06-2.06.94z\"/><path d=\"M17.41 7.96l-1.37-1.37c-.4-.4-.92-.59-1.43-.59-.52 0-1.04.2-1.43.59L10.3 9.45l-7.72 7.72c-.78.78-.78 2.05 0 2.83L4 21.41c.39.39.9.59 1.41.59.51 0 1.02-.2 1.41-.59l7.78-7.78 2.81-2.81c.8-.78.8-2.07 0-2.86zM5.41 20L4 18.59l7.72-7.72 1.47 1.35L5.41 20z\"/>\n",
              "  </svg>\n",
              "      </button>\n",
              "      \n",
              "  <style>\n",
              "    .colab-df-container {\n",
              "      display:flex;\n",
              "      flex-wrap:wrap;\n",
              "      gap: 12px;\n",
              "    }\n",
              "\n",
              "    .colab-df-convert {\n",
              "      background-color: #E8F0FE;\n",
              "      border: none;\n",
              "      border-radius: 50%;\n",
              "      cursor: pointer;\n",
              "      display: none;\n",
              "      fill: #1967D2;\n",
              "      height: 32px;\n",
              "      padding: 0 0 0 0;\n",
              "      width: 32px;\n",
              "    }\n",
              "\n",
              "    .colab-df-convert:hover {\n",
              "      background-color: #E2EBFA;\n",
              "      box-shadow: 0px 1px 2px rgba(60, 64, 67, 0.3), 0px 1px 3px 1px rgba(60, 64, 67, 0.15);\n",
              "      fill: #174EA6;\n",
              "    }\n",
              "\n",
              "    [theme=dark] .colab-df-convert {\n",
              "      background-color: #3B4455;\n",
              "      fill: #D2E3FC;\n",
              "    }\n",
              "\n",
              "    [theme=dark] .colab-df-convert:hover {\n",
              "      background-color: #434B5C;\n",
              "      box-shadow: 0px 1px 3px 1px rgba(0, 0, 0, 0.15);\n",
              "      filter: drop-shadow(0px 1px 2px rgba(0, 0, 0, 0.3));\n",
              "      fill: #FFFFFF;\n",
              "    }\n",
              "  </style>\n",
              "\n",
              "      <script>\n",
              "        const buttonEl =\n",
              "          document.querySelector('#df-234b6b80-38b5-499f-9194-f006d7b6db7c button.colab-df-convert');\n",
              "        buttonEl.style.display =\n",
              "          google.colab.kernel.accessAllowed ? 'block' : 'none';\n",
              "\n",
              "        async function convertToInteractive(key) {\n",
              "          const element = document.querySelector('#df-234b6b80-38b5-499f-9194-f006d7b6db7c');\n",
              "          const dataTable =\n",
              "            await google.colab.kernel.invokeFunction('convertToInteractive',\n",
              "                                                     [key], {});\n",
              "          if (!dataTable) return;\n",
              "\n",
              "          const docLinkHtml = 'Like what you see? Visit the ' +\n",
              "            '<a target=\"_blank\" href=https://colab.research.google.com/notebooks/data_table.ipynb>data table notebook</a>'\n",
              "            + ' to learn more about interactive tables.';\n",
              "          element.innerHTML = '';\n",
              "          dataTable['output_type'] = 'display_data';\n",
              "          await google.colab.output.renderOutput(dataTable, element);\n",
              "          const docLink = document.createElement('div');\n",
              "          docLink.innerHTML = docLinkHtml;\n",
              "          element.appendChild(docLink);\n",
              "        }\n",
              "      </script>\n",
              "    </div>\n",
              "  </div>\n",
              "  "
            ]
          },
          "metadata": {},
          "execution_count": 33
        }
      ],
      "source": [
        "import pandas as pd\n",
        "import numpy as np\n",
        "import seaborn as sns\n",
        "import matplotlib.pyplot as plt\n",
        "dataDF = pd.read_csv('fatal-police-shootings-data.csv')\n",
        "dataDF.head()"
      ]
    },
    {
      "cell_type": "code",
      "execution_count": 34,
      "metadata": {
        "colab": {
          "base_uri": "https://localhost:8080/",
          "height": 386
        },
        "id": "0wPp28FHxBpI",
        "outputId": "c4f43d66-d80d-43ba-b40d-dd9fd8b4e7f8"
      },
      "outputs": [
        {
          "output_type": "execute_result",
          "data": {
            "text/plain": [
              "<seaborn.axisgrid.FacetGrid at 0x7f6b938c67d0>"
            ]
          },
          "metadata": {},
          "execution_count": 34
        },
        {
          "output_type": "display_data",
          "data": {
            "text/plain": [
              "<Figure size 435.125x360 with 1 Axes>"
            ],
            "image/png": "[encoded data removed]"
          },
          "metadata": {
            "needs_background": "light"
          }
        }
      ],
      "source": [
        "lies = dataDF.groupby(['body_camera', \"threat_level\", 'race']).count().unstack().reset_index()[['body_camera','threat_level','id']]\n",
        "dat = lies[lies['threat_level']=='attack']\n",
        "dat.columns = ['body_camera','threat_level','A','B','H','N','O','W']\n",
        "df = pd.melt(dat, id_vars=\"body_camera\", var_name=\"race\", value_name=\"Count\")[2:].reset_index().drop('index',axis='columns')\n",
        "sns.catplot(x='race', y='Count', hue='body_camera', data=df, kind='bar')"
      ]
    },
    {
      "cell_type": "code",
      "execution_count": 35,
      "metadata": {
        "colab": {
          "base_uri": "https://localhost:8080/",
          "height": 386
        },
        "id": "ay4ZQ6TNVqFB",
        "outputId": "eeeb3160-9f4f-4526-8ef3-ab0f9f5ee0f6"
      },
      "outputs": [
        {
          "output_type": "execute_result",
          "data": {
            "text/plain": [
              "<seaborn.axisgrid.FacetGrid at 0x7f6b9316b710>"
            ]
          },
          "metadata": {},
          "execution_count": 35
        },
        {
          "output_type": "display_data",
          "data": {
            "text/plain": [
              "<Figure size 485.375x360 with 1 Axes>"
            ],
            "image/png": "[encoded data removed]"
          },
          "metadata": {
            "needs_background": "light"
          }
        }
      ],
      "source": [
        "wrongfully = dataDF.groupby(['body_camera', 'race', 'signs_of_mental_illness']).count()\n",
        "df = wrongfully['id'].reset_index()\n",
        "df.rename({'id':'Count'},axis=1, inplace=True)\n",
        "sns.catplot(x='body_camera', y='Count', hue='signs_of_mental_illness', data=df, kind='bar',ci = None)"
      ]
    },
    {
      "cell_type": "code",
      "execution_count": 36,
      "metadata": {
        "colab": {
          "base_uri": "https://localhost:8080/",
          "height": 507
        },
        "id": "9wg0Y74VbOO4",
        "outputId": "d7ec6e54-a134-47c0-f6e4-0dd11851ecc7"
      },
      "outputs": [
        {
          "output_type": "display_data",
          "data": {
            "text/plain": [
              "<Figure size 1800x576 with 1 Axes>"
            ],
            "image/png": "[encoded data removed]"
          },
          "metadata": {
            "needs_background": "light"
          }
        }
      ],
      "source": [
        "statewise = dataDF.groupby(['state','body_camera', 'race']).count()['id'].reset_index()\n",
        "statewise.columns = ['state','body_camera','race','count']\n",
        "sns.catplot(x='state', y='count', hue='body_camera', data=statewise, kind='bar',ci = None)\n",
        "fig = plt.gcf()\n",
        "plt.tight_layout()\n",
        "fig.set_size_inches(25, 8)"
      ]
    },
    {
      "cell_type": "code",
      "execution_count": 37,
      "metadata": {
        "colab": {
          "base_uri": "https://localhost:8080/",
          "height": 206
        },
        "id": "seUZHHx0pS8G",
        "outputId": "76589dc6-53a4-4462-af0f-d4f969966ed2"
      },
      "outputs": [
        {
          "output_type": "execute_result",
          "data": {
            "text/plain": [
              "   state  idwith_cam  idwithout_cam      ratio\n",
              "23    MO           3            187  62.333333\n",
              "37    PA           5            145  29.000000\n",
              "40    SD           1             23  23.000000\n",
              "19    MA           3             50  16.666667\n",
              "25    MT           3             43  14.333333"
            ],
            "text/html": [
              "\n",
              "  <div id=\"df-73328490-626f-4c24-9a96-bb3558e70bd5\">\n",
              "    <div class=\"colab-df-container\">\n",
              "      <div>\n",
              "<style scoped>\n",
              "    .dataframe tbody tr th:only-of-type {\n",
              "        vertical-align: middle;\n",
              "    }\n",
              "\n",
              "    .dataframe tbody tr th {\n",
              "        vertical-align: top;\n",
              "    }\n",
              "\n",
              "    .dataframe thead th {\n",
              "        text-align: right;\n",
              "    }\n",
              "</style>\n",
              "<table border=\"1\" class=\"dataframe\">\n",
              "  <thead>\n",
              "    <tr style=\"text-align: right;\">\n",
              "      <th></th>\n",
              "      <th>state</th>\n",
              "      <th>idwith_cam</th>\n",
              "      <th>idwithout_cam</th>\n",
              "      <th>ratio</th>\n",
              "    </tr>\n",
              "  </thead>\n",
              "  <tbody>\n",
              "    <tr>\n",
              "      <th>23</th>\n",
              "      <td>MO</td>\n",
              "      <td>3</td>\n",
              "      <td>187</td>\n",
              "      <td>62.333333</td>\n",
              "    </tr>\n",
              "    <tr>\n",
              "      <th>37</th>\n",
              "      <td>PA</td>\n",
              "      <td>5</td>\n",
              "      <td>145</td>\n",
              "      <td>29.000000</td>\n",
              "    </tr>\n",
              "    <tr>\n",
              "      <th>40</th>\n",
              "      <td>SD</td>\n",
              "      <td>1</td>\n",
              "      <td>23</td>\n",
              "      <td>23.000000</td>\n",
              "    </tr>\n",
              "    <tr>\n",
              "      <th>19</th>\n",
              "      <td>MA</td>\n",
              "      <td>3</td>\n",
              "      <td>50</td>\n",
              "      <td>16.666667</td>\n",
              "    </tr>\n",
              "    <tr>\n",
              "      <th>25</th>\n",
              "      <td>MT</td>\n",
              "      <td>3</td>\n",
              "      <td>43</td>\n",
              "      <td>14.333333</td>\n",
              "    </tr>\n",
              "  </tbody>\n",
              "</table>\n",
              "</div>\n",
              "      <button class=\"colab-df-convert\" onclick=\"convertToInteractive('df-73328490-626f-4c24-9a96-bb3558e70bd5')\"\n",
              "              title=\"Convert this dataframe to an interactive table.\"\n",
              "              style=\"display:none;\">\n",
              "        \n",
              "  <svg xmlns=\"http://www.w3.org/2000/svg\" height=\"24px\"viewBox=\"0 0 24 24\"\n",
              "       width=\"24px\">\n",
              "    <path d=\"M0 0h24v24H0V0z\" fill=\"none\"/>\n",
              "    <path d=\"M18.56 5.44l.94 2.06.94-2.06 2.06-.94-2.06-.94-.94-2.06-.94 2.06-2.06.94zm-11 1L8.5 8.5l.94-2.06 2.06-.94-2.06-.94L8.5 2.5l-.94 2.06-2.06.94zm10 10l.94 2.06.94-2.06 2.06-.94-2.06-.94-.94-2.06-.94 2.06-2.06.94z\"/><path d=\"M17.41 7.96l-1.37-1.37c-.4-.4-.92-.59-1.43-.59-.52 0-1.04.2-1.43.59L10.3 9.45l-7.72 7.72c-.78.78-.78 2.05 0 2.83L4 21.41c.39.39.9.59 1.41.59.51 0 1.02-.2 1.41-.59l7.78-7.78 2.81-2.81c.8-.78.8-2.07 0-2.86zM5.41 20L4 18.59l7.72-7.72 1.47 1.35L5.41 20z\"/>\n",
              "  </svg>\n",
              "      </button>\n",
              "      \n",
              "  <style>\n",
              "    .colab-df-container {\n",
              "      display:flex;\n",
              "      flex-wrap:wrap;\n",
              "      gap: 12px;\n",
              "    }\n",
              "\n",
              "    .colab-df-convert {\n",
              "      background-color: #E8F0FE;\n",
              "      border: none;\n",
              "      border-radius: 50%;\n",
              "      cursor: pointer;\n",
              "      display: none;\n",
              "      fill: #1967D2;\n",
              "      height: 32px;\n",
              "      padding: 0 0 0 0;\n",
              "      width: 32px;\n",
              "    }\n",
              "\n",
              "    .colab-df-convert:hover {\n",
              "      background-color: #E2EBFA;\n",
              "      box-shadow: 0px 1px 2px rgba(60, 64, 67, 0.3), 0px 1px 3px 1px rgba(60, 64, 67, 0.15);\n",
              "      fill: #174EA6;\n",
              "    }\n",
              "\n",
              "    [theme=dark] .colab-df-convert {\n",
              "      background-color: #3B4455;\n",
              "      fill: #D2E3FC;\n",
              "    }\n",
              "\n",
              "    [theme=dark] .colab-df-convert:hover {\n",
              "      background-color: #434B5C;\n",
              "      box-shadow: 0px 1px 3px 1px rgba(0, 0, 0, 0.15);\n",
              "      filter: drop-shadow(0px 1px 2px rgba(0, 0, 0, 0.3));\n",
              "      fill: #FFFFFF;\n",
              "    }\n",
              "  </style>\n",
              "\n",
              "      <script>\n",
              "        const buttonEl =\n",
              "          document.querySelector('#df-73328490-626f-4c24-9a96-bb3558e70bd5 button.colab-df-convert');\n",
              "        buttonEl.style.display =\n",
              "          google.colab.kernel.accessAllowed ? 'block' : 'none';\n",
              "\n",
              "        async function convertToInteractive(key) {\n",
              "          const element = document.querySelector('#df-73328490-626f-4c24-9a96-bb3558e70bd5');\n",
              "          const dataTable =\n",
              "            await google.colab.kernel.invokeFunction('convertToInteractive',\n",
              "                                                     [key], {});\n",
              "          if (!dataTable) return;\n",
              "\n",
              "          const docLinkHtml = 'Like what you see? Visit the ' +\n",
              "            '<a target=\"_blank\" href=https://colab.research.google.com/notebooks/data_table.ipynb>data table notebook</a>'\n",
              "            + ' to learn more about interactive tables.';\n",
              "          element.innerHTML = '';\n",
              "          dataTable['output_type'] = 'display_data';\n",
              "          await google.colab.output.renderOutput(dataTable, element);\n",
              "          const docLink = document.createElement('div');\n",
              "          docLink.innerHTML = docLinkHtml;\n",
              "          element.appendChild(docLink);\n",
              "        }\n",
              "      </script>\n",
              "    </div>\n",
              "  </div>\n",
              "  "
            ]
          },
          "metadata": {},
          "execution_count": 37
        }
      ],
      "source": [
        "statewise = dataDF.groupby(['body_camera', 'state']).count()['id'].reset_index()\n",
        "body_cam_on = statewise[statewise['body_camera']==True].drop('body_camera',axis=1).reset_index().drop('index',axis=1)\n",
        "body_cam_off = statewise[statewise['body_camera']==False].drop('body_camera',axis=1)\n",
        "comb=body_cam_on.merge(body_cam_off, left_on='state', right_on='state', suffixes=('with_cam', 'without_cam'))\n",
        "comb['ratio'] = comb['idwithout_cam']/comb['idwith_cam']\n",
        "comb.sort_values(['ratio'], inplace=True, ascending=False)\n",
        "# comb.iloc[:-5:-1]\n",
        "comb.iloc[:5]"
      ]
    },
    {
      "cell_type": "code",
      "execution_count": 38,
      "metadata": {
        "colab": {
          "base_uri": "https://localhost:8080/",
          "height": 296
        },
        "id": "hgy6aHB5jm3N",
        "outputId": "540b398d-15bf-4ca4-b980-04f7921305ba"
      },
      "outputs": [
        {
          "output_type": "execute_result",
          "data": {
            "text/plain": [
              "<matplotlib.axes._subplots.AxesSubplot at 0x7f6b92c15fd0>"
            ]
          },
          "metadata": {},
          "execution_count": 38
        },
        {
          "output_type": "display_data",
          "data": {
            "text/plain": [
              "<Figure size 432x288 with 1 Axes>"
            ],
            "image/png": "[encoded data removed]"
          },
          "metadata": {
            "needs_background": "light"
          }
        }
      ],
      "source": [
        "specific_state = dataDF[dataDF['state']=='SC'].reset_index().drop('index',axis=1)\n",
        "specific_state['year'] = pd.to_datetime(specific_state['date']).dt.year\n",
        "specific_state.drop('date',axis=1)\n",
        "dat = specific_state.groupby(['year','body_camera']).agg({\"body_camera\":\"count\"}).unstack().reset_index()\n",
        "dat.columns = ['year','without_cam','with_cam']\n",
        "cat = pd.melt(dat, id_vars=\"year\", value_vars=['without_cam', 'with_cam'])\n",
        "cat.columns = ['year','camera_op','count']\n",
        "cat=cat.sort_values(['year']).reset_index().drop('index',axis=1)\n",
        "sns.barplot(x='year', y='count', hue='camera_op', data=cat,ci = None)"
      ]
    },
    {
      "cell_type": "code",
      "execution_count": 39,
      "metadata": {
        "colab": {
          "base_uri": "https://localhost:8080/",
          "height": 296
        },
        "id": "KcTavKMKELE-",
        "outputId": "01d8e178-2cc1-4cbb-ef82-8c1c56cfb65f"
      },
      "outputs": [
        {
          "output_type": "execute_result",
          "data": {
            "text/plain": [
              "<matplotlib.axes._subplots.AxesSubplot at 0x7f6b92c0ee50>"
            ]
          },
          "metadata": {},
          "execution_count": 39
        },
        {
          "output_type": "display_data",
          "data": {
            "text/plain": [
              "<Figure size 432x288 with 1 Axes>"
            ],
            "image/png": "[encoded data removed]"
          },
          "metadata": {
            "needs_background": "light"
          }
        }
      ],
      "source": [
        "dat['tot'] = dat['without_cam']+dat['with_cam']\n",
        "dat['tot']= dat['tot'].fillna(0)\n",
        "sns.lineplot(x='year', y='tot', data=dat)"
      ]
    },
    {
      "cell_type": "markdown",
      "metadata": {
        "id": "58bGC4wGJR9p"
      },
      "source": [
        "### Grading Breakdown"
      ]
    },
    {
      "cell_type": "markdown",
      "metadata": {
        "id": "zMmSDGsmJR9q"
      },
      "source": [
        "- 10%: Interestingness and clarity of question you ask\n",
        "- 20%: Appropriateness of data, scale, and other viz design choices\n",
        "- 10%: Legends, context, and titles of your viz\n",
        "- 20%: Overall quality of your viz: in the extreme, every pixel serves a purpose\n",
        "- 20%: Design rationale (writeup)\n",
        "- 20%: Pros and cons of your design (writeup)\n"
      ]
    },
    {
      "cell_type": "markdown",
      "metadata": {
        "id": "uJrukWXnugPD"
      },
      "source": [
        "## (5 points) Part 2: Data Viz Critique (on Campuswire by April 17)\n",
        "\n",
        "After all the data visualizations have been posted to Campuswire, you will be responsible for providing a critique of **at least two** data visualizations provided by your classmates. \n",
        "\n",
        "You should reply in the thread and provide a brief *constructive* critique. Do your best to load balance, so that every data visualization receives some feedback.\n",
        "\n",
        "On the final homework, each student will have an opportunity to revise the original data visualization based on this feedback.\n",
        "\n"
      ]
    },
    {
      "cell_type": "markdown",
      "metadata": {
        "id": "-WYe8-gUukM9"
      },
      "source": [
        "## (65 points) Part 3: Recommendation with User Ratings (Explicit Feedback) \n",
        "\n",
        "In this part, we focus on the rating prediction recommendation task with explicit feedback. We will:\n",
        "\n",
        "* load and process the MovieLens 1M dataset, \n",
        "* build a baseline estimation model,\n",
        "* build a collaborative filtering model,\n",
        "* build a matrix factorization model,\n",
        "* and try to improve upon these models.\n",
        "\n",
        "First, we need to load and preprocess the experiment dataset. We use the MovieLens 1M data from https://grouplens.org/datasets/movielens/1m/ in this homework. The code has been provided in the next cell, and you need to run it. The resulting data variables are: train_mat is the numpy array variable for training data of size (#users, #items) with non-zero entries representing user-item ratings, and zero entries representing unknown user-item ratings; and test_mat is the numpy array variable for testing data of size (#users, #items)."
      ]
    },
    {
      "cell_type": "code",
      "execution_count": 1,
      "metadata": {
        "colab": {
          "base_uri": "https://localhost:8080/",
          "height": 73,
          "resources": {
            "http://localhost:8080/nbextensions/google.colab/files.js": {
              "data": "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",
              "headers": [
                [
                  "content-type",
                  "application/javascript"
                ]
              ],
              "ok": true,
              "status": 200,
              "status_text": ""
            }
          }
        },
        "id": "Y2Lw1dJmaTFg",
        "outputId": "24c2ee6c-f011-411f-fb7c-09329a8c486b"
      },
      "outputs": [
        {
          "output_type": "display_data",
          "data": {
            "text/plain": [
              "<IPython.core.display.HTML object>"
            ],
            "text/html": [
              "\n",
              "     <input type=\"file\" id=\"files-c102245b-ac42-4b5e-ba4b-5811fac33451\" name=\"files[]\" multiple disabled\n",
              "        style=\"border:none\" />\n",
              "     <output id=\"result-c102245b-ac42-4b5e-ba4b-5811fac33451\">\n",
              "      Upload widget is only available when the cell has been executed in the\n",
              "      current browser session. Please rerun this cell to enable.\n",
              "      </output>\n",
              "      <script src=\"/nbextensions/google.colab/files.js\"></script> "
            ]
          },
          "metadata": {}
        },
        {
          "output_type": "stream",
          "name": "stdout",
          "text": [
            "Saving ratings.dat to ratings.dat\n"
          ]
        }
      ],
      "source": [
        "# if you're using colab, this is a clunky way to load the ratings.dat file we need\n",
        "# navigate in your finder to ratings.dat when asked\n",
        "from google.colab import files\n",
        "uploaded = files.upload()"
      ]
    },
    {
      "cell_type": "code",
      "execution_count": 29,
      "metadata": {
        "colab": {
          "base_uri": "https://localhost:8080/"
        },
        "id": "E1h-s3WsacVs",
        "outputId": "3afed8f8-0d32-4dfd-9afa-5826baf8cbdd"
      },
      "outputs": [
        {
          "output_type": "stream",
          "name": "stderr",
          "text": [
            "/usr/local/lib/python3.7/dist-packages/pandas/util/_decorators.py:311: ParserWarning: Falling back to the 'python' engine because the 'c' engine does not support regex separators (separators > 1 char and different from '\\s+' are interpreted as regex); you can avoid this warning by specifying engine='python'.\n",
            "  return func(*args, **kwargs)\n"
          ]
        }
      ],
      "source": [
        "import io\n",
        "import pandas as pd\n",
        "import numpy as np\n",
        "from scipy.sparse import coo_matrix\n",
        "\n",
        "data_df = pd.read_csv(io.BytesIO(uploaded['ratings.dat']), sep='::', names=[\"UserID\", \"MovieID\", \"Rating\", \"Timestamp\"])\n",
        "\n",
        "# if you are running this notebook locally, you can replace above with something like this:\n",
        "# data_df = pd.read_csv('./ratings.dat', sep='::', names=[\"UserID\", \"MovieID\", \"Rating\", \"Timestamp\"])\n",
        "\n",
        "# First, generate dictionaries for mapping old id to new id for users and movies\n",
        "unique_MovieID = data_df['MovieID'].unique()\n",
        "unique_UserID = data_df['UserID'].unique()\n",
        "j = 0\n",
        "user_old2new_id_dict = dict()\n",
        "for u in unique_UserID:\n",
        "    user_old2new_id_dict[u] = j\n",
        "    j += 1\n",
        "j = 0\n",
        "movie_old2new_id_dict = dict()\n",
        "for i in unique_MovieID:\n",
        "    movie_old2new_id_dict[i] = j\n",
        "    j += 1\n",
        "    \n",
        "# Then, use the generated dictionaries to reindex UserID and MovieID in the data_df\n",
        "user_list = data_df['UserID'].values\n",
        "movie_list = data_df['MovieID'].values\n",
        "for j in range(len(data_df)):\n",
        "    user_list[j] = user_old2new_id_dict[user_list[j]]\n",
        "    movie_list[j] = movie_old2new_id_dict[movie_list[j]]\n",
        "data_df['UserID'] = user_list\n",
        "data_df['movieID'] = movie_list\n",
        "\n",
        "# generate train_df with 70% samples and test_df with 30% samples, and there should have no overlap between them.\n",
        "train_index = np.random.random(len(data_df)) <= 0.7\n",
        "train_df = data_df[train_index]\n",
        "test_df = data_df[~train_index]\n",
        "\n",
        "# generate train_mat and test_mat\n",
        "num_user = len(data_df['UserID'].unique())\n",
        "num_movie = len(data_df['MovieID'].unique())\n",
        "\n",
        "train_mat = coo_matrix((train_df['Rating'].values, (train_df['UserID'].values, train_df['MovieID'].values)), shape=(num_user, num_movie)).astype(float).toarray()\n",
        "test_mat = coo_matrix((test_df['Rating'].values, (test_df['UserID'].values, test_df['MovieID'].values)), shape=(num_user, num_movie)).astype(float).toarray()"
      ]
    },
    {
      "cell_type": "markdown",
      "metadata": {
        "id": "hI_D_HSXzbaK"
      },
      "source": [
        "## Part 3a: Build the Baseline Estimation Model (15 points)\n",
        "\n",
        "First, let's implement a simple personalized recommendation model -- the baseline estimate -- introduced in class: $b_{u,i}=\\mu+b_i+b_u$, where $\\mu$ is the overall mean rating for all items, $b_u$ = average rating of user $u-\\mu$, $b_i$ = average rating of item $i-\\mu$. Store your prediction as a numpy array variable 'prediction_mat' of size (#users, #movies) with each entry showing the predicted rating for the corresponding user-movie pair.\n",
        "\n",
        "* Hint: for users who do not have ratings in train_mat, set $b_u=0$ for them; and for movies which do not have ratings in train_mat, set $b_i=0$ for them"
      ]
    },
    {
      "cell_type": "code",
      "execution_count": 3,
      "metadata": {
        "colab": {
          "base_uri": "https://localhost:8080/"
        },
        "id": "SHqawSeQzpR_",
        "outputId": "cbbbd589-880f-454a-8f18-ef29c6f968b8"
      },
      "outputs": [
        {
          "output_type": "stream",
          "name": "stdout",
          "text": [
            ". Global Average Rating is 3.5817790786786565\n"
          ]
        },
        {
          "output_type": "stream",
          "name": "stderr",
          "text": [
            "/usr/local/lib/python3.7/dist-packages/ipykernel_launcher.py:11: RuntimeWarning: Mean of empty slice\n",
            "  # This is added back by InteractiveShellApp.init_path()\n"
          ]
        }
      ],
      "source": [
        "# calculate the prediction_mat by the baseline estimation recommendation algorithm\n",
        "# Your Code Here...\n",
        "# ref: https://stackoverflow.com/questions/44913275/how-to-ignore-values-when-using-numpy-sum-and-numpy-mean-in-matrices\n",
        "import math\n",
        "\n",
        "prediction_mat = train_mat.copy()\n",
        "prediction_mat[prediction_mat == 0] = np.nan\n",
        "mu = np.nanmean(prediction_mat)\n",
        "print('. Global Average Rating is {}'.format(mu))\n",
        "\n",
        "bi = [np.nanmean(prediction_mat[:, idx]) - mu for idx in range(prediction_mat.shape[1])]\n",
        "bi = [0 if np.isnan(x) else x for x in bi]\n",
        "bu = [np.nanmean(prediction_mat[idx, :]) - mu for idx in range(prediction_mat.shape[0])]\n",
        "bu = [0 if np.isnan(x) else x for x in bu]\n",
        "\n",
        "\n",
        "for u in range(prediction_mat.shape[0]):\n",
        "  for i in range(prediction_mat.shape[1]):\n",
        "    prediction_mat[u, i] = bu[u] + bi[i] + mu\n",
        "prediction_mat = np.nan_to_num(prediction_mat)"
      ]
    },
    {
      "cell_type": "markdown",
      "metadata": {
        "id": "IXRS-CC_zpuT"
      },
      "source": [
        "Now, with this prediction_mat based on the baseline estimate, let's calculate the RMSE to evaluate the quality of the baseline estimate model. Please print out the RMSE of your prediction_mat using test_mat in the next cell.\n"
      ]
    },
    {
      "cell_type": "code",
      "execution_count": 4,
      "metadata": {
        "colab": {
          "base_uri": "https://localhost:8080/"
        },
        "id": "sqMsJrtTzr8f",
        "outputId": "bb531f65-ebdc-41f8-8d9e-accfc927e085"
      },
      "outputs": [
        {
          "output_type": "stream",
          "name": "stdout",
          "text": [
            "Root mean squared error for the baseline estimation method is 0.9383771058244149\n"
          ]
        }
      ],
      "source": [
        "# calculate and print out the RMSE for your prediction_df and the test_df\n",
        "# Your Code Here...\n",
        "error = 0\n",
        "test_userid, test_movieid = test_mat.nonzero()\n",
        "testing_indices = np.arange(len(test_userid))\n",
        "for i in testing_indices:\n",
        "  error += (test_mat[test_userid[i]][test_movieid[i]] - prediction_mat[test_userid[i]][test_movieid[i]])**2\n",
        "rmse = math.sqrt(error/len(test_userid))\n",
        "print(\"Root mean squared error for the baseline estimation method is {}\".format(rmse))"
      ]
    },
    {
      "cell_type": "markdown",
      "metadata": {
        "id": "3V_S-DXXztyu"
      },
      "source": [
        "## Part 3b: Collaborative Filtering with Jaccard Similarity (15 points)\n",
        "\n",
        "In this part, you need to build a collaborative filtering recommendation model with **Jaccard similarity** to predict user-movie ratings. \n",
        "\n",
        "The prediction of the score for a user-item pair $(u,i)$ should use the formulation: $p_{u,i}=\\bar{r}_u+\\frac{\\sum_{u^\\prime\\in N}s(u,u^\\prime)(r_{u^\\prime,i}-\\bar{r}_{u^\\prime})}{\\sum_{u^\\prime\\in N}|s(u, u^\\prime)|}$ as introduced in class, where $s(u, u^\\prime)$ is the Jaccard similarity. We set the size of $N$ as 10.\n",
        "\n",
        "In the next cell, you need to write your code to implement this algorithm, and generate a numpy array variable named 'prediction_mat' of size (#user, #movie) with each entry showing the predicted rating for the corresponding user-movie pair.\n",
        "\n",
        "* Hint: when you find the nearest neighbor set $N$ of a user $u$, do not include user $u$ in $N$  \n"
      ]
    },
    {
      "cell_type": "code",
      "execution_count": null,
      "metadata": {
        "colab": {
          "base_uri": "https://localhost:8080/"
        },
        "id": "Sxf9YBSDz3Gm",
        "outputId": "646646b0-3f18-4253-c84f-4240fbb8c372"
      },
      "outputs": [
        {
          "output_type": "stream",
          "name": "stdout",
          "text": [
            "  % Total    % Received % Xferd  Average Speed   Time    Time     Time  Current\n",
            "                                 Dload  Upload   Total   Spent    Left  Speed\n",
            "100  1580  100  1580    0     0   6869      0 --:--:-- --:--:-- --:--:--  6839\n",
            "+ apt -y -q install cuda-libraries-dev-10-0\n",
            "Reading package lists...\n",
            "Building dependency tree...\n",
            "Reading state information...\n",
            "cuda-libraries-dev-10-0 is already the newest version (10.0.130-1).\n",
            "0 upgraded, 0 newly installed, 0 to remove and 39 not upgraded.\n",
            "+ pip install -q cupy-cuda100  chainer \n",
            "\u001b[K     |████████████████████████████████| 58.9 MB 1.3 MB/s \n",
            "\u001b[K     |████████████████████████████████| 1.0 MB 33.5 MB/s \n",
            "\u001b[?25h  Building wheel for chainer (setup.py) ... \u001b[?25l\u001b[?25hdone\n",
            "+ set +ex\n",
            "Installation succeeded!\n"
          ]
        }
      ],
      "source": [
        "# calculate the prediction_mat by your user-user collaborative filtering recommendation algorithm\n",
        "# Your Code Here...\n",
        "!curl https://colab.chainer.org/install | sh -\n",
        "import cupy as cp\n",
        "\n",
        "def Jaccard(A):\n",
        "  B = cp.ones((A.shape[0],A.shape[1]))\n",
        "  B[A == 0] = 0\n",
        "  matr = cp.array([cp.divide(cp.logical_and(B[i,:], B).sum(axis=1),cp.logical_or(B[i,:], B).sum(axis=1)) for i in range(A.shape[0])])\n",
        "  # matr = cp.nan_to_num(matr)\n",
        "  args_srt = cp.argsort(matr)\n",
        "  return matr, args_srt"
      ]
    },
    {
      "cell_type": "code",
      "source": [
        "jacc,srt_args = Jaccard(train_mat)"
      ],
      "metadata": {
        "id": "nTkSW6-0n5aE"
      },
      "execution_count": null,
      "outputs": []
    },
    {
      "cell_type": "code",
      "source": [
        "gpu_train = cp.array(train_mat)\n",
        "prediction_mat_2 = cp.zeros((gpu_train.shape[0], gpu_train.shape[1]))\n",
        "\n",
        "user_matr = train_mat.copy()\n",
        "user_matr[user_matr == 0] = np.nan\n",
        "b_user = [np.nanmean(user_matr[idx, :]) for idx in range(prediction_mat.shape[0])]\n",
        "gpu_bu = cp.array(b_user)\n",
        "util = cp.zeros((gpu_train.shape[0], gpu_train.shape[1]))\n",
        "\n",
        "for u in range(prediction_mat_2.shape[0]):\n",
        "    util[u,gpu_train[u,:]==0] = gpu_bu[u]\n",
        "aux = util+gpu_train\n",
        "\n",
        "for u in range(gpu_train.shape[0]):\n",
        "    args_ = srt_args[u,-11:-1:1]\n",
        "    r_bar = gpu_bu[args_]\n",
        "    weights = jacc[u,args_].transpose()\n",
        "    diff_rate = (aux[args_, :].transpose()-r_bar).transpose()\n",
        "    weighted_sum = (diff_rate.transpose()*weights).transpose()\n",
        "    prediction_mat_2[u,:] = gpu_bu[u]*cp.ones(gpu_train.shape[1]) + weighted_sum.sum(axis=0)/(abs(weights).sum())\n",
        "\n",
        "# prediction_mat_2 = cp.nan_to_num(prediction_mat_2)\n",
        "host_pred_2 = cp.asnumpy(prediction_mat_2)"
      ],
      "metadata": {
        "id": "1axJ5lyM8u6L"
      },
      "execution_count": null,
      "outputs": []
    },
    {
      "cell_type": "markdown",
      "metadata": {
        "id": "jrtLUo75z3kx"
      },
      "source": [
        "Please print out the RMSE of your prediction_mat using test_mat in the next cell."
      ]
    },
    {
      "cell_type": "code",
      "execution_count": null,
      "metadata": {
        "id": "cAn9BwQ8z50h",
        "colab": {
          "base_uri": "https://localhost:8080/"
        },
        "outputId": "81688c00-134b-4351-a1a2-2fe08f346c4d"
      },
      "outputs": [
        {
          "output_type": "stream",
          "name": "stdout",
          "text": [
            "Root mean squared error for the baseline estimation method is 0.9826513496842374\n"
          ]
        }
      ],
      "source": [
        "# calculate and print out the RMSE for your prediction_df and the test_df\n",
        "# Your Code Here...\n",
        "error_cf = 0\n",
        "test_userid, test_movieid = test_mat.nonzero()\n",
        "testing_indices = np.arange(len(test_userid))\n",
        "for i in testing_indices:\n",
        "  error_cf += (test_mat[test_userid[i]][test_movieid[i]] - host_pred_2[test_userid[i]][test_movieid[i]])**2\n",
        "rmse_cf = math.sqrt(error_cf/len(testing_indices))\n",
        "print(\"Root mean squared error for the baseline estimation method is {}\".format(rmse_cf))"
      ]
    },
    {
      "cell_type": "markdown",
      "metadata": {
        "id": "kANk-3sez7bo"
      },
      "source": [
        "Comparing the RMSE results of this collaborative filtering and the baseline estimate algorithm, what do you observe? Is the  collaborative filtering the one producing the best performance? What reasons do you think can explain what you observe?"
      ]
    },
    {
      "cell_type": "markdown",
      "metadata": {
        "id": "rdR-FzXk0BN9"
      },
      "source": [
        "From the above result, it looks like poeple-people collaborative filtering performs worse than base line estimate. There can be multiple reasons for such an observation which include:\n",
        "\n",
        "\n",
        "*   Less data point - Since there is less data, the users which we think match the most with our current user has atmax a similarity score of 15%-20%\n",
        "* Individuality - Every user is individual. Thus, no matter how hard we search, we may never be able to find two users with exactly the same set of likings/ratings.\n",
        "* Small Neighbourhood - Since our neighbourhood is small (of only 10 users), the would be very rare to find more than sufficient percent of the users to rate a specific movie which the current user has not rated.\n",
        "*   Corner case - it might be possible that in the complete neighbourhood of our current user, no one has rated a particular movie. Thus, for such a case, user-user CF would simply use user average rating migh completes the ignore the characterstics of the item (lets say an Action Thriller is generally rated more as compared to a Rom-Com)\n",
        "\n"
      ]
    },
    {
      "cell_type": "markdown",
      "metadata": {
        "id": "6GCbSqrZ1PwQ"
      },
      "source": [
        "## Part 3c: Matrix Factorization (15 points)\n",
        "\n",
        "Now we turn to matrix factorization. First, let's implement the matrix factorization (MF for short) model introduced in class. The MF model can be mathematically represented as: \n",
        "\n",
        "<center>$\\underset{\\mathbf{P},\\mathbf{Q}}{\\text{min}}\\,\\,L=\\sum_{(u,i)\\in\\mathcal{O}}(\\mathbf{P}_u\\cdot\\mathbf{Q}^\\top_i-r_{u,i})^2+\\lambda(\\lVert\\mathbf{P}\\rVert^2_{\\text{F}}+\\lVert\\mathbf{Q}\\rVert^2_{\\text{F}})$,</center>\n",
        "    \n",
        "where $\\mathbf{P}$ is the user latent factor matrix of size (#user, #latent); $\\mathbf{Q}$ is the movie latent factor matrix of size (#movie, #latent); $\\mathcal{O}$ is a user-movie pair set containing all user-movie pairs having ratings in train_mat; $r_{u,i}$ represents the rating for user u and movie i; $\\lambda(\\lVert\\mathbf{P}\\rVert^2_{\\text{F}}+\\lVert\\mathbf{Q}\\rVert^2_{\\text{F}})$ is the regularization term to overcome overfitting problem, $\\lambda$ is the regularization weight (a hyper-parameter manually set by developer, i.e., you), and $\\lVert\\mathbf{P}\\rVert^2_{\\text{F}}=\\sum_{x}\\sum_{y}(\\mathbf{P}_{x,y})^2$, $\\lVert\\mathbf{Q}\\rVert^2_{\\text{F}}=\\sum_{x}\\sum_{y}(\\mathbf{Q}_{x,y})^2$. Such an L function is called the **loss function** for the matrix factorization model. The goal of training an MF model is to find appropriate $\\mathbf{P}$ and $\\mathbf{Q}$ to minimize the loss L.\n",
        "\n",
        "To implement such an MF, here we will write a Python class for the model. There are three functions in this MF class: init, train, and predict. \n",
        "\n",
        "* The 'init' function (**already provided**) is to initialize the variables the MF class needs, which takes 5 inputs: train_mat, test_mat, latent, lr, and reg. 'train_mat' and 'test_mat' are the corresponfing training and testing matrices we have. 'latent' represents the latent dimension we set for the MF model. 'lr' represents the learning rate, i.e., the update step in each optimization iteration, default is 0.01. 'reg' represents the regularization weight, i.e., the $\\lambda$ in the MF formulation.\n",
        "\n",
        "* The 'train' function (**partially provided and need to complete**) is to train the MF model given the training data train_mat. There is only one input to this function: an int variable 'epoch' to indicate how many epochs for training the model. The main body of this function should be a loop for 'epoch' iterations. In each iteration, following the algorithm to update the MF model:\n",
        "\n",
        "        1. Randomly shuffle training user-movie pairs  (i.e., user-movie pairs having ratings in train_mat)\n",
        "        2. Have an inner loop to iterate each user-movie pair:\n",
        "                a. given a user-movie pair (u,i), update the user latent factor and movie latent factor by gradient decsent:    \n",
        "<center>$\\mathbf{P}_u=\\mathbf{P}_u-\\gamma [2(\\mathbf{P}_u\\cdot\\mathbf{Q}_i^\\top-r_{u,i})\\cdot\\mathbf{Q}_i+2\\lambda\\mathbf{P}_u]$</center>    \n",
        "<center>$\\mathbf{Q}_i=\\mathbf{Q}_i-\\gamma [2(\\mathbf{P}_u\\cdot\\mathbf{Q}_i^\\top-r_{u,i})\\cdot\\mathbf{P}_u+2\\lambda\\mathbf{Q}_i]$</center>    \n",
        "<center>where $\\mathbf{P}_u$ and $\\mathbf{Q}_i$ are row vectors of size (1, #latent), $\\gamma$ is learning rate (default is 0.01), $\\lambda$ is regularization weight.</center>\n",
        "        \n",
        "        3. After iterating over all user-movie pairs, we have finished the training for the current epoch. Now calculate and print out the value of the loss function L after this epoch, and the RMSE on test_mat by the current MF model. Then append them to lists to keep a record of them.\n",
        "The train function needs to return two lists: 'epoch_loss_list' recording the loss after each training epoch, and 'epoch_test_RMSE_list' recording the RMSE on test_mat after each training epoch.\n",
        "\n",
        "* The 'predict' function (**already provided**) is to calculate the prediction_mat by the learned $\\mathbf{P}$ and $\\mathbf{Q}$.\n",
        "\n",
        "In the next cell, we provide the 'init' and 'predict' functions. You will need to fill in the 'train' function based on the description above. \n",
        "\n",
        "**NOTE that you should not delete or modify the provided code.**"
      ]
    },
    {
      "cell_type": "code",
      "execution_count": 6,
      "metadata": {
        "id": "ISJd_HvQ15ji"
      },
      "outputs": [],
      "source": [
        "import math\n",
        "class MF:\n",
        "    def __init__(self, train_mat, test_mat, latent=5, lr=0.01, reg=0.01):\n",
        "        self.train_mat = train_mat  # the training rating matrix of size (#user, #movie)\n",
        "        self.test_mat = test_mat  # the training rating matrix of size (#user, #movie)\n",
        "        \n",
        "        self.latent = latent  # the latent dimension\n",
        "        self.lr = lr  # learning rate\n",
        "        self.reg = reg  # regularization weight, i.e., the lambda in the objective function\n",
        "        \n",
        "        self.num_user, self.num_movie = train_mat.shape\n",
        "        \n",
        "        self.sample_user, self.sample_movie = self.train_mat.nonzero()  # get the user-movie paris having ratings in train_mat\n",
        "        self.num_sample = len(self.sample_user)  # the number of user-movie pairs having ratings in train_mat\n",
        "\n",
        "        self.train_indicator_mat = 1.0 * (train_mat > 0)  # binary matrix to indicate whether s user-movie pair has rating or not in train_mat\n",
        "        self.test_indicator_mat = 1.0 * (test_mat > 0)  # binary matrix to indicate whether s user-movie pair has rating or not in test_mat\n",
        "\n",
        "        self.P = np.random.random((self.num_user, self.latent))  # latent factors for users, size (#user, self.latent), randomly initialized\n",
        "        self.Q = np.random.random((self.num_movie, self.latent))  # latent factors for users, size (#movie, self.latent), randomly initialized\n",
        "\n",
        "    def train(self, epoch=1, verbose=True):\n",
        "        \"\"\"\n",
        "        Goal: Write your code to train your matrix factorization model for epoch iterations in this function\n",
        "        Input: epoch -- the number of training epoch \n",
        "        Output: epoch_loss_list -- a list recording the training loss for each epoch\n",
        "                epoch_test_RMSE_list -- a list recording the testing RMSE after each training epoch\n",
        "        \"\"\"\n",
        "        print(\"------------------Model description--------------------\")\n",
        "        print(\"Regression coefficient: {}, Latent Parameters: {}\".format(self.reg, self.latent))\n",
        "        print(\"Total epochs: {}, Learning Rate: {}\".format(epoch, self.lr))\n",
        "        print(\" \")\n",
        "        epoch_loss_list = []\n",
        "        epoch_test_RMSE_list = []\n",
        "        prev_RMSE = 0\n",
        "        times = 0\n",
        "        for ep in range(epoch):\n",
        "            \"\"\" \n",
        "            Write your code here to implement the training process for one epoch, \n",
        "            and at the end of each epoch, print out the epoch number, the training loss after this epoch, \n",
        "            and the test RMSE after this epoch\n",
        "            \"\"\"\n",
        "            #Shuffle Matrix           \n",
        "            training_indices = np.arange(self.num_sample)\n",
        "            np.random.shuffle(training_indices)  # randomly shuffle the training samples\n",
        "            ratings = self.train_mat[self.sample_user, self.sample_movie]\n",
        "            for idx in training_indices:\n",
        "              u=self.sample_user[idx]\n",
        "              i=self.sample_movie[idx]\n",
        "              err_ui = self.train_mat[u,i] - self.P[u,:].dot(self.Q[i,:])\n",
        "              newP = self.P.copy()\n",
        "              newQ = self.Q.copy()\n",
        "              self.P[u,:] += self.lr * (2 * err_ui * newQ[i,:] - 2*self.reg * newP[u,:])\n",
        "              self.Q[i,:] += self.lr * (2 * err_ui * newP[u,:] - 2*self.reg * newQ[i,:])\n",
        "            E = (self.train_mat[self.sample_user, self.sample_movie] - self.predict()[self.sample_user, self.sample_movie])**2 \n",
        "            obj = E.sum()+ self.reg*((self.P**2).sum()+(self.Q**2).sum())        \n",
        "            epoch_loss_list.append(obj)\n",
        "            E_test = (self.test_mat[self.test_indicator_mat==1] -self.predict()[self.test_indicator_mat==1])**2\n",
        "            A,B = self.test_mat.nonzero()\n",
        "            rmse = np.sqrt(E_test.sum()/(len(A)))\n",
        "            epoch_test_RMSE_list.append(rmse)\n",
        "            \n",
        "            if verbose:\n",
        "              print(\"Iteramtion {}:\".format(ep))\n",
        "              print(\"Training loss of the current epoch is {}\".format(obj))\n",
        "              print(\"RMSE for current epoc is {}\".format(rmse))\n",
        "              print(\"\")\n",
        "            if(abs(prev_RMSE-rmse)<0.001):\n",
        "              times+=1\n",
        "            else:\n",
        "              times = 0\n",
        "            prev_RMSE = rmse\n",
        "            if times == 5:\n",
        "              break;\n",
        "            \n",
        "\n",
        "        print(\"After all iterations:\")\n",
        "        print(\"Training loss is {}\".format(obj))\n",
        "        print(\"RMSE is {}\".format(rmse))\n",
        "        print(\"\") \n",
        "        \"\"\"\n",
        "        End of your code for this function\n",
        "        \"\"\"   \n",
        "        return epoch_loss_list, epoch_test_RMSE_list\n",
        "        \n",
        "        \n",
        "    def predict(self):\n",
        "        prediction_mat = np.matmul(self.P, self.Q.T)\n",
        "        return prediction_mat"
      ]
    },
    {
      "cell_type": "markdown",
      "metadata": {
        "id": "rIpA5p5v19Oo"
      },
      "source": [
        "\n",
        "\n",
        "Now, let's train an MF model based on your implementation. The code is provided, you just need to excute the next cell. The expectations are: \n",
        "\n",
        "* first, the code can be successfully excuted without error; \n",
        "* and second, the training loss and RMSE on **test_mat** of each training epoch should be printed out for all 20 epochs.\n",
        "\n",
        "\n",
        "* Hint: the expected time used for training is around 10s to 60s per training epoch."
      ]
    },
    {
      "cell_type": "code",
      "execution_count": null,
      "metadata": {
        "colab": {
          "base_uri": "https://localhost:8080/"
        },
        "id": "8xBeR6gH2Avp",
        "outputId": "da7d7330-6941-40f8-86f1-cadf124f2832"
      },
      "outputs": [
        {
          "output_type": "stream",
          "name": "stdout",
          "text": [
            "------------------Model description--------------------\n",
            "Regression coefficient: 0.001, Latent Parameters: 5\n",
            "Total epochs: 20, Learning Rate: 0.01\n",
            " \n",
            "Iteramtion 0:\n",
            "Training loss of the current epoch is 610065.2107409264\n",
            "RMSE for current epoc is 0.9509361512179546\n",
            "\n",
            "Iteramtion 1:\n",
            "Training loss of the current epoch is 597096.427131763\n",
            "RMSE for current epoc is 0.9458656156624913\n",
            "\n",
            "Iteramtion 2:\n",
            "Training loss of the current epoch is 580839.5740604348\n",
            "RMSE for current epoc is 0.9372993755872684\n",
            "\n",
            "Iteramtion 3:\n",
            "Training loss of the current epoch is 560776.9034351251\n",
            "RMSE for current epoc is 0.9260586114748781\n",
            "\n",
            "Iteramtion 4:\n",
            "Training loss of the current epoch is 545109.2155625981\n",
            "RMSE for current epoc is 0.9202837939911789\n",
            "\n",
            "Iteramtion 5:\n",
            "Training loss of the current epoch is 532103.1451899675\n",
            "RMSE for current epoc is 0.9139630409673527\n",
            "\n",
            "Iteramtion 6:\n",
            "Training loss of the current epoch is 521812.2251579501\n",
            "RMSE for current epoc is 0.9087903479279061\n",
            "\n",
            "Iteramtion 7:\n",
            "Training loss of the current epoch is 514665.94053373253\n",
            "RMSE for current epoc is 0.9057609618276764\n",
            "\n",
            "Iteramtion 8:\n",
            "Training loss of the current epoch is 509522.3843109639\n",
            "RMSE for current epoc is 0.9033565013446501\n",
            "\n",
            "Iteramtion 9:\n",
            "Training loss of the current epoch is 506909.60490956734\n",
            "RMSE for current epoc is 0.9033216643335845\n",
            "\n",
            "Iteramtion 10:\n",
            "Training loss of the current epoch is 502428.1966940243\n",
            "RMSE for current epoc is 0.9003948440645994\n",
            "\n",
            "Iteramtion 11:\n",
            "Training loss of the current epoch is 501088.94518292585\n",
            "RMSE for current epoc is 0.9001619508269932\n",
            "\n",
            "Iteramtion 12:\n",
            "Training loss of the current epoch is 496949.11598311475\n",
            "RMSE for current epoc is 0.8988593316476016\n",
            "\n",
            "Iteramtion 13:\n",
            "Training loss of the current epoch is 496126.049002269\n",
            "RMSE for current epoc is 0.8990281432557163\n",
            "\n",
            "Iteramtion 14:\n",
            "Training loss of the current epoch is 494314.043850316\n",
            "RMSE for current epoc is 0.8984383530867006\n",
            "\n",
            "Iteramtion 15:\n",
            "Training loss of the current epoch is 492908.5467023933\n",
            "RMSE for current epoc is 0.8975802064156222\n",
            "\n",
            "Iteramtion 16:\n",
            "Training loss of the current epoch is 491930.9447531732\n",
            "RMSE for current epoc is 0.8976506512455382\n",
            "\n",
            "Iteramtion 17:\n",
            "Training loss of the current epoch is 491848.33925685246\n",
            "RMSE for current epoc is 0.8985395797054244\n",
            "\n",
            "After all iterations:\n",
            "Training loss is 491848.33925685246\n",
            "RMSE is 0.8985395797054244\n",
            "\n"
          ]
        }
      ],
      "source": [
        "mf = MF(train_mat, test_mat, latent=5, lr=0.01, reg=0.001)\n",
        "epoch_loss_list, epoch_test_RMSE_list = mf.train(epoch=20)\n"
      ]
    },
    {
      "cell_type": "markdown",
      "metadata": {
        "id": "hAoykVgg2BNl"
      },
      "source": [
        "## Part 3d: Tune Hyper-parameters in Matrix Factorization (10 points)\n",
        "\n",
        "In the previous part, we train an MF model with latent dimension set as 5, regularization weight as 0.001, training epoch as 20. However, it is not clear whether these are good choices or not. Hence, in this part, we will tune these hyper-parameters to train an effective model.\n",
        "\n",
        "A most straightforward but powerful method is to grid search each hyper-parameter and find the best one based on the RMSE on test_mat. In this part, we will do the grid search for train epoch, latent dimension, and regularization weight.\n",
        "\n",
        "#### Tune training epoch####\n",
        "\n",
        "For training epoch, we only need to run the experiment of MF for one time, and record the test RMSE for each epoch and find the epoch that produces the best test RMSE. To visually show the change of test RMSE corresponding to the training epoch, we can plot the test RMSE for each epoch in a figure as shown in the next cell.\n",
        "\n",
        "**Note that you need to first install the matplotlib, then you can excute the next cell**"
      ]
    },
    {
      "cell_type": "code",
      "execution_count": null,
      "metadata": {
        "colab": {
          "base_uri": "https://localhost:8080/",
          "height": 297
        },
        "id": "GZPsAD8v2NIG",
        "outputId": "b7ce0c8a-bf90-48bf-9fbb-dab421282629"
      },
      "outputs": [
        {
          "output_type": "display_data",
          "data": {
            "text/plain": [
              "<Figure size 576x288 with 1 Axes>"
            ],
            "image/png": "[encoded data removed]"
          },
          "metadata": {
            "needs_background": "light"
          }
        }
      ],
      "source": [
        "import matplotlib.pyplot as plt\n",
        "\n",
        "fig, ax = plt.subplots(nrows=1, ncols=1, figsize=(8, 4))\n",
        "ax.plot(np.arange(len(epoch_test_RMSE_list)) + 1, epoch_test_RMSE_list, marker='.', linewidth=1.5, markersize=8)\n",
        "ax.set_xticks(np.arange(len(epoch_test_RMSE_list)) + 1)\n",
        "ax.set_ylabel('test RMSE')\n",
        "ax.set_xlabel('epoch')\n",
        "ax.set_title('Tune training epoch')\n",
        "ax.grid(True)\n",
        "plt.tight_layout()\n",
        "plt.show()"
      ]
    },
    {
      "cell_type": "markdown",
      "metadata": {
        "id": "p2e5yapn2Q97"
      },
      "source": [
        "\n",
        "Based on this plot, what is the best epoch for your MF model?"
      ]
    },
    {
      "cell_type": "markdown",
      "metadata": {
        "id": "WSNd_J7S2Rmj"
      },
      "source": [
        "Based on the plt, the best epoch is **E=16**."
      ]
    },
    {
      "cell_type": "markdown",
      "metadata": {
        "id": "cHPTnd352W2O"
      },
      "source": [
        "#### Tune latent dimension####\n",
        "\n",
        "By this figure, you can find the best epoch for your MF model. Similarly, you can plot how the test RMSE changes when you set different latent dimensions. For this, you need to run the code to initialize and train the MF model for multiple times with different settings of 'latent'. Please run the MF model with 'latent' as {1,3,5,7,9}, and plot the corresponding test RMSE for these five different latent dimensions in the next cell. \n",
        "\n",
        "**Note that for these five runs of experiments, record the test RMSE after E training epochs -- E is the best epoch you find by the 'Tune training epoch' plot. And here, fix regularization weight as 0.001**.\n",
        "\n",
        "**Note that the expected output of the next cell is just the plot, you don't need to show the code and printing of the experiment with different 'latent' here.**"
      ]
    },
    {
      "cell_type": "code",
      "execution_count": 7,
      "metadata": {
        "id": "6Mfr24w02d0D",
        "colab": {
          "base_uri": "https://localhost:8080/"
        },
        "collapsed": true,
        "outputId": "1ed38472-5f62-4558-991d-17fb2c024407"
      },
      "outputs": [
        {
          "output_type": "stream",
          "name": "stdout",
          "text": [
            "------------------Model description--------------------\n",
            "Regression coefficient: 0.001, Latent Parameters: 1\n",
            "Total epochs: 20, Learning Rate: 0.01\n",
            " \n",
            "After all iterations:\n",
            "Training loss is 604908.2902255546\n",
            "RMSE is 0.9443633083123237\n",
            "\n",
            "------------------Model description--------------------\n",
            "Regression coefficient: 0.001, Latent Parameters: 3\n",
            "Total epochs: 20, Learning Rate: 0.01\n",
            " \n",
            "After all iterations:\n",
            "Training loss is 525131.7737126176\n",
            "RMSE is 0.9061484598728714\n",
            "\n",
            "------------------Model description--------------------\n",
            "Regression coefficient: 0.001, Latent Parameters: 5\n",
            "Total epochs: 20, Learning Rate: 0.01\n",
            " \n",
            "After all iterations:\n",
            "Training loss is 489349.8043058674\n",
            "RMSE is 0.8984785768051579\n",
            "\n",
            "------------------Model description--------------------\n",
            "Regression coefficient: 0.001, Latent Parameters: 7\n",
            "Total epochs: 20, Learning Rate: 0.01\n",
            " \n",
            "After all iterations:\n",
            "Training loss is 461180.8520388979\n",
            "RMSE is 0.898420208354999\n",
            "\n",
            "------------------Model description--------------------\n",
            "Regression coefficient: 0.001, Latent Parameters: 9\n",
            "Total epochs: 20, Learning Rate: 0.01\n",
            " \n",
            "After all iterations:\n",
            "Training loss is 445970.46631398884\n",
            "RMSE is 0.9063181586359851\n",
            "\n"
          ]
        }
      ],
      "source": [
        "# Your Code Here...\n",
        "latent_dim = [1,3,5,7,9]\n",
        "model_loss_lm = []\n",
        "model_rmse_lm = []\n",
        "for i in latent_dim:\n",
        "  mf = MF(train_mat, test_mat, latent=i, lr=0.01, reg=0.001)\n",
        "  epoch_loss_list, epoch_test_RMSE_list = mf.train(epoch=20, verbose=False)\n",
        "  model_loss_lm.append(epoch_loss_list)\n",
        "  model_rmse_lm.append(epoch_test_RMSE_list)\n"
      ]
    },
    {
      "cell_type": "code",
      "source": [
        "import matplotlib.pyplot as plt\n",
        "fig, ax = plt.subplots(nrows=1, ncols=1, figsize=(8, 4))\n",
        "for i in range(len(latent_dim)):\n",
        "  ax.plot(np.arange(len(model_rmse_lm[i])) + 1, model_rmse_lm[i], marker='.', linewidth=1.5, markersize=8, label=\"Latent Dim:\"+str(latent_dim[i]))\n",
        "ax.set_xticks(np.arange(len(model_rmse_lm[0])) + 1)\n",
        "ax.set_ylabel('test RMSE')\n",
        "ax.set_xlabel('epoch')\n",
        "ax.set_title('Tune training epoch')\n",
        "ax.grid(True)\n",
        "plt.tight_layout()\n",
        "plt.legend(loc=\"upper left\", bbox_to_anchor=(1, 1))\n",
        "plt.show()"
      ],
      "metadata": {
        "colab": {
          "base_uri": "https://localhost:8080/",
          "height": 297
        },
        "id": "2bsuRFUvcYHJ",
        "outputId": "baf01c1e-a097-45a3-cfdb-21f8de1d4da6"
      },
      "execution_count": 9,
      "outputs": [
        {
          "output_type": "display_data",
          "data": {
            "text/plain": [
              "<Figure size 576x288 with 1 Axes>"
            ],
            "image/png": "[encoded data removed]"
          },
          "metadata": {
            "needs_background": "light"
          }
        }
      ]
    },
    {
      "cell_type": "code",
      "source": [
        "fig, ax = plt.subplots(nrows=1, ncols=1, figsize=(8, 4))\n",
        "Y_lat = []\n",
        "for i in range(5):\n",
        "  Y_lat.append(model_rmse_lm[i][16])\n",
        "ax.scatter(latent_dim, Y_lat, marker='o')\n",
        "ax.plot(latent_dim, Y_lat)\n",
        "ax.set_ylabel('test RMSE')\n",
        "ax.set_xlabel('Latent Dimensions')\n",
        "ax.set_title('RMSE scores vs Latent Dimensions for best epoch E')\n",
        "ax.grid(True)\n",
        "plt.tight_layout()\n",
        "plt.show()"
      ],
      "metadata": {
        "colab": {
          "base_uri": "https://localhost:8080/",
          "height": 297
        },
        "id": "rQnHqtmyKSl_",
        "outputId": "7c538d20-81c7-4972-b35d-2c199bd92128"
      },
      "execution_count": 17,
      "outputs": [
        {
          "output_type": "display_data",
          "data": {
            "text/plain": [
              "<Figure size 576x288 with 1 Axes>"
            ],
            "image/png": "[encoded data removed]"
          },
          "metadata": {
            "needs_background": "light"
          }
        }
      ]
    },
    {
      "cell_type": "markdown",
      "metadata": {
        "id": "QV_f3D6M2gne"
      },
      "source": [
        "Based on this plot, what is the best latent dimension for your MF model?"
      ]
    },
    {
      "cell_type": "markdown",
      "metadata": {
        "id": "rNE50oyS2iQ9"
      },
      "source": [
        "Baseed on the above, when E=16, **the model that performs the best is one which has latent factors of 5**"
      ]
    },
    {
      "cell_type": "markdown",
      "metadata": {
        "id": "aq1Pwa0d2j8_"
      },
      "source": [
        "#### Tune regularization weight####\n",
        "\n",
        "Last, you can plot how the test RMSE changes when you set different regularization weight. Please run the MF model with 'reg' as {0.0001,0.0005,0.001,0.0015,0.002}, and plot corresponding test RMSE for these five different regularization weights in the next cell. \n",
        "\n",
        "**Note that for these five runs of experiments, record the test RMSE after E training epochs -- E is the best epoch you find by the 'Tune training epoch' plot. And here, fix latent dimension as the one you find the best by the previous part**\n",
        "\n",
        "**Note that the expected output of the next cell is just the plot, you don't need to show the code and printing of the experiment with different 'reg' here.**"
      ]
    },
    {
      "cell_type": "code",
      "execution_count": 11,
      "metadata": {
        "id": "8x-xbXSu2nv_",
        "colab": {
          "base_uri": "https://localhost:8080/"
        },
        "outputId": "6f3ccd19-a0f6-462a-94ae-c17abafc7e15"
      },
      "outputs": [
        {
          "output_type": "stream",
          "name": "stdout",
          "text": [
            "------------------Model description--------------------\n",
            "Regression coefficient: 0.0001, Latent Parameters: 5\n",
            "Total epochs: 20, Learning Rate: 0.01\n",
            " \n",
            "After all iterations:\n",
            "Training loss is 490754.4702205794\n",
            "RMSE is 0.9014330109672667\n",
            "\n",
            "------------------Model description--------------------\n",
            "Regression coefficient: 0.0005, Latent Parameters: 5\n",
            "Total epochs: 20, Learning Rate: 0.01\n",
            " \n",
            "After all iterations:\n",
            "Training loss is 487770.4464803096\n",
            "RMSE is 0.8973266066690753\n",
            "\n",
            "------------------Model description--------------------\n",
            "Regression coefficient: 0.001, Latent Parameters: 5\n",
            "Total epochs: 20, Learning Rate: 0.01\n",
            " \n",
            "After all iterations:\n",
            "Training loss is 489290.9123790101\n",
            "RMSE is 0.8987799451037451\n",
            "\n",
            "------------------Model description--------------------\n",
            "Regression coefficient: 0.0015, Latent Parameters: 5\n",
            "Total epochs: 20, Learning Rate: 0.01\n",
            " \n",
            "After all iterations:\n",
            "Training loss is 488130.85810061236\n",
            "RMSE is 0.8966455226632588\n",
            "\n",
            "------------------Model description--------------------\n",
            "Regression coefficient: 0.002, Latent Parameters: 5\n",
            "Total epochs: 20, Learning Rate: 0.01\n",
            " \n",
            "After all iterations:\n",
            "Training loss is 487750.5079770623\n",
            "RMSE is 0.898144158748251\n",
            "\n"
          ]
        }
      ],
      "source": [
        "# Your Code Here...\n",
        "reg_val = [0.0001,0.0005,0.001,0.0015,0.002]\n",
        "model_loss_reg = []\n",
        "model_rmse_reg = []\n",
        "for i in reg_val:\n",
        "  mf = MF(train_mat, test_mat, latent=5, lr=0.01, reg=i)\n",
        "  epoch_loss_list, epoch_test_RMSE_list = mf.train(epoch=20, verbose=False)\n",
        "  model_loss_reg.append(epoch_loss_list)\n",
        "  model_rmse_reg.append(epoch_test_RMSE_list)\n"
      ]
    },
    {
      "cell_type": "code",
      "source": [
        "import matplotlib.pyplot as plt\n",
        "fig, ax = plt.subplots(nrows=1, ncols=1, figsize=(8, 4))\n",
        "for i in range(len(reg_val)):\n",
        "  ax.plot(np.arange(len(model_rmse_reg[i])) + 1, model_rmse_reg[i], marker='.', linewidth=1.5, markersize=8, label=\"reg val:\"+str(reg_val[i]))\n",
        "ax.set_xticks(np.arange(len(model_rmse_reg[0])) + 1)\n",
        "ax.set_ylabel('test RMSE')\n",
        "ax.set_xlabel('epoch')\n",
        "ax.set_title('Tune training epoch')\n",
        "ax.grid(True)\n",
        "plt.tight_layout()\n",
        "plt.legend(loc=\"upper left\", bbox_to_anchor=(1, 1))\n",
        "plt.show()"
      ],
      "metadata": {
        "id": "vdoSTPw2cjQd",
        "colab": {
          "base_uri": "https://localhost:8080/",
          "height": 297
        },
        "outputId": "ed278b9d-77e1-44bb-e632-0944fd4392a1"
      },
      "execution_count": 18,
      "outputs": [
        {
          "output_type": "display_data",
          "data": {
            "text/plain": [
              "<Figure size 576x288 with 1 Axes>"
            ],
            "image/png": "[encoded data removed]"
          },
          "metadata": {
            "needs_background": "light"
          }
        }
      ]
    },
    {
      "cell_type": "code",
      "source": [
        "fig, ax = plt.subplots(nrows=1, ncols=1, figsize=(8, 4))\n",
        "Y_reg = []\n",
        "for i in range(5):\n",
        "  Y_reg.append(model_rmse_reg[i][16])\n",
        "ax.scatter(reg_val, Y_reg, marker='o')\n",
        "ax.plot(reg_val, Y_reg)\n",
        "ax.set_ylabel('test RMSE')\n",
        "ax.set_xlabel('Regularization')\n",
        "ax.set_title('RMSE scores vs Regularization for best epoch E')\n",
        "ax.grid(True)\n",
        "plt.tight_layout()\n",
        "plt.show()"
      ],
      "metadata": {
        "colab": {
          "base_uri": "https://localhost:8080/",
          "height": 297
        },
        "id": "Mz2NSAoJKgnX",
        "outputId": "a1fcde39-2bd9-4846-d46a-70d2fc7908fd"
      },
      "execution_count": 21,
      "outputs": [
        {
          "output_type": "display_data",
          "data": {
            "text/plain": [
              "<Figure size 576x288 with 1 Axes>"
            ],
            "image/png": "[encoded data removed]"
          },
          "metadata": {
            "needs_background": "light"
          }
        }
      ]
    },
    {
      "cell_type": "markdown",
      "metadata": {
        "id": "pXY47Pi02lp4"
      },
      "source": [
        "Based on this plot, what is the best regularization weight for your MF model?\n"
      ]
    },
    {
      "cell_type": "markdown",
      "metadata": {
        "id": "KFkZQiiF2rI6"
      },
      "source": [
        "\n",
        "Based on the above, for 5 latent factors and epoch E = 16, **the best regularization parameter value** **is 0.002**"
      ]
    },
    {
      "cell_type": "markdown",
      "metadata": {
        "id": "3vIEK3UH0H1Y"
      },
      "source": [
        "## Part 3e: Improve the Model (10 points)\n",
        "\n",
        "Next, you need to try your best to improve the model so that we can improve our RMSE! This is open-ended, so feel free to try whatever tricks you like. We talked about several in class, plus you can find more in the readings. Write your code in the next cell and print out the RMSE of your new model."
      ]
    },
    {
      "cell_type": "code",
      "execution_count": 26,
      "metadata": {
        "id": "EyMIKUDz0L-w"
      },
      "outputs": [],
      "source": [
        "# implement your improved model and print out the RMSE\n",
        "# Your Code Here...\n",
        "\n",
        "\n",
        "class biasedMF:\n",
        "    def __init__(self, train_mat, test_mat, latent=5, lr=0.01, reg=0.01):\n",
        "        self.train_mat = np.array(train_mat)  # the training rating matrix of size (#user, #movie)\n",
        "        self.test_mat = np.array(test_mat)  # the training rating matrix of size (#user, #movie)\n",
        "        \n",
        "        self.latent = latent  # the latent dimension\n",
        "        self.lr = lr  # learning rate\n",
        "        self.reg = reg  # regularization weight, i.e., the lambda in the objective function\n",
        "        \n",
        "        self.num_user, self.num_movie = train_mat.shape\n",
        "        \n",
        "        self.sample_user, self.sample_movie = self.train_mat.nonzero()  # get the user-movie paris having ratings in train_mat\n",
        "        self.num_sample = len(self.sample_user)  # the number of user-movie pairs having ratings in train_mat\n",
        "\n",
        "        self.train_indicator_mat = 1.0 * (train_mat > 0)  # binary matrix to indicate whether s user-movie pair has rating or not in train_mat\n",
        "        self.test_indicator_mat = 1.0 * (test_mat > 0)  # binary matrix to indicate whether s user-movie pair has rating or not in test_mat\n",
        "\n",
        "        self.P = np.random.random((self.num_user, self.latent))  # latent factors for users, size (#user, self.latent), randomly initialized\n",
        "        self.Q = np.random.random((self.num_movie, self.latent))  # latent factors for users, size (#movie, self.latent), randomly initialized\n",
        "\n",
        "        prediction_mat = train_mat.copy()\n",
        "        prediction_mat[prediction_mat == 0] = np.nan\n",
        "        mu = np.nanmean(prediction_mat)\n",
        "        self.mu = mu\n",
        "\n",
        "        bi = [np.nanmean(prediction_mat[:, idx]) - mu for idx in range(prediction_mat.shape[1])]\n",
        "        bi = np.array([0 if np.isnan(x) else x for x in bi])\n",
        "        bu = [np.nanmean(prediction_mat[idx, :]) - mu for idx in range(prediction_mat.shape[0])]\n",
        "        bu = np.array([0 if np.isnan(x) else x for x in bu])\n",
        "        self.bu = np.array(bu)\n",
        "        self.bi = np.array(bi)\n",
        "\n",
        "    def train(self, epoch=1, verbose=True):\n",
        "        \"\"\"\n",
        "        Goal: Write your code to train your matrix factorization model for epoch iterations in this function\n",
        "        Input: epoch -- the number of training epoch \n",
        "        Output: epoch_loss_list -- a list recording the training loss for each epoch\n",
        "                epoch_test_RMSE_list -- a list recording the testing RMSE after each training epoch\n",
        "        \"\"\"\n",
        "        print(\"------------------Model description--------------------\")\n",
        "        print(\"Regression coefficient: {}, Latent Parameters: {}\".format(self.reg, self.latent))\n",
        "        print(\"Total epochs: {}, Learning Rate: {}\".format(epoch, self.lr))\n",
        "        print(\" \")\n",
        "        epoch_loss_list = []\n",
        "        epoch_test_RMSE_list = []\n",
        "        prev_RMSE = 0\n",
        "        times = 0\n",
        "        for ep in range(epoch):\n",
        "            \"\"\" \n",
        "            Write your code here to implement the training process for one epoch, \n",
        "            and at the end of each epoch, print out the epoch number, the training loss after this epoch, \n",
        "            and the test RMSE after this epoch\n",
        "            \"\"\"\n",
        "            #Shuffle Matrix           \n",
        "            training_indices = np.arange(self.num_sample)\n",
        "            np.random.shuffle(training_indices)  # randomly shuffle the training samples\n",
        "            ratings = self.train_mat[self.sample_user, self.sample_movie]\n",
        "            for idx in training_indices:\n",
        "              u=self.sample_user[idx]\n",
        "              i=self.sample_movie[idx]\n",
        "              err_ui = self.train_mat[u,i] - self.P[u,:].dot(self.Q[i,:])-self.mu-self.bu[u]-self.bi[i]\n",
        "              newP = self.P.copy()\n",
        "              newQ = self.Q.copy()\n",
        "              self.P[u,:] += self.lr * (2 * err_ui * newQ[i,:] - 2*self.reg * newP[u,:])\n",
        "              self.Q[i,:] += self.lr * (2 * err_ui * newP[u,:] - 2*self.reg * newQ[i,:])\n",
        "              self.bu[u] += self.lr*(2 * err_ui)-2*self.reg*self.bu[u]\n",
        "              self.bi[i] += self.lr*(2 * err_ui)-2*self.reg*self.bi[i]\n",
        "            E = (self.train_mat[self.sample_user, self.sample_movie] - self.predict()[self.sample_user, self.sample_movie])**2 \n",
        "            obj = E.sum()+ self.reg*((self.P**2).sum()+(self.Q**2).sum())        \n",
        "            epoch_loss_list.append(obj)\n",
        "            E_test = (self.test_mat[self.test_indicator_mat==1] -self.predict()[self.test_indicator_mat==1])**2\n",
        "            A,B = self.test_mat.nonzero()\n",
        "            rmse = np.sqrt(E_test.sum()/(len(A)))\n",
        "            epoch_test_RMSE_list.append(rmse)\n",
        "            \n",
        "            if verbose:\n",
        "              print(\"Iteramtion {}:\".format(ep))\n",
        "              print(\"Training loss of the current epoch is {}\".format(obj))\n",
        "              print(\"RMSE for current epoc is {}\".format(rmse))\n",
        "              print(\"\")\n",
        "            \n",
        "            \n",
        "\n",
        "        print(\"After all iterations:\")\n",
        "        print(\"Training loss is {}\".format(obj))\n",
        "        print(\"RMSE is {}\".format(rmse))\n",
        "        print(\"\") \n",
        "        \"\"\"\n",
        "        End of your code for this function\n",
        "        \"\"\"   \n",
        "        return epoch_loss_list, epoch_test_RMSE_list\n",
        "        \n",
        "        \n",
        "    def predict(self):\n",
        "        mu = self.mu*np.ones((self.train_mat.shape[0],self.train_mat.shape[1]))\n",
        "        bi = self.bi*np.ones((self.train_mat.shape[0],self.train_mat.shape[1]))\n",
        "        bu = np.ones((self.train_mat.shape[0],self.train_mat.shape[1]))\n",
        "        bu = (bu.transpose()*self.bu).transpose()\n",
        "        aux = (mu+bi+bu)\n",
        "        prediction_mat = np.matmul(self.P, self.Q.T)\n",
        "        prediction_mat+=aux\n",
        "        return prediction_mat"
      ]
    },
    {
      "cell_type": "code",
      "source": [
        "mf = biasedMF(train_mat, test_mat, latent=5, lr=0.01, reg=0.001)\n",
        "epoch_loss_list, epoch_test_RMSE_list = mf.train(epoch=25, verbose=True)"
      ],
      "metadata": {
        "id": "VA7TodhikNlf",
        "colab": {
          "base_uri": "https://localhost:8080/"
        },
        "outputId": "2b000710-afb2-43ce-ad3a-482301fbf108"
      },
      "execution_count": 30,
      "outputs": [
        {
          "output_type": "stream",
          "name": "stderr",
          "text": [
            "/usr/local/lib/python3.7/dist-packages/ipykernel_launcher.py:30: RuntimeWarning: Mean of empty slice\n"
          ]
        },
        {
          "output_type": "stream",
          "name": "stdout",
          "text": [
            "------------------Model description--------------------\n",
            "Regression coefficient: 0.001, Latent Parameters: 5\n",
            "Total epochs: 25, Learning Rate: 0.01\n",
            " \n",
            "Iteramtion 0:\n",
            "Training loss of the current epoch is 578303.8207467445\n",
            "RMSE for current epoc is 0.9276478606331077\n",
            "\n",
            "Iteramtion 1:\n",
            "Training loss of the current epoch is 564246.2774102018\n",
            "RMSE for current epoc is 0.920632906893014\n",
            "\n",
            "Iteramtion 2:\n",
            "Training loss of the current epoch is 547411.6562686265\n",
            "RMSE for current epoc is 0.9134349821171707\n",
            "\n",
            "Iteramtion 3:\n",
            "Training loss of the current epoch is 529266.902459988\n",
            "RMSE for current epoc is 0.9054864094204516\n",
            "\n",
            "Iteramtion 4:\n",
            "Training loss of the current epoch is 516528.38967235683\n",
            "RMSE for current epoc is 0.9002469555840488\n",
            "\n",
            "Iteramtion 5:\n",
            "Training loss of the current epoch is 506510.42988554604\n",
            "RMSE for current epoc is 0.8973038672190595\n",
            "\n",
            "Iteramtion 6:\n",
            "Training loss of the current epoch is 498290.40552805096\n",
            "RMSE for current epoc is 0.8945529125570222\n",
            "\n",
            "Iteramtion 7:\n",
            "Training loss of the current epoch is 490712.43261093064\n",
            "RMSE for current epoc is 0.8913906369653949\n",
            "\n",
            "Iteramtion 8:\n",
            "Training loss of the current epoch is 485658.66467995726\n",
            "RMSE for current epoc is 0.8901651492613468\n",
            "\n",
            "Iteramtion 9:\n",
            "Training loss of the current epoch is 481113.4229124014\n",
            "RMSE for current epoc is 0.8882366326540346\n",
            "\n",
            "Iteramtion 10:\n",
            "Training loss of the current epoch is 478019.54257243697\n",
            "RMSE for current epoc is 0.8873379217125599\n",
            "\n",
            "Iteramtion 11:\n",
            "Training loss of the current epoch is 474642.94825179357\n",
            "RMSE for current epoc is 0.8859758248543599\n",
            "\n",
            "Iteramtion 12:\n",
            "Training loss of the current epoch is 471747.0586872613\n",
            "RMSE for current epoc is 0.8843558904062325\n",
            "\n",
            "Iteramtion 13:\n",
            "Training loss of the current epoch is 469875.30775765865\n",
            "RMSE for current epoc is 0.8837067876931582\n",
            "\n",
            "Iteramtion 14:\n",
            "Training loss of the current epoch is 467525.49430367927\n",
            "RMSE for current epoc is 0.8830886147831357\n",
            "\n",
            "Iteramtion 15:\n",
            "Training loss of the current epoch is 465307.68558129604\n",
            "RMSE for current epoc is 0.8817963495004445\n",
            "\n",
            "Iteramtion 16:\n",
            "Training loss of the current epoch is 463655.04280156107\n",
            "RMSE for current epoc is 0.8814448440338657\n",
            "\n",
            "Iteramtion 17:\n",
            "Training loss of the current epoch is 462748.77759294235\n",
            "RMSE for current epoc is 0.8811029877768346\n",
            "\n",
            "Iteramtion 18:\n",
            "Training loss of the current epoch is 461616.25389721256\n",
            "RMSE for current epoc is 0.8806693616614424\n",
            "\n",
            "Iteramtion 19:\n",
            "Training loss of the current epoch is 460879.6151085423\n",
            "RMSE for current epoc is 0.8806650438090637\n",
            "\n",
            "Iteramtion 20:\n",
            "Training loss of the current epoch is 459738.79235964955\n",
            "RMSE for current epoc is 0.8800316829552969\n",
            "\n",
            "Iteramtion 21:\n",
            "Training loss of the current epoch is 458887.26818408316\n",
            "RMSE for current epoc is 0.879896764914047\n",
            "\n",
            "Iteramtion 22:\n",
            "Training loss of the current epoch is 458319.2423538875\n",
            "RMSE for current epoc is 0.8801207750740033\n",
            "\n",
            "Iteramtion 23:\n",
            "Training loss of the current epoch is 457833.1614179462\n",
            "RMSE for current epoc is 0.8802467379645562\n",
            "\n",
            "Iteramtion 24:\n",
            "Training loss of the current epoch is 457087.43529768096\n",
            "RMSE for current epoc is 0.8801972190512689\n",
            "\n",
            "After all iterations:\n",
            "Training loss is 457087.43529768096\n",
            "RMSE is 0.8801972190512689\n",
            "\n"
          ]
        }
      ]
    },
    {
      "cell_type": "code",
      "source": [
        "import matplotlib.pyplot as plt\n",
        "fig, ax = plt.subplots(nrows=1, ncols=1, figsize=(8, 4))\n",
        "ax.plot(np.arange(len(epoch_test_RMSE_list)) + 1, epoch_test_RMSE_list, marker='.', linewidth=1.5, markersize=8)\n",
        "ax.set_xticks(np.arange(len(epoch_test_RMSE_list)) + 1)\n",
        "ax.set_ylabel('test RMSE')\n",
        "ax.set_xlabel('epoch')\n",
        "ax.set_title('Tune training epoch')\n",
        "ax.grid(True)\n",
        "plt.tight_layout()\n",
        "plt.show()"
      ],
      "metadata": {
        "colab": {
          "base_uri": "https://localhost:8080/",
          "height": 297
        },
        "id": "OkFp2ZHEkUQR",
        "outputId": "4e4cd6de-6333-4a34-fe40-c2dd43a98586"
      },
      "execution_count": 31,
      "outputs": [
        {
          "output_type": "display_data",
          "data": {
            "text/plain": [
              "<Figure size 576x288 with 1 Axes>"
            ],
            "image/png": "[encoded data removed]"
          },
          "metadata": {
            "needs_background": "light"
          }
        }
      ]
    },
    {
      "cell_type": "markdown",
      "metadata": {
        "id": "inSUB3a60RMW"
      },
      "source": [
        "And please briefly explain what your new model does to improve the performance."
      ]
    },
    {
      "cell_type": "markdown",
      "metadata": {
        "id": "R38z2kSY0R7O"
      },
      "source": [
        "To improve the RMSE score, I have augmented the matrix factorization code with bias, since biases tend to capture much of the observed\n",
        "signal. For this model, the loss function is given by:\n",
        "<center>$\\underset{\\mathbf{P},\\mathbf{Q}}{\\text{min}}\\,\\,L=\\sum_{(u,i)\\in\\mathcal{O}}(pred-r_{u,i})^2+\\lambda(\\lVert\\mathbf{P}\\rVert^2_{\\text{F}}+\\lVert\\mathbf{Q}\\rVert^2_{\\text{F}}+\\mathbf{b_i}^2+\\mathbf{b_u}^2)$</center>\n",
        "\n",
        "where $pred$ is given as:\n",
        "<center>$pred = \\mathbf{P}_u\\cdot\\mathbf{Q}^\\top_i+\\mu +\\mathbf{b_i}+\\mathbf{b_u} $</center>\n",
        "<br>\n",
        "and $\\mathbf{P}$ is the user latent factor matrix of size (#user, #latent); $\\mathbf{Q}$ is the movie latent factor matrix of size (#movie, #latent); $\\mathcal{O}$ is a user-movie pair set containing all user-movie pairs having ratings in train_mat; $r_{u,i}$ represents the rating for user u and movie i; $\\lambda(\\lVert\\mathbf{P}\\rVert^2_{\\text{F}}+\\lVert\\mathbf{Q}\\rVert^2_{\\text{F}}+b_i^2+b_u^2)$ is the regularization term.\n",
        "\n",
        "Here, the observed rating is broken down into its four\n",
        "components: global average, item bias, user bias, and useritem\n",
        "interaction. This allows each component to explain\n",
        "only the part of a signal relevant to it.\n",
        "\n",
        "With such a model, using latent factors of 5, regularization weight of 0.001 RMSE I got is 0.879\n"
      ]
    },
    {
      "cell_type": "code",
      "source": [
        ""
      ],
      "metadata": {
        "id": "S84Rt_QRwSBW"
      },
      "execution_count": null,
      "outputs": []
    }
  ],
  "metadata": {
    "colab": {
      "collapsed_sections": [
        "jHaAX6XIJR9j",
        "37SaWm5NyuL8",
        "uJrukWXnugPD"
      ],
      "name": "232003268_hw3.ipynb",
      "provenance": []
    },
    "kernelspec": {
      "display_name": "Python 3",
      "language": "python",
      "name": "python3"
    },
    "language_info": {
      "codemirror_mode": {
        "name": "ipython",
        "version": 3
      },
      "file_extension": ".py",
      "mimetype": "text/x-python",
      "name": "python",
      "nbconvert_exporter": "python",
      "pygments_lexer": "ipython3",
      "version": "3.8.5"
    }
  },
  "nbformat": 4,
  "nbformat_minor": 0
}