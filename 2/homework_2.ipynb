{
  "cells": [
    {
      "cell_type": "markdown",
      "metadata": {
        "id": "FUStugfzWud2"
      },
      "source": [
        "## CSCE 676 :: Data Mining and Analysis :: Texas A&M University :: Spring 2022\n",
        "\n",
        "\n",
        "# Homework 2\n",
        "\n",
        "- **100 points [7% of your final grade]**\n",
        "- **Due Sunday, March 6 by 11:59pm** \n",
        "- (*no submissions accepted after March 9 by 11:59pm*)\n",
        "\n",
        "**Goals of this homework:** There are four objectives of this homework: \n",
        "\n",
        "* Become familiar with Apache Spark;\n",
        "* Get hands-on experience using Spark built-in functions like PageRank;\n",
        "* Work out Hubs and Authorities by hand;\n",
        "* Try some LSH problems.\n",
        "\n",
        "*Submission instructions:* You should post your notebook to canvas (look for the homework 2 assignment there). Name your submission **your-uin_hw2.ipynb**, so for example, my submission would be something like **555001234_hw2.ipynb**. Your notebook should be fully executed when you submit ... so run all the cells for us so we can see the output, then submit that. When you are done, download your notebook from colab and submit it to canvas.\n",
        "\n",
        "*Collaboration declaration:* If you worked with someone on this homework, please be sure to mention that. Remember to include citations to any sources you use in the homework."
      ]
    },
    {
      "cell_type": "markdown",
      "metadata": {
        "id": "eql4ThhZt5lL"
      },
      "source": [
        "*Write your collaboration/references here*"
      ]
    },
    {
      "cell_type": "markdown",
      "metadata": {
        "id": "3AQt_pCoWueB"
      },
      "source": [
        "## Preliminaries: Introduction to the Dataset\n",
        "We will use a dataset of tweets concerning members of the US congress. The data spans almost a year (from October 3rd, 2018 to September 25th, 2019) covering 576 of the members. Any tweet or retweet posted by the 576 members or directed to them by other Twitter users were collected.\n",
        "\n",
        "Originally there were more than 200 million tweets collected but we have sampled 400,000 tweets for this homework.\n",
        "\n",
        "Below is a summary of all datasets used for this homework:\n",
        "\n",
        "| Dataset                        | Description |\n",
        "| :---                                                       | :---\n",
        "| Congress members               | 576 twitter ids and screen names |\n",
        "| Sample tweets                  |400k sample tweets|\n",
        "| ~~User hashtags~~                  | ~~all pairs of <user, hashtag>~~|\n",
        "| User mentions                  | all pairs of <src_user_id, src_dest_id, frequency> |\n",
        "\n"
      ]
    },
    {
      "cell_type": "markdown",
      "metadata": {
        "id": "tQ8cZb5cg5Im"
      },
      "source": [
        "Following are the steps that you need to execute to install spark. Remember you need to execute them everytime after your runtime is disconnected"
      ]
    },
    {
      "cell_type": "code",
      "execution_count": 1,
      "metadata": {
        "colab": {
          "base_uri": "https://localhost:8080/"
        },
        "id": "3xiQ6bMbXITQ",
        "outputId": "63105e38-7721-4743-cdba-609099334aa6"
      },
      "outputs": [
        {
          "output_type": "stream",
          "name": "stdout",
          "text": [
            "Collecting pyspark\n",
            "  Downloading pyspark-3.2.1.tar.gz (281.4 MB)\n",
            "\u001b[K     |████████████████████████████████| 281.4 MB 32 kB/s \n",
            "\u001b[?25hCollecting py4j==0.10.9.3\n",
            "  Downloading py4j-0.10.9.3-py2.py3-none-any.whl (198 kB)\n",
            "\u001b[K     |████████████████████████████████| 198 kB 46.9 MB/s \n",
            "\u001b[?25hBuilding wheels for collected packages: pyspark\n",
            "  Building wheel for pyspark (setup.py) ... \u001b[?25l\u001b[?25hdone\n",
            "  Created wheel for pyspark: filename=pyspark-3.2.1-py2.py3-none-any.whl size=281853642 sha256=308f13ba4d6168153baba268d34d6630935d77599a20e20c05076bbb69f401c1\n",
            "  Stored in directory: /root/.cache/pip/wheels/9f/f5/07/7cd8017084dce4e93e84e92efd1e1d5334db05f2e83bcef74f\n",
            "Successfully built pyspark\n",
            "Installing collected packages: py4j, pyspark\n",
            "Successfully installed py4j-0.10.9.3 pyspark-3.2.1\n",
            "Collecting graphframes\n",
            "  Downloading graphframes-0.6-py2.py3-none-any.whl (18 kB)\n",
            "Collecting nose\n",
            "  Downloading nose-1.3.7-py3-none-any.whl (154 kB)\n",
            "\u001b[K     |████████████████████████████████| 154 kB 4.2 MB/s \n",
            "\u001b[?25hRequirement already satisfied: numpy in /usr/local/lib/python3.7/dist-packages (from graphframes) (1.21.5)\n",
            "Installing collected packages: nose, graphframes\n",
            "Successfully installed graphframes-0.6 nose-1.3.7\n",
            "The following package was automatically installed and is no longer required:\n",
            "  libnvidia-common-470\n",
            "Use 'apt autoremove' to remove it.\n",
            "The following additional packages will be installed:\n",
            "  openjdk-8-jre-headless\n",
            "Suggested packages:\n",
            "  openjdk-8-demo openjdk-8-source libnss-mdns fonts-dejavu-extra\n",
            "  fonts-ipafont-gothic fonts-ipafont-mincho fonts-wqy-microhei\n",
            "  fonts-wqy-zenhei fonts-indic\n",
            "The following NEW packages will be installed:\n",
            "  openjdk-8-jdk-headless openjdk-8-jre-headless\n",
            "0 upgraded, 2 newly installed, 0 to remove and 39 not upgraded.\n",
            "Need to get 36.5 MB of archives.\n",
            "After this operation, 143 MB of additional disk space will be used.\n",
            "Selecting previously unselected package openjdk-8-jre-headless:amd64.\n",
            "(Reading database ... 155320 files and directories currently installed.)\n",
            "Preparing to unpack .../openjdk-8-jre-headless_8u312-b07-0ubuntu1~18.04_amd64.deb ...\n",
            "Unpacking openjdk-8-jre-headless:amd64 (8u312-b07-0ubuntu1~18.04) ...\n",
            "Selecting previously unselected package openjdk-8-jdk-headless:amd64.\n",
            "Preparing to unpack .../openjdk-8-jdk-headless_8u312-b07-0ubuntu1~18.04_amd64.deb ...\n",
            "Unpacking openjdk-8-jdk-headless:amd64 (8u312-b07-0ubuntu1~18.04) ...\n",
            "Setting up openjdk-8-jre-headless:amd64 (8u312-b07-0ubuntu1~18.04) ...\n",
            "update-alternatives: using /usr/lib/jvm/java-8-openjdk-amd64/jre/bin/orbd to provide /usr/bin/orbd (orbd) in auto mode\n",
            "update-alternatives: using /usr/lib/jvm/java-8-openjdk-amd64/jre/bin/servertool to provide /usr/bin/servertool (servertool) in auto mode\n",
            "update-alternatives: using /usr/lib/jvm/java-8-openjdk-amd64/jre/bin/tnameserv to provide /usr/bin/tnameserv (tnameserv) in auto mode\n",
            "Setting up openjdk-8-jdk-headless:amd64 (8u312-b07-0ubuntu1~18.04) ...\n",
            "update-alternatives: using /usr/lib/jvm/java-8-openjdk-amd64/bin/idlj to provide /usr/bin/idlj (idlj) in auto mode\n",
            "update-alternatives: using /usr/lib/jvm/java-8-openjdk-amd64/bin/wsimport to provide /usr/bin/wsimport (wsimport) in auto mode\n",
            "update-alternatives: using /usr/lib/jvm/java-8-openjdk-amd64/bin/jsadebugd to provide /usr/bin/jsadebugd (jsadebugd) in auto mode\n",
            "update-alternatives: using /usr/lib/jvm/java-8-openjdk-amd64/bin/native2ascii to provide /usr/bin/native2ascii (native2ascii) in auto mode\n",
            "update-alternatives: using /usr/lib/jvm/java-8-openjdk-amd64/bin/javah to provide /usr/bin/javah (javah) in auto mode\n",
            "update-alternatives: using /usr/lib/jvm/java-8-openjdk-amd64/bin/hsdb to provide /usr/bin/hsdb (hsdb) in auto mode\n",
            "update-alternatives: using /usr/lib/jvm/java-8-openjdk-amd64/bin/clhsdb to provide /usr/bin/clhsdb (clhsdb) in auto mode\n",
            "update-alternatives: using /usr/lib/jvm/java-8-openjdk-amd64/bin/xjc to provide /usr/bin/xjc (xjc) in auto mode\n",
            "update-alternatives: using /usr/lib/jvm/java-8-openjdk-amd64/bin/schemagen to provide /usr/bin/schemagen (schemagen) in auto mode\n",
            "update-alternatives: using /usr/lib/jvm/java-8-openjdk-amd64/bin/extcheck to provide /usr/bin/extcheck (extcheck) in auto mode\n",
            "update-alternatives: using /usr/lib/jvm/java-8-openjdk-amd64/bin/jhat to provide /usr/bin/jhat (jhat) in auto mode\n",
            "update-alternatives: using /usr/lib/jvm/java-8-openjdk-amd64/bin/wsgen to provide /usr/bin/wsgen (wsgen) in auto mode\n",
            "  % Total    % Received % Xferd  Average Speed   Time    Time     Time  Current\n",
            "                                 Dload  Upload   Total   Spent    Left  Speed\n",
            "100  242k  100  242k    0     0  1058k      0 --:--:-- --:--:-- --:--:-- 1053k\n"
          ]
        }
      ],
      "source": [
        "!pip install pyspark\n",
        "!pip install graphframes\n",
        "!pip install -U -q PyDrive\n",
        "!apt install openjdk-8-jdk-headless -qq\n",
        "!curl -L -o \"/usr/local/lib/python3.7/dist-packages/pyspark/jars/graphframes-0.8.1-spark3.0-s_2.12.jar\" https://repos.spark-packages.org/graphframes/graphframes/0.8.1-spark3.0-s_2.12/graphframes-0.8.1-spark3.0-s_2.12.jar\n",
        "import os\n",
        "os.environ[\"JAVA_HOME\"] = \"/usr/lib/jvm/java-8-openjdk-amd64\""
      ]
    },
    {
      "cell_type": "markdown",
      "metadata": {
        "id": "LHtukwBPl9Nv"
      },
      "source": [
        "The cell below will download the dataset from S3 to us-congress-tweets directory"
      ]
    },
    {
      "cell_type": "code",
      "execution_count": 2,
      "metadata": {
        "colab": {
          "base_uri": "https://localhost:8080/"
        },
        "id": "AWGZu0fZ5Yv9",
        "outputId": "07dbfe3d-97f1-437f-849f-7b31f5757a37"
      },
      "outputs": [
        {
          "output_type": "stream",
          "name": "stdout",
          "text": [
            "--2022-03-07 00:34:40--  https://us-congress.s3.amazonaws.com/congress_members.csv\n",
            "Resolving us-congress.s3.amazonaws.com (us-congress.s3.amazonaws.com)... 52.217.36.132\n",
            "Connecting to us-congress.s3.amazonaws.com (us-congress.s3.amazonaws.com)|52.217.36.132|:443... connected.\n",
            "HTTP request sent, awaiting response... 200 OK\n",
            "Length: 13835 (14K) [text/csv]\n",
            "Saving to: ‘us-congress-tweets/congress_members.csv’\n",
            "\n",
            "us-congress-tweets/ 100%[===================>]  13.51K  --.-KB/s    in 0s      \n",
            "\n",
            "2022-03-07 00:34:41 (37.7 MB/s) - ‘us-congress-tweets/congress_members.csv’ saved [13835/13835]\n",
            "\n",
            "--2022-03-07 00:34:41--  https://us-congress.s3.amazonaws.com/tweets-sample-400k.json\n",
            "Resolving us-congress.s3.amazonaws.com (us-congress.s3.amazonaws.com)... 52.217.36.132\n",
            "Connecting to us-congress.s3.amazonaws.com (us-congress.s3.amazonaws.com)|52.217.36.132|:443... connected.\n",
            "HTTP request sent, awaiting response... 200 OK\n",
            "Length: 202495914 (193M) [application/json]\n",
            "Saving to: ‘us-congress-tweets/tweets-sample-400k.json’\n",
            "\n",
            "us-congress-tweets/ 100%[===================>] 193.11M  16.2MB/s    in 13s     \n",
            "\n",
            "2022-03-07 00:34:55 (14.4 MB/s) - ‘us-congress-tweets/tweets-sample-400k.json’ saved [202495914/202495914]\n",
            "\n",
            "--2022-03-07 00:34:55--  https://us-congress.s3.amazonaws.com/user_hashtags-1m.csv\n",
            "Resolving us-congress.s3.amazonaws.com (us-congress.s3.amazonaws.com)... 52.216.108.179\n",
            "Connecting to us-congress.s3.amazonaws.com (us-congress.s3.amazonaws.com)|52.216.108.179|:443... connected.\n",
            "HTTP request sent, awaiting response... 200 OK\n",
            "Length: 25248825 (24M) [text/csv]\n",
            "Saving to: ‘us-congress-tweets/user_hashtags-1m.csv’\n",
            "\n",
            "us-congress-tweets/ 100%[===================>]  24.08M  8.88MB/s    in 2.7s    \n",
            "\n",
            "2022-03-07 00:34:59 (8.88 MB/s) - ‘us-congress-tweets/user_hashtags-1m.csv’ saved [25248825/25248825]\n",
            "\n",
            "--2022-03-07 00:34:59--  https://us-congress.s3.amazonaws.com/user_mentions.csv\n",
            "Resolving us-congress.s3.amazonaws.com (us-congress.s3.amazonaws.com)... 54.231.128.65\n",
            "Connecting to us-congress.s3.amazonaws.com (us-congress.s3.amazonaws.com)|54.231.128.65|:443... connected.\n",
            "HTTP request sent, awaiting response... 200 OK\n",
            "Length: 56151953 (54M) [text/csv]\n",
            "Saving to: ‘us-congress-tweets/user_mentions.csv’\n",
            "\n",
            "us-congress-tweets/ 100%[===================>]  53.55M  14.6MB/s    in 4.7s    \n",
            "\n",
            "2022-03-07 00:35:04 (11.4 MB/s) - ‘us-congress-tweets/user_mentions.csv’ saved [56151953/56151953]\n",
            "\n"
          ]
        }
      ],
      "source": [
        "!mkdir us-congress-tweets\n",
        "!wget https://us-congress.s3.amazonaws.com/congress_members.csv -O us-congress-tweets/congress_members.csv\n",
        "!wget https://us-congress.s3.amazonaws.com/tweets-sample-400k.json -O us-congress-tweets/tweets-sample-400k.json\n",
        "!wget https://us-congress.s3.amazonaws.com/user_hashtags-1m.csv -O us-congress-tweets/user_hashtags-1m.csv\n",
        "!wget https://us-congress.s3.amazonaws.com/user_mentions.csv -O us-congress-tweets/user_mentions.csv"
      ]
    },
    {
      "cell_type": "code",
      "execution_count": 3,
      "metadata": {
        "id": "bWOQNZBaXPgs"
      },
      "outputs": [],
      "source": [
        "import pandas as pd\n",
        "import numpy as np\n",
        "import matplotlib.pyplot as plt\n",
        "%matplotlib inline\n",
        "\n",
        "import pyspark\n",
        "from pyspark.sql import *\n",
        "from pyspark.sql.types import *\n",
        "from pyspark import SparkContext, SparkConf"
      ]
    },
    {
      "cell_type": "code",
      "execution_count": 4,
      "metadata": {
        "id": "FG8qQdgRXViL"
      },
      "outputs": [],
      "source": [
        "# create a Spark session\n",
        "conf = SparkConf().set(\"spark.ui.port\", \"4050\").set('spark.executor.memory', '4g').set('spark.driver.memory', '6g')\n",
        "\n",
        "# create a Spark context\n",
        "sc = pyspark.SparkContext(conf=conf)\n",
        "spark = SparkSession.builder.getOrCreate()\n"
      ]
    },
    {
      "cell_type": "code",
      "execution_count": 5,
      "metadata": {
        "colab": {
          "base_uri": "https://localhost:8080/"
        },
        "id": "7jZpT_HS5sT5",
        "outputId": "be2d2461-4352-4252-a1f5-6c432ca098b5"
      },
      "outputs": [
        {
          "output_type": "stream",
          "name": "stdout",
          "text": [
            "--2022-03-07 00:35:12--  https://bin.equinox.io/c/4VmDzA7iaHb/ngrok-stable-linux-amd64.zip\n",
            "Resolving bin.equinox.io (bin.equinox.io)... 18.205.222.128, 54.161.241.46, 54.237.133.81, ...\n",
            "Connecting to bin.equinox.io (bin.equinox.io)|18.205.222.128|:443... connected.\n",
            "HTTP request sent, awaiting response... 200 OK\n",
            "Length: 13832437 (13M) [application/octet-stream]\n",
            "Saving to: ‘ngrok-stable-linux-amd64.zip’\n",
            "\n",
            "ngrok-stable-linux- 100%[===================>]  13.19M  6.06MB/s    in 2.2s    \n",
            "\n",
            "2022-03-07 00:35:15 (6.06 MB/s) - ‘ngrok-stable-linux-amd64.zip’ saved [13832437/13832437]\n",
            "\n",
            "Archive:  ngrok-stable-linux-amd64.zip\n",
            "  inflating: ngrok                   \n",
            "Authtoken saved to configuration file: /root/.ngrok2/ngrok.yml\n",
            "authtoken: 25WdIriXJ0XxCJxPpdpVzNRaP80_7nMVhzVy7gcRsRcUkNZ17\n",
            "Traceback (most recent call last):\n",
            "  File \"<string>\", line 1, in <module>\n",
            "IndexError: list index out of range\n"
          ]
        }
      ],
      "source": [
        "!wget https://bin.equinox.io/c/4VmDzA7iaHb/ngrok-stable-linux-amd64.zip\n",
        "!unzip ngrok-stable-linux-amd64.zip\n",
        "!./ngrok authtoken 25WdIriXJ0XxCJxPpdpVzNRaP80_7nMVhzVy7gcRsRcUkNZ17\n",
        "!cat ~/.ngrok2/ngrok.yml\n",
        "get_ipython().system_raw('./ngrok http 4050 &')\n",
        "!curl -s http://localhost:4040/api/tunnels | python3 -c \"import sys, json; print(json.load(sys.stdin)['tunnels'][0]['public_url'])\""
      ]
    },
    {
      "cell_type": "code",
      "execution_count": 6,
      "metadata": {
        "colab": {
          "base_uri": "https://localhost:8080/"
        },
        "id": "h6qAn1XJWueC",
        "outputId": "cc64c01b-2aaf-4718-85ad-bb15fd467ff2"
      },
      "outputs": [
        {
          "output_type": "stream",
          "name": "stdout",
          "text": [
            "+------------------+---------------+\n",
            "|            userid|    screen_name|\n",
            "+------------------+---------------+\n",
            "|         776664410|  RepCartwright|\n",
            "|         240363117|   RepTomMarino|\n",
            "|837722935095930883| RepScottTaylor|\n",
            "|        1069124515|     RepLaMalfa|\n",
            "|818460870573441028|  RepTomGarrett|\n",
            "|         163570705|     repcleaver|\n",
            "|          19739126|      GOPLeader|\n",
            "|          33563161| RepJoseSerrano|\n",
            "|        2861616083|USRepGaryPalmer|\n",
            "|        1074518754| SenatorBaldwin|\n",
            "|         305620929|  Call_Me_Dutch|\n",
            "|         381152398| RepTerriSewell|\n",
            "|         834069080| RepDavidRouzer|\n",
            "|         249787913|  SenatorCarper|\n",
            "|         188019606|        Clyburn|\n",
            "|         217543151|SenatorTimScott|\n",
            "|          39249305| USRepMikeDoyle|\n",
            "|          33537967|   amyklobuchar|\n",
            "|         249410485|  SanfordBishop|\n",
            "|          23124635|    TomColeOK04|\n",
            "+------------------+---------------+\n",
            "only showing top 20 rows\n",
            "\n",
            "Number of congress members tracked: 576\n"
          ]
        }
      ],
      "source": [
        "# First let's read Twitter ids and screen names of the 576 US congress members\n",
        "\n",
        "congress_members = spark.read.csv(\"us-congress-tweets/congress_members.csv\", header=True)\n",
        "congress_members.show()\n",
        "print(\"Number of congress members tracked:\", congress_members.count())"
      ]
    },
    {
      "cell_type": "markdown",
      "metadata": {
        "id": "eOfjGbB6WueF"
      },
      "source": [
        "We can use `spark.read.json(...)` without schema to load the tweets into a dataframe but this will be slow for two reasons:\n",
        "* First, it will make one pass over the data to build a schema of the content, then a second pass to read the content and parse it to the dataframe. \n",
        "* It will read all the content of the Tweet JSON objects but we only need few fields for a given task.\n",
        "\n",
        "Thus we define our own schema something like the following:"
      ]
    },
    {
      "cell_type": "code",
      "execution_count": 7,
      "metadata": {
        "id": "JLBnQUluWueG"
      },
      "outputs": [],
      "source": [
        "from pyspark.sql.types import *\n",
        "import pyspark.sql.functions as F\n",
        "twitter_date_format=\"EEE MMM dd HH:mm:ss ZZZZZ yyyy\"\n",
        "\n",
        "user_schema = StructType([\n",
        "    StructField('created_at', TimestampType(), True),\n",
        "    StructField('followers_count', LongType(), True),\n",
        "    StructField('id', LongType(), True),\n",
        "    StructField('name', StringType(), True),\n",
        "    StructField('screen_name', StringType(), True)\n",
        "])\n",
        "\n",
        "hashtag_schema = ArrayType(StructType([StructField('text', StringType(), True)]))\n",
        "user_mentions_schema = ArrayType(StructType([StructField('id', LongType(), True),\n",
        "                                             StructField('screen_name', StringType(), True)]))\n",
        "entities_schema = StructType([\n",
        "    StructField('hashtags', hashtag_schema, True),\n",
        "    StructField('user_mentions', user_mentions_schema, True)\n",
        "    ])\n",
        "\n",
        "retweeted_status_schema =StructType([        \n",
        "        StructField(\"id\", LongType(), True),\n",
        "        StructField(\"in_reply_to_user_id\", LongType(), True),\n",
        "        StructField(\"in_reply_to_status_id\", LongType(), True),\n",
        "        StructField(\"created_at\", TimestampType(), True),\n",
        "        StructField(\"user\", user_schema)\n",
        "    ])\n",
        "\n",
        "tweet_schema =StructType([\n",
        "        StructField(\"text\", StringType(), True),\n",
        "        StructField(\"id\", LongType(), True),\n",
        "        StructField(\"in_reply_to_user_id\", LongType(), True),\n",
        "        StructField(\"in_reply_to_status_id\", LongType(), True),\n",
        "        StructField(\"created_at\", TimestampType(), True),\n",
        "        StructField(\"user\", user_schema),\n",
        "        StructField(\"entities\", entities_schema),\n",
        "        StructField(\"retweeted_status\", retweeted_status_schema)\n",
        "    ])"
      ]
    },
    {
      "cell_type": "markdown",
      "metadata": {
        "id": "i6xAE5NXWueH"
      },
      "source": [
        "Now we are ready to read the tweets with `spark.read.json` passing our own schema as follows:"
      ]
    },
    {
      "cell_type": "code",
      "execution_count": 8,
      "metadata": {
        "colab": {
          "base_uri": "https://localhost:8080/"
        },
        "id": "QZa4FIDAWueH",
        "outputId": "8015837c-4a1b-44d7-ec51-2497da2dcf94"
      },
      "outputs": [
        {
          "output_type": "stream",
          "name": "stdout",
          "text": [
            "root\n",
            " |-- text: string (nullable = true)\n",
            " |-- id: long (nullable = true)\n",
            " |-- in_reply_to_user_id: long (nullable = true)\n",
            " |-- in_reply_to_status_id: long (nullable = true)\n",
            " |-- created_at: timestamp (nullable = true)\n",
            " |-- user: struct (nullable = true)\n",
            " |    |-- created_at: timestamp (nullable = true)\n",
            " |    |-- followers_count: long (nullable = true)\n",
            " |    |-- id: long (nullable = true)\n",
            " |    |-- name: string (nullable = true)\n",
            " |    |-- screen_name: string (nullable = true)\n",
            " |-- entities: struct (nullable = true)\n",
            " |    |-- hashtags: array (nullable = true)\n",
            " |    |    |-- element: struct (containsNull = true)\n",
            " |    |    |    |-- text: string (nullable = true)\n",
            " |    |-- user_mentions: array (nullable = true)\n",
            " |    |    |-- element: struct (containsNull = true)\n",
            " |    |    |    |-- id: long (nullable = true)\n",
            " |    |    |    |-- screen_name: string (nullable = true)\n",
            " |-- retweeted_status: struct (nullable = true)\n",
            " |    |-- id: long (nullable = true)\n",
            " |    |-- in_reply_to_user_id: long (nullable = true)\n",
            " |    |-- in_reply_to_status_id: long (nullable = true)\n",
            " |    |-- created_at: timestamp (nullable = true)\n",
            " |    |-- user: struct (nullable = true)\n",
            " |    |    |-- created_at: timestamp (nullable = true)\n",
            " |    |    |-- followers_count: long (nullable = true)\n",
            " |    |    |-- id: long (nullable = true)\n",
            " |    |    |-- name: string (nullable = true)\n",
            " |    |    |-- screen_name: string (nullable = true)\n",
            " |-- user_id: long (nullable = true)\n",
            "\n"
          ]
        }
      ],
      "source": [
        "tweets = spark.read.option(\"timestampFormat\", twitter_date_format)\\\n",
        "                   .json('us-congress-tweets/tweets-sample-400k.json', tweet_schema)\\\n",
        "                   .withColumn('user_id',F.col('user.id'))\n",
        "tweets.printSchema()"
      ]
    },
    {
      "cell_type": "markdown",
      "metadata": {
        "id": "HyAc0ou-WueI"
      },
      "source": [
        "## (30 points) Part 1: Let's Fire up Spark for Real\n",
        "\n",
        "Okay, now that we've finally got our data loaded, we are ready to get our hands dirty with Spark. As you know, Spark comes with lots of built-in functions and nice capabilities. Indeed, you will find that to answer the problems below, there are **many** possible approaches. Please refer to the Stanford Spark tutorial we posted alongside this homework. Also feel free to Google around for some Spark resources, but we list a few here to get you started:\n",
        "\n",
        "* https://spark.apache.org/docs/latest/sql-ref-functions-builtin.html#aggregate-functions\n",
        "* https://spark.apache.org/docs/latest/sql-getting-started.html#running-sql-queries-programmatically\n"
      ]
    },
    {
      "cell_type": "markdown",
      "metadata": {
        "id": "EFo2xXh1WueI"
      },
      "source": [
        "### Exploratory Data Analysis\n",
        "\n",
        "a) How many unique users are there? "
      ]
    },
    {
      "cell_type": "code",
      "execution_count": 9,
      "metadata": {
        "colab": {
          "base_uri": "https://localhost:8080/"
        },
        "id": "4sBuSa9r7hO9",
        "outputId": "274e0d21-d690-432f-b4ff-a5a2213554f1"
      },
      "outputs": [
        {
          "output_type": "execute_result",
          "data": {
            "text/plain": [
              "198098"
            ]
          },
          "metadata": {},
          "execution_count": 9
        }
      ],
      "source": [
        "tweets.select('user_id').distinct().count()"
      ]
    },
    {
      "cell_type": "code",
      "execution_count": 10,
      "metadata": {
        "colab": {
          "base_uri": "https://localhost:8080/"
        },
        "id": "Dmb2lRy-nsgk",
        "outputId": "84cc6db0-7793-4019-d694-8bb2a1aeb1f9"
      },
      "outputs": [
        {
          "output_type": "stream",
          "name": "stdout",
          "text": [
            "+--------------------+-------------------+-------------------+---------------------+-------------------+--------------------+--------------------+--------------------+-------------------+\n",
            "|                text|                 id|in_reply_to_user_id|in_reply_to_status_id|         created_at|                user|            entities|    retweeted_status|            user_id|\n",
            "+--------------------+-------------------+-------------------+---------------------+-------------------+--------------------+--------------------+--------------------+-------------------+\n",
            "|RT @maddow: \"I he...|1047999818038050816|               null|                 null|2018-10-05 00:00:02|{2017-03-22 03:11...|{[], [{16129920, ...|{1047941326975766...| 844386122822119424|\n",
            "|@ChuckGrassley @S...|1047999818579292160|           10615232|                 null|2018-10-05 00:00:02|{2016-01-29 01:49...|{[], [{10615232, ...|                null|         4828166688|\n",
            "|RT @cm_merlin: @f...|1048000082237247488|               null|                 null|2018-10-05 00:01:05|{2016-09-10 05:42...|{[], [{28241597, ...|{1047988201678286...| 774483262693527553|\n",
            "|RT @SenJeffMerkle...|1048000473037524993|               null|                 null|2018-10-05 00:02:38|{2012-11-17 11:39...|{[], [{29201047, ...|{1047893222859534...|          953411978|\n",
            "|RT @SenJeffMerkle...|1048000484429189122|               null|                 null|2018-10-05 00:02:41|{2009-01-19 12:16...|{[], [{29201047, ...|{1047893222859534...|           19181136|\n",
            "|RT @SenDuckworth:...|1048000750700388353|               null|                 null|2018-10-05 00:03:44|{2013-08-12 15:50...|{[], [{1058520120...|{1047940472319234...|         1665358626|\n",
            "|RT @SenSchumer: A...|1048001191857332224|               null|                 null|2018-10-05 00:05:29|{2016-09-16 00:55...|{[], [{17494010, ...|{1047947859193159...| 776585315796520964|\n",
            "|Kavanaugh -cry me...|1048001205253931013|               null|                 null|2018-10-05 00:05:32|{2016-07-21 03:18...|            {[], []}|                null| 755965235698163712|\n",
            "|My only hope is i...|1048001311315283970|               null|                 null|2018-10-05 00:05:58|{2017-10-18 19:47...|            {[], []}|                null| 920738142151434240|\n",
            "|@Cain3707 @sween0...|1048001436242665472|          248050894|  1047952882002096128|2018-10-05 00:06:27|{2014-11-21 10:15...|{[], [{248050894,...|                null|         2886735226|\n",
            "|@cspan @ChuckGras...|1048001488235220993|           15675138|  1047927411885715457|2018-10-05 00:06:40|{2017-01-23 02:14...|{[], [{15675138, ...|                null| 823353078116061185|\n",
            "|@Imagine__Active ...|1048001571269857280| 968621023590526976|  1047635407184302080|2018-10-05 00:07:00|{2012-04-30 21:26...|{[], [{9686210235...|                null|          567650394|\n",
            "|RT @taradublinroc...|1048001759044501504|               null|                 null|2018-10-05 00:07:44|{2009-08-18 19:32...|{[], [{51241418, ...|{1048001674973831...|           66774765|\n",
            "|@kathygriffin @Ch...|1048002384251768832|           21148293|  1047922777045360640|2018-10-05 00:10:14|{2009-04-04 12:47...|{[], [{21148293, ...|                null|           28786507|\n",
            "|@senorrinhatch @j...|1048002584852615168|          262756641|  1047938919336202240|2018-10-05 00:11:01|{2014-09-16 22:18...|{[], [{262756641,...|                null|         2813802565|\n",
            "|RT @SenKamalaHarr...|1048002631967236096|               null|                 null|2018-10-05 00:11:13|{2011-08-19 01:57...|{[], [{8036941790...|{1047895857226534...|          357889492|\n",
            "|RT @SenatorMenend...|1048002708354027520|               null|                 null|2018-10-05 00:11:31|{2014-02-13 11:41...|{[], [{18695134, ...|{1047924865427263...|         2341140539|\n",
            "|RT @pgiubilo: @co...|1048002805972127744|               null|                 null|2018-10-05 00:11:54|{2018-07-04 03:09...|{[], [{256238551,...|{1047999089697345...|1014345374310518785|\n",
            "|@missrebuttal @al...|1048002893347868672|          267431345|  1048000150998634497|2018-10-05 00:12:15|{2012-05-11 22:54...|{[], [{267431345,...|                null|          577530814|\n",
            "|RT @RealCandaceO:...|1048003074495864839|               null|                 null|2018-10-05 00:12:58|{2017-02-05 04:27...|{[], [{8782476000...|{1047910474971529...| 828097715116482560|\n",
            "+--------------------+-------------------+-------------------+---------------------+-------------------+--------------------+--------------------+--------------------+-------------------+\n",
            "only showing top 20 rows\n",
            "\n",
            "root\n",
            " |-- text: string (nullable = true)\n",
            " |-- id: long (nullable = true)\n",
            " |-- in_reply_to_user_id: long (nullable = true)\n",
            " |-- in_reply_to_status_id: long (nullable = true)\n",
            " |-- created_at: timestamp (nullable = true)\n",
            " |-- user: struct (nullable = true)\n",
            " |    |-- created_at: timestamp (nullable = true)\n",
            " |    |-- followers_count: long (nullable = true)\n",
            " |    |-- id: long (nullable = true)\n",
            " |    |-- name: string (nullable = true)\n",
            " |    |-- screen_name: string (nullable = true)\n",
            " |-- entities: struct (nullable = true)\n",
            " |    |-- hashtags: array (nullable = true)\n",
            " |    |    |-- element: struct (containsNull = true)\n",
            " |    |    |    |-- text: string (nullable = true)\n",
            " |    |-- user_mentions: array (nullable = true)\n",
            " |    |    |-- element: struct (containsNull = true)\n",
            " |    |    |    |-- id: long (nullable = true)\n",
            " |    |    |    |-- screen_name: string (nullable = true)\n",
            " |-- retweeted_status: struct (nullable = true)\n",
            " |    |-- id: long (nullable = true)\n",
            " |    |-- in_reply_to_user_id: long (nullable = true)\n",
            " |    |-- in_reply_to_status_id: long (nullable = true)\n",
            " |    |-- created_at: timestamp (nullable = true)\n",
            " |    |-- user: struct (nullable = true)\n",
            " |    |    |-- created_at: timestamp (nullable = true)\n",
            " |    |    |-- followers_count: long (nullable = true)\n",
            " |    |    |-- id: long (nullable = true)\n",
            " |    |    |-- name: string (nullable = true)\n",
            " |    |    |-- screen_name: string (nullable = true)\n",
            " |-- user_id: long (nullable = true)\n",
            "\n"
          ]
        }
      ],
      "source": [
        "tweets.show()\n",
        "tweets.printSchema()"
      ]
    },
    {
      "cell_type": "markdown",
      "metadata": {
        "id": "zY5_nDCCWueM"
      },
      "source": [
        "b) How many times is the user **GOPLeader** mentioned?\n"
      ]
    },
    {
      "cell_type": "code",
      "execution_count": 11,
      "metadata": {
        "id": "YrkN__kuWueM",
        "colab": {
          "base_uri": "https://localhost:8080/"
        },
        "outputId": "c52ca671-057d-465c-e81e-58b37febc575"
      },
      "outputs": [
        {
          "output_type": "execute_result",
          "data": {
            "text/plain": [
              "4728"
            ]
          },
          "metadata": {},
          "execution_count": 11
        }
      ],
      "source": [
        "# code here\n",
        "a = tweets.select(tweets.id, F.explode(tweets.entities.user_mentions.screen_name).alias(\"userMention\"))\n",
        "a.filter(a.userMention == \"GOPLeader\").distinct().count()"
      ]
    },
    {
      "cell_type": "markdown",
      "metadata": {
        "id": "BIwGhG_OWueN"
      },
      "source": [
        "c) Now find the top-5 most mentioned members of Congress."
      ]
    },
    {
      "cell_type": "code",
      "execution_count": 12,
      "metadata": {
        "id": "fztHxTpyWueN",
        "colab": {
          "base_uri": "https://localhost:8080/"
        },
        "outputId": "9dd97731-f760-4014-e8fb-1c006903780e"
      },
      "outputs": [
        {
          "output_type": "stream",
          "name": "stdout",
          "text": [
            "+----------+---------------+----------+-----+\n",
            "|    userid|    screen_name|       col|count|\n",
            "+----------+---------------+----------+-----+\n",
            "|  15764644|    NancyPelosi|  15764644|16006|\n",
            "|1249982359|   senatemajldr|1249982359|14903|\n",
            "| 432895323|LindseyGrahamSC| 432895323|14251|\n",
            "|  17494010|     SenSchumer|  17494010|13636|\n",
            "|  29501253|  RepAdamSchiff|  29501253|13183|\n",
            "+----------+---------------+----------+-----+\n",
            "only showing top 5 rows\n",
            "\n"
          ]
        }
      ],
      "source": [
        "# code here\n",
        "import pyspark.sql.functions as F\n",
        "a = tweets.select(tweets.id, F.explode(tweets.entities.user_mentions.id)).withColumnRenamed('id', \"mentionedTweet_id\").distinct().groupBy('col').count()\n",
        "congress_members.join(a, a.col == congress_members.userid, \"inner\").sort(F.desc(\"count\")).show(5)"
      ]
    },
    {
      "cell_type": "markdown",
      "metadata": {
        "id": "kGuKUpyqZ2ZF"
      },
      "source": [
        "d) For each month in the dataset, report the top-5 most mentioned users (across all users in the dataset, not just the members of Congress). "
      ]
    },
    {
      "cell_type": "markdown",
      "source": [
        ""
      ],
      "metadata": {
        "id": "grzuEZu3aP3j"
      }
    },
    {
      "cell_type": "code",
      "execution_count": 13,
      "metadata": {
        "id": "cgdYVF2cZ2un",
        "colab": {
          "base_uri": "https://localhost:8080/"
        },
        "outputId": "4544a591-5475-4e55-de6a-d5582b808226"
      },
      "outputs": [
        {
          "output_type": "stream",
          "name": "stdout",
          "text": [
            "Month of January\n",
            "+-----+---------------+\n",
            "|count|    screen_name|\n",
            "+-----+---------------+\n",
            "| 4113|realDonaldTrump|\n",
            "| 3741|  SpeakerPelosi|\n",
            "| 3741|    NancyPelosi|\n",
            "| 2781|     SenSchumer|\n",
            "| 2557|   senatemajldr|\n",
            "+-----+---------------+\n",
            "only showing top 5 rows\n",
            "\n",
            "\n",
            "Month of February\n",
            "+-----+---------------+\n",
            "|count|    screen_name|\n",
            "+-----+---------------+\n",
            "| 1872|     marcorubio|\n",
            "| 1795|realDonaldTrump|\n",
            "| 1167|  RepAdamSchiff|\n",
            "| 1135|    NancyPelosi|\n",
            "| 1135|  SpeakerPelosi|\n",
            "+-----+---------------+\n",
            "only showing top 5 rows\n",
            "\n",
            "\n",
            "Month of March\n",
            "+-----+---------------+\n",
            "|count|    screen_name|\n",
            "+-----+---------------+\n",
            "| 2269|  RepAdamSchiff|\n",
            "| 1893|realDonaldTrump|\n",
            "| 1551|LindseyGrahamSC|\n",
            "| 1474|     marcorubio|\n",
            "| 1114|    NancyPelosi|\n",
            "+-----+---------------+\n",
            "only showing top 5 rows\n",
            "\n",
            "\n",
            "Month of April\n",
            "+-----+---------------+\n",
            "|count|    screen_name|\n",
            "+-----+---------------+\n",
            "| 1832|  RepAdamSchiff|\n",
            "| 1397|realDonaldTrump|\n",
            "| 1196|    NancyPelosi|\n",
            "| 1196|  SpeakerPelosi|\n",
            "|  963|     SenSchumer|\n",
            "+-----+---------------+\n",
            "only showing top 5 rows\n",
            "\n",
            "\n",
            "Month of May\n",
            "+-----+---------------+\n",
            "|count|    screen_name|\n",
            "+-----+---------------+\n",
            "| 1916|LindseyGrahamSC|\n",
            "| 1798|realDonaldTrump|\n",
            "| 1471|  SpeakerPelosi|\n",
            "| 1471|    NancyPelosi|\n",
            "| 1435|  RepAdamSchiff|\n",
            "+-----+---------------+\n",
            "only showing top 5 rows\n",
            "\n",
            "\n",
            "Month of June\n",
            "+-----+---------------+\n",
            "|count|    screen_name|\n",
            "+-----+---------------+\n",
            "| 1480|realDonaldTrump|\n",
            "| 1140|     SenSchumer|\n",
            "| 1002|   senatemajldr|\n",
            "|  963|LindseyGrahamSC|\n",
            "|  901|  SpeakerPelosi|\n",
            "+-----+---------------+\n",
            "only showing top 5 rows\n",
            "\n",
            "\n",
            "Month of July\n",
            "+-----+---------------+\n",
            "|count|    screen_name|\n",
            "+-----+---------------+\n",
            "| 3569|realDonaldTrump|\n",
            "| 2179|    RepCummings|\n",
            "| 1846|   senatemajldr|\n",
            "| 1747|  SpeakerPelosi|\n",
            "| 1747|    NancyPelosi|\n",
            "+-----+---------------+\n",
            "only showing top 5 rows\n",
            "\n",
            "\n",
            "Month of August\n",
            "+-----+---------------+\n",
            "|count|    screen_name|\n",
            "+-----+---------------+\n",
            "| 2424|   senatemajldr|\n",
            "| 1745|realDonaldTrump|\n",
            "|  830|LindseyGrahamSC|\n",
            "|  747|     SenSchumer|\n",
            "|  730|  RepAdamSchiff|\n",
            "+-----+---------------+\n",
            "only showing top 5 rows\n",
            "\n",
            "\n",
            "Month of September\n",
            "+-----+---------------+\n",
            "|count|    screen_name|\n",
            "+-----+---------------+\n",
            "| 1367|realDonaldTrump|\n",
            "| 1037|   senatemajldr|\n",
            "|  816|    NancyPelosi|\n",
            "|  816|  SpeakerPelosi|\n",
            "|  717|  RepAdamSchiff|\n",
            "+-----+---------------+\n",
            "only showing top 5 rows\n",
            "\n",
            "\n",
            "Month of October\n",
            "+-----+---------------+\n",
            "|count|    screen_name|\n",
            "+-----+---------------+\n",
            "| 2970| SenatorCollins|\n",
            "| 1624|      JeffFlake|\n",
            "| 1544|LindseyGrahamSC|\n",
            "| 1492|realDonaldTrump|\n",
            "| 1424|  lisamurkowski|\n",
            "+-----+---------------+\n",
            "only showing top 5 rows\n",
            "\n",
            "\n",
            "Month of November\n",
            "+-----+---------------+\n",
            "|count|    screen_name|\n",
            "+-----+---------------+\n",
            "| 1788|realDonaldTrump|\n",
            "| 1247|     marcorubio|\n",
            "| 1068|    RepSwalwell|\n",
            "| 1030|  SpeakerPelosi|\n",
            "| 1030|    NancyPelosi|\n",
            "+-----+---------------+\n",
            "only showing top 5 rows\n",
            "\n",
            "\n",
            "Month of December\n",
            "+-----+---------------+\n",
            "|count|    screen_name|\n",
            "+-----+---------------+\n",
            "| 1868|realDonaldTrump|\n",
            "| 1708|  SpeakerPelosi|\n",
            "| 1708|    NancyPelosi|\n",
            "| 1634|     SenSchumer|\n",
            "|  983|LindseyGrahamSC|\n",
            "+-----+---------------+\n",
            "only showing top 5 rows\n",
            "\n",
            "\n"
          ]
        }
      ],
      "source": [
        "# code here\n",
        "from pyspark.sql.functions import to_date, col, month, row_number\n",
        "from pyspark.sql.window import Window\n",
        "temp = tweets.select(F.explode(tweets.entities.user_mentions)).select(F.col(\"col.*\")).distinct()\n",
        "months = {1:\"January\", 2:\"February\", 3:\"March\", 4:\"April\", 5:\"May\", 6:\"June\", 7:\"July\", 8:\"August\", 9:\"September\", 10:\"October\", 11:\"November\", 12:\"December\"}\n",
        "for i in months.keys():\n",
        "  a = tweets.filter(month(col(\"created_at\")) == i)\n",
        "  b = a.select(a.id, F.explode(a.entities.user_mentions.id).alias('ID_user_mention'), month(a.created_at).alias('Month')).distinct()\n",
        "  b = b.groupBy('ID_user_mention').count()\n",
        "  print(\"Month of {}\".format(months[i]))\n",
        "  b.join(temp, b.ID_user_mention == temp.id, \"inner\").sort(col('count').desc()).drop('id', 'ID_user_mention').show(5)\n",
        "  print(\"\")"
      ]
    },
    {
      "cell_type": "markdown",
      "metadata": {
        "id": "51iGNYmNaUW1"
      },
      "source": [
        "e) Do you notice anything interesting in your monthly analysis?"
      ]
    },
    {
      "cell_type": "markdown",
      "metadata": {
        "id": "jSYkjX5QaYIf"
      },
      "source": [
        "*your answer here*\n",
        "\n",
        "From the monthly analysis, we can see that Donald Trump has always been in the top 5 of each month. It might be due to the upcoming elections. We also see that Speaker Pelosi was amongst the top 5 tweeters showing that she was an active member before the campaign too(she got elected as Speaker  of US House of Representatives in the year 2019). During 2018, there was a controversial bill for immigrants that Trump administration wanted to pass. This along with other revelations from attorney of Trump might be one of the reasons he has been mentioend so many times.\n",
        "\n",
        "Nancy Pelosi, in 2018, had been blamed by the republicans to encoruage uprisings against the Trump administration. She also gave an record breaking 8 hour speech that year on the plan for recipients of the Obama-era Deferred Action for Childhood Arrivals program (DACA), due which she was quite in the headlines in the month of Febrary.\n",
        "\n",
        "Eric Swalwell might have been mentioned a too many times due too his remark on confiscation of firearms and \"nuking\" anyone who opposes. This happened during the month of November, which is reflected from the analysis. Lisa Murkowski broke her ties from her party in the month of October and thu became the headlines in many news reports and twiter's mentions."
      ]
    },
    {
      "cell_type": "markdown",
      "metadata": {
        "id": "Ha2vrLOmWueh"
      },
      "source": [
        "## (25 points) Part 2: PageRank\n",
        "Now let's find out who are the most important users in the dataset by running PageRank over the mentions network. For this problem, we'll define a user-mentions network using relations in `us-congress-tweets/user_mentions.csv`. That is, each user is a node in the graph. If user A mentions user B, then there should be an edge from A to B.\n",
        "\n",
        "Hint:\n",
        "* Take a look at GraphFrames: https://graphframes.github.io/graphframes/docs/_site/user-guide.html\n"
      ]
    },
    {
      "cell_type": "code",
      "execution_count": 14,
      "metadata": {
        "id": "c1HwmZJCWueh",
        "colab": {
          "base_uri": "https://localhost:8080/"
        },
        "outputId": "0419d445-4328-4aa6-df4f-121d7414b09f"
      },
      "outputs": [
        {
          "output_type": "stream",
          "name": "stdout",
          "text": [
            "+------------------+----------+-----+\n",
            "|               src|       dst|count|\n",
            "+------------------+----------+-----+\n",
            "|917194889275699201|1249982359|    1|\n",
            "|917570582555779072| 251918778|    1|\n",
            "|         633674091| 432895323|   48|\n",
            "|913222391416934402| 432895323|  261|\n",
            "|         217574712|  47203904|    1|\n",
            "+------------------+----------+-----+\n",
            "only showing top 5 rows\n",
            "\n",
            "+-------------------+\n",
            "|                 id|\n",
            "+-------------------+\n",
            "|          508996900|\n",
            "|           53589935|\n",
            "|           30191308|\n",
            "|         1325721486|\n",
            "|1025446910218227712|\n",
            "+-------------------+\n",
            "only showing top 5 rows\n",
            "\n"
          ]
        }
      ],
      "source": [
        "# your network construction code here\n",
        "from graphframes import GraphFrame\n",
        "congress_members_graph = spark.read.csv(\"us-congress-tweets/user_mentions.csv\", header=True)\n",
        "congress_members_graph.show(5)\n",
        "final = congress_members_graph.select('src').union(congress_members_graph.select('dst')).distinct().withColumnRenamed('src','id')\n",
        "final.show(5)\n",
        "g = GraphFrame(final, congress_members_graph)"
      ]
    },
    {
      "cell_type": "markdown",
      "metadata": {
        "id": "Jg0R72ymwiyK"
      },
      "source": [
        "How many vertices are there in your network? And how many edges?"
      ]
    },
    {
      "cell_type": "code",
      "execution_count": 15,
      "metadata": {
        "id": "Z0_aNONPwotS",
        "colab": {
          "base_uri": "https://localhost:8080/"
        },
        "outputId": "799b3980-7d5b-4c01-fb56-b7e27da5d530"
      },
      "outputs": [
        {
          "output_type": "stream",
          "name": "stdout",
          "text": [
            "vertex count: 1133350\n",
            "edge count: 2064872\n"
          ]
        }
      ],
      "source": [
        "# your code\n",
        "print(\"vertex count: \"+ str(g.vertices.count()))\n",
        "print(\"edge count: \"+ str(g.edges.count()))"
      ]
    },
    {
      "cell_type": "markdown",
      "metadata": {
        "id": "_WMaKjp5Zlb8"
      },
      "source": [
        "Now you can run PageRank on the constructed network. Feel free to use the implementation provided as part of GraphFrames. Use a reset (or teleportation probability) of 0.15. "
      ]
    },
    {
      "cell_type": "code",
      "execution_count": 33,
      "metadata": {
        "id": "YHgs08vfWuei"
      },
      "outputs": [],
      "source": [
        "# your PageRank code here (should be pretty short since you're just calling a function)\n",
        "PR = g.pageRank(resetProbability=0.15, maxIter=20)"
      ]
    },
    {
      "cell_type": "markdown",
      "metadata": {
        "id": "XeWYZx8RZz9n"
      },
      "source": [
        "OK, let's see what we found. List the top-10 users based on the PageRank values calculated above."
      ]
    },
    {
      "cell_type": "code",
      "execution_count": 41,
      "metadata": {
        "id": "SMtXqwdDcS0V",
        "colab": {
          "base_uri": "https://localhost:8080/"
        },
        "outputId": "f9f3fa92-d89d-4bb4-93d5-e4cfaca9d21d"
      },
      "outputs": [
        {
          "output_type": "stream",
          "name": "stdout",
          "text": [
            "+------------------+------------------+-------------+\n",
            "|                id|          pagerank|  screen_name|\n",
            "+------------------+------------------+-------------+\n",
            "|          25073877|6811.7142315003375|         null|\n",
            "|         240393970| 6209.614895740228|RepJeffDuncan|\n",
            "|          15764644| 5192.227748818675|  NancyPelosi|\n",
            "|        1249982359| 5155.754790420783| senatemajldr|\n",
            "|822215679726100480|5096.8522186110085|         null|\n",
            "|          29442313|4690.8686339571905|   SenSanders|\n",
            "|          15745368| 4422.105425194594|   marcorubio|\n",
            "|         242555999| 4333.292191898515|SenWhitehouse|\n",
            "|          17494010| 4293.069505645255|   SenSchumer|\n",
            "|         242426145| 4275.492617256165|  RepMcGovern|\n",
            "+------------------+------------------+-------------+\n",
            "only showing top 10 rows\n",
            "\n"
          ]
        }
      ],
      "source": [
        "# Top 10 accounts \n",
        "temp = congress_members.select(col('userid'), col('screen_name')).distinct()\n",
        "pf = PR.vertices.select('id', 'pagerank')\n",
        "pf.join( temp, pf.id == temp.userid, \"left\").orderBy(col('pagerank'),ascending=False).drop('userid').show(10)"
      ]
    },
    {
      "cell_type": "markdown",
      "metadata": {
        "id": "ZuX2j4A-aFvz"
      },
      "source": [
        "What do you observe? are the top 10 users congress members? are there outsiders?\n",
        "\n",
        "Hint: You can use https://twitter.com/intent/user?user_id=? to find out more info about the users"
      ]
    },
    {
      "cell_type": "markdown",
      "metadata": {
        "id": "DN7PbajvzOea"
      },
      "source": [
        "*your analysis here*\n",
        "\n",
        "From the page rank analysis of the congress members, we can see that Null has the highest page rank. This account actually belonged to Donald Trump. But after his impeachment in 2020, his account has been removed from Twitter. Furthermore, in 2018, he wasnt a US Congressmen, thus no name is present in the databse. Following this is representatice Jeff Duncan and Nancy Pelosi. It is interesting to see the id \"822215679726100480\" too belongs to Donal Trump. The length of ID might show that this was a newly created account after the previous one was removed. We can see another interesting phenomena that, even though there are people millions of people following Bernie Sanders, he isnt at the top of the page rank list. Rather Jeff Duncan with a lower number of Followers and higer number of followings spars better in the page rank. This is due the fact that Bernie Sanders follows less number of people and currently we are just using a Vanilla page ranking algorithm"
      ]
    },
    {
      "cell_type": "markdown",
      "metadata": {
        "id": "NUcdJqltBYyf"
      },
      "source": [
        "## (5 points) Bonus Question (Optional)\n",
        "Until now you have explored different aspects of Spark to investigate tweets by the US Congress. For this (optional) bonus problem, please conduct your own investigation of the data. You can use any combinations of the data files to carry out your investigation. You may use any libraries in Spark that you like, but you must use Spark. Tell us what question motivates you, what you did, what you discovered, and why it is interesting. This is completely open-ended, but we are looking for compelling questions and insights. Good luck!\n",
        "\n"
      ]
    },
    {
      "cell_type": "markdown",
      "metadata": {
        "id": "w0DTKHMRDlkt"
      },
      "source": [
        "Feel free to add any number of code/text cells here for your answer!\n"
      ]
    },
    {
      "cell_type": "code",
      "execution_count": 51,
      "metadata": {
        "id": "uK7_5Q-4Djg1",
        "colab": {
          "base_uri": "https://localhost:8080/"
        },
        "outputId": "9ede050c-a364-44ca-e9c8-adb2d020c494"
      },
      "outputs": [
        {
          "output_type": "stream",
          "name": "stdout",
          "text": [
            "+-------------+-----+\n",
            "|         text|count|\n",
            "+-------------+-----+\n",
            "|    Venezuela| 1224|\n",
            "|  MoscowMitch| 1123|\n",
            "|TrumpShutdown|  705|\n",
            "|         MAGA|  535|\n",
            "|MuellerReport|  396|\n",
            "|  NancyPelosi|  349|\n",
            "| MaduroRegime|  347|\n",
            "|        Trump|  338|\n",
            "| BuildTheWall|  333|\n",
            "| GreenNewDeal|  297|\n",
            "|    Kavanaugh|  292|\n",
            "|     BREAKING|  277|\n",
            "| ForThePeople|  224|\n",
            "|       Maduro|  224|\n",
            "|    Democrats|  194|\n",
            "| DoWhatWeSaid|  179|\n",
            "|      Mueller|  174|\n",
            "|         SOTU|  173|\n",
            "|          GOP|  171|\n",
            "|          HR1|  168|\n",
            "+-------------+-----+\n",
            "only showing top 20 rows\n",
            "\n"
          ]
        }
      ],
      "source": [
        "tweets.select(F.explode(tweets.entities.hashtags)).select(\"col.*\").groupBy('text').count().orderBy('count', ascending=False).show()"
      ]
    },
    {
      "cell_type": "markdown",
      "source": [
        "* Venezuela has been the top mentions aside from US politicians due to crisis that erupted in 2018. Nicolas Maduro was the president then and he too is a top mention. During 2018, Maduro had won the re-elections of Venezulean government, but international observers said that it was fradulent. Due to his policies, there was hyperinflation and thus the currency fell and people came under the econimic crisis. Thus the hashtag \"MaduroRegime\". \n",
        "\n",
        "* Another few interesting hashtags related to same political incident are 'TrumpShutDown\"and \"BuildTheWall\". In 2018, Congress has passed a huge sanction for the wall meant for the construction on the border of US-Mexico. This move, by the Trump administration, was to keep the illegal immigrants from Mexico from crossing the border. However, it wasnt well received by the people.\n",
        "* Another interesting thing to note is the hashtag \"MoscowMitch\". Republican Leader Addison McConnell became infamous due to Democrats' allegations of him coluding with Putin to hinder USA's democratic elections because he blocked security measures for elections."
      ],
      "metadata": {
        "id": "Z-Lx6Ua4MJA8"
      }
    },
    {
      "cell_type": "markdown",
      "metadata": {
        "id": "KYqpssb-yE8a"
      },
      "source": [
        "## (20 points) Hubs and Authorities by Hand\n",
        "\n",
        "Consider the following graph (in adjacency list format):\n",
        "\n",
        "* A: B, D (that is, A links to B and to D)\n",
        "* B: D, E\n",
        "* C: D, E\n",
        "* D: F, G\n",
        "* E: C, D, G, H\n",
        "* F: \n",
        "* G: \n",
        "* H: C, G\n",
        "\n",
        "Find the hub and authority score for each node. Please normalize your final scores so they sum to 1."
      ]
    },
    {
      "cell_type": "markdown",
      "metadata": {
        "id": "n4vm-2xxy6qt"
      },
      "source": [
        "*show your steps here*\n",
        "**Iteration 0**\n",
        "\n",
        "> H(A) = 1 &emsp;&emsp; A(A) = 1\n",
        "\n",
        "> H(B) = 1 &emsp;&emsp; A(B) = 1\n",
        "\n",
        "> H(C) = 1 &emsp;&emsp; A(C) = 1\n",
        "\n",
        "> H(D) = 1 &emsp;&emsp; A(D) = 1\n",
        "\n",
        "> H(E) = 1 &emsp;&emsp; A(E) = 1\n",
        "\n",
        "> H(F) = 1 &emsp;&emsp; A(F) = 1\n",
        "\n",
        "> H(G) = 1 &emsp;&emsp; A(G) = 1\n",
        "\n",
        "> H(H) = 1 &emsp;&emsp; A(H) = 1\n",
        "\n",
        "\n",
        "---\n",
        "\n",
        "**Iteration 1**\n",
        "\n",
        "> H(A) = 2 &emsp;&emsp; A(A) = 0\n",
        "\n",
        "> H(B) = 2 &emsp;&emsp; A(B) = 1\n",
        "\n",
        "> H(C) = 2 &emsp;&emsp; A(C) = 2\n",
        "\n",
        "> H(D) = 2 &emsp;&emsp; A(D) = 4\n",
        "\n",
        "> H(E) = 4 &emsp;&emsp; A(E) = 2\n",
        "\n",
        "> H(F) = 0 &emsp;&emsp; A(F) = 1\n",
        "\n",
        "> H(G) = 0 &emsp;&emsp; A(G) = 3\n",
        "\n",
        "> H(H) = 2 &emsp;&emsp; A(H) = 1\n",
        "---\n",
        "**Iteration 2**\n",
        "\n",
        "> H(A) = 5 &emsp;&emsp; A(A) = 0\n",
        "\n",
        "> H(B) = 6 &emsp;&emsp; A(B) = 2\n",
        "\n",
        "> H(C) = 6 &emsp;&emsp; A(C) = 6\n",
        "\n",
        "> H(D) = 4 &emsp;&emsp; A(D) = 10\n",
        "\n",
        "> H(E) = 10 &emsp;&emsp; A(E) = 4\n",
        "\n",
        "> H(F) = 0 &emsp;&emsp; A(F) = 2\n",
        "\n",
        "> H(G) = 0 &emsp;&emsp; A(G) = 8\n",
        "\n",
        "> H(H) = 5 &emsp;&emsp; A(H) = 4\n",
        "---\n",
        "**Iteration 3**\n",
        "\n",
        "> H(A) = 12 &emsp;&emsp; A(A) = 0\n",
        "\n",
        "> H(B) = 14 &emsp;&emsp; A(B) = 5\n",
        "\n",
        "> H(C) = 14 &emsp;&emsp; A(C) = 15\n",
        "\n",
        "> H(D) = 10 &emsp;&emsp; A(D) = 27\n",
        "\n",
        "> H(E) = 28 &emsp;&emsp; A(E) = 12\n",
        "\n",
        "> H(F) = 0 &emsp;&emsp; A(F) = 4\n",
        "\n",
        "> H(G) = 0 &emsp;&emsp; A(G) = 19\n",
        "\n",
        "> H(H) = 14 &emsp;&emsp; A(H) = 10\n",
        "---\n",
        "**Iteration 4**\n",
        "\n",
        "> H(A) = 32 &emsp;&emsp; A(A) = 0\n",
        "\n",
        "> H(B) = 39 &emsp;&emsp; A(B) = 12\n",
        "\n",
        "> H(C) = 39 &emsp;&emsp; A(C) = 42\n",
        "\n",
        "> H(D) = 23 &emsp;&emsp; A(D) = 68\n",
        "\n",
        "> H(E) = 71 &emsp;&emsp; A(E) = 28\n",
        "\n",
        "> H(F) = 0 &emsp;&emsp; A(F) = 10\n",
        "\n",
        "> H(G) = 0 &emsp;&emsp; A(G) = 52\n",
        "\n",
        "> H(H) = 44 &emsp;&emsp; A(H) = 28\n",
        "---\n",
        "**Normalized***\n",
        "**Iteration 4**\n",
        "\n",
        "> H(A) = 32/238 = 0.129 &emsp;&emsp; A(A) = 0/240 = 0\n",
        "\n",
        "> H(B) = 39/238 = 0.157 &emsp;&emsp; A(B) = 12/240 = 0.05\n",
        "\n",
        "> H(C) = 39/238 = 0.157 &emsp;&emsp; A(C) = 42/240 = 0.18\n",
        "\n",
        "> H(D) = 23/238 = 0.092 &ensp;&emsp;&emsp; A(D) = 68/240 = 0.28\n",
        "\n",
        "> H(E) = 71/238 = 0.286 &ensp;&emsp;&emsp; A(E) = 28/240 = 0.12\n",
        "\n",
        "> H(F) = 0/238 = 0 &emsp;&emsp;&emsp;&emsp; A(F) = 10/240 = 0.04\n",
        "\n",
        "> H(G) = 0/238 = 0 &emsp;&emsp;&emsp;&emsp; A(G) = 52/240 = 0.22\n",
        "\n",
        "> H(H) = 34/238 = 0.177 &emsp;&emsp; A(H) = 28/240 = 0.12\n",
        "\n",
        "\n",
        "\n",
        "\n",
        "\n",
        "\n",
        "\n",
        "\n",
        "\n",
        "\n"
      ]
    },
    {
      "cell_type": "markdown",
      "metadata": {
        "id": "9hxh70yrxS50"
      },
      "source": [
        "## (25 points) LSH Problems from the Book\n",
        "\n",
        "From MMDS [Chapter 3](http://infolab.stanford.edu/~ullman/mmds/ch3n.pdf), do the following problems:\n",
        "\n",
        "* Exercise 3.1.2 (Page 78)\n",
        "* Exercise 3.2.2 (Page 81)\n",
        "* Exercise 3.3.3 (Page 90)\n",
        "* Exercise 3.4.1 (Page 96)\n",
        "* Exercise 3.4.2 (Page 96)\n",
        "\n",
        "Please add cells below with your answers (explanation and detail of calculation are required). \n"
      ]
    },
    {
      "cell_type": "markdown",
      "source": [
        "***Exercise 3.1.2 : Compute the Jaccard bag similarity of each pair of the following three bags:***\n",
        "\n",
        "***{1, 1, 1, 2}, {1, 1, 2, 2, 3}, and {1, 2, 3, 4}.***\n",
        "\n",
        "\n",
        "Soln:\n",
        "\n",
        "A = {1, 1, 1, 2} &emsp;&emsp;&emsp;B = {1, 1, 2, 2, 3}&emsp;&emsp;&emsp;C = {1, 2, 3, 4}\n",
        "\n",
        "A⋂B = {1, 1, 2} &emsp; A⋃B = {1, 1, 1, 2, 2, 3} &emsp; Jac Similarity = 3/6 =1/2\n",
        "\n",
        "A⋂C = {1, 2} &emsp; A⋃C = {1, 1, 1, 2, 3, 4} &emsp; Jac Similarity = 2/6 = 1/3\n",
        "\n",
        "B⋂C = {1, 2, 3} &emsp; B⋃C = {1, 1, 2, 2, 3, 4} &emsp; Jac Similarity = 3/6 = 1/2\n",
        "\n",
        "\n"
      ],
      "metadata": {
        "id": "PXjWsI8OMEAN"
      }
    },
    {
      "cell_type": "markdown",
      "source": [
        "***Exercise 3.2.2 : If we use the stop-word-based shingles of Section 3.2.4, and\n",
        "we take the stop words to be all the words of three or fewer letters, then what\n",
        "are the shingles in the first sentence of Section 3.2?***\n",
        "\n",
        "Soln:\n",
        "\n",
        "Following section 3.2.4 and making shingles with stop words followe by next two words regardless of not they were stop words we get:\n",
        "\n",
        "1. The most effective\n",
        "2. to represent documents\n",
        "3. for the purpose\n",
        "4. the purpose of\n",
        "5. of indentifying lexically\n",
        "6. is to construct\n",
        "7. to construct from\n",
        "8. from the document\n",
        "9. the document the\n",
        "10. the set of\n",
        "11. of short strings\n",
        "12. way to represent\n",
        "13. as sets for\n",
        "\n"
      ],
      "metadata": {
        "id": "Majg9WNBOE1k"
      }
    },
    {
      "cell_type": "markdown",
      "source": [
        "***Exercise 3.3.3 : In Fig. 3.6 is a matrix with six rows.***\n",
        "\n",
        "***(a) Compute the minhash signature for each column if we use the following\n",
        "three hash functions: h1(x) = 2x + 1 mod 6; h2(x) = 3x + 2 mod 6;\n",
        "h3(x) = 5x + 2 mod 6.***\n",
        "\n",
        "***(b) Which of these hash functions are true permutations?***\n",
        "\n",
        "Soln: \n",
        "\n",
        "Soln: _Original Matrix_: \n",
        "\n",
        "|Element | S1 | S2 | S3 | S4 |\n",
        "| --- | --- | --- | ---| --- |\n",
        " | 0 | 0 | 1 | 0 | 1 |\n",
        " | 1 | 0 | 1 | 0 | 0 |\n",
        " | 2 | 1 | 0 | 0 | 1 |\n",
        " | 3 | 0 | 0 | 1 | 0 |\n",
        " | 4 | 0 | 0 | 1 | 1 |\n",
        " | 5 | 1 | 0 | 0 | 0 |\n",
        "\n",
        "\n",
        "_Minhash Signature Matrix_:\n",
        "\n",
        "|  | S1 | S2 | S3 | S4 |\n",
        "| --- | --- | --- | --- | --- |\n",
        "h1 | 5 | 1 | 1 | 1 | \n",
        "h2 | 2 | 2 | 2 | 2 |\n",
        "h3 | 0 | 1 | 4 | 0 |\n",
        "\n",
        "\n",
        "\n",
        "\n",
        "(b) h3(x) has a true permutation, since it ends up having all values from 0-5.\n"
      ],
      "metadata": {
        "id": "FQkDcGUNQ7F-"
      }
    },
    {
      "cell_type": "markdown",
      "source": [
        "**Exercise 3.4.1 : Evaluate the S-curve $1 − (1 − s^r)^b$ for s = 0.1, 0.2, . . . , 0.9, for the following values of r and b:**\n",
        "* **r = 3 and b = 10.**\n",
        "* **r = 6 and b = 20.**\n",
        "* **r = 5 and b = 50.** \n"
      ],
      "metadata": {
        "id": "EToKILANgbV8"
      }
    },
    {
      "cell_type": "code",
      "source": [
        "import matplotlib.pyplot as plt\n",
        "vals = [(3,10), (6, 20), (5, 50)]\n",
        "\n",
        "for r,b in vals:\n",
        "  Y = []\n",
        "  A = [0.1,0.2, 0.3, 0.4, 0.5, 0.6, 0.7, 0.8, 0.9]\n",
        "  for s in A:\n",
        "    res = 1- (1-s**r)**b\n",
        "    Y.append(res)\n",
        "  plt.plot(A,Y)\n",
        "  plt.ylabel(\"Prob of becoming a candidate\")\n",
        "  plt.xlabel(\"Jaccard similarity\")\n",
        "  plt.title(\"R={} B={}\".format(r,b))\n",
        "  plt.show()"
      ],
      "metadata": {
        "colab": {
          "base_uri": "https://localhost:8080/",
          "height": 851
        },
        "id": "oEbB4XXzgaep",
        "outputId": "c17005a1-eecb-4996-9c1d-5a4e5dcf9ebd"
      },
      "execution_count": 36,
      "outputs": [
        {
          "output_type": "display_data",
          "data": {
            "image/png": "[encoded data removed]",
            "text/plain": [
              "<Figure size 432x288 with 1 Axes>"
            ]
          },
          "metadata": {
            "needs_background": "light"
          }
        },
        {
          "output_type": "display_data",
          "data": {
            "image/png": "[encoded data removed]",
            "text/plain": [
              "<Figure size 432x288 with 1 Axes>"
            ]
          },
          "metadata": {
            "needs_background": "light"
          }
        },
        {
          "output_type": "display_data",
          "data": {
            "image/png": "[encoded data removed]",
            "text/plain": [
              "<Figure size 432x288 with 1 Axes>"
            ]
          },
          "metadata": {
            "needs_background": "light"
          }
        }
      ]
    },
    {
      "cell_type": "markdown",
      "source": [
        "**Exercise 3.4.2 : For each of the (r, b) pairs in Exercise 3.4.1, compute the threshold, that is, the value of s for which the value of $1−{(1−{s}^{r})}^{b}$ is exactly 1/2. How does this value compare with the estimate of ${(1/b)}^{1/r}$ that was suggested in Section 3.4.2?**\n"
      ],
      "metadata": {
        "id": "lMrr77ESjmp1"
      }
    },
    {
      "cell_type": "markdown",
      "source": [
        "* for r=3, b=10,  $1−{(1−{s}^{r})}^{b}$ equals to 1/2 when s = 0.406, while ${(1/b)}^{(1/r)}$ equals 0.464\n",
        "* for r = 6, b=20,  $1−{(1−{s}^{r})}^{b}$ equals to 1/2 when s=0.569, while ${(1/b)}^{(1/r)}$ equals 0.606\n",
        "* for r = 5, b=50,  $1−{(1−{s}^{r})}^{b}$ equals to 1/2 when s = 0.424, while ${(1/b)}^{(1/r)}$ equals 0.457\n",
        "\n",
        "Thus, the approximation is not very accurate (only to 1st order of magnitude, but will do the job for ball park approximation)"
      ],
      "metadata": {
        "id": "nIkOrm6QkMkf"
      }
    },
    {
      "cell_type": "code",
      "source": [
        ""
      ],
      "metadata": {
        "id": "H2JuO-6ey4U8"
      },
      "execution_count": null,
      "outputs": []
    }
  ],
  "metadata": {
    "colab": {
      "collapsed_sections": [],
      "name": "homework_2.ipynb",
      "provenance": []
    },
    "kernelspec": {
      "display_name": "Python 3",
      "language": "python",
      "name": "python3"
    },
    "language_info": {
      "codemirror_mode": {
        "name": "ipython",
        "version": 3
      },
      "file_extension": ".py",
      "mimetype": "text/x-python",
      "name": "python",
      "nbconvert_exporter": "python",
      "pygments_lexer": "ipython3",
      "version": "3.8.8"
    }
  },
  "nbformat": 4,
  "nbformat_minor": 0
}